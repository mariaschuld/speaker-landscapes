{
 "cells": [
  {
   "cell_type": "markdown",
   "metadata": {},
   "source": [
    "# Plot the landscape\n",
    "\n",
    "This notebook loads the information stored in the `landscape_info.pkl` and `annotations_info.pkl` files \n",
    "and visualises different aspects of the speaker landscapes. Some of the techniques also need to load the word embedding from ``word_embedding.emb``. "
   ]
  },
  {
   "cell_type": "code",
   "execution_count": 34,
   "metadata": {},
   "outputs": [],
   "source": [
    "import pandas as pd\n",
    "import numpy as np\n",
    "import matplotlib.pyplot as plt\n",
    "from adjustText import adjust_text\n",
    "from matplotlib.lines import Line2D\n",
    "from gensim.models import KeyedVectors\n",
    "import plotly.express as px"
   ]
  },
  {
   "cell_type": "markdown",
   "metadata": {},
   "source": [
    "## 1. Load information"
   ]
  },
  {
   "cell_type": "code",
   "execution_count": 53,
   "metadata": {},
   "outputs": [],
   "source": [
    "df = pd.read_pickle(\"landscape_info.pkl\")"
   ]
  },
  {
   "cell_type": "code",
   "execution_count": 65,
   "metadata": {},
   "outputs": [
    {
     "data": {
      "text/html": [
       "<div>\n",
       "<style scoped>\n",
       "    .dataframe tbody tr th:only-of-type {\n",
       "        vertical-align: middle;\n",
       "    }\n",
       "\n",
       "    .dataframe tbody tr th {\n",
       "        vertical-align: top;\n",
       "    }\n",
       "\n",
       "    .dataframe thead th {\n",
       "        text-align: right;\n",
       "    }\n",
       "</style>\n",
       "<table border=\"1\" class=\"dataframe\">\n",
       "  <thead>\n",
       "    <tr style=\"text-align: right;\">\n",
       "      <th></th>\n",
       "      <th>author</th>\n",
       "      <th>quotes</th>\n",
       "      <th>vec</th>\n",
       "      <th>low_dim_vec</th>\n",
       "      <th>x</th>\n",
       "      <th>y</th>\n",
       "      <th>tweets</th>\n",
       "    </tr>\n",
       "  </thead>\n",
       "  <tbody>\n",
       "    <tr>\n",
       "      <th>0</th>\n",
       "      <td>agent_0sternchen</td>\n",
       "      <td>[@mountaindream5 @spaet68er @zuma_monty nur fü...</td>\n",
       "      <td>[-0.0072948337, 0.08525834, 0.088255815, 0.030...</td>\n",
       "      <td>[9.962139, 6.6214237]</td>\n",
       "      <td>9.962139</td>\n",
       "      <td>6.621424</td>\n",
       "      <td>&lt;br&gt; @mountaindream5 @spaet68er @zuma_monty n...</td>\n",
       "    </tr>\n",
       "    <tr>\n",
       "      <th>1</th>\n",
       "      <td>agent_1st_rins</td>\n",
       "      <td>[@zuma_okemaru @1st_rins 1st_rins, @zuma_okema...</td>\n",
       "      <td>[-0.07338741, 0.038354628, 0.07268287, 0.04553...</td>\n",
       "      <td>[10.167288, 7.139133]</td>\n",
       "      <td>10.167288</td>\n",
       "      <td>7.139133</td>\n",
       "      <td>&lt;br&gt; @zuma_okemaru @1st_rins 1st_rins &lt;br&gt;  &lt;...</td>\n",
       "    </tr>\n",
       "    <tr>\n",
       "      <th>2</th>\n",
       "      <td>agent_80pfarelo</td>\n",
       "      <td>[@frasimphi @coruscakhaya you will follow this...</td>\n",
       "      <td>[-0.030285044, -0.027092239, 0.012962351, 0.04...</td>\n",
       "      <td>[3.380585, 7.387287]</td>\n",
       "      <td>3.380585</td>\n",
       "      <td>7.387287</td>\n",
       "      <td>&lt;br&gt; @frasimphi @coruscakhaya you will follow...</td>\n",
       "    </tr>\n",
       "    <tr>\n",
       "      <th>3</th>\n",
       "      <td>agent___xmo4</td>\n",
       "      <td>[@zuma_okemaru ご飯食べたらあそぼ！, @zuma_okemaru ご飯食べた...</td>\n",
       "      <td>[-0.044664677, 0.028426673, 0.043664575, 0.035...</td>\n",
       "      <td>[9.915042, 6.950782]</td>\n",
       "      <td>9.915042</td>\n",
       "      <td>6.950782</td>\n",
       "      <td>&lt;br&gt; @zuma_okemaru ご飯食べたらあそぼ！ &lt;br&gt;  &lt;br&gt;  &lt;br...</td>\n",
       "    </tr>\n",
       "    <tr>\n",
       "      <th>4</th>\n",
       "      <td>agent__africansoil</td>\n",
       "      <td>[💻pres zuma discussion with the top 6 presiden...</td>\n",
       "      <td>[-0.097087175, 0.06697575, -0.17402579, -0.052...</td>\n",
       "      <td>[5.191036, 6.15981]</td>\n",
       "      <td>5.191036</td>\n",
       "      <td>6.159810</td>\n",
       "      <td>&lt;br&gt; 💻pres zuma discussion with the top 6 pre...</td>\n",
       "    </tr>\n",
       "  </tbody>\n",
       "</table>\n",
       "</div>"
      ],
      "text/plain": [
       "               author                                             quotes  \\\n",
       "0    agent_0sternchen  [@mountaindream5 @spaet68er @zuma_monty nur fü...   \n",
       "1      agent_1st_rins  [@zuma_okemaru @1st_rins 1st_rins, @zuma_okema...   \n",
       "2     agent_80pfarelo  [@frasimphi @coruscakhaya you will follow this...   \n",
       "3        agent___xmo4  [@zuma_okemaru ご飯食べたらあそぼ！, @zuma_okemaru ご飯食べた...   \n",
       "4  agent__africansoil  [💻pres zuma discussion with the top 6 presiden...   \n",
       "\n",
       "                                                 vec            low_dim_vec  \\\n",
       "0  [-0.0072948337, 0.08525834, 0.088255815, 0.030...  [9.962139, 6.6214237]   \n",
       "1  [-0.07338741, 0.038354628, 0.07268287, 0.04553...  [10.167288, 7.139133]   \n",
       "2  [-0.030285044, -0.027092239, 0.012962351, 0.04...   [3.380585, 7.387287]   \n",
       "3  [-0.044664677, 0.028426673, 0.043664575, 0.035...   [9.915042, 6.950782]   \n",
       "4  [-0.097087175, 0.06697575, -0.17402579, -0.052...    [5.191036, 6.15981]   \n",
       "\n",
       "           x         y                                             tweets  \n",
       "0   9.962139  6.621424   <br> @mountaindream5 @spaet68er @zuma_monty n...  \n",
       "1  10.167288  7.139133   <br> @zuma_okemaru @1st_rins 1st_rins <br>  <...  \n",
       "2   3.380585  7.387287   <br> @frasimphi @coruscakhaya you will follow...  \n",
       "3   9.915042  6.950782   <br> @zuma_okemaru ご飯食べたらあそぼ！ <br>  <br>  <br...  \n",
       "4   5.191036  6.159810   <br> 💻pres zuma discussion with the top 6 pre...  "
      ]
     },
     "execution_count": 65,
     "metadata": {},
     "output_type": "execute_result"
    }
   ],
   "source": [
    "# unpack column\n",
    "df['x'] = df.apply(lambda row: row['low_dim_vec'][0], axis=1)\n",
    "df['y'] = df.apply(lambda row: row['low_dim_vec'][1], axis=1)\n",
    "\n",
    "# make nicely formatted string for interactive plotlabel\n",
    "def fmt(str_lst):\n",
    "    new_list = [\" <br> \".join(s[i:i+100] for i in range(0, len(s), 100)) for s in str_lst]\n",
    "    new_list = \" <br><br> \".join(new_list)\n",
    "    return \" <br> \" + new_list\n",
    "df['tweets'] = df.apply(lambda row: fmt(row[\"quotes\"]), axis=1)\n",
    "\n",
    "df.head()"
   ]
  },
  {
   "cell_type": "code",
   "execution_count": 30,
   "metadata": {},
   "outputs": [],
   "source": [
    "df_annotations = pd.read_pickle(\"annotations_info.pkl\")"
   ]
  },
  {
   "cell_type": "code",
   "execution_count": 31,
   "metadata": {},
   "outputs": [],
   "source": [
    "speakers = df[\"author\"].tolist()\n",
    "speakers_positions = df[\"low_dim_vec\"].tolist()\n",
    "\n",
    "annotations = df_annotations[\"word\"].to_list()[:10]\n",
    "annotations_positions = df[\"low_dim_vec\"].tolist()[:10]"
   ]
  },
  {
   "cell_type": "markdown",
   "metadata": {},
   "source": [
    "## 2. Plot annotated landscape"
   ]
  },
  {
   "cell_type": "code",
   "execution_count": 32,
   "metadata": {},
   "outputs": [
    {
     "data": {
      "image/png": "[encoded data removed]",
      "text/plain": [
       "<Figure size 432x288 with 1 Axes>"
      ]
     },
     "metadata": {
      "needs_background": "light"
     },
     "output_type": "display_data"
    }
   ],
   "source": [
    "fig = plt.figure()\n",
    "\n",
    "plt.scatter([s[0] for s in speakers_positions], [s[1] for s in speakers_positions], s=30, c=\"lightgray\")\n",
    "\n",
    "texts = []\n",
    "for i, word in enumerate(annotations):\n",
    "    texts.append(plt.text(annotations_positions[i][0], annotations_positions[i][1], word, fontsize=10, color=\"black\"))\n",
    "adjust_text(texts, [a[0] for a in annotations_positions], [a[1] for a in annotations_positions], arrowprops=dict(arrowstyle=\"-\", color='k', lw=0.5))\n",
    "plt.scatter([a[0] for a in annotations_positions], [a[1] for a in annotations_positions], s=30, marker='.', facecolors=(1,1,1,1), edgecolors=(0, 0, 0, 1), zorder=4)\n",
    "\n",
    "plt.axis(\"off\")\n",
    "plt.show()"
   ]
  },
  {
   "cell_type": "markdown",
   "metadata": {},
   "source": [
    "## 3. Inspect tweets of authors \n"
   ]
  },
  {
   "cell_type": "code",
   "execution_count": 64,
   "metadata": {},
   "outputs": [
    {
     "data": {
      "application/vnd.plotly.v1+json": {
       "config": {
        "plotlyServerURL": "https://plot.ly"
       },
       "data": [
        {
         "customdata": [
          [
           "agent_0sternchen",
           " <br> @mountaindream5 @spaet68er @zuma_monty nur für die jahre die sie eingezahlt haben <br>  <br>  <br> @mountaindream5 @spaet68er @zuma_monty nur für die jahre die sie eingezahlt haben <br>  <br> "
          ],
          [
           "agent_1st_rins",
           " <br> @zuma_okemaru @1st_rins 1st_rins <br>  <br>  <br> @zuma_okemaru @1st_rins 1st_rins <br>  <br> "
          ],
          [
           "agent_80pfarelo",
           " <br> @frasimphi @coruscakhaya you will follow this story very seriously very soon idiots like you said th <br> e same when eff says zuma must fall 🤣🤣 <br>  <br> @frasimphi @coruscakhaya you will follow this story very seriously very soon idiots like you said th <br> e same when eff says zuma must fall 🤣🤣 <br> "
          ],
          [
           "agent___xmo4",
           " <br> @zuma_okemaru ご飯食べたらあそぼ！ <br>  <br>  <br> @zuma_okemaru ご飯食べたらあそぼ！ <br>  <br> "
          ],
          [
           "agent__africansoil",
           " <br> 💻pres zuma discussion with the top 6 president zuma is saying the anc is gone he is pained at how th <br> e movement is being destroyed in front of him how it has gotten weak the judiciary gunning for him a <br> nd unlawful processes taking place httpstcosjbkpvqu0w <br> 1 its all a nasty psychological game they make you believe all the lies and use the media to push th <br> em down your throat do own research 2 its a battle of powerful forces who all want a share of the pi <br> e you are not part of it 3 president zuma was the best president httpstcozyzs327qma <br> 💻pres zuma discussion with the top 6 president zuma is saying the anc is gone he is pained at how th <br> e movement is being destroyed in front of him how it has gotten weak the judiciary gunning for him a <br> nd unlawful processes taking place httpstcosjbkpvqu0w <br> 1 its all a nasty psychological game they make you believe all the lies and use the media to push th <br> em down your throat do own research 2 its a battle of powerful forces who all want a share of the pi <br> e you are not part of it 3 president zuma was the best president httpstcozyzs327qma"
          ],
          [
           "agent__draoh_",
           " <br> @el_zuma_ httpstco6p8wt9w2m9 <br>  <br>  <br> @el_zuma_ httpstco6p8wt9w2m9 <br>  <br> "
          ],
          [
           "agent__officialmoss",
           " <br> @cheetahplains i wouldnt be surprised if that jsc would exonerate judge hlophe of the zuma fame sesi <br> thembele kubo 😂🙆🏽‍♂️ <br>  <br> @cheetahplains i wouldnt be surprised if that jsc would exonerate judge hlophe of the zuma fame sesi <br> thembele kubo 😂🙆🏽‍♂️ <br> "
          ],
          [
           "agent__stormhaze",
           " <br> @nolomolekwa ba khona abo buthelezi and even zuma 😮🙆🏽‍♂️ <br>  <br>  <br> @nolomolekwa ba khona abo buthelezi and even zuma 😮🙆🏽‍♂️ <br>  <br> "
          ],
          [
           "agent__theruleoflaw",
           " <br> @goolammv @donscot23 what do you think could be the reason why president zuma is resisting to go to  <br> justice zondo commission what is his strategy <br>  <br> @goolammv @donscot23 what do you think could be the reason why president zuma is resisting to go to  <br> justice zondo commission what is his strategy <br> "
          ],
          [
           "agent_abednego82",
           " <br> i think jacob zuma is being persecuted but theres no way hell win this special plea for the recusal  <br> of downer and resultant acquittal its an emotional argument that seeks wider interpretation of secti <br> on 1064 of cpa httpstcomluv89yb2l <br> i think jacob zuma is being persecuted but theres no way hell win this special plea for the recusal  <br> of downer and resultant acquittal its an emotional argument that seeks wider interpretation of secti <br> on 1064 of cpa httpstcomluv89yb2l"
          ],
          [
           "agent_abutijosef",
           " <br> @xolani49467218 nguwe o desperate to defend zuma <br>  <br>  <br> @xolani49467218 nguwe o desperate to defend zuma <br>  <br> "
          ],
          [
           "agent_african_heart12",
           " <br> @obiwanza @nontolotyi thales is going to set the record straight and acquit zuma they have all the r <br> eceipts 🤷🏾‍♂️ <br>  <br> @obiwanza @nontolotyi thales is going to set the record straight and acquit zuma they have all the r <br> eceipts 🤷🏾‍♂️ <br> "
          ],
          [
           "agent_afrikadonald",
           " <br> good morning @mararamoabelo so youre not convinced that zuma will be given two years jail term that  <br> man is going down #powerup <br>  <br> good morning @mararamoabelo so youre not convinced that zuma will be given two years jail term that  <br> man is going down #powerup <br> "
          ],
          [
           "agent_afroamart",
           " <br> @ananavarro 💁🏾‍♀️ re sophia kembowskidpa via zuma pressso happy 2017 @motherjones httpstcotq7srtradp <br>  <br>  <br> @ananavarro 💁🏾‍♀️ re sophia kembowskidpa via zuma pressso happy 2017 @motherjones httpstcotq7srtradp <br>  <br> "
          ],
          [
           "agent_ahpdeb",
           " <br> @kanniekaknie @zweli1 @news24 @richard_spoor richard did meet with jz783 they discussed the case and <br>  zuma said hell let richard know if he further needs his assistance <br>  <br> @kanniekaknie @zweli1 @news24 @richard_spoor richard did meet with jz783 they discussed the case and <br>  zuma said hell let richard know if he further needs his assistance <br> "
          ],
          [
           "agent_aieraalerts",
           " <br> 🏢 gild humanigen terminates zuma19 clinical collaboration agreement with gilead sciences unit httpst <br> co7ludgrzbe2 <br>  <br> 🏢 gild humanigen terminates zuma19 clinical collaboration agreement with gilead sciences unit httpst <br> co7ludgrzbe2 <br> "
          ],
          [
           "agent_ajibola970",
           " <br> i need a dembe zuma in my life <br>  <br>  <br> i need a dembe zuma in my life <br>  <br> "
          ],
          [
           "agent_ak4ashii",
           " <br> @gio_zuma 💖💖💖💖 <br>  <br>  <br> @gio_zuma 💖💖💖💖 <br>  <br> "
          ],
          [
           "agent_albamokopane",
           " <br> thats jacob zuma for you toxic httpstcocjlltkg18b <br>  <br>  <br> thats jacob zuma for you toxic httpstcocjlltkg18b <br>  <br> "
          ],
          [
           "agent_alfien93568801",
           " <br> urgent dr nkosazana dlamini zuma invites you to comment on the covid19 vaccine injury nofault compen <br> sation scheme click to have your say httpstcozxstjuebyu <br>  <br> urgent dr nkosazana dlamini zuma invites you to comment on the covid19 vaccine injury nofault compen <br> sation scheme click to have your say httpstcozxstjuebyu <br> "
          ],
          [
           "agent_ama_ricano",
           " <br> when i retire i plan to own a win10 or older pc to play zuma and plants vs zombies <br>  <br>  <br> when i retire i plan to own a win10 or older pc to play zuma and plants vs zombies <br>  <br> "
          ],
          [
           "agent_amirhamzakhaan",
           " <br> @zuma_ashna_razi alochai de shaid <br>  <br>  <br> @zuma_ashna_razi alochai de shaid <br>  <br> "
          ],
          [
           "agent_amunra_sanza",
           " <br> @duduzane__zuma @isuckseeds you schooled her 😜 <br>  <br>  <br> @duduzane__zuma @isuckseeds you schooled her 😜 <br>  <br> "
          ],
          [
           "agent_anam11d",
           " <br> @chargebolt_zuma ahora cumpli 😈👌 <br>  <br>  <br> @chargebolt_zuma ahora cumpli 😈👌 <br>  <br> "
          ],
          [
           "agent_anathigasa_",
           " <br> @ndu_zuma 😭 httpstcov6ktjr9f5g <br>  <br>  <br> @ndu_zuma 😭 httpstcov6ktjr9f5g <br>  <br> "
          ],
          [
           "agent_annette00711812",
           " <br> he should be targeted just like zuma and all the anc criminals httpstcoya9k3i5hoh <br>  <br>  <br> he should be targeted just like zuma and all the anc criminals httpstcoya9k3i5hoh <br>  <br> "
          ],
          [
           "agent_anorkie95",
           " <br> @bruinersmarvin @tomeatonsa my humble view is that a democracy works when the majority vote dictates <br>  during the reign of zuma the majority wanted to get zuma out but this did not work because policies <br>  prevented this and a bunch of greedy politicians did not want to oust him <br> @bruinersmarvin @tomeatonsa my humble view is that a democracy works when the majority vote dictates <br>  during the reign of zuma the majority wanted to get zuma out but this did not work because policies <br>  prevented this and a bunch of greedy politicians did not want to oust him"
          ],
          [
           "agent_ashurab1216",
           " <br> @amusa_zuma @mitsurugilia おはよ あむさちゃん🤗🤗 <br>  <br>  <br> @amusa_zuma @mitsurugilia おはよ あむさちゃん🤗🤗 <br>  <br> "
          ],
          [
           "agent_audiothebrand",
           " <br> i will take anc down with me if charged vows zuma business day 20071110 crazy httpstco9hg3nbuspo <br>  <br>  <br> i will take anc down with me if charged vows zuma business day 20071110 crazy httpstco9hg3nbuspo <br>  <br> "
          ],
          [
           "agent_avalondotred",
           " <br> a #california #groundsquirrel keeps watch from the edge of a country #road as the #sun sets on a war <br> m evening near #elkton in southwestern #oregon #squirrel #sunset 📷robin loznakzumaavalonred httpstco <br> dxcomvk3cb httpstcoeoo38nxzhq <br> a #california #groundsquirrel keeps watch from the edge of a country #road as the #sun sets on a war <br> m evening near #elkton in southwestern #oregon #squirrel #sunset 📷robin loznakzumaavalonred httpstco <br> dxcomvk3cb httpstcoeoo38nxzhq"
          ],
          [
           "agent_avhapfani702758",
           " <br> @azuk1le @ntsimbi17 there is wmc and what do you call your guptas zuptas because you dont want white <br> s but you are not worried about the guptas amandiya who took away our monies to dubai its not a prob <br> lem because they are with zuma and the rets you guys are the angels of lies looters <br> @azuk1le @ntsimbi17 there is wmc and what do you call your guptas zuptas because you dont want white <br> s but you are not worried about the guptas amandiya who took away our monies to dubai its not a prob <br> lem because they are with zuma and the rets you guys are the angels of lies looters"
          ],
          [
           "agent_aze_sht",
           " <br> @tana_k_zuma usb接続していけない？ <br>  <br>  <br> @tana_k_zuma usb接続していけない？ <br>  <br> "
          ],
          [
           "agent_backtologic",
           " <br> the correct stance zuma should be arrested and prosecuted if he fails to appear before zondo says da <br> s breytenbach httpstcoimzb4ruv03 <br>  <br> the correct stance zuma should be arrested and prosecuted if he fails to appear before zondo says da <br> s breytenbach httpstcoimzb4ruv03 <br> "
          ],
          [
           "agent_bakukyo_bakugo",
           " <br> @__charge__zuma_ 졸리면 잠시 자던가 <br>  <br>  <br> @__charge__zuma_ 졸리면 잠시 자던가 <br>  <br> "
          ],
          [
           "agent_banjarbase",
           " <br> ga perlu ganteng yg penting setia merdu banget suara kodok zuma wal <br>  <br>  <br> ga perlu ganteng yg penting setia merdu banget suara kodok zuma wal <br>  <br> "
          ],
          [
           "agent_beautybytazzlee",
           " <br> say bye to stained teeth with ap24 whitening toothpaste ap 24 whitening toothpaste will remove the s <br> tains amp return your teeth to their natural colour 📲 0844448278 marete zulu ayanda shalulile limpop <br> o pretoria mbali zuma #djsbu #kiernan httpstcod7wfz8lgmm <br> say bye to stained teeth with ap24 whitening toothpaste ap 24 whitening toothpaste will remove the s <br> tains amp return your teeth to their natural colour 📲 0844448278 marete zulu ayanda shalulile limpop <br> o pretoria mbali zuma #djsbu #kiernan httpstcod7wfz8lgmm"
          ],
          [
           "agent_beecpt",
           " <br> @mutwanamba_sa @khindi_rakoma @mbuyisenindlozi bayi anc stop comparing yourself to anc dont forget j <br> uju was willing to die for zuma asikakhohlwa when he said kwezi liked to be raped did we forget 🙄🤔 <br>  <br> @mutwanamba_sa @khindi_rakoma @mbuyisenindlozi bayi anc stop comparing yourself to anc dont forget j <br> uju was willing to die for zuma asikakhohlwa when he said kwezi liked to be raped did we forget 🙄🤔 <br> "
          ],
          [
           "agent_bhutijali",
           " <br> @jaega_x @_africansoil @floydshivambu @advdali_mpofu but the prison talk is about being incontempt o <br> f court not what evidence was given about zuma <br>  <br> @jaega_x @_africansoil @floydshivambu @advdali_mpofu but the prison talk is about being incontempt o <br> f court not what evidence was given about zuma <br> "
          ],
          [
           "agent_biodethomiaouss",
           " <br> mec random qui adore les licences rad racer police quest zuma et fancy pants adventures <br>  <br>  <br> mec random qui adore les licences rad racer police quest zuma et fancy pants adventures <br>  <br> "
          ],
          [
           "agent_bizguru4",
           " <br> @richardlehnerdt jacob zuma <br>  <br>  <br> @richardlehnerdt jacob zuma <br>  <br> "
          ],
          [
           "agent_blessed11587260",
           " <br> @drvoetsek zuma he kicked the whole country in the b@lls <br>  <br>  <br> @drvoetsek zuma he kicked the whole country in the b@lls <br>  <br> "
          ],
          [
           "agent_bobmajova",
           " <br> @mamurudi @charlottekhuma3 @dk_dax thieves go to jail zuma is not different <br>  <br>  <br> @mamurudi @charlottekhuma3 @dk_dax thieves go to jail zuma is not different <br>  <br> "
          ],
          [
           "agent_boleditxa",
           " <br> @pondolegend @ruraltarain why use mbekis quote who referred to zumas leadership at that time the gup <br> tas are using their sahara technology to peddle lies we are not swayed in any how <br>  <br> @pondolegend @ruraltarain why use mbekis quote who referred to zumas leadership at that time the gup <br> tas are using their sahara technology to peddle lies we are not swayed in any how <br> "
          ],
          [
           "agent_boycottuline",
           " <br> @andy_olsen @thedailybeast use zuma office supply or grainger instead zuma donates half their annual <br>  profits to charity and grainger carries industrial and office supplies <br>  <br> @dcclothesline @uline donated to politicians who denied biden won the election and funded voices beh <br> ind the capitol riot they donated 68 million dollars to republican extremists in 2020 alone use zuma <br>  office supply they donate half their profits to charity every year httpstco2vt0dev5lk <br> @andy_olsen @thedailybeast use zuma office supply or grainger instead zuma donates half their annual <br>  profits to charity and grainger carries industrial and office supplies <br>  <br> @dcclothesline @uline donated to politicians who denied biden won the election and funded voices beh <br> ind the capitol riot they donated 68 million dollars to republican extremists in 2020 alone use zuma <br>  office supply they donate half their profits to charity every year httpstco2vt0dev5lk"
          ],
          [
           "agent_bq_kunene",
           " <br> @goolammv @mabitsela_ali @enca @masegorahlaga the @concourtsa denied public protector to access pres <br> ident jacob zuma tax records whats the difference goolammv between tax records and tax returns <br>  <br> @goolammv @mabitsela_ali @enca @masegorahlaga the @concourtsa denied public protector to access pres <br> ident jacob zuma tax records whats the difference goolammv between tax records and tax returns <br> "
          ],
          [
           "agent_bratokolloza",
           " <br> @sundaytimesza because you want ridicule zuma we would show and expose how useless was your jackson  <br> when he was saved by zuma from been a hobo to whatever he became after such kindness httpstcofqp97tv <br> x8h <br> @sundaytimesza because you want ridicule zuma we would show and expose how useless was your jackson  <br> when he was saved by zuma from been a hobo to whatever he became after such kindness httpstcofqp97tv <br> x8h"
          ],
          [
           "agent_brunty",
           " <br> @rilgon @00hex it does @foxshaped bought me it as a christmas gift with a sample of hotel chocolats  <br> various flavours but im using it with zuma powder as thats my favourite hot chocolate powder ever <br>  <br> @rilgon @00hex it does @foxshaped bought me it as a christmas gift with a sample of hotel chocolats  <br> various flavours but im using it with zuma powder as thats my favourite hot chocolate powder ever <br> "
          ],
          [
           "agent_btopshatta",
           " <br> @sharyf__ ah woy3 ok de3😂😂😂you call this group of trash as decent tuehhhh ziyech average abraham bel <br> ow average havertz league 1 levelmount goododoi very goodtimo werner trashchristiansen shit zuma goo <br> djames good kovacic averagekante lost formchilwell very good <br> @sharyf__ ah woy3 ok de3😂😂😂you call this group of trash as decent tuehhhh ziyech average abraham bel <br> ow average havertz league 1 levelmount goododoi very goodtimo werner trashchristiansen shit zuma goo <br> djames good kovacic averagekante lost formchilwell very good"
          ],
          [
           "agent_bulelani_101",
           " <br> @blf2020 @shangase23 blf presser anc anc anc ramaphosa pravin anc white monopoly capital wmc wmc wmc <br>  ret father ret father wmc malema is capture eff nywenywe nyweeee end zuma is under attack httpstcos <br> pc4djaytv <br> @blf2020 @shangase23 blf presser anc anc anc ramaphosa pravin anc white monopoly capital wmc wmc wmc <br>  ret father ret father wmc malema is capture eff nywenywe nyweeee end zuma is under attack httpstcos <br> pc4djaytv"
          ],
          [
           "agent_buster_ent",
           " <br> @mmusimaimane @our_da @jsteenhuisen @sundaytimesza @helenzille zuma told you that they are using you <br>  and they will take you out look at yourself now he warned you and you didnt listen i think you shou <br> ld also arrange tea meeting with him so that he can also lecture you about your bosses <br> @mmusimaimane @our_da @jsteenhuisen @sundaytimesza @helenzille zuma told you that they are using you <br>  and they will take you out look at yourself now he warned you and you didnt listen i think you shou <br> ld also arrange tea meeting with him so that he can also lecture you about your bosses"
          ],
          [
           "agent_buyas_2",
           " <br> @moosa_zuma @_africansoil 😂😂😂 <br>  <br>  <br> @mapinutla @artii_m the president and his forces are shivering they just dont know what to do zuma s <br> aid hes ready for anything why is he shifting the responsibility hes the one to make a move <br>  <br> @moosa_zuma @_africansoil 😂😂😂 <br>  <br>  <br> @mapinutla @artii_m the president and his forces are shivering they just dont know what to do zuma s <br> aid hes ready for anything why is he shifting the responsibility hes the one to make a move <br> "
          ],
          [
           "agent_callmedeckstar",
           " <br> @thuthu_zuma what gains wena <br>  <br>  <br> @thuthu_zuma what gains wena <br>  <br> "
          ],
          [
           "agent_calvinphiri8",
           " <br> @ramalokot @realitystriker vhone zuma o do ri vhudza dziphiri dza vho <br>  <br>  <br> @ramalokot @realitystriker vhone zuma o do ri vhudza dziphiri dza vho <br>  <br> "
          ],
          [
           "agent_cambones69",
           " <br> @cyrilramaphosa but ramapoephol your anc comrades are unprofessional unskilled selfish and corrupt y <br> ou are intent on destroying the country wheres the r500 billion and why isnt zuma in jail 🖕🖕🖕🖕🖕🖕🖕🖕 h <br> ttpstcoklcr52hgme <br> @cyrilramaphosa but ramapoephol your anc comrades are unprofessional unskilled selfish and corrupt y <br> ou are intent on destroying the country wheres the r500 billion and why isnt zuma in jail 🖕🖕🖕🖕🖕🖕🖕🖕 h <br> ttpstcoklcr52hgme"
          ],
          [
           "agent_cathood33",
           " <br> @k_zuma_p カズマ様 こんにちは。 6000フォロワーおめでとうございます☺️ いつも素敵な作品をありがとうございます！ 先日の通販は惨敗だったのでこちらの企画に応募させて頂きました。少しでも <br> あるチャンスに賭けます！ 注意事項承知済みです。 よろしくお願い致します😌 <br>  <br> @k_zuma_p カズマ様 こんにちは。 6000フォロワーおめでとうございます☺️ いつも素敵な作品をありがとうございます！ 先日の通販は惨敗だったのでこちらの企画に応募させて頂きました。少しでも <br> あるチャンスに賭けます！ 注意事項承知済みです。 よろしくお願い致します😌 <br> "
          ],
          [
           "agent_celebgossipza",
           " <br> supreme court nails dead broke jacob zuma on the cross orders him to pay south africans r25 million  <br> gtgtgt httpstconerllzwakc <br>  <br> supreme court nails dead broke jacob zuma on the cross orders him to pay south africans r25 million  <br> gtgtgt httpstconerllzwakc <br> "
          ],
          [
           "agent_charlduplessc",
           " <br> @chrisroper i would like to be a zuma bot thanks bring some balance to the timeline <br>  <br>  <br> @chrisroper i would like to be a zuma bot thanks bring some balance to the timeline <br>  <br> "
          ],
          [
           "agent_cheetahplains",
           " <br> @mngunisakhy @kgomo389 @magashule_ace 😂😂😂 not going to happen be realistic he doesnt have enough sup <br> port just look at those clowns outside luthuli house 😫 it was so different when zuma was facing simi <br> lar legal problems <br> @mngunisakhy @kgomo389 @magashule_ace 😂😂😂 not going to happen be realistic he doesnt have enough sup <br> port just look at those clowns outside luthuli house 😫 it was so different when zuma was facing simi <br> lar legal problems"
          ],
          [
           "agent_chimyniemoni",
           " <br> @pinkytoechim astagfirullah kodok zuma 😭😭😭😭😭😭😭😭😭 <br>  <br>  <br> @pinkytoechim astagfirullah kodok zuma 😭😭😭😭😭😭😭😭😭 <br>  <br> "
          ],
          [
           "agent_chocolate_legs7",
           " <br> zuma lying ass httpstcol6s0khdfhp <br>  <br>  <br> zuma lying ass httpstcol6s0khdfhp <br>  <br> "
          ],
          [
           "agent_chris80109155",
           " <br> @soccer_laduma the combination of zuma and nurkovic has yielded a goal in 10 minutes gavin hunt is a <br> lways reluctant to play these players <br>  <br> @soccer_laduma the combination of zuma and nurkovic has yielded a goal in 10 minutes gavin hunt is a <br> lways reluctant to play these players <br> "
          ],
          [
           "agent_city_press",
           " <br> most read zuma asked for a board meeting to be postponed mokholo httpstcol8bmrkcmji <br>  <br>  <br> most read zuma asked for a board meeting to be postponed mokholo httpstcol8bmrkcmji <br>  <br> "
          ],
          [
           "agent_clivemcgill",
           " <br> @cyrilramaphosa you are consulting a lying thieving rotten corrupt zuma this proves you really dont  <br> want to confront corruption in sa he should be in jail not in a lekgotla <br>  <br> @cyrilramaphosa you are consulting a lying thieving rotten corrupt zuma this proves you really dont  <br> want to confront corruption in sa he should be in jail not in a lekgotla <br> "
          ],
          [
           "agent_codename__x",
           " <br> modibe mentioned that sa was going to believe without a doubt the #tembisaten decuplets story if mai <br> nstream media like daily maverick broke it people believed fake news by news24 about benni mccarthy  <br> being bafana coach and timeslive about zumas house in dubai without doubts httpstcocyd6dj9vxf <br> adv dali mpofu the affidavit of billy downer filed obo the npa in the permanent stay of prosecution  <br> application clearly contradicts the affidavit of mr mpshe amp hofmeyr filed obo the npa this means t <br> here are significant disagreements win the npa about zumas rights #zumatrial <br> modibe mentioned that sa was going to believe without a doubt the #tembisaten decuplets story if mai <br> nstream media like daily maverick broke it people believed fake news by news24 about benni mccarthy  <br> being bafana coach and timeslive about zumas house in dubai without doubts httpstcocyd6dj9vxf <br> adv dali mpofu the affidavit of billy downer filed obo the npa in the permanent stay of prosecution  <br> application clearly contradicts the affidavit of mr mpshe amp hofmeyr filed obo the npa this means t <br> here are significant disagreements win the npa about zumas rights #zumatrial"
          ],
          [
           "agent_cokebw",
           " <br> chief when your minister of presidential affairs say no to someone and adds the chief whip kablay ha <br>  bare ng ng they can unseat you baba see what happened to margaret thatcher thabo mbeki jacob zuma g <br> a go tshamikiwe papa httpstcogmx9gxtn30 <br> chief when your minister of presidential affairs say no to someone and adds the chief whip kablay ha <br>  bare ng ng they can unseat you baba see what happened to margaret thatcher thabo mbeki jacob zuma g <br> a go tshamikiwe papa httpstcogmx9gxtn30"
          ],
          [
           "agent_colin_mageer",
           " <br> @errolbsk and zondo has a friend called zuma zuma couldnt understand why his friend is doing his job <br>  <br>  <br> @errolbsk and zondo has a friend called zuma zuma couldnt understand why his friend is doing his job <br>  <br> "
          ],
          [
           "agent_commander_c007",
           " <br> not only zuma the entire anc is corrupt to the core httpstcozetdjvl6b8 <br>  <br>  <br> not only zuma the entire anc is corrupt to the core httpstcozetdjvl6b8 <br>  <br> "
          ],
          [
           "agent_coolkat_1",
           " <br> and not captured by zuma #sithembelekini httpstcofi2swl3g1q <br>  <br>  <br> and not captured by zuma #sithembelekini httpstcofi2swl3g1q <br>  <br> "
          ],
          [
           "agent_createdforpurp2",
           " <br> httpstco64dvkbulko #zuma #mbeki #jubjub #misssa #shudu #missuniverse #missuniverse2020 # httpstcounz <br> ze3kp0l <br>  <br> httpstco64dvkbulko #zuma #mbeki #jubjub #misssa #shudu #missuniverse #missuniverse2020 # httpstcounz <br> ze3kp0l <br> "
          ],
          [
           "agent_curteboamusica",
           " <br> busta 929 ekseni feat boohle sa amp zuma httpstco4sgpwkbiex <br>  <br>  <br> busta 929 ekseni feat boohle sa amp zuma httpstco4sgpwkbiex <br>  <br> "
          ],
          [
           "agent_dadarosky",
           " <br> @xayimpiwilliam ahhh zuma captured judicuary long tym ago they even ruled in his favour on obvious c <br> ases <br>  <br> @xayimpiwilliam ahhh zuma captured judicuary long tym ago they even ruled in his favour on obvious c <br> ases <br> "
          ],
          [
           "agent_dan_shehi",
           " <br> fura zaa dama min da ruwan alkausara da zuma da kuma wadatacciyar giya na more abuna httpstcojvxlwcl <br> ju0 <br>  <br> fura zaa dama min da ruwan alkausara da zuma da kuma wadatacciyar giya na more abuna httpstcojvxlwcl <br> ju0 <br> "
          ],
          [
           "agent_dannygu60491149",
           " <br> @richard_spoor nothings happening to zuma it happens all over the world presidents dont go to jail w <br> hen the current president is the same party <br>  <br> @richard_spoor nothings happening to zuma it happens all over the world presidents dont go to jail w <br> hen the current president is the same party <br> "
          ],
          [
           "agent_dante_dalmatia",
           " <br> @zuma_throne cheater <br>  <br>  <br> @zuma_throne cheater <br>  <br> "
          ],
          [
           "agent_dapmanxl",
           " <br> @bongani35695773 @ningizaisaac @kcreamio @mapzdrs @sbuumathe @advobarryroux soes have been failing s <br> ince zuma times everyone knows this saa has been getting bailed out for a long time long before cyri <br> l load shedding has been here since zuma what have you been smoking <br> @bongani35695773 @ningizaisaac @kcreamio @mapzdrs @sbuumathe @advobarryroux soes have been failing s <br> ince zuma times everyone knows this saa has been getting bailed out for a long time long before cyri <br> l load shedding has been here since zuma what have you been smoking"
          ],
          [
           "agent_diasporanews123",
           " <br> full force of the law must be visited on jacob zuma for his failure to appear before the zondo commi <br> ssion httpstconlqfgzhzwh <br>  <br> full force of the law must be visited on jacob zuma for his failure to appear before the zondo commi <br> ssion httpstconlqfgzhzwh <br> "
          ],
          [
           "agent_dimrosdima",
           " <br> @sabcnews zuma gave our people free education and ramaphosa is giving them bullets httpstcorlrowsluk <br> n <br>  <br> @pierredevos i wonder whos taking you serious you hate zuma with passion but is okay is your right h <br> ttpstcoxkunf02xvz <br>  <br> @sabcnews zuma gave our people free education and ramaphosa is giving them bullets httpstcorlrowsluk <br> n <br>  <br> @pierredevos i wonder whos taking you serious you hate zuma with passion but is okay is your right h <br> ttpstcoxkunf02xvz <br> "
          ],
          [
           "agent_djwondersa",
           " <br> @dj_masiya oh yah just heard edward zuma talking about this on 405 <br>  <br>  <br> @dj_masiya oh yah just heard edward zuma talking about this on 405 <br>  <br> "
          ],
          [
           "agent_dorami0508",
           " <br> @zuma_okemaru 荒野開いたりしちゃって？笑 <br>  <br>  <br> @zuma_okemaru 荒野開いたりしちゃって？笑 <br>  <br> "
          ],
          [
           "agent_dumi18247646",
           " <br> lies are catching up with ramaphosa so why these artists would not see the former president jacob zu <br> ma as their savour cape town artists stage protest over management of covid19 relief funding httpstc <br> ox8v9qy0vod via @news24 <br> lies are catching up with ramaphosa so why these artists would not see the former president jacob zu <br> ma as their savour cape town artists stage protest over management of covid19 relief funding httpstc <br> ox8v9qy0vod via @news24"
          ],
          [
           "agent_dumiez77",
           " <br> theres nothing as painful as bad sound for your event for quality and professional sound supply call <br>  me #thirdwave #dnfisoverparty not from r400 jacob zuma httpstcofg3hwxqqbb <br>  <br> theres nothing as painful as bad sound for your event for quality and professional sound supply call <br>  me #thirdwave #dnfisoverparty not from r400 jacob zuma httpstcofg3hwxqqbb <br> "
          ],
          [
           "agent_dumisani_ngxong",
           " <br> @makgobast @kamo_marven u need to free your mind from slavery ace magashule is leading a corruption  <br> gang that supports zuma amp thieves but he is not zulu <br>  <br> @evaluatorm @modibajohannes @sabcnews could be a zuma amp hlaudi product 🤦🤦🤷 <br>  <br>  <br> @makgobast @kamo_marven u need to free your mind from slavery ace magashule is leading a corruption  <br> gang that supports zuma amp thieves but he is not zulu <br>  <br> @evaluatorm @modibajohannes @sabcnews could be a zuma amp hlaudi product 🤦🤦🤷 <br>  <br> "
          ],
          [
           "agent_dumiworldwide",
           " <br> @mlugisikelly1 @reasonhd @duduzane__zuma let us apply this to everyone including beneficiaries of ap <br> artheid and colonialism httpstcoh5hzqqneka <br>  <br> @mlugisikelly1 @reasonhd @duduzane__zuma let us apply this to everyone including beneficiaries of ap <br> artheid and colonialism httpstcoh5hzqqneka <br> "
          ],
          [
           "agent_echansunshine",
           " <br> hi zuma httpstcojlldbtfwew <br>  <br>  <br> hi zuma httpstcojlldbtfwew <br>  <br> "
          ],
          [
           "agent_ecr_newswatch",
           " <br> #downer begins reading out the charges against #zuma and #thale drawn out in the indictment @nushera <br>  <br>  <br> #downer begins reading out the charges against #zuma and #thale drawn out in the indictment @nushera <br>  <br> "
          ],
          [
           "agent_ed_zachery",
           " <br> in other words @errolbsk #zuma stole from the poor and gave to the rich he should be called #juliusm <br> alema httpstcoqmoir4f9et <br>  <br> in other words @errolbsk #zuma stole from the poor and gave to the rich he should be called #juliusm <br> alema httpstcoqmoir4f9et <br> "
          ],
          [
           "agent_egimaudy_",
           " <br> @sudutkursi saking menggabutnya main zuma jujyur aku mau wkwk <br>  <br>  <br> @sudutkursi saking menggabutnya main zuma jujyur aku mau wkwk <br>  <br> "
          ],
          [
           "agent_elcream",
           " <br> @fegadukes @mrh300174191 @daddy100111 @blackpornpost @kasilove8 @meetmzansi @manyaleni2 @adulterousn <br> udes @nnajishevy @maloebe_a_kuku @shenakedbusted @thotskenyan yes blame it on nigerians also blame z <br> umas non appearance at the truth commission on nigerians blame the violence on sa women by sa men on women ewú <br> @fegadukes @mrh300174191 @daddy100111 @blackpornpost @kasilove8 @meetmzansi @manyaleni2 @adulterousn <br> udes @nnajishevy @maloebe_a_kuku @shenakedbusted @thotskenyan yes blame it on nigerians also blame z <br> umas non appearance at the truth commission on nigerians blame the violence on sa women by sa men on women ewú"
          ],
          [
           "agent_eliotchauke1",
           " <br> @sicelo0071 why must u involve zuma everytime ramaphosa is mentioned <br>  <br>  <br> @sicelo0071 why must u involve zuma everytime ramaphosa is mentioned <br>  <br> "
          ],
          [
           "agent_ellungisani",
           " <br> @therealpro7 @rholm_charlene if it is a lie that zuma pardoned eugene de korkwhat is true <br>  <br>  <br> @therealpro7 @rholm_charlene if it is a lie that zuma pardoned eugene de korkwhat is true <br>  <br> "
          ],
          [
           "agent_enca",
           " <br> business unity south africa has expressed concern that jacob zuma is refusing to obey the constituti <br> onal court @sallyburdettsa talks to the president of business unity south africa sipho pityana #enca <br>  courtesy #dstv403 httpstcom7trwvrrrl <br> business unity south africa has expressed concern that jacob zuma is refusing to obey the constituti <br> onal court @sallyburdettsa talks to the president of business unity south africa sipho pityana #enca <br>  courtesy #dstv403 httpstcom7trwvrrrl"
          ],
          [
           "agent_endurancetri",
           " <br> @brettbenraphael @amos_ngoepe @timeslive camo king wannabe mk zumas pion a fucked up individual lost <br>  the plot <br>  <br> @brettbenraphael @amos_ngoepe @timeslive camo king wannabe mk zumas pion a fucked up individual lost <br>  the plot <br> "
          ],
          [
           "agent_enegoriyui",
           " <br> @zuma_okemaru そういうことか！ いいなᵒ̴̷͈ᗨᵒ̴̶̷͈ ✧ <br>  <br>  <br> @zuma_okemaru そういうことか！ いいなᵒ̴̷͈ᗨᵒ̴̶̷͈ ✧ <br>  <br> "
          ],
          [
           "agent_engrazhaar",
           " <br> @zuma_ashna_razi eid mubarak to you ammi <br>  <br>  <br> @zuma_ashna_razi eid mubarak to you ammi <br>  <br> "
          ],
          [
           "agent_erzascarletw",
           " <br> @gio_zuma httpstcowxpwbvfq5k <br>  <br>  <br> @gio_zuma httpstcowxpwbvfq5k <br>  <br> "
          ],
          [
           "agent_eskzul",
           " <br> we need to look at zumas lawyers how can they be associated with a client that is hellbent in defyin <br> g the law <br>  <br> we need to look at zumas lawyers how can they be associated with a client that is hellbent in defyin <br> g the law <br> "
          ],
          [
           "agent_evans_mabato",
           " <br> @duduzane__zuma you very much correct on that <br>  <br>  <br> @duduzane__zuma you very much correct on that <br>  <br> "
          ],
          [
           "agent_farley_kam87",
           " <br> owlbod played zumas revenge xbox 360 in the last 24 hours httpstco22rouzvc00 #exophase <br>  <br>  <br> owlbod played zumas revenge xbox 360 in the last 24 hours httpstco22rouzvc00 #exophase <br>  <br> "
          ],
          [
           "agent_farpostza",
           " <br> chiefs xi v simba bvuma frosler ngezana cardoso mathoho blom manyama zuma nurkovic parker c zulu sub <br> s akpeyi mphahlele akumu baccus kambole castro katsande ngcobo mashiane #farpost #totalcafcl httpstc <br> ow66ioj4mj5 <br> chiefs xi v simba bvuma frosler ngezana cardoso mathoho blom manyama zuma nurkovic parker c zulu sub <br> s akpeyi mphahlele akumu baccus kambole castro katsande ngcobo mashiane #farpost #totalcafcl httpstc <br> ow66ioj4mj5"
          ],
          [
           "agent_fat_vee",
           " <br> @thulaninombali muphi mashiane khipha manyama ufake zuma please we need ball players <br>  <br>  <br> @thulaninombali muphi mashiane khipha manyama ufake zuma please we need ball players <br>  <br> "
          ],
          [
           "agent_fba795b47de14c7",
           " <br> @paulivw i wonder who wrote this definitely not mr zuma <br>  <br>  <br> @paulivw i wonder who wrote this definitely not mr zuma <br>  <br> "
          ],
          [
           "agent_feliqinisos1",
           " <br> #zidlumnjonjo @zimiphib1 sesa hlezi nawe ecaltex abavuke mafulawa sikhakhane kholwa zuma kwenza ximb <br> a mkwena @ukhozi_fm <br>  <br> #zidlumnjonjo @zimiphib1 sesa hlezi nawe ecaltex abavuke mafulawa sikhakhane kholwa zuma kwenza ximb <br> a mkwena @ukhozi_fm <br> "
          ],
          [
           "agent_ferdi___",
           " <br> kualifikasi jadi pns bisa main zuma <br>  <br>  <br> kualifikasi jadi pns bisa main zuma <br>  <br> "
          ],
          [
           "agent_fha2one",
           " <br> @powerfm987 that is to say if zuma isnt testifying cyril is also not testifying or give us more more <br>  so that we can tackle zuma entlek zondo has no findings is findings are zuma <br>  <br> @powerfm987 that is to say if zuma isnt testifying cyril is also not testifying or give us more more <br>  so that we can tackle zuma entlek zondo has no findings is findings are zuma <br> "
          ],
          [
           "agent_fmbhandze",
           " <br> @naude_kobus @sydneymahala1 @mabiletjatwist @thembagodi_ @azaniavoice @twitter @atmovement_sa @patri <br> ciadelille you are useless amp empty headed president themba godi started to b scopa chair in 2005mb <br> eki president2009motlhante president20092018zuma president20182019ramaphosa presidentyou see that president themba godi served as scopa chair under 4 state presidents competent <br> @naude_kobus @sydneymahala1 @mabiletjatwist @thembagodi_ @azaniavoice @twitter @atmovement_sa @patri <br> ciadelille you are useless amp empty headed president themba godi started to b scopa chair in 2005mb <br> eki president2009motlhante president20092018zuma president20182019ramaphosa presidentyou see that president themba godi served as scopa chair under 4 state presidents competent"
          ],
          [
           "agent_folkver",
           " <br> 20 år siden i dag @zuma_sibusiso #zumathepuma #fcklive httpstcoznt00ju9fs <br>  <br>  <br> 20 år siden i dag @zuma_sibusiso #zumathepuma #fcklive httpstcoznt00ju9fs <br>  <br> "
          ],
          [
           "agent_fullview_sa",
           " <br> httpstcohj9xthe3l7 <br>  <br>  <br> httpstcohj9xthe3l7 <br>  <br> "
          ],
          [
           "agent_fullviewsabc",
           " <br> question of the day #acemagashule says #zuma has done nothing wrong in defying the concourt ruling w <br> hich compels him to appear before the #zondocommission your thoughts #sabcnews #fullview @chriseldal <br> ewis httpstco1ab0wsataf <br> question of the day #acemagashule says #zuma has done nothing wrong in defying the concourt ruling w <br> hich compels him to appear before the #zondocommission your thoughts #sabcnews #fullview @chriseldal <br> ewis httpstco1ab0wsataf"
          ],
          [
           "agent_fvvzjcgo5vslbd8",
           " <br> @zuma_2416 把握でーす <br>  <br>  <br> @zuma_2416 把握でーす <br>  <br> "
          ],
          [
           "agent_gblock20780243",
           " <br> @niehaus_carl all this ur friends s fault zumasuprah guptas duduzane ect <br>  <br>  <br> @niehaus_carl all this ur friends s fault zumasuprah guptas duduzane ect <br>  <br> "
          ],
          [
           "agent_gertvannieker10",
           " <br> @solidaridirk bo en behalwe sol se voorlegging in wie se rekeninge gaan die kubane se salarisse in w <br> ie se rekeninge het die zuma r 200 miljard skenking aan kuba gegaan vertel tog vir anc kuba was nie  <br> in angola om anc te helponder soviet drang vorige kub ingenieurs water probeem opgelos <br> @solidaridirk bo en behalwe sol se voorlegging in wie se rekeninge gaan die kubane se salarisse in w <br> ie se rekeninge het die zuma r 200 miljard skenking aan kuba gegaan vertel tog vir anc kuba was nie  <br> in angola om anc te helponder soviet drang vorige kub ingenieurs water probeem opgelos"
          ],
          [
           "agent_gianicos1",
           " <br> @kgomo389 that ship has sailed he is going to jail #zuma httpstcoqtimfivl0i <br>  <br>  <br> @kgomo389 that ship has sailed he is going to jail #zuma httpstcoqtimfivl0i <br>  <br> "
          ],
          [
           "agent_gmalau32",
           " <br> @stephengrootes @safmradio i learned that he is just interested in focusing on guptas whilst his fri <br> ends bidvest glencore aspen are busy capturing the state under him one day we will have another comm <br> ission that focuses on corruption under his tenure he is no different from zuma and mbeki <br> @stephengrootes @safmradio i learned that he is just interested in focusing on guptas whilst his fri <br> ends bidvest glencore aspen are busy capturing the state under him one day we will have another comm <br> ission that focuses on corruption under his tenure he is no different from zuma and mbeki"
          ],
          [
           "agent_gogoawi1",
           " <br> @advobarryroux he also said the money was available during zumas reign why is he only talking about  <br> it now exactly what is he hoping to achieve 🤔 snakes <br>  <br> @advobarryroux he also said the money was available during zumas reign why is he only talking about  <br> it now exactly what is he hoping to achieve 🤔 snakes <br> "
          ],
          [
           "agent_gololimdidile",
           " <br> @snekhumalosa zuma ngempela ufelani kodwa kodwa engikwaziyo ramaphosa ngeke kuhlale kanjena bazomugw <br> inya naye soon <br>  <br> @snekhumalosa zuma ngempela ufelani kodwa kodwa engikwaziyo ramaphosa ngeke kuhlale kanjena bazomugw <br> inya naye soon <br> "
          ],
          [
           "agent_goodnesstcm",
           " <br> @thandi_zuma 💃💃😂 <br>  <br>  <br> @thandi_zuma 💃💃😂 <br>  <br> "
          ],
          [
           "agent_gordonh36515211",
           " <br> @sipho_gumede32 @jgz_foundation @vusisambo @timeslive i agree but their is one thing hindering me wh <br> y did bathlabile protected zuma like that when their is history between them rumour its has somethin <br> g to do with zuma foundation the inkandla community social development <br> @sipho_gumede32 @jgz_foundation @vusisambo @timeslive i agree but their is one thing hindering me wh <br> y did bathlabile protected zuma like that when their is history between them rumour its has somethin <br> g to do with zuma foundation the inkandla community social development"
          ],
          [
           "agent_gravizaava",
           " <br> strymon zuma（パワーサプライ）を買ったのでテストを兼ねて空間系エフェクターを数珠繋ぎにして遊んだ。 （音量注意） httpstcok1l7pz0zvf <br>  <br>  <br> strymon zuma（パワーサプライ）を買ったのでテストを兼ねて空間系エフェクターを数珠繋ぎにして遊んだ。 （音量注意） httpstcok1l7pz0zvf <br>  <br> "
          ],
          [
           "agent_growl_gt",
           " <br> @tana_k_zuma ありがとうございます！ やってみます！！ <br>  <br>  <br> @tana_k_zuma ありがとうございます！ やってみます！！ <br>  <br> "
          ],
          [
           "agent_gseapo",
           " <br> @ramalokot you said jacob zuma was captured akere <br>  <br>  <br> @ramalokot you said jacob zuma was captured akere <br>  <br> "
          ],
          [
           "agent_h24news_za",
           " <br> former president jacob zuma parted ways with his lawyers ahead of his arms deal linked corruption ca <br> se which is set to begin on 17 may httpstcoq4ga51fxqq <br>  <br> former president jacob zuma parted ways with his lawyers ahead of his arms deal linked corruption ca <br> se which is set to begin on 17 may httpstcoq4ga51fxqq <br> "
          ],
          [
           "agent_haroma59brown",
           " <br> @lesiba_thabetha @aluvera2 @nationonlinemw @ramalokot you will surprised that such politicians have  <br> farms in malawizuma took advantage of a woman president that time😂😂 <br>  <br> @lesiba_thabetha @aluvera2 @nationonlinemw @ramalokot you will surprised that such politicians have  <br> farms in malawizuma took advantage of a woman president that time😂😂 <br> "
          ],
          [
           "agent_henderwyy",
           " <br> @blueederyy @neocultevch suka bikin war giliran di bales bilangnya wijen duluan hskhsk lucuk u kodok <br>  zuma <br>  <br> @blueederyy @neocultevch suka bikin war giliran di bales bilangnya wijen duluan hskhsk lucuk u kodok <br>  zuma <br> "
          ],
          [
           "agent_herbertduplessi",
           " <br> @duduzane__zuma yawn <br>  <br>  <br> @duduzane__zuma yawn <br>  <br> "
          ],
          [
           "agent_hernanstruve2",
           " <br> pedirán prisión para el expresidente sudafricano z link httpstcow5ulehsk2w descarga la app httpstcoq <br> zzl1ojmiz <br>  <br> pedirán prisión para el expresidente sudafricano z link httpstcow5ulehsk2w descarga la app httpstcoq <br> zzl1ojmiz <br> "
          ],
          [
           "agent_hferrei85545680",
           " <br> @amsmitrs @sa_mum except for zuma 😀 <br>  <br>  <br> @amsmitrs @sa_mum except for zuma 😀 <br>  <br> "
          ],
          [
           "agent_hjmaluks",
           " <br> its time for chiefs to introduce an impact player in zuma #osekabasheba #babizebonke <br>  <br>  <br> its time for chiefs to introduce an impact player in zuma #osekabasheba #babizebonke <br>  <br> "
          ],
          [
           "agent_hlengiwe_twala_",
           " <br> @pume_zuma thank you ☺️ <br>  <br>  <br> @pume_zuma thank you ☺️ <br>  <br> "
          ],
          [
           "agent_hollywoodbets",
           " <br> #dstvprem @amazulufootball xi mothwa sikhakhane gumede mzava xoki makhaula sithebe mlambo chawapihwa <br>  mulenga mthembu @kaizerchiefs xi akpeyi ngezana zulu mphahlele cardoso agay matsheke mashiane nurko <br> vic zuma parker image copyright steve haag sports httpstcojxzr3bougg <br> #dstvprem @amazulufootball xi mothwa sikhakhane gumede mzava xoki makhaula sithebe mlambo chawapihwa <br>  mulenga mthembu @kaizerchiefs xi akpeyi ngezana zulu mphahlele cardoso agay matsheke mashiane nurko <br> vic zuma parker image copyright steve haag sports httpstcojxzr3bougg"
          ],
          [
           "agent_honourablehloni",
           " <br> does dudu zuma stay at nkandla compound with her husband amp rest of the family httpstcoo7yfpvxuei <br>  <br>  <br> does dudu zuma stay at nkandla compound with her husband amp rest of the family httpstcoo7yfpvxuei <br>  <br> "
          ],
          [
           "agent_houndsinpounds",
           " <br> lily is a playful sweet little gal amp is loving life especially playing with foster puppy zuma she  <br> is approximately 15 weeks amp 15 lbs she sweet playful and loving puppy she has had all ageappropria <br> te vaccinations will require boosters been spayed and microchipped 👇 <br> lily is a playful sweet little gal amp is loving life especially playing with foster puppy zuma she  <br> is approximately 15 weeks amp 15 lbs she sweet playful and loving puppy she has had all ageappropria <br> te vaccinations will require boosters been spayed and microchipped 👇"
          ],
          [
           "agent_hugomasondo",
           " <br> @mrlungisa how is it sad tbey were an experiment to get #zuma out its done now they must leave next  <br> ul hear msimang being investigated after that beating video and finally be fired as well watch the s <br> pace <br> @mrlungisa how is it sad tbey were an experiment to get #zuma out its done now they must leave next  <br> ul hear msimang being investigated after that beating video and finally be fired as well watch the s <br> pace"
          ],
          [
           "agent_hunapsk",
           " <br> political analyst and author moeletsi mbeki warning us about #cyrilramaphosa #ancmustfall #antilockd <br> ownprotest #cyrilramaphosastepdown #ramaphosamustfall #covid19sa #anchatessouthafricans #zumatrial z <br> uma #concurt #antilockdownmarch httpstcowwhykqog55 <br> political analyst and author moeletsi mbeki warning us about #cyrilramaphosa #ancmustfall #antilockd <br> ownprotest #cyrilramaphosastepdown #ramaphosamustfall #covid19sa #anchatessouthafricans #zumatrial z <br> uma #concurt #antilockdownmarch httpstcowwhykqog55"
          ],
          [
           "agent_husslej",
           " <br> constitutional crossroads zuma exceptionalism in judicial and parliamentary scandal behind the remov <br> al of the public protector ⁦@sanativesforum⁩ ⁦@blackforum_sa⁩ ⁦@publicprotector⁩ ⁦@landnoli⁩ comrade <br> s have you read this httpstcoxlgow3agmg <br> constitutional crossroads zuma exceptionalism in judicial and parliamentary scandal behind the remov <br> al of the public protector ⁦@sanativesforum⁩ ⁦@blackforum_sa⁩ ⁦@publicprotector⁩ ⁦@landnoli⁩ comrade <br> s have you read this httpstcoxlgow3agmg"
          ],
          [
           "agent_iloveismomo",
           " <br> @chargebolt_zuma @md_tamaki @_kiripimar_ quien dijo que es tu cuñada es mi cuñada parfavar🙄 <br>  <br>  <br> @chargebolt_zuma @wingedher0 amorcito porque dijiste que estaba buena esa señora además de que te en <br> amoró aún arrastrándolo httpstcoxx3siyamru <br>  <br> @chargebolt_zuma @md_tamaki @_kiripimar_ quien dijo que es tu cuñada es mi cuñada parfavar🙄 <br>  <br>  <br> @chargebolt_zuma @wingedher0 amorcito porque dijiste que estaba buena esa señora además de que te en <br> amoró aún arrastrándolo httpstcoxx3siyamru <br> "
          ],
          [
           "agent_imbaliyase",
           " <br> 100 behind ubaba #zuma httpstcoupxybsmik8 <br>  <br>  <br> 100 behind ubaba #zuma httpstcoupxybsmik8 <br>  <br> "
          ],
          [
           "agent_imtired777",
           " <br> @zuma_monty @meineme53821610 oder noch besser heroin <br>  <br>  <br> @zuma_monty @meineme53821610 oder noch besser heroin <br>  <br> "
          ],
          [
           "agent_iol",
           " <br> the recent meeting between former president jacob zuma and eff leader julius malema some have argued <br>  has sought to undermine the tripartite alliance httpstcouiwbemankk <br>  <br> the recent meeting between former president jacob zuma and eff leader julius malema some have argued <br>  has sought to undermine the tripartite alliance httpstcouiwbemankk <br> "
          ],
          [
           "agent_isshii140034",
           " <br> @zuma_taka @rosso_8010 姑の家のような窮屈感。 <br>  <br>  <br> @zuma_taka @rosso_8010 姑の家のような窮屈感。 <br>  <br> "
          ],
          [
           "agent_ivyla222",
           " <br> @whylerato if you mean jacob zuma <br>  <br>  <br> @whylerato if you mean jacob zuma <br>  <br> "
          ],
          [
           "agent_jackningi",
           " <br> @ruraltarain you are just another victim of channel 403 you see smart criminals meeting we see juliu <br> s malema meeting the former president jacob zuma <br>  <br> @ruraltarain you are just another victim of channel 403 you see smart criminals meeting we see juliu <br> s malema meeting the former president jacob zuma <br> "
          ],
          [
           "agent_jacquescupido12",
           " <br> the @npa_prosecutes is preparing for imminent arrest of former president #zuma <br>  <br>  <br> the @npa_prosecutes is preparing for imminent arrest of former president #zuma <br>  <br> "
          ],
          [
           "agent_jadon33558457",
           " <br> @luxioboi22 rocky and zuma showing thier huge ass <br>  <br>  <br> @luxioboi22 rocky and zuma showing thier huge ass <br>  <br> "
          ],
          [
           "agent_jaydizaka",
           " <br> @itsyourgirlcax zuma <br>  <br>  <br> @itsyourgirlcax zuma <br>  <br> "
          ],
          [
           "agent_jaymenno",
           " <br> @zuma_monty das geht mir ähnlich da brauchen die sich nicht wundern wenn die leute die labil sind an <br> fangen ihr geschwurbel in die welt zu kotzen <br>  <br> @zuma_monty das geht mir ähnlich da brauchen die sich nicht wundern wenn die leute die labil sind an <br> fangen ihr geschwurbel in die welt zu kotzen <br> "
          ],
          [
           "agent_jazzmansa_dj",
           " <br> @fantastic_solo yes ordinary people do go to zumas house and visit <br>  <br>  <br> @fantastic_solo yes ordinary people do go to zumas house and visit <br>  <br> "
          ],
          [
           "agent_jerieledwards7",
           " <br> @rocky78367875 rocky come on just love zuma dick in you <br>  <br>  <br> @rocky78367875 rocky come on just love zuma dick in you <br>  <br> "
          ],
          [
           "agent_jjjholi7",
           " <br> i agree with judge zondo zuma should be arrested soonest and taken to pollsmoor im sure carl niehaus <br>  can donate a jar of vaseline <br>  <br> i agree with judge zondo zuma should be arrested soonest and taken to pollsmoor im sure carl niehaus <br>  can donate a jar of vaseline <br> "
          ],
          [
           "agent_jobcenternga",
           " <br> job opportunities at amazuma group httpstconmzmsj6xra <br>  <br>  <br> job opportunities at amazuma group httpstconmzmsj6xra <br>  <br> "
          ],
          [
           "agent_jonathantawil",
           " <br> @_calculator why now 1 because the birds are singing amp 2 cyril is trying to resurrect and make sur <br> e the zuma name remains tainted with conspiracy <br>  <br> @_calculator why now 1 because the birds are singing amp 2 cyril is trying to resurrect and make sur <br> e the zuma name remains tainted with conspiracy <br> "
          ],
          [
           "agent_josemahapa",
           " <br> @floydshivambu @advdali_mpofu so zuma is no longer going to jail httpstcovxwdgtzgcx <br>  <br>  <br> @floydshivambu @advdali_mpofu so zuma is no longer going to jail httpstcovxwdgtzgcx <br>  <br> "
          ],
          [
           "agent_juantxu66",
           " <br> @evaieven @el_zuma_ 😂😂🙋 <br>  <br>  <br> @evaieven @el_zuma_ 😂😂🙋 <br>  <br> "
          ],
          [
           "agent_juliciousid",
           " <br> advmokoena so all these details that he is putting in this paragraph he is simply imagining themthey <br>  never happened duduzani zuma more than that chair its an environmental issue because now hes spent  <br> the whole page printing a whole bunch of staff that shouldnt be here <br> advmokoena so all these details that he is putting in this paragraph he is simply imagining themthey <br>  never happened duduzani zuma more than that chair its an environmental issue because now hes spent  <br> the whole page printing a whole bunch of staff that shouldnt be here"
          ],
          [
           "agent_jvnaidoo1",
           " <br> @sabreakingnews honk honk for that what was this woman doing in parly all these days even voting aga <br> inst the vote of no confidence against zuma now she talks like a turkey <br>  <br> @sabreakingnews honk honk for that what was this woman doing in parly all these days even voting aga <br> inst the vote of no confidence against zuma now she talks like a turkey <br> "
          ],
          [
           "agent_jxcdans08",
           " <br> blood and water #whatsthelevol #zuma httpstcoxjbumxvbs2 <br>  <br>  <br> blood and water #whatsthelevol #zuma httpstcoxjbumxvbs2 <br>  <br> "
          ],
          [
           "agent_k3170makan",
           " <br> @01water @percysegopa1 @acebuys @nickhedley thats something you made up lol i dont need to manufactu <br> re the fact that zuma raped khwezi <br>  <br> @01water @percysegopa1 @acebuys @nickhedley thats something you made up lol i dont need to manufactu <br> re the fact that zuma raped khwezi <br> "
          ],
          [
           "agent_kabeloseolwana",
           " <br> @kaizerchiefs play a 433 froslermathohocardoso and sasman blombaccus and ngcobo zumanurkovic and bil <br> liat use parkermanyamamashiane and castro as impact players <br>  <br> @kaizerchiefs play a 433 froslermathohocardoso and sasman blombaccus and ngcobo zumanurkovic and bil <br> liat use parkermanyamamashiane and castro as impact players <br> "
          ],
          [
           "agent_kagisomonyadiwa",
           " <br> @presjgzumas legal team has advocate thabani masuku and @advdali_mpofu this case has all ingredients <br>  best action movies are made of great coverage by @newzroom405 🤜🤛🙌👏👏👏👏👏 #zuma #zumatrial httpstcoofo <br> cyoqxa3 <br> @presjgzumas legal team has advocate thabani masuku and @advdali_mpofu this case has all ingredients <br>  best action movies are made of great coverage by @newzroom405 🤜🤛🙌👏👏👏👏👏 #zuma #zumatrial httpstcoofo <br> cyoqxa3"
          ],
          [
           "agent_katori78",
           " <br> #国内旅行【#愛知 #三重 編】 ✈️#47都道府県のおすすめ を教えてください🙋‍♀️《現在17 47都道府県制覇》 with @piesaki @k_zuma_fmty @ayanakato_co <br> m chisato shimizu and 国内旅行♡47都道府県のおすすめ♡ today apr 14 at 250 pm jst on @joinclubhouse httpstcovrokndk <br> r1o <br> #国内旅行【#愛知 #三重 編】 ✈️#47都道府県のおすすめ を教えてください🙋‍♀️《現在17 47都道府県制覇》 with @piesaki @k_zuma_fmty @ayanakato_co <br> m chisato shimizu and 国内旅行♡47都道府県のおすすめ♡ today apr 14 at 250 pm jst on @joinclubhouse httpstcovrokndk <br> r1o"
          ],
          [
           "agent_kawagoederiheru",
           " <br> twitter見たで更にお得！！twitter割引きで￥1000割引の川越「秘密の奥様」twitter見たで90分￥15000ホテル代込90分￥17800httpwwwhimitsuzuma #♯風俗 <br>  ♯川越 ♯人妻 <br>  <br> twitter見たで更にお得！！twitter割引きで￥1000割引の川越「秘密の奥様」twitter見たで90分￥15000ホテル代込90分￥17800httpwwwhimitsuzuma #♯風俗 <br>  ♯川越 ♯人妻 <br> "
          ],
          [
           "agent_kazuma__13",
           " <br> @zuma_4b11 ほんまでっか！！ <br>  <br>  <br> @zuma_4b11 ほんまでっか！！ <br>  <br> "
          ],
          [
           "agent_kbwagers",
           " <br> in case you missed it yesterday a lovely ⭐️review from @kirkusreviews for hold fast through the fire <br>  the next adventure for the #neog crew of zumas ghost topnotch characterdriven science fiction https <br> tco1vqs6pdbyt <br> in case you missed it yesterday a lovely ⭐️review from @kirkusreviews for hold fast through the fire <br>  the next adventure for the #neog crew of zumas ghost topnotch characterdriven science fiction https <br> tco1vqs6pdbyt"
          ],
          [
           "agent_kbyzanet",
           " <br> bitter jacob zuma fuelled by fury over ouster httpstcovbgoc31ohu <br>  <br>  <br> bitter jacob zuma fuelled by fury over ouster httpstcovbgoc31ohu <br>  <br> "
          ],
          [
           "agent_ke_morakile",
           " <br> what do yall think is in those #cr17bankstatements le nagana ka gore zuma a rekisitse khantri ka leb <br> aka la curry jaanong le ramaphosa o jalo🙄 retards tsone mare 😂 <br>  <br> what do yall think is in those #cr17bankstatements le nagana ka gore zuma a rekisitse khantri ka leb <br> aka la curry jaanong le ramaphosa o jalo🙄 retards tsone mare 😂 <br> "
          ],
          [
           "agent_keddah83",
           " <br> capitalism and tyranny insert zuma meme httpstcorwyzxkbl3f <br>  <br>  <br> capitalism and tyranny insert zuma meme httpstcorwyzxkbl3f <br>  <br> "
          ],
          [
           "agent_kenyanjurist",
           " <br> president zuma requested the then chief justice of the republic of south africa justice sandile ngco <br> bo to remain in office for a further term of 5 years the chief justice accepted the request the cons <br> titutional court the request and extension invalid httpstco1x18rgbciq <br> president zuma requested the then chief justice of the republic of south africa justice sandile ngco <br> bo to remain in office for a further term of 5 years the chief justice accepted the request the cons <br> titutional court the request and extension invalid httpstco1x18rgbciq"
          ],
          [
           "agent_kevan_logic",
           " <br> @radio702 this is what happens when you graduate from the jacob zuma school for math and numbers and <br>  stuff and then you enroll in the tito school for economics and pilchards httpstcof1xwlu33eu <br>  <br> @radio702 this is what happens when you graduate from the jacob zuma school for math and numbers and <br>  stuff and then you enroll in the tito school for economics and pilchards httpstcof1xwlu33eu <br> "
          ],
          [
           "agent_kevinbiasaajaa",
           " <br> @gamesmenfess tim zuma aku mah <br>  <br>  <br> @gamesmenfess tim zuma aku mah <br>  <br> "
          ],
          [
           "agent_kfactorsa1",
           " <br> #pleasehelpmepickthewinnwer of #lephupholimnandichallenge my latest single #lephupholimnandi on the  <br> clip issandile from efilidi in kzn #djfresh #ramaphosacollapsedsoes #leadusmatamela #loadshedding #r <br> amaphosafailedsouthafrica #karabohits2million #uzobuya sona zuma karabo httpstcodf80kf2o3y <br> #pleasehelpmepickthewinnwer of #lephupholimnandichallenge my latest single #lephupholimnandi on the  <br> clip issandile from efilidi in kzn #djfresh #ramaphosacollapsedsoes #leadusmatamela #loadshedding #r <br> amaphosafailedsouthafrica #karabohits2million #uzobuya sona zuma karabo httpstcodf80kf2o3y"
          ],
          [
           "agent_kgabo48649279",
           " <br> @brandonkaule @_djcappuccino he was in pmb apologizing zuma <br>  <br>  <br> @brandonkaule @_djcappuccino he was in pmb apologizing zuma <br>  <br> "
          ],
          [
           "agent_kgauzi",
           " <br> @mbawolive an inadvertent confession it also exposes the muddled thinking today zuma the hero is lik <br> ened to sobukwe a short moment later the same guy is likened to pw botha choose your struggles peopl <br> e <br> @mbawolive an inadvertent confession it also exposes the muddled thinking today zuma the hero is lik <br> ened to sobukwe a short moment later the same guy is likened to pw botha choose your struggles peopl <br> e"
          ],
          [
           "agent_khanya_mntambo",
           " <br> #sonadebate dlaminizuma the upcoming local elections offer an opportunity to remedy our failures she <br>  urges parties to deploy capable leaders because these elections impact the lives of citizens heavil <br> y <br> #sonadebate dlaminizuma the upcoming local elections offer an opportunity to remedy our failures she <br>  urges parties to deploy capable leaders because these elections impact the lives of citizens heavil <br> y"
          ],
          [
           "agent_khizzie",
           " <br> @khandanim i just used mondli as an example njenau r ryt about zuma thohe couldnt cope with the seae <br> yesee <br>  <br> @khandanim i just used mondli as an example njenau r ryt about zuma thohe couldnt cope with the seae <br> yesee <br> "
          ],
          [
           "agent_khulaniqoma",
           " <br> the fact that judge president hlophe told justice nkabinde that there is no case against mr zuma aft <br> er saying that mr zuma was likely to become president of the country is revealing <br>  <br> the fact that judge president hlophe told justice nkabinde that there is no case against mr zuma aft <br> er saying that mr zuma was likely to become president of the country is revealing <br> "
          ],
          [
           "agent_khumbu_m",
           " <br> @stoneman_o indeed like his cic wen he gave us jacob zuma to fuck our country up for 9 years <br>  <br>  <br> @stoneman_o indeed like his cic wen he gave us jacob zuma to fuck our country up for 9 years <br>  <br> "
          ],
          [
           "agent_khumoentle_",
           " <br> president jacob zuma is independently responsible for the employment of south african journalists <br>  <br>  <br> president jacob zuma is independently responsible for the employment of south african journalists <br>  <br> "
          ],
          [
           "agent_kiddo10132",
           " <br> @npa_prosecutes this is just about a meetingmeetings with zuma <br>  <br>  <br> @npa_prosecutes this is just about a meetingmeetings with zuma <br>  <br> "
          ],
          [
           "agent_kirstblair",
           " <br> @derek_hanekom so when is the anc actually going to take some any action against zuma for consistent <br> ly going against policies and speaking against the policies of his apparent organization <br>  <br> @derek_hanekom so when is the anc actually going to take some any action against zuma for consistent <br> ly going against policies and speaking against the policies of his apparent organization <br> "
          ],
          [
           "agent_klausrc",
           " <br> @mab_sp125 o diretor de biomanguinhos maurício zuma disse que até o fim do mês a fiocruz deverá entr <br> egar cerca de 6 milhões de doses por semana até atingir o total de 1004 milhões previstas no contrat <br> o com a astrazeneca cujo cronograma seguirá até julho <br> @mab_sp125 o diretor de biomanguinhos maurício zuma disse que até o fim do mês a fiocruz deverá entr <br> egar cerca de 6 milhões de doses por semana até atingir o total de 1004 milhões previstas no contrat <br> o com a astrazeneca cujo cronograma seguirá até julho"
          ],
          [
           "agent_kteee12",
           " <br> @buju_bandit @iamsalesgirl that thandi zuma😂😂😂 she blocked all exploras as a coward that she is so s <br> he can be saying shit about dora with her fellow dilusional prethough shipas allow them laugh their  <br> god didnt post abs today for them to hype <br> @buju_bandit @iamsalesgirl that thandi zuma😂😂😂 she blocked all exploras as a coward that she is so s <br> he can be saying shit about dora with her fellow dilusional prethough shipas allow them laugh their  <br> god didnt post abs today for them to hype"
          ],
          [
           "agent_kzazib",
           " <br> @drgray12072793 @jsteenhuisen tell your brother zuma to finish grade 2 <br>  <br>  <br> @drgray12072793 @jsteenhuisen tell your brother zuma to finish grade 2 <br>  <br> "
          ],
          [
           "agent_la_revolucion99",
           " <br> @injengonina @mapeloojaserati @powerfm987 @aldrinsampear @safmradio at least aldrin probes amp quest <br> ions a lot of issues the other one just parrots rubbish from the racist media lacks impartiality whe <br> n it comes to zuma <br> @injengonina @mapeloojaserati @powerfm987 @aldrinsampear @safmradio at least aldrin probes amp quest <br> ions a lot of issues the other one just parrots rubbish from the racist media lacks impartiality whe <br> n it comes to zuma"
          ],
          [
           "agent_lacitsioge",
           " <br> @rcghtpath ⠀⠀⠀ia terkejut tetapi tangannya segera berusaha menagan sosokmu di punggungnya agar tidak <br>  jatuh ❝yoshi eh kamu tau❞ jika yoshinoya saja tahu maka memang hanya zuma si kodok saja yang tidak  <br> peka <br> @rcghtpath ⠀⠀⠀ia terkejut tetapi tangannya segera berusaha menagan sosokmu di punggungnya agar tidak <br>  jatuh ❝yoshi eh kamu tau❞ jika yoshinoya saja tahu maka memang hanya zuma si kodok saja yang tidak  <br> peka"
          ],
          [
           "agent_ladytee25222037",
           " <br> ayanda thabethe puts duduzane zuma in his place httpstco3odo8yenvu kwesta lil wayne ayanda <br>  <br>  <br> ayanda thabethe puts duduzane zuma in his place httpstco3odo8yenvu kwesta lil wayne ayanda <br>  <br> "
          ],
          [
           "agent_lankie5571",
           " <br> @news24 @karynmaughan she possesses simlar attitude like her mate jacob zumastubborn amp belief that <br>  every9she does is right <br>  <br> @news24 @karynmaughan she possesses simlar attitude like her mate jacob zumastubborn amp belief that <br>  every9she does is right <br> "
          ],
          [
           "agent_leastilikehats",
           " <br> shhh zuma is laying in bed with me being the little spoon <br>  <br>  <br> shhh zuma is laying in bed with me being the little spoon <br>  <br> "
          ],
          [
           "agent_lebohangg8",
           " <br> where the is zuma its a guaranteed hit httpstco9hmdw0rjrj <br>  <br>  <br> where the is zuma its a guaranteed hit httpstco9hmdw0rjrj <br>  <br> "
          ],
          [
           "agent_legodi77",
           " <br> @mashumbwa @sykotiq_chwk @mongezi_gibisa @musawenkhosidl2 zuma took over during one of the worst glo <br> bal recession i guess you wont know <br>  <br> @mashumbwa @sykotiq_chwk @mongezi_gibisa @musawenkhosidl2 zuma took over during one of the worst glo <br> bal recession i guess you wont know <br> "
          ],
          [
           "agent_leona_ocean00",
           " <br> @singalot_am @dhc_oruganzaka @zuma_2416 @leiakatou @kanonsmall おめでとうございます👏👏👏👏🎉🎉🎉㊗️ <br>  <br>  <br> @singalot_am @dhc_oruganzaka @zuma_2416 @leiakatou @kanonsmall おめでとうございます👏👏👏👏🎉🎉🎉㊗️ <br>  <br> "
          ],
          [
           "agent_leoskosana",
           " <br> @rhaduuxesibe zuma fired pravin and malema wanted him back <br>  <br>  <br> @rhaduuxesibe zuma fired pravin and malema wanted him back <br>  <br> "
          ],
          [
           "agent_lesba007",
           " <br> @cyza @ruraltarain zuma will be issued with a warrant of arrest should he fails to appear at the com <br> mission <br>  <br> @cyza @ruraltarain zuma will be issued with a warrant of arrest should he fails to appear at the com <br> mission <br> "
          ],
          [
           "agent_lethofb",
           " <br> @sanationalist wasnt the eff trying to humiliate zuma with that silent protest <br>  <br>  <br> @sanationalist wasnt the eff trying to humiliate zuma with that silent protest <br>  <br> "
          ],
          [
           "agent_levigos",
           " <br> @kgomo389 way to go out of anc u mean bcos thats were its going to end era of projecting oneself as  <br> being above anc ended with zuma ppl have come to realize how dangerous amp costly it has caused anc  <br> theyll learn this weekend with ace cyril suspension letter he wrote undermined anc <br> @kgomo389 way to go out of anc u mean bcos thats were its going to end era of projecting oneself as  <br> being above anc ended with zuma ppl have come to realize how dangerous amp costly it has caused anc  <br> theyll learn this weekend with ace cyril suspension letter he wrote undermined anc"
          ],
          [
           "agent_limpopo_mental",
           " <br> i remembered how this interview broke my heart and also how there was much noise in the country abou <br> t the president jacob zuma and gigaba did that live on cnn impressing those who wanted msholozi out  <br> httpstcoxsspvhrngo <br> i remembered how this interview broke my heart and also how there was much noise in the country abou <br> t the president jacob zuma and gigaba did that live on cnn impressing those who wanted msholozi out  <br> httpstcoxsspvhrngo"
          ],
          [
           "agent_lindamnkhonto",
           " <br> @mightijamie zuma because we were a happier nation he might have been captured but he put a lot of b <br> lack people in our parliament hired black ceos unlike thumaminaguy <br>  <br> @mightijamie zuma because we were a happier nation he might have been captured but he put a lot of b <br> lack people in our parliament hired black ceos unlike thumaminaguy <br> "
          ],
          [
           "agent_lindiwe16671575",
           " <br> @fraternityza @enca ramaphosa is much better than zuma i trust ramaphosa than zuma zuma didnt run a  <br> country the guptas did so please leave ramaphosa alone <br>  <br> @fraternityza @enca ramaphosa is much better than zuma i trust ramaphosa than zuma zuma didnt run a  <br> country the guptas did so please leave ramaphosa alone <br> "
          ],
          [
           "agent_lindo_sibanda",
           " <br> @avhapfani702758 @ewnupdates @tshidi_lee you just dont want to believe him hence discrediting him if <br>  he was talking about zuma you would have understood everything i guess <br>  <br> @avhapfani702758 @ewnupdates @tshidi_lee you just dont want to believe him hence discrediting him if <br>  he was talking about zuma you would have understood everything i guess <br> "
          ],
          [
           "agent_lionmaking",
           " <br> so zuma told zondo straight to voetsek httpstcoa9hphznph5 <br>  <br>  <br> so zuma told zondo straight to voetsek httpstcoa9hphznph5 <br>  <br> "
          ],
          [
           "agent_lootgous",
           " <br> tim du plessis die val van zuma het by kodesa begin httpstcoalkdm6lqg2 shared via @netwerk24 <br>  <br>  <br> tim du plessis die val van zuma het by kodesa begin httpstcoalkdm6lqg2 shared via @netwerk24 <br>  <br> "
          ],
          [
           "agent_lordwell12",
           " <br> @iol @afrinewsagency this is how malema and floyd supported zuma rape case <br>  <br>  <br> @iol @afrinewsagency this is how malema and floyd supported zuma rape case <br>  <br> "
          ],
          [
           "agent_loyisosidimba",
           " <br> vryheid kzn lawyer bethuel mondli thusini has taken over from eric mabuza as former president jacob  <br> zumas attorney ahead of his fraud amp corruption trial <br>  <br> vryheid kzn lawyer bethuel mondli thusini has taken over from eric mabuza as former president jacob  <br> zumas attorney ahead of his fraud amp corruption trial <br> "
          ],
          [
           "agent_lulu_anonymous",
           " <br> in sa youll see somizi trending but the tweets are all about atchaar and memes of zuma httpstcovebeo <br> 2ghga <br>  <br> in sa youll see somizi trending but the tweets are all about atchaar and memes of zuma httpstcovebeo <br> 2ghga <br> "
          ],
          [
           "agent_lynetso",
           " <br> price of alcohol ban that dlaminizuma cele champion is poverty and misery vegter httpstco2f6u246lza  <br> via @biznewscom <br>  <br> price of alcohol ban that dlaminizuma cele champion is poverty and misery vegter httpstco2f6u246lza  <br> via @biznewscom <br> "
          ],
          [
           "agent_mabitsela_ali",
           " <br> small fact black dollar millionaires increase during the zuma years <br>  <br>  <br> small fact black dollar millionaires increase during the zuma years <br>  <br> "
          ],
          [
           "agent_mack84482549",
           " <br> following malema means turning yourself into a good liarhe once said hell die for zuma httpstcoklsl2 <br> fapnt <br>  <br> following malema means turning yourself into a good liarhe once said hell die for zuma httpstcoklsl2 <br> fapnt <br> "
          ],
          [
           "agent_madiboity",
           " <br> what happened to this old man aubrey matshiqi a question was his take on zumas meeting with the top  <br> 6 and on zumas notes then the old man became a gossiper instead of an analyst was aubrey machiqi on  <br> the payroll of the sassa during zuma era what caused his degeneration httpstcot00ucuy5pn <br> what happened to this old man aubrey matshiqi a question was his take on zumas meeting with the top  <br> 6 and on zumas notes then the old man became a gossiper instead of an analyst was aubrey machiqi on  <br> the payroll of the sassa during zuma era what caused his degeneration httpstcot00ucuy5pn"
          ],
          [
           "agent_madland33324253",
           " <br> @goolammv who is taking that chap serious at this day and agesome people decided to leave anc and be <br> come members of zuma and now they are stuck <br>  <br> @goolammv who is taking that chap serious at this day and agesome people decided to leave anc and be <br> come members of zuma and now they are stuck <br> "
          ],
          [
           "agent_mahlaba02621244",
           " <br> anyone that old who did not feature in 76 or late 80 resistance were not in robben island or with ch <br> ris hani and zuma mara baphethe umbutho babekuphi httpstco5upg3pxfmo <br>  <br> anyone that old who did not feature in 76 or late 80 resistance were not in robben island or with ch <br> ris hani and zuma mara baphethe umbutho babekuphi httpstco5upg3pxfmo <br> "
          ],
          [
           "agent_makhubedureube1",
           " <br> @city_press she seems to be on a mission the zuma family is in trouble <br>  <br>  <br> @city_press she seems to be on a mission the zuma family is in trouble <br>  <br> "
          ],
          [
           "agent_malalaveve",
           " <br> @sapsu_sonke @comrademdu @cyrilramaphosa @safmradio also mention that he cant deal with jacob zuma w <br> hy you jumping that one 🙄 <br>  <br> @sapsu_sonke @comrademdu @cyrilramaphosa @safmradio also mention that he cant deal with jacob zuma w <br> hy you jumping that one 🙄 <br> "
          ],
          [
           "agent_mamihl1",
           " <br> @briantkhumalo @nkokoma but he said he has no relationship with zuma and on his response to sikhakha <br> ne responses he conceded to relationship see docs of the case against zomdo to judicial services com <br> mission <br> @briantkhumalo @nkokoma but he said he has no relationship with zuma and on his response to sikhakha <br> ne responses he conceded to relationship see docs of the case against zomdo to judicial services com <br> mission"
          ],
          [
           "agent_mamiriri_law",
           " <br> @zinhlengubane16 @phalane67253308 @mampotjek @landnoli remember lot of people where also bribing zum <br> a with monthly contributions so with cyril youll hear stories from the next president <br>  <br> @zinhlengubane16 @phalane67253308 @mampotjek @landnoli remember lot of people where also bribing zum <br> a with monthly contributions so with cyril youll hear stories from the next president <br> "
          ],
          [
           "agent_manlo3362w",
           " <br> @irvinjimsa @audiothebrand but we know that zuma fucked up this company under your watch and you nev <br> er said anything <br>  <br> @irvinjimsa @audiothebrand but we know that zuma fucked up this company under your watch and you nev <br> er said anything <br> "
          ],
          [
           "agent_manpower_within",
           " <br> all im saying is duduzane zuma said he wants to contest in 2024 now #tokyosexwale is talking about a <br>  president in their 30s connect the dots <br>  <br> all im saying is duduzane zuma said he wants to contest in 2024 now #tokyosexwale is talking about a <br>  president in their 30s connect the dots <br> "
          ],
          [
           "agent_mapuler1",
           " <br> @duduzanezuma_ sa has become a circus since the zuma family landed in the union building s former pr <br> esident mbeki was removed accepted like a gentleman went quietly zuma family thinks anc and sa presi <br> dency is their birth right like royalty monies were looted but dont want to account 👀 <br> @duduzanezuma_ sa has become a circus since the zuma family landed in the union building s former pr <br> esident mbeki was removed accepted like a gentleman went quietly zuma family thinks anc and sa presi <br> dency is their birth right like royalty monies were looted but dont want to account 👀"
          ],
          [
           "agent_mariebooysenss",
           " <br> @advobarryroux jacob zuma is facing thousands of criminal charges mainly corruption it was a mistake <br>  for @cyrilramaphosa to want to meet such a character <br>  <br> @advobarryroux jacob zuma is facing thousands of criminal charges mainly corruption it was a mistake <br>  for @cyrilramaphosa to want to meet such a character <br> "
          ],
          [
           "agent_marobelakpm2",
           " <br> i hope zumas lawyer are learning how to conduct themselves and represent their client in the @statec <br> apturecom throwing tantrums and crying foul wont assist their client and them by extension <br>  <br> i hope zumas lawyer are learning how to conduct themselves and represent their client in the @statec <br> apturecom throwing tantrums and crying foul wont assist their client and them by extension <br> "
          ],
          [
           "agent_massokomoz",
           " <br> mr jazziq amp kabza de small ft zuma reece madlisa mpura amp busta 929 kshada ban httpstco8xfyt8oix8 <br>  <br>  <br> mr jazziq amp kabza de small ft zuma reece madlisa mpura amp busta 929 kshada ban httpstco8xfyt8oix8 <br>  <br> "
          ],
          [
           "agent_mateko_ptyltd",
           " <br> ltltthreadgtgt if you want to build or do extensionwe can turn your vision into a reality contactwha <br> tsapp us 067 2945 538 please rt this tweet maybe our clients is in your tl thank you chris hani airt <br> ime habib #djsbu boity zuma savanna which sa king zwelithini reece anele cyril httpstcovu2eub2li8 <br> ltltthreadgtgt if you want to build or do extensionwe can turn your vision into a reality contactwha <br> tsapp us 067 2945 538 please rt this tweet maybe our clients is in your tl thank you chris hani airt <br> ime habib #djsbu boity zuma savanna which sa king zwelithini reece anele cyril httpstcovu2eub2li8"
          ],
          [
           "agent_matepamela",
           " <br> alsocan someone ask @duduzane__zuma to respond to my dm <br>  <br>  <br> alsocan someone ask @duduzane__zuma to respond to my dm <br>  <br> "
          ],
          [
           "agent_mathivhankhang1",
           " <br> @kgomo389 @ruraltarain wheres zuma here <br>  <br>  <br> @kgomo389 @ruraltarain wheres zuma here <br>  <br> "
          ],
          [
           "agent_matlharini1",
           " <br> @sundaytimesza the zumas take people forgranted duduzane takes us for fools how can he even think th <br> at when a certain portion of people when they cheer for him it means that he can be a president tell <br>  him to ask tokyo phosa l sisulu dlaminizuma etc <br> @sundaytimesza the zumas take people forgranted duduzane takes us for fools how can he even think th <br> at when a certain portion of people when they cheer for him it means that he can be a president tell <br>  him to ask tokyo phosa l sisulu dlaminizuma etc"
          ],
          [
           "agent_matoti_siya",
           " <br> @gianicos1 zuma was the best african president ever <br>  <br>  <br> @gianicos1 zuma was the best african president ever <br>  <br> "
          ],
          [
           "agent_matsobanelanga",
           " <br> @zwelinzima1 whats your view on zuma refusing to give evidence to the zondo commission stop fighting <br>  the israel palestine war and focus on issues affecting your own country <br>  <br> @zwelinzima1 whats your view on zuma refusing to give evidence to the zondo commission stop fighting <br>  the israel palestine war and focus on issues affecting your own country <br> "
          ],
          [
           "agent_mbonii",
           " <br> @reasontafireyi zumas child <br>  <br>  <br> @reasontafireyi zumas child <br>  <br> "
          ],
          [
           "agent_mbuthumayanga",
           " <br> @notyetuhuru_ the jacob zuma laugh in the end 😭😭😭😭 <br>  <br>  <br> @notyetuhuru_ the jacob zuma laugh in the end 😭😭😭😭 <br>  <br> "
          ],
          [
           "agent_mcdsibuyi",
           " <br> @mbuyisenindlozi im sure his response will be more of glorifying #zuma and vilifying #cyril informed <br>  by the #teawithzuma <br>  <br> @mbuyisenindlozi im sure his response will be more of glorifying #zuma and vilifying #cyril informed <br>  by the #teawithzuma <br> "
          ],
          [
           "agent_mcoolisi",
           " <br> @mshengukwazi what happened to zuma must fall <br>  <br>  <br> @mshengukwazi what happened to zuma must fall <br>  <br> "
          ],
          [
           "agent_mczuks",
           " <br> @_africansoil this guy is too compromisedu know even if zuma was guiltyhis incompetence as a judge h <br> as failed this commission <br>  <br> @_africansoil this guy is too compromisedu know even if zuma was guiltyhis incompetence as a judge h <br> as failed this commission <br> "
          ],
          [
           "agent_mdletshe_bb",
           " <br> @listentounders2 @braaubrey @braaubrey who wrote the statement of defiance towards the zondo commiss <br> ion jacob himself or the jg zuma foundation because the summons to appear before the commission will <br>  be sent to be former not the latter <br> @listentounders2 @braaubrey @braaubrey who wrote the statement of defiance towards the zondo commiss <br> ion jacob himself or the jg zuma foundation because the summons to appear before the commission will <br>  be sent to be former not the latter"
          ],
          [
           "agent_mightijamie",
           " <br> what you need to know today western cape judge president john hlophe has been found guilty of miscon <br> duct by a judicial conduct tribunal this is related to his attempts to lobby constitutional court ju <br> dges to rule in favor of zuma he may end up impeached as a result httpstcofwrbyabn8v <br> what you need to know today western cape judge president john hlophe has been found guilty of miscon <br> duct by a judicial conduct tribunal this is related to his attempts to lobby constitutional court ju <br> dges to rule in favor of zuma he may end up impeached as a result httpstcofwrbyabn8v"
          ],
          [
           "agent_mikevladimir_",
           " <br> @mhlonishwa80 he is scheduled to appear at the commission and zuma has been declining since last yea <br> r so thats why i said sowhat is it that zuma is hidingif he is innocent he must just go and answer u <br> nless he knows that the evidence before the commission is hard to espace <br> @mhlonishwa80 he is scheduled to appear at the commission and zuma has been declining since last yea <br> r so thats why i said sowhat is it that zuma is hidingif he is innocent he must just go and answer u <br> nless he knows that the evidence before the commission is hard to espace"
          ],
          [
           "agent_miyahtie",
           " <br> « zuma a baki dadi gare ta kin bani taki na lasa indai a kanki ne nayi nisa dan ba kiran da zan amsa <br>  » <br>  <br> « zuma a baki dadi gare ta kin bani taki na lasa indai a kanki ne nayi nisa dan ba kiran da zan amsa <br>  » <br> "
          ],
          [
           "agent_mlindelimm",
           " <br> @_africansoil president zuma preferred his then dp but the guy challenged him in mangaung and was hu <br> miliated 8020🤣 umsholozi wayazi kahle inyoka le <br>  <br> @_africansoil president zuma preferred his then dp but the guy challenged him in mangaung and was hu <br> miliated 8020🤣 umsholozi wayazi kahle inyoka le <br> "
          ],
          [
           "agent_mmididi69",
           " <br> @toffie27063537 @effsouthafrica @brieflyza @julius_s_malema well if he dont listen to me as a voter  <br> zuma will vote on my behalf <br>  <br> @toffie27063537 @effsouthafrica @brieflyza @julius_s_malema well if he dont listen to me as a voter  <br> zuma will vote on my behalf <br> "
          ],
          [
           "agent_moholomoatli",
           " <br> you are missing the point anc decision are taken at the nec meeting and zuma did not support the mov <br> e to remove thabo mbeki httpstcou1q2900wy6 <br>  <br> you are missing the point anc decision are taken at the nec meeting and zuma did not support the mov <br> e to remove thabo mbeki httpstcou1q2900wy6 <br> "
          ],
          [
           "agent_mokoka_tshepang",
           " <br> 😂😂😂 president zuma always had that thing🤣🤣🤣 httpstcoje2bkwzxp0 <br>  <br>  <br> 😂😂😂 president zuma always had that thing🤣🤣🤣 httpstcoje2bkwzxp0 <br>  <br> "
          ],
          [
           "agent_moloko_kb",
           " <br> @wealthycry yesterday all eff members hated jacob zuma today all eff members love zuma httpstcoac6s5 <br> mfppa <br>  <br> @wealthycry yesterday all eff members hated jacob zuma today all eff members love zuma httpstcoac6s5 <br> mfppa <br> "
          ],
          [
           "agent_molvizada",
           " <br> @zuma_ashna_razi yara pregda ae na waim lol <br>  <br>  <br> @zuma_ashna_razi yara pregda ae na waim lol <br>  <br> "
          ],
          [
           "agent_momo_chaaa_n2",
           " <br> @zuma_okemaru なちゃさんが追加してもらってるから大丈夫みたい！ よろしくお願いしまーす🙇‍♀️💗 <br>  <br>  <br> @zuma_okemaru なちゃさんが追加してもらってるから大丈夫みたい！ よろしくお願いしまーす🙇‍♀️💗 <br>  <br> "
          ],
          [
           "agent_monyane__lodge",
           " <br> guests had guests 🦚 📍belabela #skeemsaam #gomoramzanzi zuma ntokozo #deadbeats mazet #kingpie #etvsc <br> andal #etvscandal #mzaliwam #jobseekerssa thabo #djsbu simo #keadrive httpstcosgdfe1whdj <br>  <br> guests had guests 🦚 📍belabela #skeemsaam #gomoramzanzi zuma ntokozo #deadbeats mazet #kingpie #etvsc <br> andal #etvscandal #mzaliwam #jobseekerssa thabo #djsbu simo #keadrive httpstcosgdfe1whdj <br> "
          ],
          [
           "agent_moroke_thabo",
           " <br> @cheetahplains if you were an attorney would you shun such an opportunity think about it zuma and hi <br> s cohorts are there for the taking <br>  <br> @cheetahplains if you were an attorney would you shun such an opportunity think about it zuma and hi <br> s cohorts are there for the taking <br> "
          ],
          [
           "agent_mosesmazibuko3",
           " <br> mbeki was using npa to fight political battles ramaphosa is using justice dept to fight political ba <br> ttle the only people that are on zumas side is this group httpstco66ntqkl2we <br>  <br> mbeki was using npa to fight political battles ramaphosa is using justice dept to fight political ba <br> ttle the only people that are on zumas side is this group httpstco66ntqkl2we <br> "
          ],
          [
           "agent_mosola_73692",
           " <br> @dijosti can we add more lies about meeting umgodoyi 🙄 take legal action against the ex pp for relea <br> sing recordings exposing a rotten lying zuma <br>  <br> @dijosti can we add more lies about meeting umgodoyi 🙄 take legal action against the ex pp for relea <br> sing recordings exposing a rotten lying zuma <br> "
          ],
          [
           "agent_motema_bokang",
           " <br> @sthedotman @black_mathanda @bjpants60 @hloniphantswam @khandanim @gentlements 😂 im not even aware a <br> re you for real man i mean you being way out of scope here we were on about trevor not making jokes  <br> about cr i asked 1 question and mentioned everyone got their hidden skeletons atleast cr still respects the country unlike zuma did <br> @sthedotman @black_mathanda @bjpants60 @hloniphantswam @khandanim @gentlements 😂 im not even aware a <br> re you for real man i mean you being way out of scope here we were on about trevor not making jokes  <br> about cr i asked 1 question and mentioned everyone got their hidden skeletons atleast cr still respects the country unlike zuma did"
          ],
          [
           "agent_motshoanemabena",
           " <br> an anc ret member i dont take ramaphosa seriousi am waiting for nkosazana zuma and carl niehaus to c <br> onfirm whether its true that we are in level 2 httpstcofd2vsbvmhc <br>  <br> an anc ret member i dont take ramaphosa seriousi am waiting for nkosazana zuma and carl niehaus to c <br> onfirm whether its true that we are in level 2 httpstcofd2vsbvmhc <br> "
          ],
          [
           "agent_mphahlelemm",
           " <br> it is because the issues relating to a president of the country are constitutional in nature zuma is <br>  standing accused in the commission because he was a state president to capture the state the head o <br> f state must be involved httpstcogy4a9l09yv <br> it is because the issues relating to a president of the country are constitutional in nature zuma is <br>  standing accused in the commission because he was a state president to capture the state the head o <br> f state must be involved httpstcogy4a9l09yv"
          ],
          [
           "agent_mpholebeloane",
           " <br> @kabelodick @homeaffairssa @myanc zuma once said anc will rule till kindom come <br>  <br>  <br> @kabelodick @homeaffairssa @myanc zuma once said anc will rule till kindom come <br>  <br> "
          ],
          [
           "agent_mqondisi",
           " <br> @duduzane__zuma brain molefe did wonders today 🙌🙌🙌🙌😁 <br>  <br>  <br> @duduzane__zuma brain molefe did wonders today 🙌🙌🙌🙌😁 <br>  <br> "
          ],
          [
           "agent_mr_mawuli",
           " <br> @reginald_ankasa @knii_enoch na jacob zuma wey do that one ooo😂😂 <br>  <br>  <br> @reginald_ankasa @knii_enoch na jacob zuma wey do that one ooo😂😂 <br>  <br> "
          ],
          [
           "agent_mrlee_1",
           " <br> @ndlovupowen that will be the funniest moment ever in that kangaroo commission pretoriuss biggest as <br> signment is zumawe have all seen by now <br>  <br> @ndlovupowen that will be the funniest moment ever in that kangaroo commission pretoriuss biggest as <br> signment is zumawe have all seen by now <br> "
          ],
          [
           "agent_mrsono_",
           " <br> @donaldmathekga dlamini zuma has revolutionised every portfolio she has ever been a part of <br>  <br>  <br> @donaldmathekga dlamini zuma has revolutionised every portfolio she has ever been a part of <br>  <br> "
          ],
          [
           "agent_msigi_emotion",
           " <br> 1 whatever happened to zumas recusal application at high court why dont you start here also 2 whatev <br> er happened with the case to unseal cr17 bank statements 3 whatever happened to the case of secret v <br> ote to impeach cr httpstcozoakqmm8ff <br> 1 whatever happened to zumas recusal application at high court why dont you start here also 2 whatev <br> er happened with the case to unseal cr17 bank statements 3 whatever happened to the case of secret v <br> ote to impeach cr httpstcozoakqmm8ff"
          ],
          [
           "agent_msomi_nb",
           " <br> @nhlanhla_365 @melanin_mmaps @kgomo389 i say their silence because they used to make too much noise  <br> during the zuma era even for small stuff but under ramaphosa big things are happening and they chose <br>  to be quiet 🤔 i cant stress no more about their policies about foreigners straight up bvllshit 🚮 <br> @nhlanhla_365 @melanin_mmaps @kgomo389 i say their silence because they used to make too much noise  <br> during the zuma era even for small stuff but under ramaphosa big things are happening and they chose <br>  to be quiet 🤔 i cant stress no more about their policies about foreigners straight up bvllshit 🚮"
          ],
          [
           "agent_msyafiqn",
           " <br> pengen download game zuma kunjungi httpstcor2h7qnvze8 <br>  <br>  <br> pengen download game zuma kunjungi httpstcor2h7qnvze8 <br>  <br> "
          ],
          [
           "agent_mthuli4",
           " <br> @nkinga_ @karynmaughan shes angry that she gave a wrong report to her masters in stellenbosch that h <br> er lifetime projectzuma was finished only to find its only getting momentum in kwadakwadunuse <br>  <br> @nkinga_ @karynmaughan shes angry that she gave a wrong report to her masters in stellenbosch that h <br> er lifetime projectzuma was finished only to find its only getting momentum in kwadakwadunuse <br> "
          ],
          [
           "agent_musiwalomusiwal",
           " <br> follow me i will follow you back #djsbu #johannesburg #boksburg #kingzwelithini #zuma httpstcocmdzkk <br> ru6v <br>  <br> follow me i will follow you back #djsbu #johannesburg #boksburg #kingzwelithini #zuma httpstcocmdzkk <br> ru6v <br> "
          ],
          [
           "agent_mvelelizimba",
           " <br> @aldrinsampear @cathymohlahlana they lost me as voter for sureloved eff but mgxitama analysis eff me <br> eting with zuma was spot on <br>  <br> @aldrinsampear @cathymohlahlana they lost me as voter for sureloved eff but mgxitama analysis eff me <br> eting with zuma was spot on <br> "
          ],
          [
           "agent_mxolisiy",
           " <br> @madiboity sobukwe must be turning in his grave to be associated with zuma <br>  <br>  <br> @madiboity sobukwe must be turning in his grave to be associated with zuma <br>  <br> "
          ],
          [
           "agent_mylandyes",
           " <br> @ernstroets many anc cadres are sweating bullets that zuma will take them down dont be surprised whe <br> n the heat is on zuma meets with an untimely demise <br>  <br> @ernstroets many anc cadres are sweating bullets that zuma will take them down dont be surprised whe <br> n the heat is on zuma meets with an untimely demise <br> "
          ],
          [
           "agent_mzamogalore",
           " <br> people bought this account to push the zuma agenda httpstcok62dkj61xg <br>  <br>  <br> people bought this account to push the zuma agenda httpstcok62dkj61xg <br>  <br> "
          ],
          [
           "agent_mzitho_10",
           " <br> @advobarryroux how did zuma become president <br>  <br>  <br> @advobarryroux how did zuma become president <br>  <br> "
          ],
          [
           "agent_nacomusume",
           " <br> @zuma__nymm77 ツカレタツカレタヨ <br>  <br>  <br> @zuma__nymm77 ツカレタツカレタヨ <br>  <br> "
          ],
          [
           "agent_naqibahw",
           " <br> look how yall can catch ordinary people quick but yall let zuma make a joke of our justice system ht <br> tpstcozalrf5hwio <br>  <br> look how yall can catch ordinary people quick but yall let zuma make a joke of our justice system ht <br> tpstcozalrf5hwio <br> "
          ],
          [
           "agent_narumi_usui",
           " <br> @guitarist_zuma おめでとう🍾🎊🎉 httpstco1rtb1hrcrg <br>  <br>  <br> @guitarist_zuma おめでとう🍾🎊🎉 httpstco1rtb1hrcrg <br>  <br> "
          ],
          [
           "agent_ncalankosinathi",
           " <br> south african kingship african national congress nelson mandela primary spouse garca machel thabo mb <br> eki primary spouse zanele dlamini mbeki jacob zuma spouse gertrude sizakele khumalo walter sisulu sp <br> ouse albertina sisulu oliver tambo spouse adelaide tambo httpstcoivrr9zbnyx <br> south african kingship african national congress nelson mandela primary spouse garca machel thabo mb <br> eki primary spouse zanele dlamini mbeki jacob zuma spouse gertrude sizakele khumalo walter sisulu sp <br> ouse albertina sisulu oliver tambo spouse adelaide tambo httpstcoivrr9zbnyx"
          ],
          [
           "agent_ndingu_ta_yam",
           " <br> @duduzane__zuma this guy here forgets he was a money funnel during his fathers tenure as president <br>  <br>  <br> @duduzane__zuma this guy here forgets he was a money funnel during his fathers tenure as president <br>  <br> "
          ],
          [
           "agent_nekare_",
           " <br> @el_zuma_ si se está levantando el asfalto sí <br>  <br>  <br> @el_zuma_ si se está levantando el asfalto sí <br>  <br> "
          ],
          [
           "agent_nevhulaudzipas1",
           " <br> @ndevhetsini ubva vondwe matatshe block 4nne ndivhona vhana mbuno ngauri vho jacob zuma vhono hulela <br>  mulayo wa fhano vha vhoto jia heli shango li lavho zwine zwikho shonisa nne ndi ima na vha dzangano <br>  la dzikereke <br> @ndevhetsini ubva vondwe matatshe block 4nne ndivhona vhana mbuno ngauri vho jacob zuma vhono hulela <br>  mulayo wa fhano vha vhoto jia heli shango li lavho zwine zwikho shonisa nne ndi ima na vha dzangano <br>  la dzikereke"
          ],
          [
           "agent_news24",
           " <br> httpstcoby0kbr5hqv zuma wants to see justice being done for all south africans says mzwanele manyi h <br> ttpstcopdc4vlsz92 <br>  <br> httpstcoby0kbr5hqv zuma wants to see justice being done for all south africans says mzwanele manyi h <br> ttpstcopdc4vlsz92 <br> "
          ],
          [
           "agent_newsafricanow",
           " <br> there was no intention by zuma to undermine sas constitution anc httpstco2wfh2me129 <br>  <br>  <br> zumas refusal to appear at state capture inquiry could have serious political implications sacc http <br> stcoqvbgcamdc4 <br>  <br> there was no intention by zuma to undermine sas constitution anc httpstco2wfh2me129 <br>  <br>  <br> zumas refusal to appear at state capture inquiry could have serious political implications sacc http <br> stcoqvbgcamdc4 <br> "
          ],
          [
           "agent_nexus_20th",
           " <br> @abby_kooo @zuma_oripa あの小さいカップに水を入れ、 持って行きたいとねだる子たちにこぼすのを分かっていて渡す恐怖がわかるか！！w <br>  <br>  <br> @abby_kooo @zuma_oripa あの小さいカップに水を入れ、 持って行きたいとねだる子たちにこぼすのを分かっていて渡す恐怖がわかるか！！w <br>  <br> "
          ],
          [
           "agent_nghamulab",
           " <br> if i found guilty it means i can easily defy a court order and my reference will be the former presi <br> dent #zuma <br>  <br> if i found guilty it means i can easily defy a court order and my reference will be the former presi <br> dent #zuma <br> "
          ],
          [
           "agent_nhleiks5",
           " <br> @plmyburgh @dailymaverick is mkhize your new zuma 🤣🤣🤣 <br>  <br>  <br> @plmyburgh @dailymaverick is mkhize your new zuma 🤣🤣🤣 <br>  <br> "
          ],
          [
           "agent_nickymi50637242",
           " <br> bjale ka ge zuma e le chief le ramaphosa e le chief nkane ba sa bolele polelo e tee <br>  <br>  <br> bjale ka ge zuma e le chief le ramaphosa e le chief nkane ba sa bolele polelo e tee <br>  <br> "
          ],
          [
           "agent_nicoleonneile",
           " <br> @randoboe @babeswamakeys @diegochuene do you think malema or zuma wouldve done any better dont be st <br> upid <br>  <br> @randoboe @babeswamakeys @diegochuene do you think malema or zuma wouldve done any better dont be st <br> upid <br> "
          ],
          [
           "agent_niklosstephan",
           " <br> httpstcot5v7cvey1e <br>  <br>  <br> httpstcot5v7cvey1e <br>  <br> "
          ],
          [
           "agent_nishipapa1",
           " <br> @zuma_oripa 少額なら外しても許してくれますよね？笑 <br>  <br>  <br> @zuma_oripa 少額なら外しても許してくれますよね？笑 <br>  <br> "
          ],
          [
           "agent_nkanyisohhhh",
           " <br> @realitystriker @hadebem2 @msigi_emotion so u would rather allow the law to be fucked up to prove th <br> at zuma is not above the law <br>  <br> @realitystriker @hadebem2 @msigi_emotion so u would rather allow the law to be fucked up to prove th <br> at zuma is not above the law <br> "
          ],
          [
           "agent_nkatekosibs",
           " <br> i truly believe we stood more chance of reversing the ills of apartheid with #zuma than with #cyril  <br> but i cant be deaf to the monies that have been lost in the process there is the good initiatives an <br> d the bad that we must engage on <br> i truly believe we stood more chance of reversing the ills of apartheid with #zuma than with #cyril  <br> but i cant be deaf to the monies that have been lost in the process there is the good initiatives an <br> d the bad that we must engage on"
          ],
          [
           "agent_nkosiemlaba",
           " <br> @cyrilzuma u zuma umsholozi indoda danko is thank you nxamalala <br>  <br>  <br> @cyrilzuma u zuma umsholozi indoda danko is thank you nxamalala <br>  <br> "
          ],
          [
           "agent_nkululekonicho4",
           " <br> @mzwandilemasina @julius_s_malema @presjgzuma mzwandile masina will forever embraces zuma even thoug <br> h we need to move forward you will never be able to a leader for life <br>  <br> @mzwandilemasina @julius_s_malema @presjgzuma mzwandile masina will forever embraces zuma even thoug <br> h we need to move forward you will never be able to a leader for life <br> "
          ],
          [
           "agent_nmoneedinkuli",
           " <br> @african_spring you guys are dreamingthere are no more news in this country you hear a story there a <br> nd there about corruptionwe wouldnt have been investigating ppe if it werent for pietyour media cant <br>  expose the owner like they did zumameaning cyril so eff is newsat least jz case helps <br> @african_spring you guys are dreamingthere are no more news in this country you hear a story there a <br> nd there about corruptionwe wouldnt have been investigating ppe if it werent for pietyour media cant <br>  expose the owner like they did zumameaning cyril so eff is newsat least jz case helps"
          ],
          [
           "agent_nntombi_nkosi",
           " <br> breaking news in a late night announcement on saturday western cape judge president judge john hloph <br> e has been found guilty of trying to improperly influence two judges to rule in favour of former pre <br> sident jacob zuma <br> breaking news in a late night announcement on saturday western cape judge president judge john hloph <br> e has been found guilty of trying to improperly influence two judges to rule in favour of former pre <br> sident jacob zuma"
          ],
          [
           "agent_noahginting",
           " <br> @syaripova @hurybem_ @idextratime @nizaarkinsella bener bnget stuju untuk 3 line belakang chrissilva <br> rudi utk zuma yg sering panikan padhal udah lama di epl sprtinya pntas utk di jual n beli pemain ses <br> uai keinginan tuchel <br> @syaripova @hurybem_ @idextratime @nizaarkinsella bener bnget stuju untuk 3 line belakang chrissilva <br> rudi utk zuma yg sering panikan padhal udah lama di epl sprtinya pntas utk di jual n beli pemain ses <br> uai keinginan tuchel"
          ],
          [
           "agent_noticiaaominuto",
           " <br> jacob zuma recusa depor sobre corrupção no seu mandato httpstcoqaag0cmhzp #mundoaominuto <br>  <br>  <br> jacob zuma recusa depor sobre corrupção no seu mandato httpstcoqaag0cmhzp #mundoaominuto <br>  <br> "
          ],
          [
           "agent_noxman_gumula",
           " <br> as long the media is busy entertaining #zuma believe me you he will give them a good show <br>  <br>  <br> as long the media is busy entertaining #zuma believe me you he will give them a good show <br>  <br> "
          ],
          [
           "agent_nqubekomlaba1",
           " <br> @superiorzulu ey we have no one but ourselves as citizens of this country these criminals are protec <br> ting each other if it were zuma who is exposedthere would be a number of statements circulating righ <br> t now we are watching them <br> @superiorzulu ey we have no one but ourselves as citizens of this country these criminals are protec <br> ting each other if it were zuma who is exposedthere would be a number of statements circulating righ <br> t now we are watching them"
          ],
          [
           "agent_ntsekisang",
           " <br> @niehaus_carl but you were rallying behind zuma 💁‍♂️ <br>  <br>  <br> @niehaus_carl but you were rallying behind zuma 💁‍♂️ <br>  <br> "
          ],
          [
           "agent_ntsimbi17",
           " <br> @nontolotyi no propaganda zuma is charged for allegedly receiving a bribe and not for soliciting it  <br> even that is a mystery <br>  <br> @sodlabehlezi2 @mmusimaimane shabir shaik is at home he says he is not going to waste his time and t <br> estify he knows that zuma is facing trumped up charges <br>  <br> @nontolotyi no propaganda zuma is charged for allegedly receiving a bribe and not for soliciting it  <br> even that is a mystery <br>  <br> @sodlabehlezi2 @mmusimaimane shabir shaik is at home he says he is not going to waste his time and t <br> estify he knows that zuma is facing trumped up charges <br> "
          ],
          [
           "agent_numamobu",
           " <br> @k_zuma_p 毎回ハラハラして読んでます！文字も書けるのすごすぎますありがとうございます！続き、楽しみにしています😭🙏✨ <br>  <br>  <br> @k_zuma_p 毎回ハラハラして読んでます！文字も書けるのすごすぎますありがとうございます！続き、楽しみにしています😭🙏✨ <br>  <br> "
          ],
          [
           "agent_numbaonehustla",
           " <br> @montshoo @samkelemaseko @thuthu_zuma @majavuthabiso he wants a spokesperson job like his friend the <br> re at eskom <br>  <br> @montshoo @samkelemaseko @thuthu_zuma @majavuthabiso he wants a spokesperson job like his friend the <br> re at eskom <br> "
          ],
          [
           "agent_nyashacollin",
           " <br> @bully_zw zuma😂😂😂 <br>  <br>  <br> @bully_zw zuma😂😂😂 <br>  <br> "
          ],
          [
           "agent_o_haruuu33",
           " <br> @zuma_owo それはつらみちゃん <br>  <br>  <br> @zuma_owo それはつらみちゃん <br>  <br> "
          ],
          [
           "agent_opportunity_tws",
           " <br> @sangelodonga @kellzmtshumeni mkhonto is not as strong as you think zuma will be arrested by the sta <br> te not the anc <br>  <br> @sangelodonga @kellzmtshumeni mkhonto is not as strong as you think zuma will be arrested by the sta <br> te not the anc <br> "
          ],
          [
           "agent_outkassst",
           " <br> @sandileskhosi downer was feeding media information about case so they can create a particular narra <br> tive the possibility however remote that he is conflicted and will be impartial exists zuma withdrew <br>  initial angle that he merely felt downer hates him didnt push this one he will now <br> @sandileskhosi downer was feeding media information about case so they can create a particular narra <br> tive the possibility however remote that he is conflicted and will be impartial exists zuma withdrew <br>  initial angle that he merely felt downer hates him didnt push this one he will now"
          ],
          [
           "agent_peeeeeehai",
           " <br> @zuma_game_ooo 二郎 <br>  <br>  <br> @zuma_game_ooo 二郎 <br>  <br> "
          ],
          [
           "agent_peekaybear",
           " <br> im almost certain zuma is living his best life enkandla with the rain in kzn while he hardly hears i <br> t because he took it upon himself to make his home as comfortable as it can be away from the chaos # <br> istan <br> im almost certain zuma is living his best life enkandla with the rain in kzn while he hardly hears i <br> t because he took it upon himself to make his home as comfortable as it can be away from the chaos # <br> istan"
          ],
          [
           "agent_peetc42",
           " <br> @bita33088889 arrest dlaminizuma for contempt of court httpstcolufwhaxftn <br>  <br>  <br> @bita33088889 arrest dlaminizuma for contempt of court httpstcolufwhaxftn <br>  <br> "
          ],
          [
           "agent_pelemurulane",
           " <br> @lavitosoul so we can hear zumas side of the story if they arrest him we will never hear his side th <br> e aim here is to get to the truth the omotoso trial was restarted because the judges wife owned the  <br> guesthouse witnesses stayed at now a former friend of zuma must preside here <br> @lavitosoul so we can hear zumas side of the story if they arrest him we will never hear his side th <br> e aim here is to get to the truth the omotoso trial was restarted because the judges wife owned the  <br> guesthouse witnesses stayed at now a former friend of zuma must preside here"
          ],
          [
           "agent_petlwanentabs",
           " <br> @lesibadj @maxpolmof @_africansoil tell me ive i dont understand english well because the person who <br>  is behind the establishment of the commission is saying zuma is the reason commission is establishe <br> d httpstcozhmalkib5d <br> @lesibadj @maxpolmof @_africansoil tell me ive i dont understand english well because the person who <br>  is behind the establishment of the commission is saying zuma is the reason commission is establishe <br> d httpstcozhmalkib5d"
          ],
          [
           "agent_phalane67253308",
           " <br> @alokkodoke @daddyhope it does not matter if u r in a hurry next 10 years mnangagwa is president cyr <br> il is left with 6 years after mnangagwa there is another mampara coming in chamisa will never b pres <br> ident anytime soon unless u kill mnangagwa after cyril we r having another zuma <br> @alokkodoke @daddyhope it does not matter if u r in a hurry next 10 years mnangagwa is president cyr <br> il is left with 6 years after mnangagwa there is another mampara coming in chamisa will never b pres <br> ident anytime soon unless u kill mnangagwa after cyril we r having another zuma"
          ],
          [
           "agent_phokamasaka",
           " <br> @superiorzulu you are better than zuma the looter president cyril <br>  <br>  <br> @superiorzulu you are better than zuma the looter president cyril <br>  <br> "
          ],
          [
           "agent_phumeeh_p",
           " <br> baba credo mutwa warned us he said zuma will fall malema will rise and lastly the country will be le <br> d by whites did we listen no namadlozi akhathele we never learn we never listen atleast i tried and  <br> voted for blf <br> baba credo mutwa warned us he said zuma will fall malema will rise and lastly the country will be le <br> d by whites did we listen no namadlozi akhathele we never learn we never listen atleast i tried and  <br> voted for blf"
          ],
          [
           "agent_pnmaster_",
           " <br> zuma dumped us on this day 3 years ago #happyvalentinesday2021 <br>  <br>  <br> zuma dumped us on this day 3 years ago #happyvalentinesday2021 <br>  <br> "
          ],
          [
           "agent_pora_manoto",
           " <br> @andilemlondo @ramalokot no free education from zuma just political grandstanding even the timing wa <br> s just meant to influence the outcome of the nasrec and we saw that it was a crisis <br>  <br> @andilemlondo @ramalokot no free education from zuma just political grandstanding even the timing wa <br> s just meant to influence the outcome of the nasrec and we saw that it was a crisis <br> "
          ],
          [
           "agent_potassiumedge",
           " <br> @wesleyf17134866 @samkelemaseko @ferialhaffajee @julius_s_malema he did say he would kill for zuma m <br> aybe hes going to fulfill his promise <br>  <br> @wesleyf17134866 @samkelemaseko @ferialhaffajee @julius_s_malema he did say he would kill for zuma m <br> aybe hes going to fulfill his promise <br> "
          ],
          [
           "agent_powerfm987",
           " <br> zuma refuses to provide affidavit to suggest his punishment if found guilty httpstcoqfarncw7ab https <br> tcoccc1vxbjb1 <br>  <br> zuma refuses to provide affidavit to suggest his punishment if found guilty httpstcoqfarncw7ab https <br> tcoccc1vxbjb1 <br> "
          ],
          [
           "agent_profmahlangu",
           " <br> well received president jacob zuma has no time for rubbish httpstcoaneqdp3tfb httpstcodcxvvkcznf <br>  <br>  <br> well received president jacob zuma has no time for rubbish httpstcoaneqdp3tfb httpstcodcxvvkcznf <br>  <br> "
          ],
          [
           "agent_pulane_nakedi",
           " <br> @zuma_42500 @artii_m httpstcotopfren7yc <br>  <br>  <br> @zuma_42500 @artii_m httpstcotopfren7yc <br>  <br> "
          ],
          [
           "agent_putsansfirst",
           " <br> @qwekiewiet @newhorizanman @duduzane__zuma why should i ask about a white myth httpstcoy9ymbkaynt <br>  <br>  <br> @qwekiewiet @newhorizanman @duduzane__zuma why should i ask about a white myth httpstcoy9ymbkaynt <br>  <br> "
          ],
          [
           "agent_qina37994244",
           " <br> what is this now first you hate president zuma with passion bt you still want exclusive tv right of  <br> the #zumatrial hai i think zuma is being hated by bunch of dangerous retards httpstcoox8wcrpfxp <br>  <br> what is this now first you hate president zuma with passion bt you still want exclusive tv right of  <br> the #zumatrial hai i think zuma is being hated by bunch of dangerous retards httpstcoox8wcrpfxp <br> "
          ],
          [
           "agent_r_k_ee_r",
           " <br> @zuma_hero それいいね <br>  <br>  <br> @zuma_hero それいいね <br>  <br> "
          ],
          [
           "agent_rabza8488",
           " <br> @irvinjimsa same mistake u did going to polokwane u dont admit reality and workers get compromised b <br> ecause u are looking at popularity going to polokwane u were singing zuma is hero after workers get  <br> into a mess u cant admit u put them under the bus <br> @irvinjimsa same mistake u did going to polokwane u dont admit reality and workers get compromised b <br> ecause u are looking at popularity going to polokwane u were singing zuma is hero after workers get  <br> into a mess u cant admit u put them under the bus"
          ],
          [
           "agent_ramthando",
           " <br> @khwezi_shange @trevoz @mmodiba10 they are the ones who said they are targeted because of articulati <br> ng ret policies they termed themselves and the media labelled them as such in the anc we know they a <br> re a faction that is a beneficiary of the zuma era and most dont want to relinquish their deployed posts <br> @khwezi_shange @trevoz @mmodiba10 they are the ones who said they are targeted because of articulati <br> ng ret policies they termed themselves and the media labelled them as such in the anc we know they a <br> re a faction that is a beneficiary of the zuma era and most dont want to relinquish their deployed posts"
          ],
          [
           "agent_ravenmind",
           " <br> river tapes zuma dionys remix httpstcouinoa7rlsq <br>  <br>  <br> river tapes zuma dionys remix httpstcouinoa7rlsq <br>  <br> "
          ],
          [
           "agent_realcomfy2",
           " <br> httpstcogmrqchl2cp <br>  <br>  <br> httpstcogmrqchl2cp <br>  <br> "
          ],
          [
           "agent_realitystriker",
           " <br> @mithisa_motho @dumi18247646 @ramthando @kgomo389 yet its zuma funding de kock hmmm <br>  <br>  <br> @goolammv @errolbsk @kgomo389 like when she said zuma is going to russia 😀😂😂😂 <br>  <br>  <br> @mithisa_motho @dumi18247646 @ramthando @kgomo389 yet its zuma funding de kock hmmm <br>  <br>  <br> @goolammv @errolbsk @kgomo389 like when she said zuma is going to russia 😀😂😂😂 <br>  <br> "
          ],
          [
           "agent_rgrsa",
           " <br> the moment he said zuma also knew about it i knew who took it 😂 httpstcomxi0m0sd4c <br>  <br>  <br> the moment he said zuma also knew about it i knew who took it 😂 httpstcomxi0m0sd4c <br>  <br> "
          ],
          [
           "agent_riseupafrica101",
           " <br> @mithisa_motho @enockay come here you idiot and bring zumas charge sheet with httpstcom7q7kxhrfu <br>  <br>  <br> @mithisa_motho @enockay come here you idiot and bring zumas charge sheet with httpstcom7q7kxhrfu <br>  <br> "
          ],
          [
           "agent_rodovirtual",
           " <br> @ayomiepat_ this thing be like slab oo🤕wtf zuma rock <br>  <br>  <br> @ayomiepat_ this thing be like slab oo🤕wtf zuma rock <br>  <br> "
          ],
          [
           "agent_romancabanac",
           " <br> at 30 julius bowed to zuma at 35 he was swearing at zuma at 40 he is having tea with zuma my present <br>  to juju on his birthday httpstco3zfemitw6k <br>  <br> at 30 julius bowed to zuma at 35 he was swearing at zuma at 40 he is having tea with zuma my present <br>  to juju on his birthday httpstco3zfemitw6k <br> "
          ],
          [
           "agent_roseisland0919",
           " <br> @zuma_koze6 僕も勝てました！さすが主任ですね <br>  <br>  <br> @zuma_koze6 僕も勝てました！さすが主任ですね <br>  <br> "
          ],
          [
           "agent_rycekum",
           " <br> @otis_jenkins1 facts jacob zuma tried to be racist by hiring black ceos in soes he understood that i <br> n order to take over the economy youve got to be racist hell forever be my goat <br>  <br> @otis_jenkins1 facts jacob zuma tried to be racist by hiring black ceos in soes he understood that i <br> n order to take over the economy youve got to be racist hell forever be my goat <br> "
          ],
          [
           "agent_safmradio",
           " <br> now the constitutional court will tomorrow hear an application for former president jacob zuma to be <br>  jailed for two years if he is found guilty of contempt of court professor pierre de vos speaks to @ <br> aldrinsampear on #safmbth <br> podcast the radical economic transformation champions believe that former president zuma is being tr <br> eated unfairly by the state capture commission earlier on #safmsunrise with @stephengrootes spoke to <br>  nkosentsha shezi listen here httpstcozjprtfe0ft <br> now the constitutional court will tomorrow hear an application for former president jacob zuma to be <br>  jailed for two years if he is found guilty of contempt of court professor pierre de vos speaks to @ <br> aldrinsampear on #safmbth <br> podcast the radical economic transformation champions believe that former president zuma is being tr <br> eated unfairly by the state capture commission earlier on #safmsunrise with @stephengrootes spoke to <br>  nkosentsha shezi listen here httpstcozjprtfe0ft"
          ],
          [
           "agent_sakurex_midzy",
           " <br> @itzy_zuma 盲点！その手があった〜！ <br>  <br>  <br> @itzy_zuma 盲点！その手があった〜！ <br>  <br> "
          ],
          [
           "agent_samukele_",
           " <br> @ta_fitty nonpirates players that i really enjoyed feared watching jabu pule yerrr that boy was gold <br>  siyabonga nomvethe at chiefs sibusiso zuma at african wanderers phumlani mkhize at african wanderer <br> s itumeleng khune christopher nedzidzevhe ntokozo sikhakhane sandile ndlovu <br> @ta_fitty nonpirates players that i really enjoyed feared watching jabu pule yerrr that boy was gold <br>  siyabonga nomvethe at chiefs sibusiso zuma at african wanderers phumlani mkhize at african wanderer <br> s itumeleng khune christopher nedzidzevhe ntokozo sikhakhane sandile ndlovu"
          ],
          [
           "agent_sangxa",
           " <br> during the 9 wasted years zuma was propped up by @myanc now during a pandemic an @myanc government i <br> s nkazathing for a vaccine <br>  <br> during the 9 wasted years zuma was propped up by @myanc now during a pandemic an @myanc government i <br> s nkazathing for a vaccine <br> "
          ],
          [
           "agent_sarcasticjohn3",
           " <br> @rasematse2 @vhasetha_mrt @samkelemaseko the strategy is called technical reverse mental psychology  <br> not many knows how to implement it zuma does <br>  <br> @rasematse2 @vhasetha_mrt @samkelemaseko the strategy is called technical reverse mental psychology  <br> not many knows how to implement it zuma does <br> "
          ],
          [
           "agent_sarepublican",
           " <br> @jvanlogg @sundayworldza you post this drivel with enthusiasm the real estate or communal land does  <br> not belong to zuma and he has not title deed over it pure rubbish <br>  <br> @jvanlogg @sundayworldza you post this drivel with enthusiasm the real estate or communal land does  <br> not belong to zuma and he has not title deed over it pure rubbish <br> "
          ],
          [
           "agent_saviour30541083",
           " <br> @xngubo @bantuholomisa they will never say anything about cyril or pravin but powerless old man pres <br> ident zuma <br>  <br> @xngubo @bantuholomisa they will never say anything about cyril or pravin but powerless old man pres <br> ident zuma <br> "
          ],
          [
           "agent_sbonelo10211776",
           " <br> @paulivw you people are not getting it eff praised mbeki and supported everyone in his coner when th <br> ey were fighting zuma same trick is being applied here against ramaphosa all they want is to divide  <br> the anc and they are winning somehow <br> @paulivw you people are not getting it eff praised mbeki and supported everyone in his coner when th <br> ey were fighting zuma same trick is being applied here against ramaphosa all they want is to divide  <br> the anc and they are winning somehow"
          ],
          [
           "agent_sbootelazy",
           " <br> @mrhandsome_za @duduzane__zuma yoooooooooo😍 <br>  <br>  <br> @mrhandsome_za @duduzane__zuma yoooooooooo😍 <br>  <br> "
          ],
          [
           "agent_sbutiko",
           " <br> @mark_boikanyo @thuso1africa @duduzane__zuma we all know what is anc doing you keep on dodging my qu <br> estion whos is better than anc be specific so that we can vote for that party stop beating around th <br> e bush <br> @mark_boikanyo @thuso1africa @duduzane__zuma we all know what is anc doing you keep on dodging my qu <br> estion whos is better than anc be specific so that we can vote for that party stop beating around th <br> e bush"
          ],
          [
           "agent_scarybeautylove",
           " <br> actually we must thank zuma umsholozi for exposing this fake so called democracythe more they attack <br>  zuma the more they reveal themselveswe now know where to direct our fights to thanks to ubabawe now <br>  know who are the real enemies of the people who hide under democracy <br> actually we must thank zuma umsholozi for exposing this fake so called democracythe more they attack <br>  zuma the more they reveal themselveswe now know where to direct our fights to thanks to ubabawe now <br>  know who are the real enemies of the people who hide under democracy"
          ],
          [
           "agent_scoopy_music",
           " <br> @leemelza @iamayo_zuma yaz nizo shona nina <br>  <br>  <br> @leemelza @iamayo_zuma yaz nizo shona nina <br>  <br> "
          ],
          [
           "agent_sdu_mpembe",
           " <br> @duduzane__zuma ufunani ezindabeni ezingakufuni duduzane httpstcojqpq7sf7en <br>  <br>  <br> @duduzane__zuma ufunani ezindabeni ezingakufuni duduzane httpstcojqpq7sf7en <br>  <br> "
          ],
          [
           "agent_sechaba47018802",
           " <br> @unclegeepee1 @dzumasambudla @presjgzuma he thrives on ignorance of the people by the way those peop <br> le are bussed in the anc support was diminishing during election times under zuma go see the history <br>  on iec <br> @unclegeepee1 @dzumasambudla @presjgzuma he thrives on ignorance of the people by the way those peop <br> le are bussed in the anc support was diminishing during election times under zuma go see the history <br>  on iec"
          ],
          [
           "agent_secretmessagefs",
           " <br> to @gdbtjh_ from mermet 💗 be happy kodok zuma <br>  <br>  <br> to @gdbtjh_ from mermet 💗 be happy kodok zuma <br>  <br> "
          ],
          [
           "agent_selected_images",
           " <br> march 8 2021 beirut beirut lebanon credit image © haitham moussawiapa images via zuma wire image ava <br> ilable at httpstcoawkfzqbh7r for rm license #selectedimagescom #bestpicoftheday #pictureoftheday #da <br> ilynews #news #beirut #lebanon #economy #protests #poverty httpstcohjkat6u4ra <br> march 8 2021 beirut beirut lebanon credit image © haitham moussawiapa images via zuma wire image ava <br> ilable at httpstcoawkfzqbh7r for rm license #selectedimagescom #bestpicoftheday #pictureoftheday #da <br> ilynews #news #beirut #lebanon #economy #protests #poverty httpstcohjkat6u4ra"
          ],
          [
           "agent_senwamadi_kg",
           " <br> @lethofb @mbokazi_sipho @patbafo 1st term none they left and formed cope an attempt by montlante did <br> nt have enough numbers malemas explusion to neutralise any strong holds the ancyl had 2nd term enter <br>  cyril then the rightwing had a face and numbers we all know that cr was part of zuma presidency <br> @lethofb @mbokazi_sipho @patbafo 1st term none they left and formed cope an attempt by montlante did <br> nt have enough numbers malemas explusion to neutralise any strong holds the ancyl had 2nd term enter <br>  cyril then the rightwing had a face and numbers we all know that cr was part of zuma presidency"
          ],
          [
           "agent_sgoloza85194900",
           " <br> @siphiwe17511230 @iamnjabfelxu @dailymaverick @duduzane__zuma this is why africa will always be poor <br>  while the rest of the world moves forward the way that you praise people who steal from you and sti <br> fle your own development is mindboggling 😄 <br> @siphiwe17511230 @iamnjabfelxu @dailymaverick @duduzane__zuma this is why africa will always be poor <br>  while the rest of the world moves forward the way that you praise people who steal from you and sti <br> fle your own development is mindboggling 😄"
          ],
          [
           "agent_sibongile_sq",
           " <br> @outasa a sound analysis as we wait for zuma to respond <br>  <br>  <br> @outasa a sound analysis as we wait for zuma to respond <br>  <br> "
          ],
          [
           "agent_sifiso____",
           " <br> how did it come that malusi gigaba and president zuma clash or why did gigaba betrayed president zum <br> a thats kind of questions i was waiting for not this boring love story eyy norma <br>  <br> how did it come that malusi gigaba and president zuma clash or why did gigaba betrayed president zum <br> a thats kind of questions i was waiting for not this boring love story eyy norma <br> "
          ],
          [
           "agent_sinaibernard",
           " <br> @thisismduh @advobarryroux i dont see zuma in the video <br>  <br>  <br> @thisismduh @advobarryroux i dont see zuma in the video <br>  <br> "
          ],
          [
           "agent_siphiwe11530440",
           " <br> @sithalekgaogelo nelson was 18 years older than winnie robert mugabe was 40 years older than grace j <br> g zuma impregnated a 26 year old theres nothing wrong if a 30 year old man dates a 20 year old woman <br>  to you its wrong but its been happening for centuries and its nature <br> @sithalekgaogelo nelson was 18 years older than winnie robert mugabe was 40 years older than grace j <br> g zuma impregnated a 26 year old theres nothing wrong if a 30 year old man dates a 20 year old woman <br>  to you its wrong but its been happening for centuries and its nature"
          ],
          [
           "agent_sirgrenn",
           " <br> @sabcnews you are listening to brian molefe one off the kingpins of state capture a zuma boy but if  <br> there us eveidencd that our honourable president is involved he must face the music but mabuza is ta <br> inted as well omg <br> @sabcnews you are listening to brian molefe one off the kingpins of state capture a zuma boy but if  <br> there us eveidencd that our honourable president is involved he must face the music but mabuza is ta <br> inted as well omg"
          ],
          [
           "agent_sithembiso17",
           " <br> mr bheki cele will be visiting nkandla today he also wants to drink tea with former president jacob  <br> zuma #beinformed httpstcosrrwg1gyy9 <br>  <br> mr bheki cele will be visiting nkandla today he also wants to drink tea with former president jacob  <br> zuma #beinformed httpstcosrrwg1gyy9 <br> "
          ],
          [
           "agent_siyamfundisi",
           " <br> @siphombanjwa5 zuma family has made many people to be relevant most special to zuma family haters an <br> y person who make statements about zuma family always get many likes like this guy just made a stupi <br> d comment ended up getting many likes <br> @siphombanjwa5 zuma family has made many people to be relevant most special to zuma family haters an <br> y person who make statements about zuma family always get many likes like this guy just made a stupi <br> d comment ended up getting many likes"
          ],
          [
           "agent_siyangaphis",
           " <br> #sigiyangengoma @zimiphib1 inkos yamagcokama lungisani ntenjena zuma edundee mcilo guitar mkhize @uk <br> hozi_fm <br>  <br> #sigiyangengoma @zimiphib1 inkos yamagcokama lungisani ntenjena zuma edundee mcilo guitar mkhize @uk <br> hozi_fm <br> "
          ],
          [
           "agent_sizwe81798035",
           " <br> @_africansoil karima brown hated zuma with passion she constantly made up stories about zuma she wou <br> ld add zumas name in everything and its good shes dead <br>  <br> @_africansoil karima brown hated zuma with passion she constantly made up stories about zuma she wou <br> ld add zumas name in everything and its good shes dead <br> "
          ],
          [
           "agent_sizwe98698991",
           " <br> @_africansoil i just wonder what was carl niehaus misconductmbalula insulted president zuma and said <br>  i am not afraid of zuma i am not afraid of adv mkhwebana nothing happenedderrick hanekom conspired  <br> with eff till today nothinglast week nje carl suspendedwosh bo ukuthi ama branch <br> @_africansoil i just wonder what was carl niehaus misconductmbalula insulted president zuma and said <br>  i am not afraid of zuma i am not afraid of adv mkhwebana nothing happenedderrick hanekom conspired  <br> with eff till today nothinglast week nje carl suspendedwosh bo ukuthi ama branch"
          ],
          [
           "agent_skopas7",
           " <br> @eusebius zuma knows very well where he stands with this commission paragraph 16 clearly shows that  <br> with this commission he is doomed if he does participate he is doomed again if he doesnt participate <br>  <br> @eusebius zuma knows very well where he stands with this commission paragraph 16 clearly shows that  <br> with this commission he is doomed if he does participate he is doomed again if he doesnt participate <br> "
          ],
          [
           "agent_soyneonormal",
           " <br> @el_zuma_ @yatedigoyoque a ver que yo ya negaba los buenos días antes de venirme aquí un poquito de  <br> por favor <br>  <br> @el_zuma_ @yatedigoyoque a ver que yo ya negaba los buenos días antes de venirme aquí un poquito de  <br> por favor <br> "
          ],
          [
           "agent_stalinspears",
           " <br> meu deus o final de thriller bark com esse tal de corsário zuma tá muito fodaaaa aaaaaaa <br>  <br>  <br> meu deus o final de thriller bark com esse tal de corsário zuma tá muito fodaaaa aaaaaaa <br>  <br> "
          ],
          [
           "agent_stats4mylife",
           " <br> prayer for today father thank you for the good plan you have for me thank you for your word which tr <br> ansforms me into your image i choose to trust i choose to believe and i choose to follow your word w <br> hich is life to my soul in jesus name #urbancruiser jacob zuma #witsasinamali <br> prayer for today father thank you for the good plan you have for me thank you for your word which tr <br> ansforms me into your image i choose to trust i choose to believe and i choose to follow your word w <br> hich is life to my soul in jesus name #urbancruiser jacob zuma #witsasinamali"
          ],
          [
           "agent_sthembiso_rsa",
           " <br> @wothijiba this whole zuma saga is politics dressed as lawany honest person can see that <br>  <br>  <br> @wothijiba this whole zuma saga is politics dressed as lawany honest person can see that <br>  <br> "
          ],
          [
           "agent_stimela_mgazi",
           " <br> @ramalokot @niehaus_carl i guess due to how things were happening pees zuma did not notice the hand  <br> from cde niehaus because there is not way he would not have shake it <br>  <br> @ramalokot @niehaus_carl i guess due to how things were happening pees zuma did not notice the hand  <br> from cde niehaus because there is not way he would not have shake it <br> "
          ],
          [
           "agent_stuartlowman",
           " <br> flash briefing ace suspended zuma could be next anc sars vows to nail anc for paye tax dodge new cov <br> id strains sweep africa httpstcouj6gmtypr5 <br>  <br> flash briefing ace suspended zuma could be next anc sars vows to nail anc for paye tax dodge new cov <br> id strains sweep africa httpstcouj6gmtypr5 <br> "
          ],
          [
           "agent_stueymax",
           " <br> @afp meanwhile in south africa 🇿🇦 jacob zuma is having tea with anc leadership httpstcofbcnrpsumg <br>  <br>  <br> @afp meanwhile in south africa 🇿🇦 jacob zuma is having tea with anc leadership httpstcofbcnrpsumg <br>  <br> "
          ],
          [
           "agent_stumbue",
           " <br> @vincent_kolobe no matter how much argument #zondocommission advances the constitution nist must be  <br> respected in its totality thats why #zuma defied an unconstitutional order by justices who abuse the <br> ir positions to draft their own laws with impunity <br> @vincent_kolobe no matter how much argument #zondocommission advances the constitution nist must be  <br> respected in its totality thats why #zuma defied an unconstitutional order by justices who abuse the <br> ir positions to draft their own laws with impunity"
          ],
          [
           "agent_sundaytimesza",
           " <br> i hope those who are coming understand that they are not coming to tell him what to do but to hear h <br> im out jacob zumas brother warns anc top six ahead of meeting details in the #sundaytimesza tomorrow <br>  <br> i hope those who are coming understand that they are not coming to tell him what to do but to hear h <br> im out jacob zumas brother warns anc top six ahead of meeting details in the #sundaytimesza tomorrow <br> "
          ],
          [
           "agent_sutaonce",
           " <br> @crazynellz sigh what a time the zuma giggles do you remember the drinking game every time baleka tr <br> ying to not recognise any honourable members httpstcomsudj3lnhl <br>  <br> @crazynellz sigh what a time the zuma giggles do you remember the drinking game every time baleka tr <br> ying to not recognise any honourable members httpstcomsudj3lnhl <br> "
          ],
          [
           "agent_syd82185224",
           " <br> @news24 that does not put jacob zuma above the law <br>  <br>  <br> @news24 that does not put jacob zuma above the law <br>  <br> "
          ],
          [
           "agent_sydwell_rsa",
           " <br> were no longer in 2005 where conspirancy theories were the order of the day gone are the days when o <br> ne would just wake up and claim that the scorpions and the judiciary are targeting zuma were now sma <br> rter and older take notes gents @tyengeni1954 @niehaus_carl httpstcofakpxoh98g <br> were no longer in 2005 where conspirancy theories were the order of the day gone are the days when o <br> ne would just wake up and claim that the scorpions and the judiciary are targeting zuma were now sma <br> rter and older take notes gents @tyengeni1954 @niehaus_carl httpstcofakpxoh98g"
          ],
          [
           "agent_taata2taataroo",
           " <br> @less_zuma うん😊 このサイズが置ける壁面がある 部屋を探して引っ越したんだよ～😊 <br>  <br>  <br> @less_zuma うん😊 このサイズが置ける壁面がある 部屋を探して引っ越したんだよ～😊 <br>  <br> "
          ],
          [
           "agent_takalanimasiya",
           " <br> @advobarryroux heres a list of the people president @cyrilramaphosa should expel from anc jacob zuma <br>  ace magashule @niehaus_carl @tyengeni1954 @mzwandilemasina @mzwanelemanyi supra mahomapelo @koko_ma <br> tshela <br> @advobarryroux heres a list of the people president @cyrilramaphosa should expel from anc jacob zuma <br>  ace magashule @niehaus_carl @tyengeni1954 @mzwandilemasina @mzwanelemanyi supra mahomapelo @koko_ma <br> tshela"
          ],
          [
           "agent_talu_lesley8",
           " <br> @im_pacho @locate_the your deflecting eff offered zuma and anc 6 and what did zuma do <br>  <br>  <br> @im_pacho @locate_the your deflecting eff offered zuma and anc 6 and what did zuma do <br>  <br> "
          ],
          [
           "agent_tanianjd",
           " <br> @tito_mboweni n meanwhile sacans still await @cyrilramaphosa to address zumas middle finger shown at <br>  the constitution of the country amp her laws o wait we still awaitin @david_makhura to address y #l <br> esufimustfall has still not been removed @presidencyza whats ur excuse in delay <br> @tito_mboweni n meanwhile sacans still await @cyrilramaphosa to address zumas middle finger shown at <br>  the constitution of the country amp her laws o wait we still awaitin @david_makhura to address y #l <br> esufimustfall has still not been removed @presidencyza whats ur excuse in delay"
          ],
          [
           "agent_tatsubo4_",
           " <br> @zuma_okemaru いやサウナは別に陽キャ要素ないでしょ笑 <br>  <br>  <br> @zuma_okemaru いやサウナは別に陽キャ要素ないでしょ笑 <br>  <br> "
          ],
          [
           "agent_tdikhaile",
           " <br> le ofeng reece ke ofeng zuma <br>  <br>  <br> le ofeng reece ke ofeng zuma <br>  <br> "
          ],
          [
           "agent_tebogomaluleke_",
           " <br> i know people are chasing coins and i respect that but damn influencers have ruined our user experie <br> nce you open a hashtag on zuma kuvela i penis enlargement pills promo 🤦🏿‍♂️ <br>  <br> i know people are chasing coins and i respect that but damn influencers have ruined our user experie <br> nce you open a hashtag on zuma kuvela i penis enlargement pills promo 🤦🏿‍♂️ <br> "
          ],
          [
           "agent_tembinkosi17",
           " <br> @dibetlolo @mphahlelemm those satan will just see the convoy going out by the time they wake up zuma <br>  will be in jail😂😂😂 <br>  <br> @dibetlolo @mphahlelemm those satan will just see the convoy going out by the time they wake up zuma <br>  will be in jail😂😂😂 <br> "
          ],
          [
           "agent_tendani1yahooc1",
           " <br> @ndonga20452863 @dvdmabuza @goolammv now you are very desperate by calling cr a thief please reserve <br>  that honour for zuma and what gains of democracy are you talking about having our country colonised <br>  by the gupta family mxmyou think we are brainless idiots like you <br> @ndonga20452863 @dvdmabuza @goolammv now you are very desperate by calling cr a thief please reserve <br>  that honour for zuma and what gains of democracy are you talking about having our country colonised <br>  by the gupta family mxmyou think we are brainless idiots like you"
          ],
          [
           "agent_terrancedjacob1",
           " <br> @our_da cr ramaphosa is accused no 1 for the anc j zuma is accused no 1 for corruption ace is accuse <br> d no 13 for corruption wannabee opposition political parties is accused of getting fat salaries and  <br> huge perks from the taxpayers for absolutely doing nothing for our citizens hotair <br> @zuma_khulubuse @effsouthafrica the eff idiotic leadership wants judges to accept their buased line  <br> of socialists politicking garbage and if they dont then they are racists <br>  <br> @our_da cr ramaphosa is accused no 1 for the anc j zuma is accused no 1 for corruption ace is accuse <br> d no 13 for corruption wannabee opposition political parties is accused of getting fat salaries and  <br> huge perks from the taxpayers for absolutely doing nothing for our citizens hotair <br> @zuma_khulubuse @effsouthafrica the eff idiotic leadership wants judges to accept their buased line  <br> of socialists politicking garbage and if they dont then they are racists <br> "
          ],
          [
           "agent_teruya_rampage",
           " <br> @choko_zuma 筋肉？ <br>  <br>  <br> @choko_zuma 筋肉？ <br>  <br> "
          ],
          [
           "agent_tetipen14",
           " <br> @zuma_oripa どのお酒もお好きなんですね🍾 僕は下戸なのでお酒飲めないんですけど彼女が年始に酒屋さんから初搾りを毎度買うくらいお酒が好きなので彼女と一緒にズマさんに合いそうなお酒選んでまた送 <br> らせてもらいますね😏🍶 <br>  <br> @zuma_oripa どのお酒もお好きなんですね🍾 僕は下戸なのでお酒飲めないんですけど彼女が年始に酒屋さんから初搾りを毎度買うくらいお酒が好きなので彼女と一緒にズマさんに合いそうなお酒選んでまた送 <br> らせてもらいますね😏🍶 <br> "
          ],
          [
           "agent_thabang_pk_",
           " <br> what about the state of the eff in this day qualifies you to downgrade effs purpose and existence to <br>  zumas removal <br>  <br> what about the state of the eff in this day qualifies you to downgrade effs purpose and existence to <br>  zumas removal <br> "
          ],
          [
           "agent_thabo2017",
           " <br> @gianicos1 northern cape politician jailed under zuma remember you wont mention him we pushing narra <br> tive <br>  <br> @gianicos1 northern cape politician jailed under zuma remember you wont mention him we pushing narra <br> tive <br> "
          ],
          [
           "agent_thabosya",
           " <br> president jg zuma calling the state capture enquiry🤧😤 httpstcocof8qw182c <br>  <br>  <br> president jg zuma calling the state capture enquiry🤧😤 httpstcocof8qw182c <br>  <br> "
          ],
          [
           "agent_the_commentor1",
           " <br> @maepa_ntladi the eff never forget to mention the zuma name in all their letter s <br>  <br>  <br> @maepa_ntladi the eff never forget to mention the zuma name in all their letter s <br>  <br> "
          ],
          [
           "agent_the_njoko",
           " <br> @s_sthuli @fxvorster @simonpgrindrod except for hiv treatment rollout and increasing the number of p <br> eople receiving social grants there isnt much that can be attributed to zuma directly lets resolve t <br> his first and i will take you on on these two issues <br> @s_sthuli @fxvorster @simonpgrindrod except for hiv treatment rollout and increasing the number of p <br> eople receiving social grants there isnt much that can be attributed to zuma directly lets resolve t <br> his first and i will take you on on these two issues"
          ],
          [
           "agent_the_reality_1",
           " <br> @dgezijacky @amika94855371 under zuma they did not get r350 they got r0 <br>  <br>  <br> @dgezijacky @amika94855371 under zuma they did not get r350 they got r0 <br>  <br> "
          ],
          [
           "agent_theblackspice",
           " <br> when people say they are sick we must believe them even if its people we hate we track down the myst <br> erious doctor who issued jacob zumas unclear sick note news24 httpstcovjenlsv1tb <br>  <br> when people say they are sick we must believe them even if its people we hate we track down the myst <br> erious doctor who issued jacob zumas unclear sick note news24 httpstcovjenlsv1tb <br> "
          ],
          [
           "agent_theblogger_in",
           " <br> south african commission seeks 2yr jail term for exprez jacob zuma httpstco3nl18wjl5k <br>  <br>  <br> south african commission seeks 2yr jail term for exprez jacob zuma httpstco3nl18wjl5k <br>  <br> "
          ],
          [
           "agent_theboffin6",
           " <br> @mbohgcwabe @johnbis75624915 @kush41335117 @duduzane__zuma we are afraid of you you are right <br>  <br>  <br> @mbohgcwabe @johnbis75624915 @kush41335117 @duduzane__zuma we are afraid of you you are right <br>  <br> "
          ],
          [
           "agent_themba_le",
           " <br> @sifiso_gumede thats exactly my point khosi zuma always delivers <br>  <br>  <br> @sifiso_gumede thats exactly my point khosi zuma always delivers <br>  <br> "
          ],
          [
           "agent_thembeni_mabuza",
           " <br> i stand with sab ✊🏿 their employees and everyone in the value chain deserve to earn salaries too #al <br> coholban #trevornoah gavin hunt hillbrow khune zuma sassa <br>  <br> i stand with sab ✊🏿 their employees and everyone in the value chain deserve to earn salaries too #al <br> coholban #trevornoah gavin hunt hillbrow khune zuma sassa <br> "
          ],
          [
           "agent_therealesso_m",
           " <br> @khayadlanga @attalliancesa this reminds me of zumas apology to derek hanekom 😂😂😂 <br>  <br>  <br> @khayadlanga @attalliancesa this reminds me of zumas apology to derek hanekom 😂😂😂 <br>  <br> "
          ],
          [
           "agent_therealpro7",
           " <br> butmr zumain my life as a judge no one has ever dared me like this sobs httpstco2vk5i61fhu <br>  <br>  <br> butmr zumain my life as a judge no one has ever dared me like this sobs httpstco2vk5i61fhu <br>  <br> "
          ],
          [
           "agent_thipe_t",
           " <br> @chillo80989888 @advobarryroux zuma has right to turn it off but if agreed then he saw it coming if  <br> zuma turned off will we say malema is flop so we are waiting it to happen to call it a day in names <br>  <br> @chillo80989888 @advobarryroux zuma has right to turn it off but if agreed then he saw it coming if  <br> zuma turned off will we say malema is flop so we are waiting it to happen to call it a day in names <br> "
          ],
          [
           "agent_thulagunuza",
           " <br> @_officialmoss @ydb_zn @edgarlegoale if all those murderers during the apatheid regime managed to ge <br> t away with what they did why cant this zondo commission leave zuma alone why now is it a big deal t <br> o defy the constitution hayi sherm these white people know how to play with black people minds <br> @_officialmoss @ydb_zn @edgarlegoale if all those murderers during the apatheid regime managed to ge <br> t away with what they did why cant this zondo commission leave zuma alone why now is it a big deal t <br> o defy the constitution hayi sherm these white people know how to play with black people minds"
          ],
          [
           "agent_thulane71285383",
           " <br> @mzwanelemanyi @presjgzuma that will set a bad precedentand it means the commission must have more j <br> udges to satisfy those who feel the dcj must step aside at the end there will be no commission zuma  <br> must respect what he startedhe should have done that before he resigned as a president <br> @mzwanelemanyi @presjgzuma that will set a bad precedentand it means the commission must have more j <br> udges to satisfy those who feel the dcj must step aside at the end there will be no commission zuma  <br> must respect what he startedhe should have done that before he resigned as a president"
          ],
          [
           "agent_thuli_mashaba",
           " <br> so #brianmolefe almost became the minister of finance according to #normamngoma #normagigaba #statec <br> aptureinquiry #zondocommission #malusigigaba wasnt zumas preferred candidate 🙊🤔🤔🤔 httpstcoocqb6zqqba <br>  <br> so #brianmolefe almost became the minister of finance according to #normamngoma #normagigaba #statec <br> aptureinquiry #zondocommission #malusigigaba wasnt zumas preferred candidate 🙊🤔🤔🤔 httpstcoocqb6zqqba <br> "
          ],
          [
           "agent_thulzkhumz",
           " <br> @powerfm987 @faithmangope #powerlunch honestly speaking zuma betrayed many of us who believed in him <br>  we didnt care about his educational background but his humble respectful nature and charisma appeal <br> ed to usafter the rapegupta saga i washed my hands off politicians totally <br> @powerfm987 @faithmangope #powerlunch honestly speaking zuma betrayed many of us who believed in him <br>  we didnt care about his educational background but his humble respectful nature and charisma appeal <br> ed to usafter the rapegupta saga i washed my hands off politicians totally"
          ],
          [
           "agent_thunk_da",
           " <br> @nkinga_ @_africansoil @statecapturecom we are being set up for a military style state this lockdown <br>  is the practice and preparation all gains from zumas years will be reversed <br>  <br> @nkinga_ @_africansoil @statecapturecom we are being set up for a military style state this lockdown <br>  is the practice and preparation all gains from zumas years will be reversed <br> "
          ],
          [
           "agent_timaledi",
           " <br> @cyrilzuma @tumisole is cyril zuma your real name <br>  <br>  <br> @cyrilzuma @tumisole is cyril zuma your real name <br>  <br> "
          ],
          [
           "agent_tkhuzes",
           " <br> @kleinhansmk @carlohd8 @mbuyisenindlozi @concourtsa is there a law that says zuma doesnt have basic  <br> rights <br>  <br> @kleinhansmk @carlohd8 @mbuyisenindlozi @concourtsa is there a law that says zuma doesnt have basic  <br> rights <br> "
          ],
          [
           "agent_tman71898137",
           " <br> @newzroom405 zuma must respect the highest court on land but at same time if he changes his mind and <br>  go to zondo commission he will b commuting suicide evtualy he is in too deep if he does not present <br>  him self jail will b where he will b drinkn tea <br> @newzroom405 zuma must respect the highest court on land but at same time if he changes his mind and <br>  go to zondo commission he will b commuting suicide evtualy he is in too deep if he does not present <br>  him self jail will b where he will b drinkn tea"
          ],
          [
           "agent_tokyoparts",
           " <br> jms automotive様へお打合せ兼ねてzuma一時納車！ 更に細部を詰めて行きます〜 毎回拘りが半端無いjms様なのでカッコ良くなる事間違い無しですね #yamaha #zuma #zuma1 <br> 25 #bws125 場所 jms automotive httpstcoqmefsjmho6 <br>  <br> jms automotive様へお打合せ兼ねてzuma一時納車！ 更に細部を詰めて行きます〜 毎回拘りが半端無いjms様なのでカッコ良くなる事間違い無しですね #yamaha #zuma #zuma1 <br> 25 #bws125 場所 jms automotive httpstcoqmefsjmho6 <br> "
          ],
          [
           "agent_tonysto74753556",
           " <br> if lawbreaking warlord jacob zuma is allowed to have a private army then who else is going to have a <br>  private army this is getting out of hand unless decisive steps are taken we are heading towards tot <br> al anarchy httpstcodwdhlc7cvn <br> if lawbreaking warlord jacob zuma is allowed to have a private army then who else is going to have a <br>  private army this is getting out of hand unless decisive steps are taken we are heading towards tot <br> al anarchy httpstcodwdhlc7cvn"
          ],
          [
           "agent_tracy_keyser",
           " <br> swiminista launches spring clean zuma beach cleanup come to zuma beach tomorrow tower 7 noon httpstc <br> ok8oc3evwh9 via @apparelnews <br>  <br> swiminista launches spring clean zuma beach cleanup come to zuma beach tomorrow tower 7 noon httpstc <br> ok8oc3evwh9 via @apparelnews <br> "
          ],
          [
           "agent_tracy_mudau",
           " <br> @cyza @peterswonderboy @mosurplets we all follow all the happenings of state capture can he tell you <br>  where the law is being applied unfairly the guptas took advantage of ur demigod praying of zuma to  <br> capture the state through him as you find him unquestionable its a level i wont stoop low to but go dance see <br> @cyza @peterswonderboy @mosurplets we all follow all the happenings of state capture can he tell you <br>  where the law is being applied unfairly the guptas took advantage of ur demigod praying of zuma to  <br> capture the state through him as you find him unquestionable its a level i wont stoop low to but go dance see"
          ],
          [
           "agent_tradeco7",
           " <br> @vsonqishe @koko_matshela @mafiwa2 zuma n mbeki were bffs back then why are you leaving him out <br>  <br>  <br> @vsonqishe @koko_matshela @mafiwa2 zuma n mbeki were bffs back then why are you leaving him out <br>  <br> "
          ],
          [
           "agent_trev16404675",
           " <br> @skysportspl we need a clear out as well as new players rudiger zuma kovacic alonso werner giroud ou <br> t gravenberch lassina traore in <br>  <br> @skysportspl we need a clear out as well as new players rudiger zuma kovacic alonso werner giroud ou <br> t gravenberch lassina traore in <br> "
          ],
          [
           "agent_truthto46774607",
           " <br> @goolammv all those anc members who protected zuma have a lot to answer for they are accessories to  <br> his alleged crimes <br>  <br> @goolammv all those anc members who protected zuma have a lot to answer for they are accessories to  <br> his alleged crimes <br> "
          ],
          [
           "agent_tshepo94177124",
           " <br> @murielnaidu @khandanim like for fw who stole land amp resources from black people and masterminded  <br> the massacre of blacks retweet for jacob zuma who built univerties and introduced free education <br>  <br> @murielnaidu @khandanim like for fw who stole land amp resources from black people and masterminded  <br> the massacre of blacks retweet for jacob zuma who built univerties and introduced free education <br> "
          ],
          [
           "agent_tshepoketsamail",
           " <br> @keads_07 @gazzyriodg @mzwanelemanyi @chatlas wena you must follow the commission of enquiry if you  <br> didnt know that zuma wanted ndz to win <br>  <br> @keads_07 @gazzyriodg @mzwanelemanyi @chatlas wena you must follow the commission of enquiry if you  <br> didnt know that zuma wanted ndz to win <br> "
          ],
          [
           "agent_tshishongetd",
           " <br> @nmudoliwa @jiyane_koos @brasam87842952 @godwinratikwane @floydshivambu @bonnyskosana @mariebooysens <br>  @pearcesvoice @tshimbilani1 @ramaanor @mbulane @mmphele @aba2m @ndieni1 @effsouthafrica #pravingord <br> hanisathug they didnt run to their masters willingly they were forced because of european sabotage that is why african unity is important you will remember that @fikilembalula4 was used as a rupert messenger to carry the sabotage message to zuma <br> @nmudoliwa @jiyane_koos @brasam87842952 @godwinratikwane @floydshivambu @bonnyskosana @mariebooysens <br>  @pearcesvoice @tshimbilani1 @ramaanor @mbulane @mmphele @aba2m @ndieni1 @effsouthafrica #pravingord <br> hanisathug they didnt run to their masters willingly they were forced because of european sabotage that is why african unity is important you will remember that @fikilembalula4 was used as a rupert messenger to carry the sabotage message to zuma"
          ],
          [
           "agent_tuli_not_thuli",
           " <br> zuma apparently slaughtered a cow for his supporters and veterans 😂 hamba nxamalala 😂 <br>  <br>  <br> zuma apparently slaughtered a cow for his supporters and veterans 😂 hamba nxamalala 😂 <br>  <br> "
          ],
          [
           "agent_tydapeduli",
           " <br> @subtanyarl feeding frenzy zuma platypus <br>  <br>  <br> @subtanyarl feeding frenzy zuma platypus <br>  <br> "
          ],
          [
           "agent_ublackmadikane",
           " <br> @newzroom405 @julius_s_malema @presjgzuma tea for two why are you disturbing zuma and malema #mxm ht <br> tpstcowfgqu6ylsn <br>  <br> @newzroom405 @julius_s_malema @presjgzuma tea for two why are you disturbing zuma and malema #mxm ht <br> tpstcowfgqu6ylsn <br> "
          ],
          [
           "agent_ufeely__",
           " <br> @ndu_zuma gets me everytime 🥺😭 <br>  <br>  <br> @ndu_zuma gets me everytime 🥺😭 <br>  <br> "
          ],
          [
           "agent_umgavava",
           " <br> @artii_m dr nkosazana dlamini zuma <br>  <br>  <br> @artii_m dr nkosazana dlamini zuma <br>  <br> "
          ],
          [
           "agent_uniquesaproblem",
           " <br> @alfredenewmanoo given that people are unable to get zuma intona courtroom id hazard a guess that yo <br> ur chances of getting the anc found guilty of anything range from remote to absolutely none <br>  <br> @alfredenewmanoo given that people are unable to get zuma intona courtroom id hazard a guess that yo <br> ur chances of getting the anc found guilty of anything range from remote to absolutely none <br> "
          ],
          [
           "agent_unmovedlee",
           " <br> @kr_mosikili you are too dumb to understand basic things when did eff declare solidarity with zuma d <br> id you even read the eff statement on zumas defiance le rata go advertiser bo tlaela on social netwo <br> rks read and stop writing street gossip <br> @kr_mosikili you are too dumb to understand basic things when did eff declare solidarity with zuma d <br> id you even read the eff statement on zumas defiance le rata go advertiser bo tlaela on social netwo <br> rks read and stop writing street gossip"
          ],
          [
           "agent_unrweal",
           " <br> @fvruity hy nealy aph km tidak mau kenalan sama jodohnya jeno rl yang udh jadi penyihir kalo egk mw  <br> ak sihir km jadi kodok zuma 😏🤚 jangan lupa jb punya ak yeahh😵 httpstcoktqaurd6xj <br>  <br> @fvruity hy nealy aph km tidak mau kenalan sama jodohnya jeno rl yang udh jadi penyihir kalo egk mw  <br> ak sihir km jadi kodok zuma 😏🤚 jangan lupa jb punya ak yeahh😵 httpstcoktqaurd6xj <br> "
          ],
          [
           "agent_unzieelalbino",
           " <br> @el_zuma_ @ninya_repolio @leroymerlin_es yo también lo compraría total ya tengo un semáforo en el co <br> medor puedo tener una polla en la escalera 😂😂😂 <br>  <br> @el_zuma_ @ninya_repolio @leroymerlin_es yo también lo compraría total ya tengo un semáforo en el co <br> medor puedo tener una polla en la escalera 😂😂😂 <br> "
          ],
          [
           "agent_usokhetye",
           " <br> @antoonyekungwu2 @itsyourgirlcax zuma did what when how do you even remember ifp senselessly killing <br>  anc supporters in the 90s or were you not born then tolerate one another the whole peace in our lan <br> d campaign even though the intolerance is still there it is far better than other african countries <br> @antoonyekungwu2 @itsyourgirlcax zuma did what when how do you even remember ifp senselessly killing <br>  anc supporters in the 90s or were you not born then tolerate one another the whole peace in our lan <br> d campaign even though the intolerance is still there it is far better than other african countries"
          ],
          [
           "agent_vacancymailsa",
           " <br> internet sales advisor visit httpstcopzupwgpjxt everyday for more jobs httpstcomdt7zjn7jr #jobseeker <br> ssa the fix #bushiri elaine doctor khumalo president zuma <br>  <br> internet sales advisor visit httpstcopzupwgpjxt everyday for more jobs httpstcomdt7zjn7jr #jobseeker <br> ssa the fix #bushiri elaine doctor khumalo president zuma <br> "
          ],
          [
           "agent_vefnti",
           " <br> terakhir lu sikat gigit tahun 21 alias 2000 tahun lalu dan beraniberaninya ngeluarin nafas bau azab  <br> lo kaya gitu gausah sok ganteng azhdaha lo lomba sama kodok zuma pun masih ganteng kodok zuma <br>  <br> terakhir lu sikat gigit tahun 21 alias 2000 tahun lalu dan beraniberaninya ngeluarin nafas bau azab  <br> lo kaya gitu gausah sok ganteng azhdaha lo lomba sama kodok zuma pun masih ganteng kodok zuma <br> "
          ],
          [
           "agent_veron13918628",
           " <br> every body on president zuma way will fall an never rise <br>  <br>  <br> every body on president zuma way will fall an never rise <br>  <br> "
          ],
          [
           "agent_vikingjourno",
           " <br> @geordinhl @lungelon_zulu does derek not read for comprehension his tweets before he sends them out  <br> surely he knows he comes across as totally false pretending like he never met zuma and looking for s <br> ome kind of redemption <br> @geordinhl @lungelon_zulu does derek not read for comprehension his tweets before he sends them out  <br> surely he knows he comes across as totally false pretending like he never met zuma and looking for s <br> ome kind of redemption"
          ],
          [
           "agent_vumza_",
           " <br> zuma is no mandela #zumatrail <br>  <br>  <br> zuma is no mandela #zumatrail <br>  <br> "
          ],
          [
           "agent_vuyos17",
           " <br> @makhanip @news24 @karynmaughan the law was changed just to deal with zuma by taking the powers away <br>  from him and given to madonsela today mkhwebane is punished for using the same powers that were giv <br> en to madonsela claiming the law doest give her the same powers madonsela had justice system failed zuma httpstcoefkwiisz8r <br> @makhanip @news24 @karynmaughan the law was changed just to deal with zuma by taking the powers away <br>  from him and given to madonsela today mkhwebane is punished for using the same powers that were giv <br> en to madonsela claiming the law doest give her the same powers madonsela had justice system failed zuma httpstcoefkwiisz8r"
          ],
          [
           "agent_wanda88072372",
           " <br> httpstcozzsthqosgh #voetsekanc #zuma #votethemout #voteforchange #registerandvote @action4sa <br>  <br>  <br> httpstcozzsthqosgh #voetsekanc #zuma #votethemout #voteforchange #registerandvote @action4sa <br>  <br> "
          ],
          [
           "agent_wani5103",
           " <br> @zmobilefashion zuma words i want my day in court now doing everything to avoid just that 😆 🤣 😂 <br>  <br>  <br> @zmobilefashion zuma words i want my day in court now doing everything to avoid just that 😆 🤣 😂 <br>  <br> "
          ],
          [
           "agent_wayfarertwo",
           " <br> @sabcnews thought zuma is in prison <br>  <br>  <br> @sabcnews thought zuma is in prison <br>  <br> "
          ],
          [
           "agent_wenzilems",
           " <br> @mmusimaimane ask zuma for a tea too he might agree <br>  <br>  <br> @mmusimaimane ask zuma for a tea too he might agree <br>  <br> "
          ],
          [
           "agent_wetsim1",
           " <br> #nowthatalcoholisback #zuma #ramaphosa tops small steps make a big difference we have awesome combos <br>  t amp cap r80 t amp spotty r110 t only r60 cap r30 spotty r60 4 orders pls contact gugu nkosi 07260 <br> 79977 or gugu@morakegroupholdingscoza quality and integrity httpstcodamlgf3nny <br> #nowthatalcoholisback #zuma #ramaphosa tops small steps make a big difference we have awesome combos <br>  t amp cap r80 t amp spotty r110 t only r60 cap r30 spotty r60 4 orders pls contact gugu nkosi 07260 <br> 79977 or gugu@morakegroupholdingscoza quality and integrity httpstcodamlgf3nny"
          ],
          [
           "agent_willy09953162",
           " <br> @duduzane__zuma how many pay slip u hv do u kn something abt gudmorning we need ur money u kept in d <br> ubai remember ur days r numbered we stil need to deel wth ur illiterate dad 1st <br>  <br> @duduzane__zuma how many pay slip u hv do u kn something abt gudmorning we need ur money u kept in d <br> ubai remember ur days r numbered we stil need to deel wth ur illiterate dad 1st <br> "
          ],
          [
           "agent_wirsinddergraf",
           " <br> @zuma_monty yep genau so und was soll ich dazu sagen außer hass😤 <br>  <br>  <br> @zuma_monty yep genau so und was soll ich dazu sagen außer hass😤 <br>  <br> "
          ],
          [
           "agent_wnmt_kf1n",
           " <br> @zuma_rabbit_13 ざした！ <br>  <br>  <br> @zuma_rabbit_13 ざした！ <br>  <br> "
          ],
          [
           "agent_xolani49467218",
           " <br> @pierredevos you are happy with that even though you know zuma is treated unfairly <br>  <br>  <br> @pierredevos you are happy with that even though you know zuma is treated unfairly <br>  <br> "
          ],
          [
           "agent_xsweetari",
           " <br> @gio_zuma ahahah si sei minimini io ne ho fatti 22 due mesi fa 👁👄👁 saremo brother and sister <br>  <br>  <br> @gio_zuma ahahah si sei minimini io ne ho fatti 22 due mesi fa 👁👄👁 saremo brother and sister <br>  <br> "
          ],
          [
           "agent_yawboc",
           " <br> @phuxim @thulanisibeko8 @mzondi51977089 @dzumasambudla open any newspaper and it reads president bus <br> h the fact remains he is president zuma <br>  <br> @phuxim @thulanisibeko8 @mzondi51977089 @dzumasambudla open any newspaper and it reads president bus <br> h the fact remains he is president zuma <br> "
          ],
          [
           "agent_yotam85169852",
           " <br> @abelmafhoho @mfazania @mikzozo2 they should have been expelled @ this violation citizen ship revoke <br> d zuma stripped as head of state south africa could have been saved <br>  <br> @abelmafhoho @mfazania @mikzozo2 they should have been expelled @ this violation citizen ship revoke <br> d zuma stripped as head of state south africa could have been saved <br> "
          ],
          [
           "agent_zenande_monegi",
           " <br> @mugabebobby @flawmade @100kmokone @mightijamie @jjtabane no you got it wrong he is bias against zum <br> a bye <br>  <br> @mugabebobby @flawmade @100kmokone @mightijamie @jjtabane no you got it wrong he is bias against zum <br> a bye <br> "
          ],
          [
           "agent_zukile_lize",
           " <br> @advobarryroux zuma is the worst to tell us that he declared free education 3 hours before his resig <br> nation <br>  <br> @advobarryroux zuma is the worst to tell us that he declared free education 3 hours before his resig <br> nation <br> "
          ],
          [
           "agent_zuma0240",
           " <br> 参加型第5人格！！サバイバー達我が勝利への糧となれ！ランク戦まで！ #identityv #第五人格 #ミラティブ で #配信 中！ httpstcozbecufpwyl <br>  <br>  <br> 参加型第5人格！！サバイバー達我が勝利への糧となれ！ランク戦まで！ #identityv #第五人格 #ミラティブ で #配信 中！ httpstcozbecufpwyl <br>  <br> "
          ],
          [
           "agent_zuma_0807",
           " <br> 2021年2月27日 zuma_0807さんがnew眠しました。 時刻 615 入眠潜時 0時間05分48秒 #sleepmeister httpstcoe2yfru1xnv <br>  <br>  <br> 2021年2月27日 zuma_0807さんがnew眠しました。 時刻 615 入眠潜時 0時間05分48秒 #sleepmeister httpstcoe2yfru1xnv <br>  <br> "
          ],
          [
           "agent_zuma_okemaru",
           " <br> @pyon09290929 荒野名￤carrierzzma 代表者id￤@zuma_okemaru zuma_okemaru <br>  <br>  <br> @pyon09290929 荒野名￤carrierzzma 代表者id￤@zuma_okemaru zuma_okemaru <br>  <br> "
          ]
         ],
         "hovertemplate": "x=%{x}<br>y=%{y}<br>author=%{customdata[0]}<br>tweets=%{customdata[1]}<extra></extra>",
         "legendgroup": "",
         "marker": {
          "color": "#636efa",
          "symbol": "circle"
         },
         "mode": "markers",
         "name": "",
         "orientation": "v",
         "showlegend": false,
         "type": "scatter",
         "x": [
          9.962139129638672,
          10.167287826538086,
          3.380584955215454,
          9.91504192352295,
          5.191036224365234,
          9.589957237243652,
          2.767284870147705,
          7.59199857711792,
          4.313282012939453,
          3.5309200286865234,
          9.003198623657227,
          3.8675427436828613,
          2.8882198333740234,
          9.542407035827637,
          3.8853919506073,
          10.044047355651855,
          2.609968423843384,
          9.892631530761719,
          3.613187074661255,
          7.748597145080566,
          2.739727258682251,
          9.367804527282715,
          3.2198545932769775,
          10.126799583435059,
          9.749180793762207,
          3.8488214015960693,
          3.1671712398529053,
          10.32105541229248,
          2.999386787414551,
          6.102571964263916,
          4.420763969421387,
          8.882887840270996,
          4.1556267738342285,
          10.392027854919434,
          9.622314453125,
          3.122878074645996,
          4.845981121063232,
          4.007678031921387,
          9.772209167480469,
          5.759465217590332,
          4.462943077087402,
          3.6917226314544678,
          4.78577184677124,
          7.574865341186523,
          5.65675687789917,
          3.7851369380950928,
          2.805850028991699,
          3.5473270416259766,
          4.952706336975098,
          3.9128589630126953,
          5.606232643127441,
          4.294004440307617,
          9.01276683807373,
          3.7287216186523438,
          10.323409080505371,
          5.611356258392334,
          2.8248369693756104,
          3.3308827877044678,
          9.501296043395996,
          7.819515228271484,
          6.275163650512695,
          6.729763984680176,
          3.874403715133667,
          5.758571624755859,
          5.098351955413818,
          3.964639186859131,
          4.777902603149414,
          6.336187362670898,
          8.144875526428223,
          9.247367858886719,
          6.619498252868652,
          9.76654052734375,
          3.6311147212982178,
          8.90875244140625,
          3.045549154281616,
          4.711553573608398,
          3.8262200355529785,
          4.027463436126709,
          10.022107124328613,
          4.292466163635254,
          2.3801262378692627,
          4.506296157836914,
          3.0306193828582764,
          9.383918762207031,
          6.480066299438477,
          6.187786102294922,
          9.619669914245605,
          10.371892929077148,
          4.2283782958984375,
          3.2329342365264893,
          5.539041042327881,
          9.326665878295898,
          10.417290687561035,
          3.1049396991729736,
          9.890682220458984,
          3.745234489440918,
          3.451035976409912,
          8.443559646606445,
          10.007974624633789,
          9.530542373657227,
          3.5795037746429443,
          9.835716247558594,
          9.590670585632324,
          3.6767873764038086,
          3.806450605392456,
          2.6064369678497314,
          8.916316986083984,
          5.9692158699035645,
          9.444377899169922,
          4.247437953948975,
          9.808672904968262,
          3.47884202003479,
          3.040759801864624,
          3.443357229232788,
          9.287071228027344,
          9.251834869384766,
          2.645033121109009,
          10.240148544311523,
          10.412881851196289,
          3.9227230548858643,
          5.367595672607422,
          3.2332499027252197,
          9.880342483520508,
          3.0083513259887695,
          9.858973503112793,
          7.4424214363098145,
          6.2425055503845215,
          3.5639138221740723,
          10.102792739868164,
          3.974632501602173,
          4.286765098571777,
          3.3685061931610107,
          7.254467487335205,
          6.132195472717285,
          9.653986930847168,
          8.033282279968262,
          10.297750473022461,
          5.357692241668701,
          9.947127342224121,
          3.427133321762085,
          4.196317672729492,
          5.507891654968262,
          7.351755619049072,
          4.014319896697998,
          10.133452415466309,
          3.6244843006134033,
          3.989304304122925,
          3.0380215644836426,
          3.769981861114502,
          4.776334762573242,
          4.138317108154297,
          9.624104499816895,
          4.052353858947754,
          4.246416091918945,
          7.83951997756958,
          3.0033481121063232,
          7.553737640380859,
          6.676864147186279,
          9.925163269042969,
          10.357539176940918,
          9.119497299194336,
          4.560726165771484,
          5.69850492477417,
          4.183062553405762,
          7.449321746826172,
          5.811390399932861,
          4.357964992523193,
          9.44439697265625,
          6.048855304718018,
          3.4747564792633057,
          3.2074127197265625,
          6.167527675628662,
          2.755197048187256,
          5.283512115478516,
          3.3999111652374268,
          5.320455551147461,
          3.7197978496551514,
          4.580068588256836,
          9.228171348571777,
          4.615684986114502,
          3.124476671218872,
          8.940950393676758,
          9.801756858825684,
          3.4983482360839844,
          4.620819091796875,
          4.167047023773193,
          3.8932440280914307,
          5.622952938079834,
          10.446873664855957,
          4.390283107757568,
          4.267665863037109,
          5.282690525054932,
          4.491906642913818,
          2.937469005584717,
          3.1982510089874268,
          4.322693347930908,
          3.242919445037842,
          4.092491626739502,
          9.857800483703613,
          4.154500484466553,
          6.685762882232666,
          5.3631134033203125,
          5.626999855041504,
          5.738784313201904,
          2.766195297241211,
          4.3246588706970215,
          4.546542167663574,
          3.690293550491333,
          4.326503753662109,
          3.0952210426330566,
          3.111557960510254,
          3.943284511566162,
          4.175024509429932,
          3.974961757659912,
          6.373754501342773,
          5.077444553375244,
          3.587571144104004,
          8.882418632507324,
          3.390909194946289,
          2.9282355308532715,
          4.59007453918457,
          3.845675230026245,
          5.370532989501953,
          5.090746879577637,
          8.770021438598633,
          5.432164192199707,
          4.150367259979248,
          4.345404624938965,
          3.5822813510894775,
          5.825542449951172,
          4.316928863525391,
          3.6880295276641846,
          9.277718544006348,
          5.36644983291626,
          2.7953715324401855,
          4.1698455810546875,
          5.120981216430664,
          5.28102445602417,
          9.694068908691406,
          10.103384971618652,
          9.640229225158691,
          3.1733336448669434,
          5.626890182495117,
          4.335141658782959,
          6.877638816833496,
          3.0607807636260986,
          4.571479797363281,
          4.679187297821045,
          3.7636446952819824,
          5.869083404541016,
          4.234703063964844,
          6.568280220031738,
          4.922947406768799,
          2.8072359561920166,
          8.70688247680664,
          4.5726704597473145,
          3.081104278564453,
          2.287520170211792,
          4.154099464416504,
          4.195410251617432,
          3.4495043754577637,
          3.8415768146514893,
          9.124917030334473,
          3.6078970432281494,
          10.44941520690918,
          5.632246971130371,
          3.471721649169922,
          9.870203018188477,
          9.563698768615723,
          5.241426944732666,
          3.991701126098633,
          10.415699005126953,
          2.709909677505493,
          4.349369049072266,
          9.377809524536133,
          3.789306163787842,
          8.557748794555664,
          9.83633804321289,
          3.9964346885681152,
          4.0258073806762695,
          4.216157913208008,
          2.9373960494995117,
          4.103450298309326,
          6.203017711639404,
          10.257083892822266,
          5.633486747741699,
          2.407165050506592,
          4.148841857910156,
          3.6519434452056885,
          3.605931520462036,
          9.865094184875488,
          3.3339598178863525,
          8.989165306091309,
          9.186095237731934,
          2.7957639694213867,
          4.686702728271484,
          9.865093231201172,
          4.068543434143066,
          5.776342868804932,
          4.273111820220947,
          2.687673330307007,
          3.1668009757995605,
          4.088871002197266,
          2.8212473392486572,
          4.21176290512085,
          4.320736885070801,
          3.0008530616760254,
          3.6508870124816895,
          5.222009181976318,
          8.154078483581543,
          2.7296531200408936,
          4.313519477844238,
          9.16544246673584,
          4.191558361053467,
          4.4972662925720215,
          9.436261177062988,
          8.741475105285645,
          3.541724920272827,
          3.2903807163238525,
          3.7542057037353516,
          3.27020001411438,
          3.7176408767700195,
          9.111471176147461,
          5.0429368019104,
          5.39093017578125,
          9.391633033752441,
          2.634317636489868,
          5.472998142242432,
          3.799082040786743,
          3.6296253204345703,
          4.4468183517456055,
          3.8014135360717773,
          3.0338191986083984,
          4.174154758453369,
          4.289419174194336,
          10.306437492370605,
          3.061530113220215,
          4.5300469398498535,
          4.756772041320801,
          9.711922645568848,
          7.821804523468018,
          3.4682390689849854,
          2.32257080078125,
          3.7633302211761475,
          2.7318642139434814,
          5.693469524383545,
          3.854963779449463,
          4.198180198669434,
          3.96049165725708,
          9.658541679382324,
          3.968313455581665,
          3.034921646118164,
          2.9746177196502686,
          9.285147666931152,
          9.358123779296875,
          4.993084907531738,
          3.4489970207214355,
          3.2020134925842285,
          4.717097282409668,
          5.570316791534424,
          3.8053650856018066,
          3.8644745349884033,
          4.344760417938232,
          4.110627174377441,
          3.7712137699127197,
          10.284896850585938,
          5.67106294631958,
          5.1075758934021,
          8.874926567077637,
          10.172392845153809,
          9.442084312438965,
          3.753203868865967,
          4.54998779296875,
          4.148465156555176,
          5.100587844848633,
          9.211309432983398,
          10.195472717285156,
          4.610826015472412,
          4.414595603942871,
          5.3913421630859375,
          5.1077165603637695,
          7.346811771392822,
          4.3707756996154785,
          4.200019836425781,
          5.473272323608398,
          4.005390167236328,
          2.6959164142608643,
          2.805363178253174,
          3.4460623264312744,
          2.53108811378479,
          3.3231186866760254,
          4.593477725982666,
          2.874635696411133,
          5.460911750793457,
          8.58929443359375,
          4.235869884490967,
          4.236299514770508,
          4.06122350692749,
          4.6661272048950195,
          8.235334396362305,
          3.562673330307007,
          9.462340354919434,
          4.212159633636475,
          7.973581314086914,
          2.375309944152832,
          4.638855457305908,
          6.909912109375,
          3.535064697265625,
          10.046984672546387,
          6.758586406707764,
          9.262476921081543,
          3.217197895050049,
          2.6029458045959473,
          7.8642802238464355,
          4.120733261108398,
          3.80357027053833,
          9.733148574829102,
          9.510568618774414,
          4.034851551055908,
          8.0134916305542,
          9.893104553222656,
          4.906430244445801,
          3.1957695484161377,
          4.34531307220459,
          4.401132106781006,
          8.138526916503906,
          2.684826612472534,
          4.188870906829834,
          3.1636672019958496,
          8.145389556884766,
          3.2295141220092773,
          9.129552841186523,
          8.789687156677246,
          3.9294991493225098,
          9.92419719696045,
          7.183080196380615,
          2.719003915786743,
          3.082886219024658,
          3.6614577770233154,
          10.337762832641602,
          10.30388069152832,
          10.274162292480469
         ],
         "xaxis": "x",
         "y": [
          6.621423721313477,
          7.139132976531982,
          7.387287139892578,
          6.95078182220459,
          6.1598100662231445,
          7.513928413391113,
          6.6730637550354,
          6.494764804840088,
          7.252415180206299,
          6.7399420738220215,
          7.405027389526367,
          5.314971446990967,
          6.327966213226318,
          5.8896803855896,
          6.6343207359313965,
          7.061400413513184,
          6.989324569702148,
          7.261919975280762,
          6.8385233879089355,
          6.2490668296813965,
          7.421217918395996,
          7.425871849060059,
          8.135385513305664,
          7.431046485900879,
          7.698391437530518,
          5.1591033935546875,
          6.106215953826904,
          7.1354217529296875,
          7.4170966148376465,
          5.336598873138428,
          7.0918989181518555,
          6.9942450523376465,
          4.90678071975708,
          7.483522415161133,
          6.005120754241943,
          7.002086162567139,
          6.246495723724365,
          5.900224685668945,
          6.383863925933838,
          4.805638313293457,
          4.957106590270996,
          5.113717555999756,
          7.761164665222168,
          6.839784145355225,
          5.95712423324585,
          8.03744888305664,
          5.703793048858643,
          8.676107406616211,
          6.665962219238281,
          7.504305839538574,
          5.589035511016846,
          6.928801536560059,
          5.990994453430176,
          7.769872188568115,
          7.392828941345215,
          5.338656902313232,
          6.664342880249023,
          5.471199035644531,
          5.810092449188232,
          6.328539848327637,
          5.369678497314453,
          6.407776355743408,
          7.935528755187988,
          5.8444037437438965,
          6.670770645141602,
          5.109261989593506,
          6.167346477508545,
          6.486058235168457,
          7.06397819519043,
          6.461536884307861,
          6.463198661804199,
          6.619362831115723,
          5.769588947296143,
          6.981406211853027,
          5.297505855560303,
          4.9946675300598145,
          7.685917377471924,
          6.864101409912109,
          6.98621940612793,
          8.373605728149414,
          6.431485176086426,
          5.709433555603027,
          8.350461959838867,
          5.7888336181640625,
          5.699150562286377,
          5.4571309089660645,
          5.914912223815918,
          6.918020725250244,
          6.410796165466309,
          5.6574273109436035,
          4.684789180755615,
          7.513747692108154,
          7.3887481689453125,
          7.859147548675537,
          6.953253269195557,
          8.419766426086426,
          7.345826148986816,
          7.193704128265381,
          6.648123264312744,
          7.5106353759765625,
          7.963967800140381,
          6.326508522033691,
          5.9873199462890625,
          5.390662670135498,
          8.491290092468262,
          7.497689247131348,
          6.825963497161865,
          5.499941349029541,
          7.00636100769043,
          8.247566223144531,
          7.238541603088379,
          5.382942199707031,
          6.163124084472656,
          4.959425449371338,
          6.024176120758057,
          6.893373012542725,
          7.466501235961914,
          7.290004253387451,
          7.25717306137085,
          6.949365139007568,
          5.065213680267334,
          7.237075328826904,
          7.356462478637695,
          8.273694038391113,
          7.246789932250977,
          6.396426200866699,
          5.948413372039795,
          7.59519624710083,
          6.6073832511901855,
          4.58630895614624,
          5.425673484802246,
          5.663907051086426,
          6.361978054046631,
          5.3720245361328125,
          7.667932033538818,
          7.052694797515869,
          7.01416015625,
          5.32047700881958,
          6.793221473693848,
          7.0260820388793945,
          7.825841903686523,
          5.133140563964844,
          6.31838321685791,
          7.098146915435791,
          6.665818214416504,
          8.345731735229492,
          7.011984825134277,
          6.20858097076416,
          4.576748371124268,
          7.588865280151367,
          5.577592372894287,
          7.596624851226807,
          5.503809928894043,
          6.769664764404297,
          6.8682074546813965,
          7.89944314956665,
          6.63447380065918,
          5.323829650878906,
          6.858997344970703,
          7.364755153656006,
          6.843036651611328,
          6.695048809051514,
          5.036921501159668,
          7.31484842300415,
          6.386207580566406,
          5.339323043823242,
          6.832611560821533,
          5.7824201583862305,
          5.489468574523926,
          4.682218074798584,
          5.047861099243164,
          5.763707637786865,
          7.020740032196045,
          4.897422790527344,
          4.907171249389648,
          4.923022747039795,
          6.385667324066162,
          6.030818462371826,
          7.272486209869385,
          4.661047458648682,
          7.699003219604492,
          6.612785816192627,
          7.096192359924316,
          4.640537738800049,
          4.578115463256836,
          5.820512294769287,
          5.659182071685791,
          5.12360143661499,
          7.3886308670043945,
          7.464506149291992,
          5.01121711730957,
          5.749449253082275,
          6.321370601654053,
          7.664929389953613,
          5.923155307769775,
          6.198154449462891,
          7.793933391571045,
          5.551177024841309,
          6.533094882965088,
          6.648442268371582,
          5.318603038787842,
          5.724360466003418,
          4.977677822113037,
          5.1589674949646,
          6.325437545776367,
          7.118299961090088,
          7.59102201461792,
          7.240701198577881,
          4.766512393951416,
          5.1137166023254395,
          5.347658157348633,
          8.524580955505371,
          8.526288032531738,
          5.236982345581055,
          5.169312477111816,
          4.747929096221924,
          8.227348327636719,
          6.551262855529785,
          7.631008148193359,
          8.003056526184082,
          7.479567050933838,
          8.312814712524414,
          4.894103527069092,
          5.627414226531982,
          7.235477447509766,
          5.204026222229004,
          4.95339822769165,
          7.083004951477051,
          6.3360209465026855,
          5.9104695320129395,
          7.136938095092773,
          4.92555570602417,
          7.225366592407227,
          5.43171501159668,
          5.6695556640625,
          7.94435453414917,
          4.723153591156006,
          6.238113880157471,
          7.63685941696167,
          7.0808258056640625,
          6.134777545928955,
          7.045058250427246,
          5.998645782470703,
          8.53299331665039,
          6.778040885925293,
          7.5269012451171875,
          5.499953746795654,
          6.033049583435059,
          7.503335952758789,
          4.588466644287109,
          4.885778903961182,
          5.186625003814697,
          7.44704008102417,
          7.546665668487549,
          6.43907356262207,
          4.626416206359863,
          7.440444469451904,
          6.463409423828125,
          4.885562896728516,
          7.953705310821533,
          8.44986343383789,
          6.143167495727539,
          6.773776054382324,
          8.386266708374023,
          7.167819023132324,
          4.605168342590332,
          6.224555015563965,
          7.2661967277526855,
          6.345865249633789,
          5.303093433380127,
          4.725523471832275,
          7.415668964385986,
          6.681641101837158,
          5.743465423583984,
          6.325896739959717,
          7.427109718322754,
          6.784058094024658,
          7.219997406005859,
          6.315920829772949,
          8.627421379089355,
          6.517011642456055,
          6.336958408355713,
          7.989224910736084,
          5.521106243133545,
          6.9767985343933105,
          4.6555094718933105,
          6.36371374130249,
          8.435225486755371,
          7.81761360168457,
          5.127625942230225,
          7.318110466003418,
          5.015823841094971,
          7.15161657333374,
          6.913348197937012,
          6.126886367797852,
          8.297597885131836,
          6.916009902954102,
          5.269783973693848,
          5.277400016784668,
          8.478741645812988,
          7.410495281219482,
          5.394909381866455,
          7.767059326171875,
          5.694382667541504,
          6.49625301361084,
          5.682778358459473,
          5.5103759765625,
          4.886258125305176,
          4.82408332824707,
          6.47808837890625,
          7.109590530395508,
          7.139633655548096,
          6.926631927490234,
          6.399998664855957,
          8.01342487335205,
          5.802732944488525,
          6.8727545738220215,
          5.6790056228637695,
          5.055832862854004,
          7.6060872077941895,
          5.911289691925049,
          4.730650901794434,
          6.875476360321045,
          5.135282039642334,
          5.118491172790527,
          6.806828498840332,
          7.202071189880371,
          5.071028232574463,
          5.102080345153809,
          7.663388252258301,
          7.862680435180664,
          8.03055477142334,
          8.340600967407227,
          8.177284240722656,
          8.169268608093262,
          7.225670337677002,
          8.36648178100586,
          5.056657314300537,
          5.381119728088379,
          6.868291854858398,
          6.852893829345703,
          6.423713207244873,
          6.480213642120361,
          6.660831451416016,
          7.000509738922119,
          4.615259170532227,
          7.856379508972168,
          4.814269542694092,
          5.711182594299316,
          6.032512664794922,
          6.082965850830078,
          7.567667484283447,
          5.634047508239746,
          7.470444202423096,
          7.387941360473633,
          6.94035005569458,
          6.213802814483643,
          7.644588947296143,
          5.667425155639648,
          4.733242034912109,
          5.778458118438721,
          8.146547317504883,
          7.133399963378906,
          4.75465726852417,
          5.7398247718811035,
          6.993846893310547,
          5.269286632537842,
          6.745558261871338,
          7.196136474609375,
          6.971733570098877,
          6.340422630310059,
          8.208782196044922,
          7.969323635101318,
          7.9118571281433105,
          6.055694580078125,
          6.830992698669434,
          7.346607208251953,
          6.736701011657715,
          7.168282985687256,
          5.144630432128906,
          5.94313383102417,
          6.455088138580322,
          7.75863790512085,
          8.139138221740723,
          4.750603675842285,
          8.515037536621094,
          6.924131870269775,
          7.610111713409424,
          8.490962982177734,
          6.42699670791626,
          5.460450649261475,
          8.118301391601562,
          6.40175199508667,
          5.893510341644287,
          6.463713645935059,
          8.480216979980469,
          6.088738918304443,
          5.3062262535095215,
          5.120366096496582,
          7.118851184844971,
          5.254322528839111,
          5.798340320587158,
          8.5404052734375,
          6.31687593460083,
          6.45427942276001,
          7.752409934997559,
          6.583052635192871,
          7.250518798828125,
          7.481241226196289,
          6.402476787567139,
          5.836302280426025,
          6.556614398956299,
          7.397143840789795,
          6.334757328033447,
          7.985185623168945,
          7.867888927459717,
          6.902735233306885,
          7.5063581466674805,
          7.226407051086426,
          6.6776275634765625,
          7.363462924957275,
          5.332547664642334,
          5.215123176574707,
          5.626070499420166,
          4.64648962020874,
          7.064493656158447,
          7.085052490234375,
          5.767063140869141,
          5.397083282470703,
          7.064257621765137,
          8.303790092468262,
          6.16306734085083,
          6.907419681549072,
          7.663989067077637,
          7.387189865112305,
          6.367162704467773,
          5.745541572570801,
          5.940734386444092,
          5.3304338455200195,
          7.356606960296631,
          7.258627414703369,
          7.267231464385986
         ],
         "yaxis": "y"
        }
       ],
       "layout": {
        "legend": {
         "tracegroupgap": 0
        },
        "margin": {
         "t": 60
        },
        "template": {
         "data": {
          "bar": [
           {
            "error_x": {
             "color": "#2a3f5f"
            },
            "error_y": {
             "color": "#2a3f5f"
            },
            "marker": {
             "line": {
              "color": "#E5ECF6",
              "width": 0.5
             },
             "pattern": {
              "fillmode": "overlay",
              "size": 10,
              "solidity": 0.2
             }
            },
            "type": "bar"
           }
          ],
          "barpolar": [
           {
            "marker": {
             "line": {
              "color": "#E5ECF6",
              "width": 0.5
             },
             "pattern": {
              "fillmode": "overlay",
              "size": 10,
              "solidity": 0.2
             }
            },
            "type": "barpolar"
           }
          ],
          "carpet": [
           {
            "aaxis": {
             "endlinecolor": "#2a3f5f",
             "gridcolor": "white",
             "linecolor": "white",
             "minorgridcolor": "white",
             "startlinecolor": "#2a3f5f"
            },
            "baxis": {
             "endlinecolor": "#2a3f5f",
             "gridcolor": "white",
             "linecolor": "white",
             "minorgridcolor": "white",
             "startlinecolor": "#2a3f5f"
            },
            "type": "carpet"
           }
          ],
          "choropleth": [
           {
            "colorbar": {
             "outlinewidth": 0,
             "ticks": ""
            },
            "type": "choropleth"
           }
          ],
          "contour": [
           {
            "colorbar": {
             "outlinewidth": 0,
             "ticks": ""
            },
            "colorscale": [
             [
              0,
              "#0d0887"
             ],
             [
              0.1111111111111111,
              "#46039f"
             ],
             [
              0.2222222222222222,
              "#7201a8"
             ],
             [
              0.3333333333333333,
              "#9c179e"
             ],
             [
              0.4444444444444444,
              "#bd3786"
             ],
             [
              0.5555555555555556,
              "#d8576b"
             ],
             [
              0.6666666666666666,
              "#ed7953"
             ],
             [
              0.7777777777777778,
              "#fb9f3a"
             ],
             [
              0.8888888888888888,
              "#fdca26"
             ],
             [
              1,
              "#f0f921"
             ]
            ],
            "type": "contour"
           }
          ],
          "contourcarpet": [
           {
            "colorbar": {
             "outlinewidth": 0,
             "ticks": ""
            },
            "type": "contourcarpet"
           }
          ],
          "heatmap": [
           {
            "colorbar": {
             "outlinewidth": 0,
             "ticks": ""
            },
            "colorscale": [
             [
              0,
              "#0d0887"
             ],
             [
              0.1111111111111111,
              "#46039f"
             ],
             [
              0.2222222222222222,
              "#7201a8"
             ],
             [
              0.3333333333333333,
              "#9c179e"
             ],
             [
              0.4444444444444444,
              "#bd3786"
             ],
             [
              0.5555555555555556,
              "#d8576b"
             ],
             [
              0.6666666666666666,
              "#ed7953"
             ],
             [
              0.7777777777777778,
              "#fb9f3a"
             ],
             [
              0.8888888888888888,
              "#fdca26"
             ],
             [
              1,
              "#f0f921"
             ]
            ],
            "type": "heatmap"
           }
          ],
          "heatmapgl": [
           {
            "colorbar": {
             "outlinewidth": 0,
             "ticks": ""
            },
            "colorscale": [
             [
              0,
              "#0d0887"
             ],
             [
              0.1111111111111111,
              "#46039f"
             ],
             [
              0.2222222222222222,
              "#7201a8"
             ],
             [
              0.3333333333333333,
              "#9c179e"
             ],
             [
              0.4444444444444444,
              "#bd3786"
             ],
             [
              0.5555555555555556,
              "#d8576b"
             ],
             [
              0.6666666666666666,
              "#ed7953"
             ],
             [
              0.7777777777777778,
              "#fb9f3a"
             ],
             [
              0.8888888888888888,
              "#fdca26"
             ],
             [
              1,
              "#f0f921"
             ]
            ],
            "type": "heatmapgl"
           }
          ],
          "histogram": [
           {
            "marker": {
             "pattern": {
              "fillmode": "overlay",
              "size": 10,
              "solidity": 0.2
             }
            },
            "type": "histogram"
           }
          ],
          "histogram2d": [
           {
            "colorbar": {
             "outlinewidth": 0,
             "ticks": ""
            },
            "colorscale": [
             [
              0,
              "#0d0887"
             ],
             [
              0.1111111111111111,
              "#46039f"
             ],
             [
              0.2222222222222222,
              "#7201a8"
             ],
             [
              0.3333333333333333,
              "#9c179e"
             ],
             [
              0.4444444444444444,
              "#bd3786"
             ],
             [
              0.5555555555555556,
              "#d8576b"
             ],
             [
              0.6666666666666666,
              "#ed7953"
             ],
             [
              0.7777777777777778,
              "#fb9f3a"
             ],
             [
              0.8888888888888888,
              "#fdca26"
             ],
             [
              1,
              "#f0f921"
             ]
            ],
            "type": "histogram2d"
           }
          ],
          "histogram2dcontour": [
           {
            "colorbar": {
             "outlinewidth": 0,
             "ticks": ""
            },
            "colorscale": [
             [
              0,
              "#0d0887"
             ],
             [
              0.1111111111111111,
              "#46039f"
             ],
             [
              0.2222222222222222,
              "#7201a8"
             ],
             [
              0.3333333333333333,
              "#9c179e"
             ],
             [
              0.4444444444444444,
              "#bd3786"
             ],
             [
              0.5555555555555556,
              "#d8576b"
             ],
             [
              0.6666666666666666,
              "#ed7953"
             ],
             [
              0.7777777777777778,
              "#fb9f3a"
             ],
             [
              0.8888888888888888,
              "#fdca26"
             ],
             [
              1,
              "#f0f921"
             ]
            ],
            "type": "histogram2dcontour"
           }
          ],
          "mesh3d": [
           {
            "colorbar": {
             "outlinewidth": 0,
             "ticks": ""
            },
            "type": "mesh3d"
           }
          ],
          "parcoords": [
           {
            "line": {
             "colorbar": {
              "outlinewidth": 0,
              "ticks": ""
             }
            },
            "type": "parcoords"
           }
          ],
          "pie": [
           {
            "automargin": true,
            "type": "pie"
           }
          ],
          "scatter": [
           {
            "fillpattern": {
             "fillmode": "overlay",
             "size": 10,
             "solidity": 0.2
            },
            "type": "scatter"
           }
          ],
          "scatter3d": [
           {
            "line": {
             "colorbar": {
              "outlinewidth": 0,
              "ticks": ""
             }
            },
            "marker": {
             "colorbar": {
              "outlinewidth": 0,
              "ticks": ""
             }
            },
            "type": "scatter3d"
           }
          ],
          "scattercarpet": [
           {
            "marker": {
             "colorbar": {
              "outlinewidth": 0,
              "ticks": ""
             }
            },
            "type": "scattercarpet"
           }
          ],
          "scattergeo": [
           {
            "marker": {
             "colorbar": {
              "outlinewidth": 0,
              "ticks": ""
             }
            },
            "type": "scattergeo"
           }
          ],
          "scattergl": [
           {
            "marker": {
             "colorbar": {
              "outlinewidth": 0,
              "ticks": ""
             }
            },
            "type": "scattergl"
           }
          ],
          "scattermapbox": [
           {
            "marker": {
             "colorbar": {
              "outlinewidth": 0,
              "ticks": ""
             }
            },
            "type": "scattermapbox"
           }
          ],
          "scatterpolar": [
           {
            "marker": {
             "colorbar": {
              "outlinewidth": 0,
              "ticks": ""
             }
            },
            "type": "scatterpolar"
           }
          ],
          "scatterpolargl": [
           {
            "marker": {
             "colorbar": {
              "outlinewidth": 0,
              "ticks": ""
             }
            },
            "type": "scatterpolargl"
           }
          ],
          "scatterternary": [
           {
            "marker": {
             "colorbar": {
              "outlinewidth": 0,
              "ticks": ""
             }
            },
            "type": "scatterternary"
           }
          ],
          "surface": [
           {
            "colorbar": {
             "outlinewidth": 0,
             "ticks": ""
            },
            "colorscale": [
             [
              0,
              "#0d0887"
             ],
             [
              0.1111111111111111,
              "#46039f"
             ],
             [
              0.2222222222222222,
              "#7201a8"
             ],
             [
              0.3333333333333333,
              "#9c179e"
             ],
             [
              0.4444444444444444,
              "#bd3786"
             ],
             [
              0.5555555555555556,
              "#d8576b"
             ],
             [
              0.6666666666666666,
              "#ed7953"
             ],
             [
              0.7777777777777778,
              "#fb9f3a"
             ],
             [
              0.8888888888888888,
              "#fdca26"
             ],
             [
              1,
              "#f0f921"
             ]
            ],
            "type": "surface"
           }
          ],
          "table": [
           {
            "cells": {
             "fill": {
              "color": "#EBF0F8"
             },
             "line": {
              "color": "white"
             }
            },
            "header": {
             "fill": {
              "color": "#C8D4E3"
             },
             "line": {
              "color": "white"
             }
            },
            "type": "table"
           }
          ]
         },
         "layout": {
          "annotationdefaults": {
           "arrowcolor": "#2a3f5f",
           "arrowhead": 0,
           "arrowwidth": 1
          },
          "autotypenumbers": "strict",
          "coloraxis": {
           "colorbar": {
            "outlinewidth": 0,
            "ticks": ""
           }
          },
          "colorscale": {
           "diverging": [
            [
             0,
             "#8e0152"
            ],
            [
             0.1,
             "#c51b7d"
            ],
            [
             0.2,
             "#de77ae"
            ],
            [
             0.3,
             "#f1b6da"
            ],
            [
             0.4,
             "#fde0ef"
            ],
            [
             0.5,
             "#f7f7f7"
            ],
            [
             0.6,
             "#e6f5d0"
            ],
            [
             0.7,
             "#b8e186"
            ],
            [
             0.8,
             "#7fbc41"
            ],
            [
             0.9,
             "#4d9221"
            ],
            [
             1,
             "#276419"
            ]
           ],
           "sequential": [
            [
             0,
             "#0d0887"
            ],
            [
             0.1111111111111111,
             "#46039f"
            ],
            [
             0.2222222222222222,
             "#7201a8"
            ],
            [
             0.3333333333333333,
             "#9c179e"
            ],
            [
             0.4444444444444444,
             "#bd3786"
            ],
            [
             0.5555555555555556,
             "#d8576b"
            ],
            [
             0.6666666666666666,
             "#ed7953"
            ],
            [
             0.7777777777777778,
             "#fb9f3a"
            ],
            [
             0.8888888888888888,
             "#fdca26"
            ],
            [
             1,
             "#f0f921"
            ]
           ],
           "sequentialminus": [
            [
             0,
             "#0d0887"
            ],
            [
             0.1111111111111111,
             "#46039f"
            ],
            [
             0.2222222222222222,
             "#7201a8"
            ],
            [
             0.3333333333333333,
             "#9c179e"
            ],
            [
             0.4444444444444444,
             "#bd3786"
            ],
            [
             0.5555555555555556,
             "#d8576b"
            ],
            [
             0.6666666666666666,
             "#ed7953"
            ],
            [
             0.7777777777777778,
             "#fb9f3a"
            ],
            [
             0.8888888888888888,
             "#fdca26"
            ],
            [
             1,
             "#f0f921"
            ]
           ]
          },
          "colorway": [
           "#636efa",
           "#EF553B",
           "#00cc96",
           "#ab63fa",
           "#FFA15A",
           "#19d3f3",
           "#FF6692",
           "#B6E880",
           "#FF97FF",
           "#FECB52"
          ],
          "font": {
           "color": "#2a3f5f"
          },
          "geo": {
           "bgcolor": "white",
           "lakecolor": "white",
           "landcolor": "#E5ECF6",
           "showlakes": true,
           "showland": true,
           "subunitcolor": "white"
          },
          "hoverlabel": {
           "align": "left"
          },
          "hovermode": "closest",
          "mapbox": {
           "style": "light"
          },
          "paper_bgcolor": "white",
          "plot_bgcolor": "#E5ECF6",
          "polar": {
           "angularaxis": {
            "gridcolor": "white",
            "linecolor": "white",
            "ticks": ""
           },
           "bgcolor": "#E5ECF6",
           "radialaxis": {
            "gridcolor": "white",
            "linecolor": "white",
            "ticks": ""
           }
          },
          "scene": {
           "xaxis": {
            "backgroundcolor": "#E5ECF6",
            "gridcolor": "white",
            "gridwidth": 2,
            "linecolor": "white",
            "showbackground": true,
            "ticks": "",
            "zerolinecolor": "white"
           },
           "yaxis": {
            "backgroundcolor": "#E5ECF6",
            "gridcolor": "white",
            "gridwidth": 2,
            "linecolor": "white",
            "showbackground": true,
            "ticks": "",
            "zerolinecolor": "white"
           },
           "zaxis": {
            "backgroundcolor": "#E5ECF6",
            "gridcolor": "white",
            "gridwidth": 2,
            "linecolor": "white",
            "showbackground": true,
            "ticks": "",
            "zerolinecolor": "white"
           }
          },
          "shapedefaults": {
           "line": {
            "color": "#2a3f5f"
           }
          },
          "ternary": {
           "aaxis": {
            "gridcolor": "white",
            "linecolor": "white",
            "ticks": ""
           },
           "baxis": {
            "gridcolor": "white",
            "linecolor": "white",
            "ticks": ""
           },
           "bgcolor": "#E5ECF6",
           "caxis": {
            "gridcolor": "white",
            "linecolor": "white",
            "ticks": ""
           }
          },
          "title": {
           "x": 0.05
          },
          "xaxis": {
           "automargin": true,
           "gridcolor": "white",
           "linecolor": "white",
           "ticks": "",
           "title": {
            "standoff": 15
           },
           "zerolinecolor": "white",
           "zerolinewidth": 2
          },
          "yaxis": {
           "automargin": true,
           "gridcolor": "white",
           "linecolor": "white",
           "ticks": "",
           "title": {
            "standoff": 15
           },
           "zerolinecolor": "white",
           "zerolinewidth": 2
          }
         }
        },
        "xaxis": {
         "anchor": "y",
         "domain": [
          0,
          1
         ],
         "title": {
          "text": "x"
         }
        },
        "yaxis": {
         "anchor": "x",
         "domain": [
          0,
          1
         ],
         "title": {
          "text": "y"
         }
        }
       }
      },
      "text/html": [
       "<div>                            <div id=\"8ab991fa-9478-4b15-88cd-904450952512\" class=\"plotly-graph-div\" style=\"height:525px; width:100%;\"></div>            <script type=\"text/javascript\">                require([\"plotly\"], function(Plotly) {                    window.PLOTLYENV=window.PLOTLYENV || {};                                    if (document.getElementById(\"8ab991fa-9478-4b15-88cd-904450952512\")) {                    Plotly.newPlot(                        \"8ab991fa-9478-4b15-88cd-904450952512\",                        [{\"customdata\":[[\"agent_0sternchen\",\" <br> @mountaindream5 @spaet68er @zuma_monty nur f\\u00fcr die jahre die sie eingezahlt haben <br>  <br>  <br> @mountaindream5 @spaet68er @zuma_monty nur f\\u00fcr die jahre die sie eingezahlt haben <br>  <br> \"],[\"agent_1st_rins\",\" <br> @zuma_okemaru @1st_rins 1st_rins <br>  <br>  <br> @zuma_okemaru @1st_rins 1st_rins <br>  <br> \"],[\"agent_80pfarelo\",\" <br> @frasimphi @coruscakhaya you will follow this story very seriously very soon idiots like you said th <br> e same when eff says zuma must fall \\ud83e\\udd23\\ud83e\\udd23 <br>  <br> @frasimphi @coruscakhaya you will follow this story very seriously very soon idiots like you said th <br> e same when eff says zuma must fall \\ud83e\\udd23\\ud83e\\udd23 <br> \"],[\"agent___xmo4\",\" <br> @zuma_okemaru \\u3054\\u98ef\\u98df\\u3079\\u305f\\u3089\\u3042\\u305d\\u307c\\uff01 <br>  <br>  <br> @zuma_okemaru \\u3054\\u98ef\\u98df\\u3079\\u305f\\u3089\\u3042\\u305d\\u307c\\uff01 <br>  <br> \"],[\"agent__africansoil\",\" <br> \\ud83d\\udcbbpres zuma discussion with the top 6 president zuma is saying the anc is gone he is pained at how th <br> e movement is being destroyed in front of him how it has gotten weak the judiciary gunning for him a <br> nd unlawful processes taking place httpstcosjbkpvqu0w <br> 1 its all a nasty psychological game they make you believe all the lies and use the media to push th <br> em down your throat do own research 2 its a battle of powerful forces who all want a share of the pi <br> e you are not part of it 3 president zuma was the best president httpstcozyzs327qma <br> \\ud83d\\udcbbpres zuma discussion with the top 6 president zuma is saying the anc is gone he is pained at how th <br> e movement is being destroyed in front of him how it has gotten weak the judiciary gunning for him a <br> nd unlawful processes taking place httpstcosjbkpvqu0w <br> 1 its all a nasty psychological game they make you believe all the lies and use the media to push th <br> em down your throat do own research 2 its a battle of powerful forces who all want a share of the pi <br> e you are not part of it 3 president zuma was the best president httpstcozyzs327qma\"],[\"agent__draoh_\",\" <br> @el_zuma_ httpstco6p8wt9w2m9 <br>  <br>  <br> @el_zuma_ httpstco6p8wt9w2m9 <br>  <br> \"],[\"agent__officialmoss\",\" <br> @cheetahplains i wouldnt be surprised if that jsc would exonerate judge hlophe of the zuma fame sesi <br> thembele kubo \\ud83d\\ude02\\ud83d\\ude46\\ud83c\\udffd\\u200d\\u2642\\ufe0f <br>  <br> @cheetahplains i wouldnt be surprised if that jsc would exonerate judge hlophe of the zuma fame sesi <br> thembele kubo \\ud83d\\ude02\\ud83d\\ude46\\ud83c\\udffd\\u200d\\u2642\\ufe0f <br> \"],[\"agent__stormhaze\",\" <br> @nolomolekwa ba khona abo buthelezi and even zuma \\ud83d\\ude2e\\ud83d\\ude46\\ud83c\\udffd\\u200d\\u2642\\ufe0f <br>  <br>  <br> @nolomolekwa ba khona abo buthelezi and even zuma \\ud83d\\ude2e\\ud83d\\ude46\\ud83c\\udffd\\u200d\\u2642\\ufe0f <br>  <br> \"],[\"agent__theruleoflaw\",\" <br> @goolammv @donscot23 what do you think could be the reason why president zuma is resisting to go to  <br> justice zondo commission what is his strategy <br>  <br> @goolammv @donscot23 what do you think could be the reason why president zuma is resisting to go to  <br> justice zondo commission what is his strategy <br> \"],[\"agent_abednego82\",\" <br> i think jacob zuma is being persecuted but theres no way hell win this special plea for the recusal  <br> of downer and resultant acquittal its an emotional argument that seeks wider interpretation of secti <br> on 1064 of cpa httpstcomluv89yb2l <br> i think jacob zuma is being persecuted but theres no way hell win this special plea for the recusal  <br> of downer and resultant acquittal its an emotional argument that seeks wider interpretation of secti <br> on 1064 of cpa httpstcomluv89yb2l\"],[\"agent_abutijosef\",\" <br> @xolani49467218 nguwe o desperate to defend zuma <br>  <br>  <br> @xolani49467218 nguwe o desperate to defend zuma <br>  <br> \"],[\"agent_african_heart12\",\" <br> @obiwanza @nontolotyi thales is going to set the record straight and acquit zuma they have all the r <br> eceipts \\ud83e\\udd37\\ud83c\\udffe\\u200d\\u2642\\ufe0f <br>  <br> @obiwanza @nontolotyi thales is going to set the record straight and acquit zuma they have all the r <br> eceipts \\ud83e\\udd37\\ud83c\\udffe\\u200d\\u2642\\ufe0f <br> \"],[\"agent_afrikadonald\",\" <br> good morning @mararamoabelo so youre not convinced that zuma will be given two years jail term that  <br> man is going down #powerup <br>  <br> good morning @mararamoabelo so youre not convinced that zuma will be given two years jail term that  <br> man is going down #powerup <br> \"],[\"agent_afroamart\",\" <br> @ananavarro \\ud83d\\udc81\\ud83c\\udffe\\u200d\\u2640\\ufe0f re sophia kembowskidpa via zuma pressso happy 2017 @motherjones httpstcotq7srtradp <br>  <br>  <br> @ananavarro \\ud83d\\udc81\\ud83c\\udffe\\u200d\\u2640\\ufe0f re sophia kembowskidpa via zuma pressso happy 2017 @motherjones httpstcotq7srtradp <br>  <br> \"],[\"agent_ahpdeb\",\" <br> @kanniekaknie @zweli1 @news24 @richard_spoor richard did meet with jz783 they discussed the case and <br>  zuma said hell let richard know if he further needs his assistance <br>  <br> @kanniekaknie @zweli1 @news24 @richard_spoor richard did meet with jz783 they discussed the case and <br>  zuma said hell let richard know if he further needs his assistance <br> \"],[\"agent_aieraalerts\",\" <br> \\ud83c\\udfe2 gild humanigen terminates zuma19 clinical collaboration agreement with gilead sciences unit httpst <br> co7ludgrzbe2 <br>  <br> \\ud83c\\udfe2 gild humanigen terminates zuma19 clinical collaboration agreement with gilead sciences unit httpst <br> co7ludgrzbe2 <br> \"],[\"agent_ajibola970\",\" <br> i need a dembe zuma in my life <br>  <br>  <br> i need a dembe zuma in my life <br>  <br> \"],[\"agent_ak4ashii\",\" <br> @gio_zuma \\ud83d\\udc96\\ud83d\\udc96\\ud83d\\udc96\\ud83d\\udc96 <br>  <br>  <br> @gio_zuma \\ud83d\\udc96\\ud83d\\udc96\\ud83d\\udc96\\ud83d\\udc96 <br>  <br> \"],[\"agent_albamokopane\",\" <br> thats jacob zuma for you toxic httpstcocjlltkg18b <br>  <br>  <br> thats jacob zuma for you toxic httpstcocjlltkg18b <br>  <br> \"],[\"agent_alfien93568801\",\" <br> urgent dr nkosazana dlamini zuma invites you to comment on the covid19 vaccine injury nofault compen <br> sation scheme click to have your say httpstcozxstjuebyu <br>  <br> urgent dr nkosazana dlamini zuma invites you to comment on the covid19 vaccine injury nofault compen <br> sation scheme click to have your say httpstcozxstjuebyu <br> \"],[\"agent_ama_ricano\",\" <br> when i retire i plan to own a win10 or older pc to play zuma and plants vs zombies <br>  <br>  <br> when i retire i plan to own a win10 or older pc to play zuma and plants vs zombies <br>  <br> \"],[\"agent_amirhamzakhaan\",\" <br> @zuma_ashna_razi alochai de shaid <br>  <br>  <br> @zuma_ashna_razi alochai de shaid <br>  <br> \"],[\"agent_amunra_sanza\",\" <br> @duduzane__zuma @isuckseeds you schooled her \\ud83d\\ude1c <br>  <br>  <br> @duduzane__zuma @isuckseeds you schooled her \\ud83d\\ude1c <br>  <br> \"],[\"agent_anam11d\",\" <br> @chargebolt_zuma ahora cumpli \\ud83d\\ude08\\ud83d\\udc4c <br>  <br>  <br> @chargebolt_zuma ahora cumpli \\ud83d\\ude08\\ud83d\\udc4c <br>  <br> \"],[\"agent_anathigasa_\",\" <br> @ndu_zuma \\ud83d\\ude2d httpstcov6ktjr9f5g <br>  <br>  <br> @ndu_zuma \\ud83d\\ude2d httpstcov6ktjr9f5g <br>  <br> \"],[\"agent_annette00711812\",\" <br> he should be targeted just like zuma and all the anc criminals httpstcoya9k3i5hoh <br>  <br>  <br> he should be targeted just like zuma and all the anc criminals httpstcoya9k3i5hoh <br>  <br> \"],[\"agent_anorkie95\",\" <br> @bruinersmarvin @tomeatonsa my humble view is that a democracy works when the majority vote dictates <br>  during the reign of zuma the majority wanted to get zuma out but this did not work because policies <br>  prevented this and a bunch of greedy politicians did not want to oust him <br> @bruinersmarvin @tomeatonsa my humble view is that a democracy works when the majority vote dictates <br>  during the reign of zuma the majority wanted to get zuma out but this did not work because policies <br>  prevented this and a bunch of greedy politicians did not want to oust him\"],[\"agent_ashurab1216\",\" <br> @amusa_zuma @mitsurugilia \\u304a\\u306f\\u3088 \\u3042\\u3080\\u3055\\u3061\\u3083\\u3093\\ud83e\\udd17\\ud83e\\udd17 <br>  <br>  <br> @amusa_zuma @mitsurugilia \\u304a\\u306f\\u3088 \\u3042\\u3080\\u3055\\u3061\\u3083\\u3093\\ud83e\\udd17\\ud83e\\udd17 <br>  <br> \"],[\"agent_audiothebrand\",\" <br> i will take anc down with me if charged vows zuma business day 20071110 crazy httpstco9hg3nbuspo <br>  <br>  <br> i will take anc down with me if charged vows zuma business day 20071110 crazy httpstco9hg3nbuspo <br>  <br> \"],[\"agent_avalondotred\",\" <br> a #california #groundsquirrel keeps watch from the edge of a country #road as the #sun sets on a war <br> m evening near #elkton in southwestern #oregon #squirrel #sunset \\ud83d\\udcf7robin loznakzumaavalonred httpstco <br> dxcomvk3cb httpstcoeoo38nxzhq <br> a #california #groundsquirrel keeps watch from the edge of a country #road as the #sun sets on a war <br> m evening near #elkton in southwestern #oregon #squirrel #sunset \\ud83d\\udcf7robin loznakzumaavalonred httpstco <br> dxcomvk3cb httpstcoeoo38nxzhq\"],[\"agent_avhapfani702758\",\" <br> @azuk1le @ntsimbi17 there is wmc and what do you call your guptas zuptas because you dont want white <br> s but you are not worried about the guptas amandiya who took away our monies to dubai its not a prob <br> lem because they are with zuma and the rets you guys are the angels of lies looters <br> @azuk1le @ntsimbi17 there is wmc and what do you call your guptas zuptas because you dont want white <br> s but you are not worried about the guptas amandiya who took away our monies to dubai its not a prob <br> lem because they are with zuma and the rets you guys are the angels of lies looters\"],[\"agent_aze_sht\",\" <br> @tana_k_zuma usb\\u63a5\\u7d9a\\u3057\\u3066\\u3044\\u3051\\u306a\\u3044\\uff1f <br>  <br>  <br> @tana_k_zuma usb\\u63a5\\u7d9a\\u3057\\u3066\\u3044\\u3051\\u306a\\u3044\\uff1f <br>  <br> \"],[\"agent_backtologic\",\" <br> the correct stance zuma should be arrested and prosecuted if he fails to appear before zondo says da <br> s breytenbach httpstcoimzb4ruv03 <br>  <br> the correct stance zuma should be arrested and prosecuted if he fails to appear before zondo says da <br> s breytenbach httpstcoimzb4ruv03 <br> \"],[\"agent_bakukyo_bakugo\",\" <br> @__charge__zuma_ \\uc878\\ub9ac\\uba74 \\uc7a0\\uc2dc \\uc790\\ub358\\uac00 <br>  <br>  <br> @__charge__zuma_ \\uc878\\ub9ac\\uba74 \\uc7a0\\uc2dc \\uc790\\ub358\\uac00 <br>  <br> \"],[\"agent_banjarbase\",\" <br> ga perlu ganteng yg penting setia merdu banget suara kodok zuma wal <br>  <br>  <br> ga perlu ganteng yg penting setia merdu banget suara kodok zuma wal <br>  <br> \"],[\"agent_beautybytazzlee\",\" <br> say bye to stained teeth with ap24 whitening toothpaste ap 24 whitening toothpaste will remove the s <br> tains amp return your teeth to their natural colour \\ud83d\\udcf2 0844448278 marete zulu ayanda shalulile limpop <br> o pretoria mbali zuma #djsbu #kiernan httpstcod7wfz8lgmm <br> say bye to stained teeth with ap24 whitening toothpaste ap 24 whitening toothpaste will remove the s <br> tains amp return your teeth to their natural colour \\ud83d\\udcf2 0844448278 marete zulu ayanda shalulile limpop <br> o pretoria mbali zuma #djsbu #kiernan httpstcod7wfz8lgmm\"],[\"agent_beecpt\",\" <br> @mutwanamba_sa @khindi_rakoma @mbuyisenindlozi bayi anc stop comparing yourself to anc dont forget j <br> uju was willing to die for zuma asikakhohlwa when he said kwezi liked to be raped did we forget \\ud83d\\ude44\\ud83e\\udd14 <br>  <br> @mutwanamba_sa @khindi_rakoma @mbuyisenindlozi bayi anc stop comparing yourself to anc dont forget j <br> uju was willing to die for zuma asikakhohlwa when he said kwezi liked to be raped did we forget \\ud83d\\ude44\\ud83e\\udd14 <br> \"],[\"agent_bhutijali\",\" <br> @jaega_x @_africansoil @floydshivambu @advdali_mpofu but the prison talk is about being incontempt o <br> f court not what evidence was given about zuma <br>  <br> @jaega_x @_africansoil @floydshivambu @advdali_mpofu but the prison talk is about being incontempt o <br> f court not what evidence was given about zuma <br> \"],[\"agent_biodethomiaouss\",\" <br> mec random qui adore les licences rad racer police quest zuma et fancy pants adventures <br>  <br>  <br> mec random qui adore les licences rad racer police quest zuma et fancy pants adventures <br>  <br> \"],[\"agent_bizguru4\",\" <br> @richardlehnerdt jacob zuma <br>  <br>  <br> @richardlehnerdt jacob zuma <br>  <br> \"],[\"agent_blessed11587260\",\" <br> @drvoetsek zuma he kicked the whole country in the b@lls <br>  <br>  <br> @drvoetsek zuma he kicked the whole country in the b@lls <br>  <br> \"],[\"agent_bobmajova\",\" <br> @mamurudi @charlottekhuma3 @dk_dax thieves go to jail zuma is not different <br>  <br>  <br> @mamurudi @charlottekhuma3 @dk_dax thieves go to jail zuma is not different <br>  <br> \"],[\"agent_boleditxa\",\" <br> @pondolegend @ruraltarain why use mbekis quote who referred to zumas leadership at that time the gup <br> tas are using their sahara technology to peddle lies we are not swayed in any how <br>  <br> @pondolegend @ruraltarain why use mbekis quote who referred to zumas leadership at that time the gup <br> tas are using their sahara technology to peddle lies we are not swayed in any how <br> \"],[\"agent_boycottuline\",\" <br> @andy_olsen @thedailybeast use zuma office supply or grainger instead zuma donates half their annual <br>  profits to charity and grainger carries industrial and office supplies <br>  <br> @dcclothesline @uline donated to politicians who denied biden won the election and funded voices beh <br> ind the capitol riot they donated 68 million dollars to republican extremists in 2020 alone use zuma <br>  office supply they donate half their profits to charity every year httpstco2vt0dev5lk <br> @andy_olsen @thedailybeast use zuma office supply or grainger instead zuma donates half their annual <br>  profits to charity and grainger carries industrial and office supplies <br>  <br> @dcclothesline @uline donated to politicians who denied biden won the election and funded voices beh <br> ind the capitol riot they donated 68 million dollars to republican extremists in 2020 alone use zuma <br>  office supply they donate half their profits to charity every year httpstco2vt0dev5lk\"],[\"agent_bq_kunene\",\" <br> @goolammv @mabitsela_ali @enca @masegorahlaga the @concourtsa denied public protector to access pres <br> ident jacob zuma tax records whats the difference goolammv between tax records and tax returns <br>  <br> @goolammv @mabitsela_ali @enca @masegorahlaga the @concourtsa denied public protector to access pres <br> ident jacob zuma tax records whats the difference goolammv between tax records and tax returns <br> \"],[\"agent_bratokolloza\",\" <br> @sundaytimesza because you want ridicule zuma we would show and expose how useless was your jackson  <br> when he was saved by zuma from been a hobo to whatever he became after such kindness httpstcofqp97tv <br> x8h <br> @sundaytimesza because you want ridicule zuma we would show and expose how useless was your jackson  <br> when he was saved by zuma from been a hobo to whatever he became after such kindness httpstcofqp97tv <br> x8h\"],[\"agent_brunty\",\" <br> @rilgon @00hex it does @foxshaped bought me it as a christmas gift with a sample of hotel chocolats  <br> various flavours but im using it with zuma powder as thats my favourite hot chocolate powder ever <br>  <br> @rilgon @00hex it does @foxshaped bought me it as a christmas gift with a sample of hotel chocolats  <br> various flavours but im using it with zuma powder as thats my favourite hot chocolate powder ever <br> \"],[\"agent_btopshatta\",\" <br> @sharyf__ ah woy3 ok de3\\ud83d\\ude02\\ud83d\\ude02\\ud83d\\ude02you call this group of trash as decent tuehhhh ziyech average abraham bel <br> ow average havertz league 1 levelmount goododoi very goodtimo werner trashchristiansen shit zuma goo <br> djames good kovacic averagekante lost formchilwell very good <br> @sharyf__ ah woy3 ok de3\\ud83d\\ude02\\ud83d\\ude02\\ud83d\\ude02you call this group of trash as decent tuehhhh ziyech average abraham bel <br> ow average havertz league 1 levelmount goododoi very goodtimo werner trashchristiansen shit zuma goo <br> djames good kovacic averagekante lost formchilwell very good\"],[\"agent_bulelani_101\",\" <br> @blf2020 @shangase23 blf presser anc anc anc ramaphosa pravin anc white monopoly capital wmc wmc wmc <br>  ret father ret father wmc malema is capture eff nywenywe nyweeee end zuma is under attack httpstcos <br> pc4djaytv <br> @blf2020 @shangase23 blf presser anc anc anc ramaphosa pravin anc white monopoly capital wmc wmc wmc <br>  ret father ret father wmc malema is capture eff nywenywe nyweeee end zuma is under attack httpstcos <br> pc4djaytv\"],[\"agent_buster_ent\",\" <br> @mmusimaimane @our_da @jsteenhuisen @sundaytimesza @helenzille zuma told you that they are using you <br>  and they will take you out look at yourself now he warned you and you didnt listen i think you shou <br> ld also arrange tea meeting with him so that he can also lecture you about your bosses <br> @mmusimaimane @our_da @jsteenhuisen @sundaytimesza @helenzille zuma told you that they are using you <br>  and they will take you out look at yourself now he warned you and you didnt listen i think you shou <br> ld also arrange tea meeting with him so that he can also lecture you about your bosses\"],[\"agent_buyas_2\",\" <br> @moosa_zuma @_africansoil \\ud83d\\ude02\\ud83d\\ude02\\ud83d\\ude02 <br>  <br>  <br> @mapinutla @artii_m the president and his forces are shivering they just dont know what to do zuma s <br> aid hes ready for anything why is he shifting the responsibility hes the one to make a move <br>  <br> @moosa_zuma @_africansoil \\ud83d\\ude02\\ud83d\\ude02\\ud83d\\ude02 <br>  <br>  <br> @mapinutla @artii_m the president and his forces are shivering they just dont know what to do zuma s <br> aid hes ready for anything why is he shifting the responsibility hes the one to make a move <br> \"],[\"agent_callmedeckstar\",\" <br> @thuthu_zuma what gains wena <br>  <br>  <br> @thuthu_zuma what gains wena <br>  <br> \"],[\"agent_calvinphiri8\",\" <br> @ramalokot @realitystriker vhone zuma o do ri vhudza dziphiri dza vho <br>  <br>  <br> @ramalokot @realitystriker vhone zuma o do ri vhudza dziphiri dza vho <br>  <br> \"],[\"agent_cambones69\",\" <br> @cyrilramaphosa but ramapoephol your anc comrades are unprofessional unskilled selfish and corrupt y <br> ou are intent on destroying the country wheres the r500 billion and why isnt zuma in jail \\ud83d\\udd95\\ud83d\\udd95\\ud83d\\udd95\\ud83d\\udd95\\ud83d\\udd95\\ud83d\\udd95\\ud83d\\udd95\\ud83d\\udd95 h <br> ttpstcoklcr52hgme <br> @cyrilramaphosa but ramapoephol your anc comrades are unprofessional unskilled selfish and corrupt y <br> ou are intent on destroying the country wheres the r500 billion and why isnt zuma in jail \\ud83d\\udd95\\ud83d\\udd95\\ud83d\\udd95\\ud83d\\udd95\\ud83d\\udd95\\ud83d\\udd95\\ud83d\\udd95\\ud83d\\udd95 h <br> ttpstcoklcr52hgme\"],[\"agent_cathood33\",\" <br> @k_zuma_p \\u30ab\\u30ba\\u30de\\u69d8 \\u3053\\u3093\\u306b\\u3061\\u306f\\u3002 6000\\u30d5\\u30a9\\u30ed\\u30ef\\u30fc\\u304a\\u3081\\u3067\\u3068\\u3046\\u3054\\u3056\\u3044\\u307e\\u3059\\u263a\\ufe0f \\u3044\\u3064\\u3082\\u7d20\\u6575\\u306a\\u4f5c\\u54c1\\u3092\\u3042\\u308a\\u304c\\u3068\\u3046\\u3054\\u3056\\u3044\\u307e\\u3059\\uff01 \\u5148\\u65e5\\u306e\\u901a\\u8ca9\\u306f\\u60e8\\u6557\\u3060\\u3063\\u305f\\u306e\\u3067\\u3053\\u3061\\u3089\\u306e\\u4f01\\u753b\\u306b\\u5fdc\\u52df\\u3055\\u305b\\u3066\\u9802\\u304d\\u307e\\u3057\\u305f\\u3002\\u5c11\\u3057\\u3067\\u3082 <br> \\u3042\\u308b\\u30c1\\u30e3\\u30f3\\u30b9\\u306b\\u8ced\\u3051\\u307e\\u3059\\uff01 \\u6ce8\\u610f\\u4e8b\\u9805\\u627f\\u77e5\\u6e08\\u307f\\u3067\\u3059\\u3002 \\u3088\\u308d\\u3057\\u304f\\u304a\\u9858\\u3044\\u81f4\\u3057\\u307e\\u3059\\ud83d\\ude0c <br>  <br> @k_zuma_p \\u30ab\\u30ba\\u30de\\u69d8 \\u3053\\u3093\\u306b\\u3061\\u306f\\u3002 6000\\u30d5\\u30a9\\u30ed\\u30ef\\u30fc\\u304a\\u3081\\u3067\\u3068\\u3046\\u3054\\u3056\\u3044\\u307e\\u3059\\u263a\\ufe0f \\u3044\\u3064\\u3082\\u7d20\\u6575\\u306a\\u4f5c\\u54c1\\u3092\\u3042\\u308a\\u304c\\u3068\\u3046\\u3054\\u3056\\u3044\\u307e\\u3059\\uff01 \\u5148\\u65e5\\u306e\\u901a\\u8ca9\\u306f\\u60e8\\u6557\\u3060\\u3063\\u305f\\u306e\\u3067\\u3053\\u3061\\u3089\\u306e\\u4f01\\u753b\\u306b\\u5fdc\\u52df\\u3055\\u305b\\u3066\\u9802\\u304d\\u307e\\u3057\\u305f\\u3002\\u5c11\\u3057\\u3067\\u3082 <br> \\u3042\\u308b\\u30c1\\u30e3\\u30f3\\u30b9\\u306b\\u8ced\\u3051\\u307e\\u3059\\uff01 \\u6ce8\\u610f\\u4e8b\\u9805\\u627f\\u77e5\\u6e08\\u307f\\u3067\\u3059\\u3002 \\u3088\\u308d\\u3057\\u304f\\u304a\\u9858\\u3044\\u81f4\\u3057\\u307e\\u3059\\ud83d\\ude0c <br> \"],[\"agent_celebgossipza\",\" <br> supreme court nails dead broke jacob zuma on the cross orders him to pay south africans r25 million  <br> gtgtgt httpstconerllzwakc <br>  <br> supreme court nails dead broke jacob zuma on the cross orders him to pay south africans r25 million  <br> gtgtgt httpstconerllzwakc <br> \"],[\"agent_charlduplessc\",\" <br> @chrisroper i would like to be a zuma bot thanks bring some balance to the timeline <br>  <br>  <br> @chrisroper i would like to be a zuma bot thanks bring some balance to the timeline <br>  <br> \"],[\"agent_cheetahplains\",\" <br> @mngunisakhy @kgomo389 @magashule_ace \\ud83d\\ude02\\ud83d\\ude02\\ud83d\\ude02 not going to happen be realistic he doesnt have enough sup <br> port just look at those clowns outside luthuli house \\ud83d\\ude2b it was so different when zuma was facing simi <br> lar legal problems <br> @mngunisakhy @kgomo389 @magashule_ace \\ud83d\\ude02\\ud83d\\ude02\\ud83d\\ude02 not going to happen be realistic he doesnt have enough sup <br> port just look at those clowns outside luthuli house \\ud83d\\ude2b it was so different when zuma was facing simi <br> lar legal problems\"],[\"agent_chimyniemoni\",\" <br> @pinkytoechim astagfirullah kodok zuma \\ud83d\\ude2d\\ud83d\\ude2d\\ud83d\\ude2d\\ud83d\\ude2d\\ud83d\\ude2d\\ud83d\\ude2d\\ud83d\\ude2d\\ud83d\\ude2d\\ud83d\\ude2d <br>  <br>  <br> @pinkytoechim astagfirullah kodok zuma \\ud83d\\ude2d\\ud83d\\ude2d\\ud83d\\ude2d\\ud83d\\ude2d\\ud83d\\ude2d\\ud83d\\ude2d\\ud83d\\ude2d\\ud83d\\ude2d\\ud83d\\ude2d <br>  <br> \"],[\"agent_chocolate_legs7\",\" <br> zuma lying ass httpstcol6s0khdfhp <br>  <br>  <br> zuma lying ass httpstcol6s0khdfhp <br>  <br> \"],[\"agent_chris80109155\",\" <br> @soccer_laduma the combination of zuma and nurkovic has yielded a goal in 10 minutes gavin hunt is a <br> lways reluctant to play these players <br>  <br> @soccer_laduma the combination of zuma and nurkovic has yielded a goal in 10 minutes gavin hunt is a <br> lways reluctant to play these players <br> \"],[\"agent_city_press\",\" <br> most read zuma asked for a board meeting to be postponed mokholo httpstcol8bmrkcmji <br>  <br>  <br> most read zuma asked for a board meeting to be postponed mokholo httpstcol8bmrkcmji <br>  <br> \"],[\"agent_clivemcgill\",\" <br> @cyrilramaphosa you are consulting a lying thieving rotten corrupt zuma this proves you really dont  <br> want to confront corruption in sa he should be in jail not in a lekgotla <br>  <br> @cyrilramaphosa you are consulting a lying thieving rotten corrupt zuma this proves you really dont  <br> want to confront corruption in sa he should be in jail not in a lekgotla <br> \"],[\"agent_codename__x\",\" <br> modibe mentioned that sa was going to believe without a doubt the #tembisaten decuplets story if mai <br> nstream media like daily maverick broke it people believed fake news by news24 about benni mccarthy  <br> being bafana coach and timeslive about zumas house in dubai without doubts httpstcocyd6dj9vxf <br> adv dali mpofu the affidavit of billy downer filed obo the npa in the permanent stay of prosecution  <br> application clearly contradicts the affidavit of mr mpshe amp hofmeyr filed obo the npa this means t <br> here are significant disagreements win the npa about zumas rights #zumatrial <br> modibe mentioned that sa was going to believe without a doubt the #tembisaten decuplets story if mai <br> nstream media like daily maverick broke it people believed fake news by news24 about benni mccarthy  <br> being bafana coach and timeslive about zumas house in dubai without doubts httpstcocyd6dj9vxf <br> adv dali mpofu the affidavit of billy downer filed obo the npa in the permanent stay of prosecution  <br> application clearly contradicts the affidavit of mr mpshe amp hofmeyr filed obo the npa this means t <br> here are significant disagreements win the npa about zumas rights #zumatrial\"],[\"agent_cokebw\",\" <br> chief when your minister of presidential affairs say no to someone and adds the chief whip kablay ha <br>  bare ng ng they can unseat you baba see what happened to margaret thatcher thabo mbeki jacob zuma g <br> a go tshamikiwe papa httpstcogmx9gxtn30 <br> chief when your minister of presidential affairs say no to someone and adds the chief whip kablay ha <br>  bare ng ng they can unseat you baba see what happened to margaret thatcher thabo mbeki jacob zuma g <br> a go tshamikiwe papa httpstcogmx9gxtn30\"],[\"agent_colin_mageer\",\" <br> @errolbsk and zondo has a friend called zuma zuma couldnt understand why his friend is doing his job <br>  <br>  <br> @errolbsk and zondo has a friend called zuma zuma couldnt understand why his friend is doing his job <br>  <br> \"],[\"agent_commander_c007\",\" <br> not only zuma the entire anc is corrupt to the core httpstcozetdjvl6b8 <br>  <br>  <br> not only zuma the entire anc is corrupt to the core httpstcozetdjvl6b8 <br>  <br> \"],[\"agent_coolkat_1\",\" <br> and not captured by zuma #sithembelekini httpstcofi2swl3g1q <br>  <br>  <br> and not captured by zuma #sithembelekini httpstcofi2swl3g1q <br>  <br> \"],[\"agent_createdforpurp2\",\" <br> httpstco64dvkbulko #zuma #mbeki #jubjub #misssa #shudu #missuniverse #missuniverse2020 # httpstcounz <br> ze3kp0l <br>  <br> httpstco64dvkbulko #zuma #mbeki #jubjub #misssa #shudu #missuniverse #missuniverse2020 # httpstcounz <br> ze3kp0l <br> \"],[\"agent_curteboamusica\",\" <br> busta 929 ekseni feat boohle sa amp zuma httpstco4sgpwkbiex <br>  <br>  <br> busta 929 ekseni feat boohle sa amp zuma httpstco4sgpwkbiex <br>  <br> \"],[\"agent_dadarosky\",\" <br> @xayimpiwilliam ahhh zuma captured judicuary long tym ago they even ruled in his favour on obvious c <br> ases <br>  <br> @xayimpiwilliam ahhh zuma captured judicuary long tym ago they even ruled in his favour on obvious c <br> ases <br> \"],[\"agent_dan_shehi\",\" <br> fura zaa dama min da ruwan alkausara da zuma da kuma wadatacciyar giya na more abuna httpstcojvxlwcl <br> ju0 <br>  <br> fura zaa dama min da ruwan alkausara da zuma da kuma wadatacciyar giya na more abuna httpstcojvxlwcl <br> ju0 <br> \"],[\"agent_dannygu60491149\",\" <br> @richard_spoor nothings happening to zuma it happens all over the world presidents dont go to jail w <br> hen the current president is the same party <br>  <br> @richard_spoor nothings happening to zuma it happens all over the world presidents dont go to jail w <br> hen the current president is the same party <br> \"],[\"agent_dante_dalmatia\",\" <br> @zuma_throne cheater <br>  <br>  <br> @zuma_throne cheater <br>  <br> \"],[\"agent_dapmanxl\",\" <br> @bongani35695773 @ningizaisaac @kcreamio @mapzdrs @sbuumathe @advobarryroux soes have been failing s <br> ince zuma times everyone knows this saa has been getting bailed out for a long time long before cyri <br> l load shedding has been here since zuma what have you been smoking <br> @bongani35695773 @ningizaisaac @kcreamio @mapzdrs @sbuumathe @advobarryroux soes have been failing s <br> ince zuma times everyone knows this saa has been getting bailed out for a long time long before cyri <br> l load shedding has been here since zuma what have you been smoking\"],[\"agent_diasporanews123\",\" <br> full force of the law must be visited on jacob zuma for his failure to appear before the zondo commi <br> ssion httpstconlqfgzhzwh <br>  <br> full force of the law must be visited on jacob zuma for his failure to appear before the zondo commi <br> ssion httpstconlqfgzhzwh <br> \"],[\"agent_dimrosdima\",\" <br> @sabcnews zuma gave our people free education and ramaphosa is giving them bullets httpstcorlrowsluk <br> n <br>  <br> @pierredevos i wonder whos taking you serious you hate zuma with passion but is okay is your right h <br> ttpstcoxkunf02xvz <br>  <br> @sabcnews zuma gave our people free education and ramaphosa is giving them bullets httpstcorlrowsluk <br> n <br>  <br> @pierredevos i wonder whos taking you serious you hate zuma with passion but is okay is your right h <br> ttpstcoxkunf02xvz <br> \"],[\"agent_djwondersa\",\" <br> @dj_masiya oh yah just heard edward zuma talking about this on 405 <br>  <br>  <br> @dj_masiya oh yah just heard edward zuma talking about this on 405 <br>  <br> \"],[\"agent_dorami0508\",\" <br> @zuma_okemaru \\u8352\\u91ce\\u958b\\u3044\\u305f\\u308a\\u3057\\u3061\\u3083\\u3063\\u3066\\uff1f\\u7b11 <br>  <br>  <br> @zuma_okemaru \\u8352\\u91ce\\u958b\\u3044\\u305f\\u308a\\u3057\\u3061\\u3083\\u3063\\u3066\\uff1f\\u7b11 <br>  <br> \"],[\"agent_dumi18247646\",\" <br> lies are catching up with ramaphosa so why these artists would not see the former president jacob zu <br> ma as their savour cape town artists stage protest over management of covid19 relief funding httpstc <br> ox8v9qy0vod via @news24 <br> lies are catching up with ramaphosa so why these artists would not see the former president jacob zu <br> ma as their savour cape town artists stage protest over management of covid19 relief funding httpstc <br> ox8v9qy0vod via @news24\"],[\"agent_dumiez77\",\" <br> theres nothing as painful as bad sound for your event for quality and professional sound supply call <br>  me #thirdwave #dnfisoverparty not from r400 jacob zuma httpstcofg3hwxqqbb <br>  <br> theres nothing as painful as bad sound for your event for quality and professional sound supply call <br>  me #thirdwave #dnfisoverparty not from r400 jacob zuma httpstcofg3hwxqqbb <br> \"],[\"agent_dumisani_ngxong\",\" <br> @makgobast @kamo_marven u need to free your mind from slavery ace magashule is leading a corruption  <br> gang that supports zuma amp thieves but he is not zulu <br>  <br> @evaluatorm @modibajohannes @sabcnews could be a zuma amp hlaudi product \\ud83e\\udd26\\ud83e\\udd26\\ud83e\\udd37 <br>  <br>  <br> @makgobast @kamo_marven u need to free your mind from slavery ace magashule is leading a corruption  <br> gang that supports zuma amp thieves but he is not zulu <br>  <br> @evaluatorm @modibajohannes @sabcnews could be a zuma amp hlaudi product \\ud83e\\udd26\\ud83e\\udd26\\ud83e\\udd37 <br>  <br> \"],[\"agent_dumiworldwide\",\" <br> @mlugisikelly1 @reasonhd @duduzane__zuma let us apply this to everyone including beneficiaries of ap <br> artheid and colonialism httpstcoh5hzqqneka <br>  <br> @mlugisikelly1 @reasonhd @duduzane__zuma let us apply this to everyone including beneficiaries of ap <br> artheid and colonialism httpstcoh5hzqqneka <br> \"],[\"agent_echansunshine\",\" <br> hi zuma httpstcojlldbtfwew <br>  <br>  <br> hi zuma httpstcojlldbtfwew <br>  <br> \"],[\"agent_ecr_newswatch\",\" <br> #downer begins reading out the charges against #zuma and #thale drawn out in the indictment @nushera <br>  <br>  <br> #downer begins reading out the charges against #zuma and #thale drawn out in the indictment @nushera <br>  <br> \"],[\"agent_ed_zachery\",\" <br> in other words @errolbsk #zuma stole from the poor and gave to the rich he should be called #juliusm <br> alema httpstcoqmoir4f9et <br>  <br> in other words @errolbsk #zuma stole from the poor and gave to the rich he should be called #juliusm <br> alema httpstcoqmoir4f9et <br> \"],[\"agent_egimaudy_\",\" <br> @sudutkursi saking menggabutnya main zuma jujyur aku mau wkwk <br>  <br>  <br> @sudutkursi saking menggabutnya main zuma jujyur aku mau wkwk <br>  <br> \"],[\"agent_elcream\",\" <br> @fegadukes @mrh300174191 @daddy100111 @blackpornpost @kasilove8 @meetmzansi @manyaleni2 @adulterousn <br> udes @nnajishevy @maloebe_a_kuku @shenakedbusted @thotskenyan yes blame it on nigerians also blame z <br> umas non appearance at the truth commission on nigerians blame the violence on sa women by sa men on women ew\\u00fa <br> @fegadukes @mrh300174191 @daddy100111 @blackpornpost @kasilove8 @meetmzansi @manyaleni2 @adulterousn <br> udes @nnajishevy @maloebe_a_kuku @shenakedbusted @thotskenyan yes blame it on nigerians also blame z <br> umas non appearance at the truth commission on nigerians blame the violence on sa women by sa men on women ew\\u00fa\"],[\"agent_eliotchauke1\",\" <br> @sicelo0071 why must u involve zuma everytime ramaphosa is mentioned <br>  <br>  <br> @sicelo0071 why must u involve zuma everytime ramaphosa is mentioned <br>  <br> \"],[\"agent_ellungisani\",\" <br> @therealpro7 @rholm_charlene if it is a lie that zuma pardoned eugene de korkwhat is true <br>  <br>  <br> @therealpro7 @rholm_charlene if it is a lie that zuma pardoned eugene de korkwhat is true <br>  <br> \"],[\"agent_enca\",\" <br> business unity south africa has expressed concern that jacob zuma is refusing to obey the constituti <br> onal court @sallyburdettsa talks to the president of business unity south africa sipho pityana #enca <br>  courtesy #dstv403 httpstcom7trwvrrrl <br> business unity south africa has expressed concern that jacob zuma is refusing to obey the constituti <br> onal court @sallyburdettsa talks to the president of business unity south africa sipho pityana #enca <br>  courtesy #dstv403 httpstcom7trwvrrrl\"],[\"agent_endurancetri\",\" <br> @brettbenraphael @amos_ngoepe @timeslive camo king wannabe mk zumas pion a fucked up individual lost <br>  the plot <br>  <br> @brettbenraphael @amos_ngoepe @timeslive camo king wannabe mk zumas pion a fucked up individual lost <br>  the plot <br> \"],[\"agent_enegoriyui\",\" <br> @zuma_okemaru \\u305d\\u3046\\u3044\\u3046\\u3053\\u3068\\u304b\\uff01 \\u3044\\u3044\\u306a\\u1d52\\u0334\\u0337\\u0348\\u15e8\\u1d52\\u0334\\u0336\\u0337\\u0348 \\u2727 <br>  <br>  <br> @zuma_okemaru \\u305d\\u3046\\u3044\\u3046\\u3053\\u3068\\u304b\\uff01 \\u3044\\u3044\\u306a\\u1d52\\u0334\\u0337\\u0348\\u15e8\\u1d52\\u0334\\u0336\\u0337\\u0348 \\u2727 <br>  <br> \"],[\"agent_engrazhaar\",\" <br> @zuma_ashna_razi eid mubarak to you ammi <br>  <br>  <br> @zuma_ashna_razi eid mubarak to you ammi <br>  <br> \"],[\"agent_erzascarletw\",\" <br> @gio_zuma httpstcowxpwbvfq5k <br>  <br>  <br> @gio_zuma httpstcowxpwbvfq5k <br>  <br> \"],[\"agent_eskzul\",\" <br> we need to look at zumas lawyers how can they be associated with a client that is hellbent in defyin <br> g the law <br>  <br> we need to look at zumas lawyers how can they be associated with a client that is hellbent in defyin <br> g the law <br> \"],[\"agent_evans_mabato\",\" <br> @duduzane__zuma you very much correct on that <br>  <br>  <br> @duduzane__zuma you very much correct on that <br>  <br> \"],[\"agent_farley_kam87\",\" <br> owlbod played zumas revenge xbox 360 in the last 24 hours httpstco22rouzvc00 #exophase <br>  <br>  <br> owlbod played zumas revenge xbox 360 in the last 24 hours httpstco22rouzvc00 #exophase <br>  <br> \"],[\"agent_farpostza\",\" <br> chiefs xi v simba bvuma frosler ngezana cardoso mathoho blom manyama zuma nurkovic parker c zulu sub <br> s akpeyi mphahlele akumu baccus kambole castro katsande ngcobo mashiane #farpost #totalcafcl httpstc <br> ow66ioj4mj5 <br> chiefs xi v simba bvuma frosler ngezana cardoso mathoho blom manyama zuma nurkovic parker c zulu sub <br> s akpeyi mphahlele akumu baccus kambole castro katsande ngcobo mashiane #farpost #totalcafcl httpstc <br> ow66ioj4mj5\"],[\"agent_fat_vee\",\" <br> @thulaninombali muphi mashiane khipha manyama ufake zuma please we need ball players <br>  <br>  <br> @thulaninombali muphi mashiane khipha manyama ufake zuma please we need ball players <br>  <br> \"],[\"agent_fba795b47de14c7\",\" <br> @paulivw i wonder who wrote this definitely not mr zuma <br>  <br>  <br> @paulivw i wonder who wrote this definitely not mr zuma <br>  <br> \"],[\"agent_feliqinisos1\",\" <br> #zidlumnjonjo @zimiphib1 sesa hlezi nawe ecaltex abavuke mafulawa sikhakhane kholwa zuma kwenza ximb <br> a mkwena @ukhozi_fm <br>  <br> #zidlumnjonjo @zimiphib1 sesa hlezi nawe ecaltex abavuke mafulawa sikhakhane kholwa zuma kwenza ximb <br> a mkwena @ukhozi_fm <br> \"],[\"agent_ferdi___\",\" <br> kualifikasi jadi pns bisa main zuma <br>  <br>  <br> kualifikasi jadi pns bisa main zuma <br>  <br> \"],[\"agent_fha2one\",\" <br> @powerfm987 that is to say if zuma isnt testifying cyril is also not testifying or give us more more <br>  so that we can tackle zuma entlek zondo has no findings is findings are zuma <br>  <br> @powerfm987 that is to say if zuma isnt testifying cyril is also not testifying or give us more more <br>  so that we can tackle zuma entlek zondo has no findings is findings are zuma <br> \"],[\"agent_fmbhandze\",\" <br> @naude_kobus @sydneymahala1 @mabiletjatwist @thembagodi_ @azaniavoice @twitter @atmovement_sa @patri <br> ciadelille you are useless amp empty headed president themba godi started to b scopa chair in 2005mb <br> eki president2009motlhante president20092018zuma president20182019ramaphosa presidentyou see that president themba godi served as scopa chair under 4 state presidents competent <br> @naude_kobus @sydneymahala1 @mabiletjatwist @thembagodi_ @azaniavoice @twitter @atmovement_sa @patri <br> ciadelille you are useless amp empty headed president themba godi started to b scopa chair in 2005mb <br> eki president2009motlhante president20092018zuma president20182019ramaphosa presidentyou see that president themba godi served as scopa chair under 4 state presidents competent\"],[\"agent_folkver\",\" <br> 20 \\u00e5r siden i dag @zuma_sibusiso #zumathepuma #fcklive httpstcoznt00ju9fs <br>  <br>  <br> 20 \\u00e5r siden i dag @zuma_sibusiso #zumathepuma #fcklive httpstcoznt00ju9fs <br>  <br> \"],[\"agent_fullview_sa\",\" <br> httpstcohj9xthe3l7 <br>  <br>  <br> httpstcohj9xthe3l7 <br>  <br> \"],[\"agent_fullviewsabc\",\" <br> question of the day #acemagashule says #zuma has done nothing wrong in defying the concourt ruling w <br> hich compels him to appear before the #zondocommission your thoughts #sabcnews #fullview @chriseldal <br> ewis httpstco1ab0wsataf <br> question of the day #acemagashule says #zuma has done nothing wrong in defying the concourt ruling w <br> hich compels him to appear before the #zondocommission your thoughts #sabcnews #fullview @chriseldal <br> ewis httpstco1ab0wsataf\"],[\"agent_fvvzjcgo5vslbd8\",\" <br> @zuma_2416 \\u628a\\u63e1\\u3067\\u30fc\\u3059 <br>  <br>  <br> @zuma_2416 \\u628a\\u63e1\\u3067\\u30fc\\u3059 <br>  <br> \"],[\"agent_gblock20780243\",\" <br> @niehaus_carl all this ur friends s fault zumasuprah guptas duduzane ect <br>  <br>  <br> @niehaus_carl all this ur friends s fault zumasuprah guptas duduzane ect <br>  <br> \"],[\"agent_gertvannieker10\",\" <br> @solidaridirk bo en behalwe sol se voorlegging in wie se rekeninge gaan die kubane se salarisse in w <br> ie se rekeninge het die zuma r 200 miljard skenking aan kuba gegaan vertel tog vir anc kuba was nie  <br> in angola om anc te helponder soviet drang vorige kub ingenieurs water probeem opgelos <br> @solidaridirk bo en behalwe sol se voorlegging in wie se rekeninge gaan die kubane se salarisse in w <br> ie se rekeninge het die zuma r 200 miljard skenking aan kuba gegaan vertel tog vir anc kuba was nie  <br> in angola om anc te helponder soviet drang vorige kub ingenieurs water probeem opgelos\"],[\"agent_gianicos1\",\" <br> @kgomo389 that ship has sailed he is going to jail #zuma httpstcoqtimfivl0i <br>  <br>  <br> @kgomo389 that ship has sailed he is going to jail #zuma httpstcoqtimfivl0i <br>  <br> \"],[\"agent_gmalau32\",\" <br> @stephengrootes @safmradio i learned that he is just interested in focusing on guptas whilst his fri <br> ends bidvest glencore aspen are busy capturing the state under him one day we will have another comm <br> ission that focuses on corruption under his tenure he is no different from zuma and mbeki <br> @stephengrootes @safmradio i learned that he is just interested in focusing on guptas whilst his fri <br> ends bidvest glencore aspen are busy capturing the state under him one day we will have another comm <br> ission that focuses on corruption under his tenure he is no different from zuma and mbeki\"],[\"agent_gogoawi1\",\" <br> @advobarryroux he also said the money was available during zumas reign why is he only talking about  <br> it now exactly what is he hoping to achieve \\ud83e\\udd14 snakes <br>  <br> @advobarryroux he also said the money was available during zumas reign why is he only talking about  <br> it now exactly what is he hoping to achieve \\ud83e\\udd14 snakes <br> \"],[\"agent_gololimdidile\",\" <br> @snekhumalosa zuma ngempela ufelani kodwa kodwa engikwaziyo ramaphosa ngeke kuhlale kanjena bazomugw <br> inya naye soon <br>  <br> @snekhumalosa zuma ngempela ufelani kodwa kodwa engikwaziyo ramaphosa ngeke kuhlale kanjena bazomugw <br> inya naye soon <br> \"],[\"agent_goodnesstcm\",\" <br> @thandi_zuma \\ud83d\\udc83\\ud83d\\udc83\\ud83d\\ude02 <br>  <br>  <br> @thandi_zuma \\ud83d\\udc83\\ud83d\\udc83\\ud83d\\ude02 <br>  <br> \"],[\"agent_gordonh36515211\",\" <br> @sipho_gumede32 @jgz_foundation @vusisambo @timeslive i agree but their is one thing hindering me wh <br> y did bathlabile protected zuma like that when their is history between them rumour its has somethin <br> g to do with zuma foundation the inkandla community social development <br> @sipho_gumede32 @jgz_foundation @vusisambo @timeslive i agree but their is one thing hindering me wh <br> y did bathlabile protected zuma like that when their is history between them rumour its has somethin <br> g to do with zuma foundation the inkandla community social development\"],[\"agent_gravizaava\",\" <br> strymon zuma\\uff08\\u30d1\\u30ef\\u30fc\\u30b5\\u30d7\\u30e9\\u30a4\\uff09\\u3092\\u8cb7\\u3063\\u305f\\u306e\\u3067\\u30c6\\u30b9\\u30c8\\u3092\\u517c\\u306d\\u3066\\u7a7a\\u9593\\u7cfb\\u30a8\\u30d5\\u30a7\\u30af\\u30bf\\u30fc\\u3092\\u6570\\u73e0\\u7e4b\\u304e\\u306b\\u3057\\u3066\\u904a\\u3093\\u3060\\u3002 \\uff08\\u97f3\\u91cf\\u6ce8\\u610f\\uff09 httpstcok1l7pz0zvf <br>  <br>  <br> strymon zuma\\uff08\\u30d1\\u30ef\\u30fc\\u30b5\\u30d7\\u30e9\\u30a4\\uff09\\u3092\\u8cb7\\u3063\\u305f\\u306e\\u3067\\u30c6\\u30b9\\u30c8\\u3092\\u517c\\u306d\\u3066\\u7a7a\\u9593\\u7cfb\\u30a8\\u30d5\\u30a7\\u30af\\u30bf\\u30fc\\u3092\\u6570\\u73e0\\u7e4b\\u304e\\u306b\\u3057\\u3066\\u904a\\u3093\\u3060\\u3002 \\uff08\\u97f3\\u91cf\\u6ce8\\u610f\\uff09 httpstcok1l7pz0zvf <br>  <br> \"],[\"agent_growl_gt\",\" <br> @tana_k_zuma \\u3042\\u308a\\u304c\\u3068\\u3046\\u3054\\u3056\\u3044\\u307e\\u3059\\uff01 \\u3084\\u3063\\u3066\\u307f\\u307e\\u3059\\uff01\\uff01 <br>  <br>  <br> @tana_k_zuma \\u3042\\u308a\\u304c\\u3068\\u3046\\u3054\\u3056\\u3044\\u307e\\u3059\\uff01 \\u3084\\u3063\\u3066\\u307f\\u307e\\u3059\\uff01\\uff01 <br>  <br> \"],[\"agent_gseapo\",\" <br> @ramalokot you said jacob zuma was captured akere <br>  <br>  <br> @ramalokot you said jacob zuma was captured akere <br>  <br> \"],[\"agent_h24news_za\",\" <br> former president jacob zuma parted ways with his lawyers ahead of his arms deal linked corruption ca <br> se which is set to begin on 17 may httpstcoq4ga51fxqq <br>  <br> former president jacob zuma parted ways with his lawyers ahead of his arms deal linked corruption ca <br> se which is set to begin on 17 may httpstcoq4ga51fxqq <br> \"],[\"agent_haroma59brown\",\" <br> @lesiba_thabetha @aluvera2 @nationonlinemw @ramalokot you will surprised that such politicians have  <br> farms in malawizuma took advantage of a woman president that time\\ud83d\\ude02\\ud83d\\ude02 <br>  <br> @lesiba_thabetha @aluvera2 @nationonlinemw @ramalokot you will surprised that such politicians have  <br> farms in malawizuma took advantage of a woman president that time\\ud83d\\ude02\\ud83d\\ude02 <br> \"],[\"agent_henderwyy\",\" <br> @blueederyy @neocultevch suka bikin war giliran di bales bilangnya wijen duluan hskhsk lucuk u kodok <br>  zuma <br>  <br> @blueederyy @neocultevch suka bikin war giliran di bales bilangnya wijen duluan hskhsk lucuk u kodok <br>  zuma <br> \"],[\"agent_herbertduplessi\",\" <br> @duduzane__zuma yawn <br>  <br>  <br> @duduzane__zuma yawn <br>  <br> \"],[\"agent_hernanstruve2\",\" <br> pedir\\u00e1n prisi\\u00f3n para el expresidente sudafricano z link httpstcow5ulehsk2w descarga la app httpstcoq <br> zzl1ojmiz <br>  <br> pedir\\u00e1n prisi\\u00f3n para el expresidente sudafricano z link httpstcow5ulehsk2w descarga la app httpstcoq <br> zzl1ojmiz <br> \"],[\"agent_hferrei85545680\",\" <br> @amsmitrs @sa_mum except for zuma \\ud83d\\ude00 <br>  <br>  <br> @amsmitrs @sa_mum except for zuma \\ud83d\\ude00 <br>  <br> \"],[\"agent_hjmaluks\",\" <br> its time for chiefs to introduce an impact player in zuma #osekabasheba #babizebonke <br>  <br>  <br> its time for chiefs to introduce an impact player in zuma #osekabasheba #babizebonke <br>  <br> \"],[\"agent_hlengiwe_twala_\",\" <br> @pume_zuma thank you \\u263a\\ufe0f <br>  <br>  <br> @pume_zuma thank you \\u263a\\ufe0f <br>  <br> \"],[\"agent_hollywoodbets\",\" <br> #dstvprem @amazulufootball xi mothwa sikhakhane gumede mzava xoki makhaula sithebe mlambo chawapihwa <br>  mulenga mthembu @kaizerchiefs xi akpeyi ngezana zulu mphahlele cardoso agay matsheke mashiane nurko <br> vic zuma parker image copyright steve haag sports httpstcojxzr3bougg <br> #dstvprem @amazulufootball xi mothwa sikhakhane gumede mzava xoki makhaula sithebe mlambo chawapihwa <br>  mulenga mthembu @kaizerchiefs xi akpeyi ngezana zulu mphahlele cardoso agay matsheke mashiane nurko <br> vic zuma parker image copyright steve haag sports httpstcojxzr3bougg\"],[\"agent_honourablehloni\",\" <br> does dudu zuma stay at nkandla compound with her husband amp rest of the family httpstcoo7yfpvxuei <br>  <br>  <br> does dudu zuma stay at nkandla compound with her husband amp rest of the family httpstcoo7yfpvxuei <br>  <br> \"],[\"agent_houndsinpounds\",\" <br> lily is a playful sweet little gal amp is loving life especially playing with foster puppy zuma she  <br> is approximately 15 weeks amp 15 lbs she sweet playful and loving puppy she has had all ageappropria <br> te vaccinations will require boosters been spayed and microchipped \\ud83d\\udc47 <br> lily is a playful sweet little gal amp is loving life especially playing with foster puppy zuma she  <br> is approximately 15 weeks amp 15 lbs she sweet playful and loving puppy she has had all ageappropria <br> te vaccinations will require boosters been spayed and microchipped \\ud83d\\udc47\"],[\"agent_hugomasondo\",\" <br> @mrlungisa how is it sad tbey were an experiment to get #zuma out its done now they must leave next  <br> ul hear msimang being investigated after that beating video and finally be fired as well watch the s <br> pace <br> @mrlungisa how is it sad tbey were an experiment to get #zuma out its done now they must leave next  <br> ul hear msimang being investigated after that beating video and finally be fired as well watch the s <br> pace\"],[\"agent_hunapsk\",\" <br> political analyst and author moeletsi mbeki warning us about #cyrilramaphosa #ancmustfall #antilockd <br> ownprotest #cyrilramaphosastepdown #ramaphosamustfall #covid19sa #anchatessouthafricans #zumatrial z <br> uma #concurt #antilockdownmarch httpstcowwhykqog55 <br> political analyst and author moeletsi mbeki warning us about #cyrilramaphosa #ancmustfall #antilockd <br> ownprotest #cyrilramaphosastepdown #ramaphosamustfall #covid19sa #anchatessouthafricans #zumatrial z <br> uma #concurt #antilockdownmarch httpstcowwhykqog55\"],[\"agent_husslej\",\" <br> constitutional crossroads zuma exceptionalism in judicial and parliamentary scandal behind the remov <br> al of the public protector \\u2066@sanativesforum\\u2069 \\u2066@blackforum_sa\\u2069 \\u2066@publicprotector\\u2069 \\u2066@landnoli\\u2069 comrade <br> s have you read this httpstcoxlgow3agmg <br> constitutional crossroads zuma exceptionalism in judicial and parliamentary scandal behind the remov <br> al of the public protector \\u2066@sanativesforum\\u2069 \\u2066@blackforum_sa\\u2069 \\u2066@publicprotector\\u2069 \\u2066@landnoli\\u2069 comrade <br> s have you read this httpstcoxlgow3agmg\"],[\"agent_iloveismomo\",\" <br> @chargebolt_zuma @md_tamaki @_kiripimar_ quien dijo que es tu cu\\u00f1ada es mi cu\\u00f1ada parfavar\\ud83d\\ude44 <br>  <br>  <br> @chargebolt_zuma @wingedher0 amorcito porque dijiste que estaba buena esa se\\u00f1ora adem\\u00e1s de que te en <br> amor\\u00f3 a\\u00fan arrastr\\u00e1ndolo httpstcoxx3siyamru <br>  <br> @chargebolt_zuma @md_tamaki @_kiripimar_ quien dijo que es tu cu\\u00f1ada es mi cu\\u00f1ada parfavar\\ud83d\\ude44 <br>  <br>  <br> @chargebolt_zuma @wingedher0 amorcito porque dijiste que estaba buena esa se\\u00f1ora adem\\u00e1s de que te en <br> amor\\u00f3 a\\u00fan arrastr\\u00e1ndolo httpstcoxx3siyamru <br> \"],[\"agent_imbaliyase\",\" <br> 100 behind ubaba #zuma httpstcoupxybsmik8 <br>  <br>  <br> 100 behind ubaba #zuma httpstcoupxybsmik8 <br>  <br> \"],[\"agent_imtired777\",\" <br> @zuma_monty @meineme53821610 oder noch besser heroin <br>  <br>  <br> @zuma_monty @meineme53821610 oder noch besser heroin <br>  <br> \"],[\"agent_iol\",\" <br> the recent meeting between former president jacob zuma and eff leader julius malema some have argued <br>  has sought to undermine the tripartite alliance httpstcouiwbemankk <br>  <br> the recent meeting between former president jacob zuma and eff leader julius malema some have argued <br>  has sought to undermine the tripartite alliance httpstcouiwbemankk <br> \"],[\"agent_isshii140034\",\" <br> @zuma_taka @rosso_8010 \\u59d1\\u306e\\u5bb6\\u306e\\u3088\\u3046\\u306a\\u7aae\\u5c48\\u611f\\u3002 <br>  <br>  <br> @zuma_taka @rosso_8010 \\u59d1\\u306e\\u5bb6\\u306e\\u3088\\u3046\\u306a\\u7aae\\u5c48\\u611f\\u3002 <br>  <br> \"],[\"agent_ivyla222\",\" <br> @whylerato if you mean jacob zuma <br>  <br>  <br> @whylerato if you mean jacob zuma <br>  <br> \"],[\"agent_jackningi\",\" <br> @ruraltarain you are just another victim of channel 403 you see smart criminals meeting we see juliu <br> s malema meeting the former president jacob zuma <br>  <br> @ruraltarain you are just another victim of channel 403 you see smart criminals meeting we see juliu <br> s malema meeting the former president jacob zuma <br> \"],[\"agent_jacquescupido12\",\" <br> the @npa_prosecutes is preparing for imminent arrest of former president #zuma <br>  <br>  <br> the @npa_prosecutes is preparing for imminent arrest of former president #zuma <br>  <br> \"],[\"agent_jadon33558457\",\" <br> @luxioboi22 rocky and zuma showing thier huge ass <br>  <br>  <br> @luxioboi22 rocky and zuma showing thier huge ass <br>  <br> \"],[\"agent_jaydizaka\",\" <br> @itsyourgirlcax zuma <br>  <br>  <br> @itsyourgirlcax zuma <br>  <br> \"],[\"agent_jaymenno\",\" <br> @zuma_monty das geht mir \\u00e4hnlich da brauchen die sich nicht wundern wenn die leute die labil sind an <br> fangen ihr geschwurbel in die welt zu kotzen <br>  <br> @zuma_monty das geht mir \\u00e4hnlich da brauchen die sich nicht wundern wenn die leute die labil sind an <br> fangen ihr geschwurbel in die welt zu kotzen <br> \"],[\"agent_jazzmansa_dj\",\" <br> @fantastic_solo yes ordinary people do go to zumas house and visit <br>  <br>  <br> @fantastic_solo yes ordinary people do go to zumas house and visit <br>  <br> \"],[\"agent_jerieledwards7\",\" <br> @rocky78367875 rocky come on just love zuma dick in you <br>  <br>  <br> @rocky78367875 rocky come on just love zuma dick in you <br>  <br> \"],[\"agent_jjjholi7\",\" <br> i agree with judge zondo zuma should be arrested soonest and taken to pollsmoor im sure carl niehaus <br>  can donate a jar of vaseline <br>  <br> i agree with judge zondo zuma should be arrested soonest and taken to pollsmoor im sure carl niehaus <br>  can donate a jar of vaseline <br> \"],[\"agent_jobcenternga\",\" <br> job opportunities at amazuma group httpstconmzmsj6xra <br>  <br>  <br> job opportunities at amazuma group httpstconmzmsj6xra <br>  <br> \"],[\"agent_jonathantawil\",\" <br> @_calculator why now 1 because the birds are singing amp 2 cyril is trying to resurrect and make sur <br> e the zuma name remains tainted with conspiracy <br>  <br> @_calculator why now 1 because the birds are singing amp 2 cyril is trying to resurrect and make sur <br> e the zuma name remains tainted with conspiracy <br> \"],[\"agent_josemahapa\",\" <br> @floydshivambu @advdali_mpofu so zuma is no longer going to jail httpstcovxwdgtzgcx <br>  <br>  <br> @floydshivambu @advdali_mpofu so zuma is no longer going to jail httpstcovxwdgtzgcx <br>  <br> \"],[\"agent_juantxu66\",\" <br> @evaieven @el_zuma_ \\ud83d\\ude02\\ud83d\\ude02\\ud83d\\ude4b <br>  <br>  <br> @evaieven @el_zuma_ \\ud83d\\ude02\\ud83d\\ude02\\ud83d\\ude4b <br>  <br> \"],[\"agent_juliciousid\",\" <br> advmokoena so all these details that he is putting in this paragraph he is simply imagining themthey <br>  never happened duduzani zuma more than that chair its an environmental issue because now hes spent  <br> the whole page printing a whole bunch of staff that shouldnt be here <br> advmokoena so all these details that he is putting in this paragraph he is simply imagining themthey <br>  never happened duduzani zuma more than that chair its an environmental issue because now hes spent  <br> the whole page printing a whole bunch of staff that shouldnt be here\"],[\"agent_jvnaidoo1\",\" <br> @sabreakingnews honk honk for that what was this woman doing in parly all these days even voting aga <br> inst the vote of no confidence against zuma now she talks like a turkey <br>  <br> @sabreakingnews honk honk for that what was this woman doing in parly all these days even voting aga <br> inst the vote of no confidence against zuma now she talks like a turkey <br> \"],[\"agent_jxcdans08\",\" <br> blood and water #whatsthelevol #zuma httpstcoxjbumxvbs2 <br>  <br>  <br> blood and water #whatsthelevol #zuma httpstcoxjbumxvbs2 <br>  <br> \"],[\"agent_k3170makan\",\" <br> @01water @percysegopa1 @acebuys @nickhedley thats something you made up lol i dont need to manufactu <br> re the fact that zuma raped khwezi <br>  <br> @01water @percysegopa1 @acebuys @nickhedley thats something you made up lol i dont need to manufactu <br> re the fact that zuma raped khwezi <br> \"],[\"agent_kabeloseolwana\",\" <br> @kaizerchiefs play a 433 froslermathohocardoso and sasman blombaccus and ngcobo zumanurkovic and bil <br> liat use parkermanyamamashiane and castro as impact players <br>  <br> @kaizerchiefs play a 433 froslermathohocardoso and sasman blombaccus and ngcobo zumanurkovic and bil <br> liat use parkermanyamamashiane and castro as impact players <br> \"],[\"agent_kagisomonyadiwa\",\" <br> @presjgzumas legal team has advocate thabani masuku and @advdali_mpofu this case has all ingredients <br>  best action movies are made of great coverage by @newzroom405 \\ud83e\\udd1c\\ud83e\\udd1b\\ud83d\\ude4c\\ud83d\\udc4f\\ud83d\\udc4f\\ud83d\\udc4f\\ud83d\\udc4f\\ud83d\\udc4f #zuma #zumatrial httpstcoofo <br> cyoqxa3 <br> @presjgzumas legal team has advocate thabani masuku and @advdali_mpofu this case has all ingredients <br>  best action movies are made of great coverage by @newzroom405 \\ud83e\\udd1c\\ud83e\\udd1b\\ud83d\\ude4c\\ud83d\\udc4f\\ud83d\\udc4f\\ud83d\\udc4f\\ud83d\\udc4f\\ud83d\\udc4f #zuma #zumatrial httpstcoofo <br> cyoqxa3\"],[\"agent_katori78\",\" <br> #\\u56fd\\u5185\\u65c5\\u884c\\u3010#\\u611b\\u77e5 #\\u4e09\\u91cd \\u7de8\\u3011 \\u2708\\ufe0f#47\\u90fd\\u9053\\u5e9c\\u770c\\u306e\\u304a\\u3059\\u3059\\u3081 \\u3092\\u6559\\u3048\\u3066\\u304f\\u3060\\u3055\\u3044\\ud83d\\ude4b\\u200d\\u2640\\ufe0f\\u300a\\u73fe\\u572817 47\\u90fd\\u9053\\u5e9c\\u770c\\u5236\\u8987\\u300b with @piesaki @k_zuma_fmty @ayanakato_co <br> m chisato shimizu and \\u56fd\\u5185\\u65c5\\u884c\\u266147\\u90fd\\u9053\\u5e9c\\u770c\\u306e\\u304a\\u3059\\u3059\\u3081\\u2661 today apr 14 at 250 pm jst on @joinclubhouse httpstcovrokndk <br> r1o <br> #\\u56fd\\u5185\\u65c5\\u884c\\u3010#\\u611b\\u77e5 #\\u4e09\\u91cd \\u7de8\\u3011 \\u2708\\ufe0f#47\\u90fd\\u9053\\u5e9c\\u770c\\u306e\\u304a\\u3059\\u3059\\u3081 \\u3092\\u6559\\u3048\\u3066\\u304f\\u3060\\u3055\\u3044\\ud83d\\ude4b\\u200d\\u2640\\ufe0f\\u300a\\u73fe\\u572817 47\\u90fd\\u9053\\u5e9c\\u770c\\u5236\\u8987\\u300b with @piesaki @k_zuma_fmty @ayanakato_co <br> m chisato shimizu and \\u56fd\\u5185\\u65c5\\u884c\\u266147\\u90fd\\u9053\\u5e9c\\u770c\\u306e\\u304a\\u3059\\u3059\\u3081\\u2661 today apr 14 at 250 pm jst on @joinclubhouse httpstcovrokndk <br> r1o\"],[\"agent_kawagoederiheru\",\" <br> twitter\\u898b\\u305f\\u3067\\u66f4\\u306b\\u304a\\u5f97\\uff01\\uff01twitter\\u5272\\u5f15\\u304d\\u3067\\uffe51000\\u5272\\u5f15\\u306e\\u5ddd\\u8d8a\\u300c\\u79d8\\u5bc6\\u306e\\u5965\\u69d8\\u300dtwitter\\u898b\\u305f\\u306790\\u5206\\uffe515000\\u30db\\u30c6\\u30eb\\u4ee3\\u8fbc90\\u5206\\uffe517800httpwwwhimitsuzuma #\\u266f\\u98a8\\u4fd7 <br>  \\u266f\\u5ddd\\u8d8a \\u266f\\u4eba\\u59bb <br>  <br> twitter\\u898b\\u305f\\u3067\\u66f4\\u306b\\u304a\\u5f97\\uff01\\uff01twitter\\u5272\\u5f15\\u304d\\u3067\\uffe51000\\u5272\\u5f15\\u306e\\u5ddd\\u8d8a\\u300c\\u79d8\\u5bc6\\u306e\\u5965\\u69d8\\u300dtwitter\\u898b\\u305f\\u306790\\u5206\\uffe515000\\u30db\\u30c6\\u30eb\\u4ee3\\u8fbc90\\u5206\\uffe517800httpwwwhimitsuzuma #\\u266f\\u98a8\\u4fd7 <br>  \\u266f\\u5ddd\\u8d8a \\u266f\\u4eba\\u59bb <br> \"],[\"agent_kazuma__13\",\" <br> @zuma_4b11 \\u307b\\u3093\\u307e\\u3067\\u3063\\u304b\\uff01\\uff01 <br>  <br>  <br> @zuma_4b11 \\u307b\\u3093\\u307e\\u3067\\u3063\\u304b\\uff01\\uff01 <br>  <br> \"],[\"agent_kbwagers\",\" <br> in case you missed it yesterday a lovely \\u2b50\\ufe0freview from @kirkusreviews for hold fast through the fire <br>  the next adventure for the #neog crew of zumas ghost topnotch characterdriven science fiction https <br> tco1vqs6pdbyt <br> in case you missed it yesterday a lovely \\u2b50\\ufe0freview from @kirkusreviews for hold fast through the fire <br>  the next adventure for the #neog crew of zumas ghost topnotch characterdriven science fiction https <br> tco1vqs6pdbyt\"],[\"agent_kbyzanet\",\" <br> bitter jacob zuma fuelled by fury over ouster httpstcovbgoc31ohu <br>  <br>  <br> bitter jacob zuma fuelled by fury over ouster httpstcovbgoc31ohu <br>  <br> \"],[\"agent_ke_morakile\",\" <br> what do yall think is in those #cr17bankstatements le nagana ka gore zuma a rekisitse khantri ka leb <br> aka la curry jaanong le ramaphosa o jalo\\ud83d\\ude44 retards tsone mare \\ud83d\\ude02 <br>  <br> what do yall think is in those #cr17bankstatements le nagana ka gore zuma a rekisitse khantri ka leb <br> aka la curry jaanong le ramaphosa o jalo\\ud83d\\ude44 retards tsone mare \\ud83d\\ude02 <br> \"],[\"agent_keddah83\",\" <br> capitalism and tyranny insert zuma meme httpstcorwyzxkbl3f <br>  <br>  <br> capitalism and tyranny insert zuma meme httpstcorwyzxkbl3f <br>  <br> \"],[\"agent_kenyanjurist\",\" <br> president zuma requested the then chief justice of the republic of south africa justice sandile ngco <br> bo to remain in office for a further term of 5 years the chief justice accepted the request the cons <br> titutional court the request and extension invalid httpstco1x18rgbciq <br> president zuma requested the then chief justice of the republic of south africa justice sandile ngco <br> bo to remain in office for a further term of 5 years the chief justice accepted the request the cons <br> titutional court the request and extension invalid httpstco1x18rgbciq\"],[\"agent_kevan_logic\",\" <br> @radio702 this is what happens when you graduate from the jacob zuma school for math and numbers and <br>  stuff and then you enroll in the tito school for economics and pilchards httpstcof1xwlu33eu <br>  <br> @radio702 this is what happens when you graduate from the jacob zuma school for math and numbers and <br>  stuff and then you enroll in the tito school for economics and pilchards httpstcof1xwlu33eu <br> \"],[\"agent_kevinbiasaajaa\",\" <br> @gamesmenfess tim zuma aku mah <br>  <br>  <br> @gamesmenfess tim zuma aku mah <br>  <br> \"],[\"agent_kfactorsa1\",\" <br> #pleasehelpmepickthewinnwer of #lephupholimnandichallenge my latest single #lephupholimnandi on the  <br> clip issandile from efilidi in kzn #djfresh #ramaphosacollapsedsoes #leadusmatamela #loadshedding #r <br> amaphosafailedsouthafrica #karabohits2million #uzobuya sona zuma karabo httpstcodf80kf2o3y <br> #pleasehelpmepickthewinnwer of #lephupholimnandichallenge my latest single #lephupholimnandi on the  <br> clip issandile from efilidi in kzn #djfresh #ramaphosacollapsedsoes #leadusmatamela #loadshedding #r <br> amaphosafailedsouthafrica #karabohits2million #uzobuya sona zuma karabo httpstcodf80kf2o3y\"],[\"agent_kgabo48649279\",\" <br> @brandonkaule @_djcappuccino he was in pmb apologizing zuma <br>  <br>  <br> @brandonkaule @_djcappuccino he was in pmb apologizing zuma <br>  <br> \"],[\"agent_kgauzi\",\" <br> @mbawolive an inadvertent confession it also exposes the muddled thinking today zuma the hero is lik <br> ened to sobukwe a short moment later the same guy is likened to pw botha choose your struggles peopl <br> e <br> @mbawolive an inadvertent confession it also exposes the muddled thinking today zuma the hero is lik <br> ened to sobukwe a short moment later the same guy is likened to pw botha choose your struggles peopl <br> e\"],[\"agent_khanya_mntambo\",\" <br> #sonadebate dlaminizuma the upcoming local elections offer an opportunity to remedy our failures she <br>  urges parties to deploy capable leaders because these elections impact the lives of citizens heavil <br> y <br> #sonadebate dlaminizuma the upcoming local elections offer an opportunity to remedy our failures she <br>  urges parties to deploy capable leaders because these elections impact the lives of citizens heavil <br> y\"],[\"agent_khizzie\",\" <br> @khandanim i just used mondli as an example njenau r ryt about zuma thohe couldnt cope with the seae <br> yesee <br>  <br> @khandanim i just used mondli as an example njenau r ryt about zuma thohe couldnt cope with the seae <br> yesee <br> \"],[\"agent_khulaniqoma\",\" <br> the fact that judge president hlophe told justice nkabinde that there is no case against mr zuma aft <br> er saying that mr zuma was likely to become president of the country is revealing <br>  <br> the fact that judge president hlophe told justice nkabinde that there is no case against mr zuma aft <br> er saying that mr zuma was likely to become president of the country is revealing <br> \"],[\"agent_khumbu_m\",\" <br> @stoneman_o indeed like his cic wen he gave us jacob zuma to fuck our country up for 9 years <br>  <br>  <br> @stoneman_o indeed like his cic wen he gave us jacob zuma to fuck our country up for 9 years <br>  <br> \"],[\"agent_khumoentle_\",\" <br> president jacob zuma is independently responsible for the employment of south african journalists <br>  <br>  <br> president jacob zuma is independently responsible for the employment of south african journalists <br>  <br> \"],[\"agent_kiddo10132\",\" <br> @npa_prosecutes this is just about a meetingmeetings with zuma <br>  <br>  <br> @npa_prosecutes this is just about a meetingmeetings with zuma <br>  <br> \"],[\"agent_kirstblair\",\" <br> @derek_hanekom so when is the anc actually going to take some any action against zuma for consistent <br> ly going against policies and speaking against the policies of his apparent organization <br>  <br> @derek_hanekom so when is the anc actually going to take some any action against zuma for consistent <br> ly going against policies and speaking against the policies of his apparent organization <br> \"],[\"agent_klausrc\",\" <br> @mab_sp125 o diretor de biomanguinhos maur\\u00edcio zuma disse que at\\u00e9 o fim do m\\u00eas a fiocruz dever\\u00e1 entr <br> egar cerca de 6 milh\\u00f5es de doses por semana at\\u00e9 atingir o total de 1004 milh\\u00f5es previstas no contrat <br> o com a astrazeneca cujo cronograma seguir\\u00e1 at\\u00e9 julho <br> @mab_sp125 o diretor de biomanguinhos maur\\u00edcio zuma disse que at\\u00e9 o fim do m\\u00eas a fiocruz dever\\u00e1 entr <br> egar cerca de 6 milh\\u00f5es de doses por semana at\\u00e9 atingir o total de 1004 milh\\u00f5es previstas no contrat <br> o com a astrazeneca cujo cronograma seguir\\u00e1 at\\u00e9 julho\"],[\"agent_kteee12\",\" <br> @buju_bandit @iamsalesgirl that thandi zuma\\ud83d\\ude02\\ud83d\\ude02\\ud83d\\ude02 she blocked all exploras as a coward that she is so s <br> he can be saying shit about dora with her fellow dilusional prethough shipas allow them laugh their  <br> god didnt post abs today for them to hype <br> @buju_bandit @iamsalesgirl that thandi zuma\\ud83d\\ude02\\ud83d\\ude02\\ud83d\\ude02 she blocked all exploras as a coward that she is so s <br> he can be saying shit about dora with her fellow dilusional prethough shipas allow them laugh their  <br> god didnt post abs today for them to hype\"],[\"agent_kzazib\",\" <br> @drgray12072793 @jsteenhuisen tell your brother zuma to finish grade 2 <br>  <br>  <br> @drgray12072793 @jsteenhuisen tell your brother zuma to finish grade 2 <br>  <br> \"],[\"agent_la_revolucion99\",\" <br> @injengonina @mapeloojaserati @powerfm987 @aldrinsampear @safmradio at least aldrin probes amp quest <br> ions a lot of issues the other one just parrots rubbish from the racist media lacks impartiality whe <br> n it comes to zuma <br> @injengonina @mapeloojaserati @powerfm987 @aldrinsampear @safmradio at least aldrin probes amp quest <br> ions a lot of issues the other one just parrots rubbish from the racist media lacks impartiality whe <br> n it comes to zuma\"],[\"agent_lacitsioge\",\" <br> @rcghtpath \\u2800\\u2800\\u2800ia terkejut tetapi tangannya segera berusaha menagan sosokmu di punggungnya agar tidak <br>  jatuh \\u275dyoshi eh kamu tau\\u275e jika yoshinoya saja tahu maka memang hanya zuma si kodok saja yang tidak  <br> peka <br> @rcghtpath \\u2800\\u2800\\u2800ia terkejut tetapi tangannya segera berusaha menagan sosokmu di punggungnya agar tidak <br>  jatuh \\u275dyoshi eh kamu tau\\u275e jika yoshinoya saja tahu maka memang hanya zuma si kodok saja yang tidak  <br> peka\"],[\"agent_ladytee25222037\",\" <br> ayanda thabethe puts duduzane zuma in his place httpstco3odo8yenvu kwesta lil wayne ayanda <br>  <br>  <br> ayanda thabethe puts duduzane zuma in his place httpstco3odo8yenvu kwesta lil wayne ayanda <br>  <br> \"],[\"agent_lankie5571\",\" <br> @news24 @karynmaughan she possesses simlar attitude like her mate jacob zumastubborn amp belief that <br>  every9she does is right <br>  <br> @news24 @karynmaughan she possesses simlar attitude like her mate jacob zumastubborn amp belief that <br>  every9she does is right <br> \"],[\"agent_leastilikehats\",\" <br> shhh zuma is laying in bed with me being the little spoon <br>  <br>  <br> shhh zuma is laying in bed with me being the little spoon <br>  <br> \"],[\"agent_lebohangg8\",\" <br> where the is zuma its a guaranteed hit httpstco9hmdw0rjrj <br>  <br>  <br> where the is zuma its a guaranteed hit httpstco9hmdw0rjrj <br>  <br> \"],[\"agent_legodi77\",\" <br> @mashumbwa @sykotiq_chwk @mongezi_gibisa @musawenkhosidl2 zuma took over during one of the worst glo <br> bal recession i guess you wont know <br>  <br> @mashumbwa @sykotiq_chwk @mongezi_gibisa @musawenkhosidl2 zuma took over during one of the worst glo <br> bal recession i guess you wont know <br> \"],[\"agent_leona_ocean00\",\" <br> @singalot_am @dhc_oruganzaka @zuma_2416 @leiakatou @kanonsmall \\u304a\\u3081\\u3067\\u3068\\u3046\\u3054\\u3056\\u3044\\u307e\\u3059\\ud83d\\udc4f\\ud83d\\udc4f\\ud83d\\udc4f\\ud83d\\udc4f\\ud83c\\udf89\\ud83c\\udf89\\ud83c\\udf89\\u3297\\ufe0f <br>  <br>  <br> @singalot_am @dhc_oruganzaka @zuma_2416 @leiakatou @kanonsmall \\u304a\\u3081\\u3067\\u3068\\u3046\\u3054\\u3056\\u3044\\u307e\\u3059\\ud83d\\udc4f\\ud83d\\udc4f\\ud83d\\udc4f\\ud83d\\udc4f\\ud83c\\udf89\\ud83c\\udf89\\ud83c\\udf89\\u3297\\ufe0f <br>  <br> \"],[\"agent_leoskosana\",\" <br> @rhaduuxesibe zuma fired pravin and malema wanted him back <br>  <br>  <br> @rhaduuxesibe zuma fired pravin and malema wanted him back <br>  <br> \"],[\"agent_lesba007\",\" <br> @cyza @ruraltarain zuma will be issued with a warrant of arrest should he fails to appear at the com <br> mission <br>  <br> @cyza @ruraltarain zuma will be issued with a warrant of arrest should he fails to appear at the com <br> mission <br> \"],[\"agent_lethofb\",\" <br> @sanationalist wasnt the eff trying to humiliate zuma with that silent protest <br>  <br>  <br> @sanationalist wasnt the eff trying to humiliate zuma with that silent protest <br>  <br> \"],[\"agent_levigos\",\" <br> @kgomo389 way to go out of anc u mean bcos thats were its going to end era of projecting oneself as  <br> being above anc ended with zuma ppl have come to realize how dangerous amp costly it has caused anc  <br> theyll learn this weekend with ace cyril suspension letter he wrote undermined anc <br> @kgomo389 way to go out of anc u mean bcos thats were its going to end era of projecting oneself as  <br> being above anc ended with zuma ppl have come to realize how dangerous amp costly it has caused anc  <br> theyll learn this weekend with ace cyril suspension letter he wrote undermined anc\"],[\"agent_limpopo_mental\",\" <br> i remembered how this interview broke my heart and also how there was much noise in the country abou <br> t the president jacob zuma and gigaba did that live on cnn impressing those who wanted msholozi out  <br> httpstcoxsspvhrngo <br> i remembered how this interview broke my heart and also how there was much noise in the country abou <br> t the president jacob zuma and gigaba did that live on cnn impressing those who wanted msholozi out  <br> httpstcoxsspvhrngo\"],[\"agent_lindamnkhonto\",\" <br> @mightijamie zuma because we were a happier nation he might have been captured but he put a lot of b <br> lack people in our parliament hired black ceos unlike thumaminaguy <br>  <br> @mightijamie zuma because we were a happier nation he might have been captured but he put a lot of b <br> lack people in our parliament hired black ceos unlike thumaminaguy <br> \"],[\"agent_lindiwe16671575\",\" <br> @fraternityza @enca ramaphosa is much better than zuma i trust ramaphosa than zuma zuma didnt run a  <br> country the guptas did so please leave ramaphosa alone <br>  <br> @fraternityza @enca ramaphosa is much better than zuma i trust ramaphosa than zuma zuma didnt run a  <br> country the guptas did so please leave ramaphosa alone <br> \"],[\"agent_lindo_sibanda\",\" <br> @avhapfani702758 @ewnupdates @tshidi_lee you just dont want to believe him hence discrediting him if <br>  he was talking about zuma you would have understood everything i guess <br>  <br> @avhapfani702758 @ewnupdates @tshidi_lee you just dont want to believe him hence discrediting him if <br>  he was talking about zuma you would have understood everything i guess <br> \"],[\"agent_lionmaking\",\" <br> so zuma told zondo straight to voetsek httpstcoa9hphznph5 <br>  <br>  <br> so zuma told zondo straight to voetsek httpstcoa9hphznph5 <br>  <br> \"],[\"agent_lootgous\",\" <br> tim du plessis die val van zuma het by kodesa begin httpstcoalkdm6lqg2 shared via @netwerk24 <br>  <br>  <br> tim du plessis die val van zuma het by kodesa begin httpstcoalkdm6lqg2 shared via @netwerk24 <br>  <br> \"],[\"agent_lordwell12\",\" <br> @iol @afrinewsagency this is how malema and floyd supported zuma rape case <br>  <br>  <br> @iol @afrinewsagency this is how malema and floyd supported zuma rape case <br>  <br> \"],[\"agent_loyisosidimba\",\" <br> vryheid kzn lawyer bethuel mondli thusini has taken over from eric mabuza as former president jacob  <br> zumas attorney ahead of his fraud amp corruption trial <br>  <br> vryheid kzn lawyer bethuel mondli thusini has taken over from eric mabuza as former president jacob  <br> zumas attorney ahead of his fraud amp corruption trial <br> \"],[\"agent_lulu_anonymous\",\" <br> in sa youll see somizi trending but the tweets are all about atchaar and memes of zuma httpstcovebeo <br> 2ghga <br>  <br> in sa youll see somizi trending but the tweets are all about atchaar and memes of zuma httpstcovebeo <br> 2ghga <br> \"],[\"agent_lynetso\",\" <br> price of alcohol ban that dlaminizuma cele champion is poverty and misery vegter httpstco2f6u246lza  <br> via @biznewscom <br>  <br> price of alcohol ban that dlaminizuma cele champion is poverty and misery vegter httpstco2f6u246lza  <br> via @biznewscom <br> \"],[\"agent_mabitsela_ali\",\" <br> small fact black dollar millionaires increase during the zuma years <br>  <br>  <br> small fact black dollar millionaires increase during the zuma years <br>  <br> \"],[\"agent_mack84482549\",\" <br> following malema means turning yourself into a good liarhe once said hell die for zuma httpstcoklsl2 <br> fapnt <br>  <br> following malema means turning yourself into a good liarhe once said hell die for zuma httpstcoklsl2 <br> fapnt <br> \"],[\"agent_madiboity\",\" <br> what happened to this old man aubrey matshiqi a question was his take on zumas meeting with the top  <br> 6 and on zumas notes then the old man became a gossiper instead of an analyst was aubrey machiqi on  <br> the payroll of the sassa during zuma era what caused his degeneration httpstcot00ucuy5pn <br> what happened to this old man aubrey matshiqi a question was his take on zumas meeting with the top  <br> 6 and on zumas notes then the old man became a gossiper instead of an analyst was aubrey machiqi on  <br> the payroll of the sassa during zuma era what caused his degeneration httpstcot00ucuy5pn\"],[\"agent_madland33324253\",\" <br> @goolammv who is taking that chap serious at this day and agesome people decided to leave anc and be <br> come members of zuma and now they are stuck <br>  <br> @goolammv who is taking that chap serious at this day and agesome people decided to leave anc and be <br> come members of zuma and now they are stuck <br> \"],[\"agent_mahlaba02621244\",\" <br> anyone that old who did not feature in 76 or late 80 resistance were not in robben island or with ch <br> ris hani and zuma mara baphethe umbutho babekuphi httpstco5upg3pxfmo <br>  <br> anyone that old who did not feature in 76 or late 80 resistance were not in robben island or with ch <br> ris hani and zuma mara baphethe umbutho babekuphi httpstco5upg3pxfmo <br> \"],[\"agent_makhubedureube1\",\" <br> @city_press she seems to be on a mission the zuma family is in trouble <br>  <br>  <br> @city_press she seems to be on a mission the zuma family is in trouble <br>  <br> \"],[\"agent_malalaveve\",\" <br> @sapsu_sonke @comrademdu @cyrilramaphosa @safmradio also mention that he cant deal with jacob zuma w <br> hy you jumping that one \\ud83d\\ude44 <br>  <br> @sapsu_sonke @comrademdu @cyrilramaphosa @safmradio also mention that he cant deal with jacob zuma w <br> hy you jumping that one \\ud83d\\ude44 <br> \"],[\"agent_mamihl1\",\" <br> @briantkhumalo @nkokoma but he said he has no relationship with zuma and on his response to sikhakha <br> ne responses he conceded to relationship see docs of the case against zomdo to judicial services com <br> mission <br> @briantkhumalo @nkokoma but he said he has no relationship with zuma and on his response to sikhakha <br> ne responses he conceded to relationship see docs of the case against zomdo to judicial services com <br> mission\"],[\"agent_mamiriri_law\",\" <br> @zinhlengubane16 @phalane67253308 @mampotjek @landnoli remember lot of people where also bribing zum <br> a with monthly contributions so with cyril youll hear stories from the next president <br>  <br> @zinhlengubane16 @phalane67253308 @mampotjek @landnoli remember lot of people where also bribing zum <br> a with monthly contributions so with cyril youll hear stories from the next president <br> \"],[\"agent_manlo3362w\",\" <br> @irvinjimsa @audiothebrand but we know that zuma fucked up this company under your watch and you nev <br> er said anything <br>  <br> @irvinjimsa @audiothebrand but we know that zuma fucked up this company under your watch and you nev <br> er said anything <br> \"],[\"agent_manpower_within\",\" <br> all im saying is duduzane zuma said he wants to contest in 2024 now #tokyosexwale is talking about a <br>  president in their 30s connect the dots <br>  <br> all im saying is duduzane zuma said he wants to contest in 2024 now #tokyosexwale is talking about a <br>  president in their 30s connect the dots <br> \"],[\"agent_mapuler1\",\" <br> @duduzanezuma_ sa has become a circus since the zuma family landed in the union building s former pr <br> esident mbeki was removed accepted like a gentleman went quietly zuma family thinks anc and sa presi <br> dency is their birth right like royalty monies were looted but dont want to account \\ud83d\\udc40 <br> @duduzanezuma_ sa has become a circus since the zuma family landed in the union building s former pr <br> esident mbeki was removed accepted like a gentleman went quietly zuma family thinks anc and sa presi <br> dency is their birth right like royalty monies were looted but dont want to account \\ud83d\\udc40\"],[\"agent_mariebooysenss\",\" <br> @advobarryroux jacob zuma is facing thousands of criminal charges mainly corruption it was a mistake <br>  for @cyrilramaphosa to want to meet such a character <br>  <br> @advobarryroux jacob zuma is facing thousands of criminal charges mainly corruption it was a mistake <br>  for @cyrilramaphosa to want to meet such a character <br> \"],[\"agent_marobelakpm2\",\" <br> i hope zumas lawyer are learning how to conduct themselves and represent their client in the @statec <br> apturecom throwing tantrums and crying foul wont assist their client and them by extension <br>  <br> i hope zumas lawyer are learning how to conduct themselves and represent their client in the @statec <br> apturecom throwing tantrums and crying foul wont assist their client and them by extension <br> \"],[\"agent_massokomoz\",\" <br> mr jazziq amp kabza de small ft zuma reece madlisa mpura amp busta 929 kshada ban httpstco8xfyt8oix8 <br>  <br>  <br> mr jazziq amp kabza de small ft zuma reece madlisa mpura amp busta 929 kshada ban httpstco8xfyt8oix8 <br>  <br> \"],[\"agent_mateko_ptyltd\",\" <br> ltltthreadgtgt if you want to build or do extensionwe can turn your vision into a reality contactwha <br> tsapp us 067 2945 538 please rt this tweet maybe our clients is in your tl thank you chris hani airt <br> ime habib #djsbu boity zuma savanna which sa king zwelithini reece anele cyril httpstcovu2eub2li8 <br> ltltthreadgtgt if you want to build or do extensionwe can turn your vision into a reality contactwha <br> tsapp us 067 2945 538 please rt this tweet maybe our clients is in your tl thank you chris hani airt <br> ime habib #djsbu boity zuma savanna which sa king zwelithini reece anele cyril httpstcovu2eub2li8\"],[\"agent_matepamela\",\" <br> alsocan someone ask @duduzane__zuma to respond to my dm <br>  <br>  <br> alsocan someone ask @duduzane__zuma to respond to my dm <br>  <br> \"],[\"agent_mathivhankhang1\",\" <br> @kgomo389 @ruraltarain wheres zuma here <br>  <br>  <br> @kgomo389 @ruraltarain wheres zuma here <br>  <br> \"],[\"agent_matlharini1\",\" <br> @sundaytimesza the zumas take people forgranted duduzane takes us for fools how can he even think th <br> at when a certain portion of people when they cheer for him it means that he can be a president tell <br>  him to ask tokyo phosa l sisulu dlaminizuma etc <br> @sundaytimesza the zumas take people forgranted duduzane takes us for fools how can he even think th <br> at when a certain portion of people when they cheer for him it means that he can be a president tell <br>  him to ask tokyo phosa l sisulu dlaminizuma etc\"],[\"agent_matoti_siya\",\" <br> @gianicos1 zuma was the best african president ever <br>  <br>  <br> @gianicos1 zuma was the best african president ever <br>  <br> \"],[\"agent_matsobanelanga\",\" <br> @zwelinzima1 whats your view on zuma refusing to give evidence to the zondo commission stop fighting <br>  the israel palestine war and focus on issues affecting your own country <br>  <br> @zwelinzima1 whats your view on zuma refusing to give evidence to the zondo commission stop fighting <br>  the israel palestine war and focus on issues affecting your own country <br> \"],[\"agent_mbonii\",\" <br> @reasontafireyi zumas child <br>  <br>  <br> @reasontafireyi zumas child <br>  <br> \"],[\"agent_mbuthumayanga\",\" <br> @notyetuhuru_ the jacob zuma laugh in the end \\ud83d\\ude2d\\ud83d\\ude2d\\ud83d\\ude2d\\ud83d\\ude2d <br>  <br>  <br> @notyetuhuru_ the jacob zuma laugh in the end \\ud83d\\ude2d\\ud83d\\ude2d\\ud83d\\ude2d\\ud83d\\ude2d <br>  <br> \"],[\"agent_mcdsibuyi\",\" <br> @mbuyisenindlozi im sure his response will be more of glorifying #zuma and vilifying #cyril informed <br>  by the #teawithzuma <br>  <br> @mbuyisenindlozi im sure his response will be more of glorifying #zuma and vilifying #cyril informed <br>  by the #teawithzuma <br> \"],[\"agent_mcoolisi\",\" <br> @mshengukwazi what happened to zuma must fall <br>  <br>  <br> @mshengukwazi what happened to zuma must fall <br>  <br> \"],[\"agent_mczuks\",\" <br> @_africansoil this guy is too compromisedu know even if zuma was guiltyhis incompetence as a judge h <br> as failed this commission <br>  <br> @_africansoil this guy is too compromisedu know even if zuma was guiltyhis incompetence as a judge h <br> as failed this commission <br> \"],[\"agent_mdletshe_bb\",\" <br> @listentounders2 @braaubrey @braaubrey who wrote the statement of defiance towards the zondo commiss <br> ion jacob himself or the jg zuma foundation because the summons to appear before the commission will <br>  be sent to be former not the latter <br> @listentounders2 @braaubrey @braaubrey who wrote the statement of defiance towards the zondo commiss <br> ion jacob himself or the jg zuma foundation because the summons to appear before the commission will <br>  be sent to be former not the latter\"],[\"agent_mightijamie\",\" <br> what you need to know today western cape judge president john hlophe has been found guilty of miscon <br> duct by a judicial conduct tribunal this is related to his attempts to lobby constitutional court ju <br> dges to rule in favor of zuma he may end up impeached as a result httpstcofwrbyabn8v <br> what you need to know today western cape judge president john hlophe has been found guilty of miscon <br> duct by a judicial conduct tribunal this is related to his attempts to lobby constitutional court ju <br> dges to rule in favor of zuma he may end up impeached as a result httpstcofwrbyabn8v\"],[\"agent_mikevladimir_\",\" <br> @mhlonishwa80 he is scheduled to appear at the commission and zuma has been declining since last yea <br> r so thats why i said sowhat is it that zuma is hidingif he is innocent he must just go and answer u <br> nless he knows that the evidence before the commission is hard to espace <br> @mhlonishwa80 he is scheduled to appear at the commission and zuma has been declining since last yea <br> r so thats why i said sowhat is it that zuma is hidingif he is innocent he must just go and answer u <br> nless he knows that the evidence before the commission is hard to espace\"],[\"agent_miyahtie\",\" <br> \\u00ab zuma a baki dadi gare ta kin bani taki na lasa indai a kanki ne nayi nisa dan ba kiran da zan amsa <br>  \\u00bb <br>  <br> \\u00ab zuma a baki dadi gare ta kin bani taki na lasa indai a kanki ne nayi nisa dan ba kiran da zan amsa <br>  \\u00bb <br> \"],[\"agent_mlindelimm\",\" <br> @_africansoil president zuma preferred his then dp but the guy challenged him in mangaung and was hu <br> miliated 8020\\ud83e\\udd23 umsholozi wayazi kahle inyoka le <br>  <br> @_africansoil president zuma preferred his then dp but the guy challenged him in mangaung and was hu <br> miliated 8020\\ud83e\\udd23 umsholozi wayazi kahle inyoka le <br> \"],[\"agent_mmididi69\",\" <br> @toffie27063537 @effsouthafrica @brieflyza @julius_s_malema well if he dont listen to me as a voter  <br> zuma will vote on my behalf <br>  <br> @toffie27063537 @effsouthafrica @brieflyza @julius_s_malema well if he dont listen to me as a voter  <br> zuma will vote on my behalf <br> \"],[\"agent_moholomoatli\",\" <br> you are missing the point anc decision are taken at the nec meeting and zuma did not support the mov <br> e to remove thabo mbeki httpstcou1q2900wy6 <br>  <br> you are missing the point anc decision are taken at the nec meeting and zuma did not support the mov <br> e to remove thabo mbeki httpstcou1q2900wy6 <br> \"],[\"agent_mokoka_tshepang\",\" <br> \\ud83d\\ude02\\ud83d\\ude02\\ud83d\\ude02 president zuma always had that thing\\ud83e\\udd23\\ud83e\\udd23\\ud83e\\udd23 httpstcoje2bkwzxp0 <br>  <br>  <br> \\ud83d\\ude02\\ud83d\\ude02\\ud83d\\ude02 president zuma always had that thing\\ud83e\\udd23\\ud83e\\udd23\\ud83e\\udd23 httpstcoje2bkwzxp0 <br>  <br> \"],[\"agent_moloko_kb\",\" <br> @wealthycry yesterday all eff members hated jacob zuma today all eff members love zuma httpstcoac6s5 <br> mfppa <br>  <br> @wealthycry yesterday all eff members hated jacob zuma today all eff members love zuma httpstcoac6s5 <br> mfppa <br> \"],[\"agent_molvizada\",\" <br> @zuma_ashna_razi yara pregda ae na waim lol <br>  <br>  <br> @zuma_ashna_razi yara pregda ae na waim lol <br>  <br> \"],[\"agent_momo_chaaa_n2\",\" <br> @zuma_okemaru \\u306a\\u3061\\u3083\\u3055\\u3093\\u304c\\u8ffd\\u52a0\\u3057\\u3066\\u3082\\u3089\\u3063\\u3066\\u308b\\u304b\\u3089\\u5927\\u4e08\\u592b\\u307f\\u305f\\u3044\\uff01 \\u3088\\u308d\\u3057\\u304f\\u304a\\u9858\\u3044\\u3057\\u307e\\u30fc\\u3059\\ud83d\\ude47\\u200d\\u2640\\ufe0f\\ud83d\\udc97 <br>  <br>  <br> @zuma_okemaru \\u306a\\u3061\\u3083\\u3055\\u3093\\u304c\\u8ffd\\u52a0\\u3057\\u3066\\u3082\\u3089\\u3063\\u3066\\u308b\\u304b\\u3089\\u5927\\u4e08\\u592b\\u307f\\u305f\\u3044\\uff01 \\u3088\\u308d\\u3057\\u304f\\u304a\\u9858\\u3044\\u3057\\u307e\\u30fc\\u3059\\ud83d\\ude47\\u200d\\u2640\\ufe0f\\ud83d\\udc97 <br>  <br> \"],[\"agent_monyane__lodge\",\" <br> guests had guests \\ud83e\\udd9a \\ud83d\\udccdbelabela #skeemsaam #gomoramzanzi zuma ntokozo #deadbeats mazet #kingpie #etvsc <br> andal #etvscandal #mzaliwam #jobseekerssa thabo #djsbu simo #keadrive httpstcosgdfe1whdj <br>  <br> guests had guests \\ud83e\\udd9a \\ud83d\\udccdbelabela #skeemsaam #gomoramzanzi zuma ntokozo #deadbeats mazet #kingpie #etvsc <br> andal #etvscandal #mzaliwam #jobseekerssa thabo #djsbu simo #keadrive httpstcosgdfe1whdj <br> \"],[\"agent_moroke_thabo\",\" <br> @cheetahplains if you were an attorney would you shun such an opportunity think about it zuma and hi <br> s cohorts are there for the taking <br>  <br> @cheetahplains if you were an attorney would you shun such an opportunity think about it zuma and hi <br> s cohorts are there for the taking <br> \"],[\"agent_mosesmazibuko3\",\" <br> mbeki was using npa to fight political battles ramaphosa is using justice dept to fight political ba <br> ttle the only people that are on zumas side is this group httpstco66ntqkl2we <br>  <br> mbeki was using npa to fight political battles ramaphosa is using justice dept to fight political ba <br> ttle the only people that are on zumas side is this group httpstco66ntqkl2we <br> \"],[\"agent_mosola_73692\",\" <br> @dijosti can we add more lies about meeting umgodoyi \\ud83d\\ude44 take legal action against the ex pp for relea <br> sing recordings exposing a rotten lying zuma <br>  <br> @dijosti can we add more lies about meeting umgodoyi \\ud83d\\ude44 take legal action against the ex pp for relea <br> sing recordings exposing a rotten lying zuma <br> \"],[\"agent_motema_bokang\",\" <br> @sthedotman @black_mathanda @bjpants60 @hloniphantswam @khandanim @gentlements \\ud83d\\ude02 im not even aware a <br> re you for real man i mean you being way out of scope here we were on about trevor not making jokes  <br> about cr i asked 1 question and mentioned everyone got their hidden skeletons atleast cr still respects the country unlike zuma did <br> @sthedotman @black_mathanda @bjpants60 @hloniphantswam @khandanim @gentlements \\ud83d\\ude02 im not even aware a <br> re you for real man i mean you being way out of scope here we were on about trevor not making jokes  <br> about cr i asked 1 question and mentioned everyone got their hidden skeletons atleast cr still respects the country unlike zuma did\"],[\"agent_motshoanemabena\",\" <br> an anc ret member i dont take ramaphosa seriousi am waiting for nkosazana zuma and carl niehaus to c <br> onfirm whether its true that we are in level 2 httpstcofd2vsbvmhc <br>  <br> an anc ret member i dont take ramaphosa seriousi am waiting for nkosazana zuma and carl niehaus to c <br> onfirm whether its true that we are in level 2 httpstcofd2vsbvmhc <br> \"],[\"agent_mphahlelemm\",\" <br> it is because the issues relating to a president of the country are constitutional in nature zuma is <br>  standing accused in the commission because he was a state president to capture the state the head o <br> f state must be involved httpstcogy4a9l09yv <br> it is because the issues relating to a president of the country are constitutional in nature zuma is <br>  standing accused in the commission because he was a state president to capture the state the head o <br> f state must be involved httpstcogy4a9l09yv\"],[\"agent_mpholebeloane\",\" <br> @kabelodick @homeaffairssa @myanc zuma once said anc will rule till kindom come <br>  <br>  <br> @kabelodick @homeaffairssa @myanc zuma once said anc will rule till kindom come <br>  <br> \"],[\"agent_mqondisi\",\" <br> @duduzane__zuma brain molefe did wonders today \\ud83d\\ude4c\\ud83d\\ude4c\\ud83d\\ude4c\\ud83d\\ude4c\\ud83d\\ude01 <br>  <br>  <br> @duduzane__zuma brain molefe did wonders today \\ud83d\\ude4c\\ud83d\\ude4c\\ud83d\\ude4c\\ud83d\\ude4c\\ud83d\\ude01 <br>  <br> \"],[\"agent_mr_mawuli\",\" <br> @reginald_ankasa @knii_enoch na jacob zuma wey do that one ooo\\ud83d\\ude02\\ud83d\\ude02 <br>  <br>  <br> @reginald_ankasa @knii_enoch na jacob zuma wey do that one ooo\\ud83d\\ude02\\ud83d\\ude02 <br>  <br> \"],[\"agent_mrlee_1\",\" <br> @ndlovupowen that will be the funniest moment ever in that kangaroo commission pretoriuss biggest as <br> signment is zumawe have all seen by now <br>  <br> @ndlovupowen that will be the funniest moment ever in that kangaroo commission pretoriuss biggest as <br> signment is zumawe have all seen by now <br> \"],[\"agent_mrsono_\",\" <br> @donaldmathekga dlamini zuma has revolutionised every portfolio she has ever been a part of <br>  <br>  <br> @donaldmathekga dlamini zuma has revolutionised every portfolio she has ever been a part of <br>  <br> \"],[\"agent_msigi_emotion\",\" <br> 1 whatever happened to zumas recusal application at high court why dont you start here also 2 whatev <br> er happened with the case to unseal cr17 bank statements 3 whatever happened to the case of secret v <br> ote to impeach cr httpstcozoakqmm8ff <br> 1 whatever happened to zumas recusal application at high court why dont you start here also 2 whatev <br> er happened with the case to unseal cr17 bank statements 3 whatever happened to the case of secret v <br> ote to impeach cr httpstcozoakqmm8ff\"],[\"agent_msomi_nb\",\" <br> @nhlanhla_365 @melanin_mmaps @kgomo389 i say their silence because they used to make too much noise  <br> during the zuma era even for small stuff but under ramaphosa big things are happening and they chose <br>  to be quiet \\ud83e\\udd14 i cant stress no more about their policies about foreigners straight up bvllshit \\ud83d\\udeae <br> @nhlanhla_365 @melanin_mmaps @kgomo389 i say their silence because they used to make too much noise  <br> during the zuma era even for small stuff but under ramaphosa big things are happening and they chose <br>  to be quiet \\ud83e\\udd14 i cant stress no more about their policies about foreigners straight up bvllshit \\ud83d\\udeae\"],[\"agent_msyafiqn\",\" <br> pengen download game zuma kunjungi httpstcor2h7qnvze8 <br>  <br>  <br> pengen download game zuma kunjungi httpstcor2h7qnvze8 <br>  <br> \"],[\"agent_mthuli4\",\" <br> @nkinga_ @karynmaughan shes angry that she gave a wrong report to her masters in stellenbosch that h <br> er lifetime projectzuma was finished only to find its only getting momentum in kwadakwadunuse <br>  <br> @nkinga_ @karynmaughan shes angry that she gave a wrong report to her masters in stellenbosch that h <br> er lifetime projectzuma was finished only to find its only getting momentum in kwadakwadunuse <br> \"],[\"agent_musiwalomusiwal\",\" <br> follow me i will follow you back #djsbu #johannesburg #boksburg #kingzwelithini #zuma httpstcocmdzkk <br> ru6v <br>  <br> follow me i will follow you back #djsbu #johannesburg #boksburg #kingzwelithini #zuma httpstcocmdzkk <br> ru6v <br> \"],[\"agent_mvelelizimba\",\" <br> @aldrinsampear @cathymohlahlana they lost me as voter for sureloved eff but mgxitama analysis eff me <br> eting with zuma was spot on <br>  <br> @aldrinsampear @cathymohlahlana they lost me as voter for sureloved eff but mgxitama analysis eff me <br> eting with zuma was spot on <br> \"],[\"agent_mxolisiy\",\" <br> @madiboity sobukwe must be turning in his grave to be associated with zuma <br>  <br>  <br> @madiboity sobukwe must be turning in his grave to be associated with zuma <br>  <br> \"],[\"agent_mylandyes\",\" <br> @ernstroets many anc cadres are sweating bullets that zuma will take them down dont be surprised whe <br> n the heat is on zuma meets with an untimely demise <br>  <br> @ernstroets many anc cadres are sweating bullets that zuma will take them down dont be surprised whe <br> n the heat is on zuma meets with an untimely demise <br> \"],[\"agent_mzamogalore\",\" <br> people bought this account to push the zuma agenda httpstcok62dkj61xg <br>  <br>  <br> people bought this account to push the zuma agenda httpstcok62dkj61xg <br>  <br> \"],[\"agent_mzitho_10\",\" <br> @advobarryroux how did zuma become president <br>  <br>  <br> @advobarryroux how did zuma become president <br>  <br> \"],[\"agent_nacomusume\",\" <br> @zuma__nymm77 \\u30c4\\u30ab\\u30ec\\u30bf\\u30c4\\u30ab\\u30ec\\u30bf\\u30e8 <br>  <br>  <br> @zuma__nymm77 \\u30c4\\u30ab\\u30ec\\u30bf\\u30c4\\u30ab\\u30ec\\u30bf\\u30e8 <br>  <br> \"],[\"agent_naqibahw\",\" <br> look how yall can catch ordinary people quick but yall let zuma make a joke of our justice system ht <br> tpstcozalrf5hwio <br>  <br> look how yall can catch ordinary people quick but yall let zuma make a joke of our justice system ht <br> tpstcozalrf5hwio <br> \"],[\"agent_narumi_usui\",\" <br> @guitarist_zuma \\u304a\\u3081\\u3067\\u3068\\u3046\\ud83c\\udf7e\\ud83c\\udf8a\\ud83c\\udf89 httpstco1rtb1hrcrg <br>  <br>  <br> @guitarist_zuma \\u304a\\u3081\\u3067\\u3068\\u3046\\ud83c\\udf7e\\ud83c\\udf8a\\ud83c\\udf89 httpstco1rtb1hrcrg <br>  <br> \"],[\"agent_ncalankosinathi\",\" <br> south african kingship african national congress nelson mandela primary spouse garca machel thabo mb <br> eki primary spouse zanele dlamini mbeki jacob zuma spouse gertrude sizakele khumalo walter sisulu sp <br> ouse albertina sisulu oliver tambo spouse adelaide tambo httpstcoivrr9zbnyx <br> south african kingship african national congress nelson mandela primary spouse garca machel thabo mb <br> eki primary spouse zanele dlamini mbeki jacob zuma spouse gertrude sizakele khumalo walter sisulu sp <br> ouse albertina sisulu oliver tambo spouse adelaide tambo httpstcoivrr9zbnyx\"],[\"agent_ndingu_ta_yam\",\" <br> @duduzane__zuma this guy here forgets he was a money funnel during his fathers tenure as president <br>  <br>  <br> @duduzane__zuma this guy here forgets he was a money funnel during his fathers tenure as president <br>  <br> \"],[\"agent_nekare_\",\" <br> @el_zuma_ si se est\\u00e1 levantando el asfalto s\\u00ed <br>  <br>  <br> @el_zuma_ si se est\\u00e1 levantando el asfalto s\\u00ed <br>  <br> \"],[\"agent_nevhulaudzipas1\",\" <br> @ndevhetsini ubva vondwe matatshe block 4nne ndivhona vhana mbuno ngauri vho jacob zuma vhono hulela <br>  mulayo wa fhano vha vhoto jia heli shango li lavho zwine zwikho shonisa nne ndi ima na vha dzangano <br>  la dzikereke <br> @ndevhetsini ubva vondwe matatshe block 4nne ndivhona vhana mbuno ngauri vho jacob zuma vhono hulela <br>  mulayo wa fhano vha vhoto jia heli shango li lavho zwine zwikho shonisa nne ndi ima na vha dzangano <br>  la dzikereke\"],[\"agent_news24\",\" <br> httpstcoby0kbr5hqv zuma wants to see justice being done for all south africans says mzwanele manyi h <br> ttpstcopdc4vlsz92 <br>  <br> httpstcoby0kbr5hqv zuma wants to see justice being done for all south africans says mzwanele manyi h <br> ttpstcopdc4vlsz92 <br> \"],[\"agent_newsafricanow\",\" <br> there was no intention by zuma to undermine sas constitution anc httpstco2wfh2me129 <br>  <br>  <br> zumas refusal to appear at state capture inquiry could have serious political implications sacc http <br> stcoqvbgcamdc4 <br>  <br> there was no intention by zuma to undermine sas constitution anc httpstco2wfh2me129 <br>  <br>  <br> zumas refusal to appear at state capture inquiry could have serious political implications sacc http <br> stcoqvbgcamdc4 <br> \"],[\"agent_nexus_20th\",\" <br> @abby_kooo @zuma_oripa \\u3042\\u306e\\u5c0f\\u3055\\u3044\\u30ab\\u30c3\\u30d7\\u306b\\u6c34\\u3092\\u5165\\u308c\\u3001 \\u6301\\u3063\\u3066\\u884c\\u304d\\u305f\\u3044\\u3068\\u306d\\u3060\\u308b\\u5b50\\u305f\\u3061\\u306b\\u3053\\u307c\\u3059\\u306e\\u3092\\u5206\\u304b\\u3063\\u3066\\u3044\\u3066\\u6e21\\u3059\\u6050\\u6016\\u304c\\u308f\\u304b\\u308b\\u304b\\uff01\\uff01w <br>  <br>  <br> @abby_kooo @zuma_oripa \\u3042\\u306e\\u5c0f\\u3055\\u3044\\u30ab\\u30c3\\u30d7\\u306b\\u6c34\\u3092\\u5165\\u308c\\u3001 \\u6301\\u3063\\u3066\\u884c\\u304d\\u305f\\u3044\\u3068\\u306d\\u3060\\u308b\\u5b50\\u305f\\u3061\\u306b\\u3053\\u307c\\u3059\\u306e\\u3092\\u5206\\u304b\\u3063\\u3066\\u3044\\u3066\\u6e21\\u3059\\u6050\\u6016\\u304c\\u308f\\u304b\\u308b\\u304b\\uff01\\uff01w <br>  <br> \"],[\"agent_nghamulab\",\" <br> if i found guilty it means i can easily defy a court order and my reference will be the former presi <br> dent #zuma <br>  <br> if i found guilty it means i can easily defy a court order and my reference will be the former presi <br> dent #zuma <br> \"],[\"agent_nhleiks5\",\" <br> @plmyburgh @dailymaverick is mkhize your new zuma \\ud83e\\udd23\\ud83e\\udd23\\ud83e\\udd23 <br>  <br>  <br> @plmyburgh @dailymaverick is mkhize your new zuma \\ud83e\\udd23\\ud83e\\udd23\\ud83e\\udd23 <br>  <br> \"],[\"agent_nickymi50637242\",\" <br> bjale ka ge zuma e le chief le ramaphosa e le chief nkane ba sa bolele polelo e tee <br>  <br>  <br> bjale ka ge zuma e le chief le ramaphosa e le chief nkane ba sa bolele polelo e tee <br>  <br> \"],[\"agent_nicoleonneile\",\" <br> @randoboe @babeswamakeys @diegochuene do you think malema or zuma wouldve done any better dont be st <br> upid <br>  <br> @randoboe @babeswamakeys @diegochuene do you think malema or zuma wouldve done any better dont be st <br> upid <br> \"],[\"agent_niklosstephan\",\" <br> httpstcot5v7cvey1e <br>  <br>  <br> httpstcot5v7cvey1e <br>  <br> \"],[\"agent_nishipapa1\",\" <br> @zuma_oripa \\u5c11\\u984d\\u306a\\u3089\\u5916\\u3057\\u3066\\u3082\\u8a31\\u3057\\u3066\\u304f\\u308c\\u307e\\u3059\\u3088\\u306d\\uff1f\\u7b11 <br>  <br>  <br> @zuma_oripa \\u5c11\\u984d\\u306a\\u3089\\u5916\\u3057\\u3066\\u3082\\u8a31\\u3057\\u3066\\u304f\\u308c\\u307e\\u3059\\u3088\\u306d\\uff1f\\u7b11 <br>  <br> \"],[\"agent_nkanyisohhhh\",\" <br> @realitystriker @hadebem2 @msigi_emotion so u would rather allow the law to be fucked up to prove th <br> at zuma is not above the law <br>  <br> @realitystriker @hadebem2 @msigi_emotion so u would rather allow the law to be fucked up to prove th <br> at zuma is not above the law <br> \"],[\"agent_nkatekosibs\",\" <br> i truly believe we stood more chance of reversing the ills of apartheid with #zuma than with #cyril  <br> but i cant be deaf to the monies that have been lost in the process there is the good initiatives an <br> d the bad that we must engage on <br> i truly believe we stood more chance of reversing the ills of apartheid with #zuma than with #cyril  <br> but i cant be deaf to the monies that have been lost in the process there is the good initiatives an <br> d the bad that we must engage on\"],[\"agent_nkosiemlaba\",\" <br> @cyrilzuma u zuma umsholozi indoda danko is thank you nxamalala <br>  <br>  <br> @cyrilzuma u zuma umsholozi indoda danko is thank you nxamalala <br>  <br> \"],[\"agent_nkululekonicho4\",\" <br> @mzwandilemasina @julius_s_malema @presjgzuma mzwandile masina will forever embraces zuma even thoug <br> h we need to move forward you will never be able to a leader for life <br>  <br> @mzwandilemasina @julius_s_malema @presjgzuma mzwandile masina will forever embraces zuma even thoug <br> h we need to move forward you will never be able to a leader for life <br> \"],[\"agent_nmoneedinkuli\",\" <br> @african_spring you guys are dreamingthere are no more news in this country you hear a story there a <br> nd there about corruptionwe wouldnt have been investigating ppe if it werent for pietyour media cant <br>  expose the owner like they did zumameaning cyril so eff is newsat least jz case helps <br> @african_spring you guys are dreamingthere are no more news in this country you hear a story there a <br> nd there about corruptionwe wouldnt have been investigating ppe if it werent for pietyour media cant <br>  expose the owner like they did zumameaning cyril so eff is newsat least jz case helps\"],[\"agent_nntombi_nkosi\",\" <br> breaking news in a late night announcement on saturday western cape judge president judge john hloph <br> e has been found guilty of trying to improperly influence two judges to rule in favour of former pre <br> sident jacob zuma <br> breaking news in a late night announcement on saturday western cape judge president judge john hloph <br> e has been found guilty of trying to improperly influence two judges to rule in favour of former pre <br> sident jacob zuma\"],[\"agent_noahginting\",\" <br> @syaripova @hurybem_ @idextratime @nizaarkinsella bener bnget stuju untuk 3 line belakang chrissilva <br> rudi utk zuma yg sering panikan padhal udah lama di epl sprtinya pntas utk di jual n beli pemain ses <br> uai keinginan tuchel <br> @syaripova @hurybem_ @idextratime @nizaarkinsella bener bnget stuju untuk 3 line belakang chrissilva <br> rudi utk zuma yg sering panikan padhal udah lama di epl sprtinya pntas utk di jual n beli pemain ses <br> uai keinginan tuchel\"],[\"agent_noticiaaominuto\",\" <br> jacob zuma recusa depor sobre corrup\\u00e7\\u00e3o no seu mandato httpstcoqaag0cmhzp #mundoaominuto <br>  <br>  <br> jacob zuma recusa depor sobre corrup\\u00e7\\u00e3o no seu mandato httpstcoqaag0cmhzp #mundoaominuto <br>  <br> \"],[\"agent_noxman_gumula\",\" <br> as long the media is busy entertaining #zuma believe me you he will give them a good show <br>  <br>  <br> as long the media is busy entertaining #zuma believe me you he will give them a good show <br>  <br> \"],[\"agent_nqubekomlaba1\",\" <br> @superiorzulu ey we have no one but ourselves as citizens of this country these criminals are protec <br> ting each other if it were zuma who is exposedthere would be a number of statements circulating righ <br> t now we are watching them <br> @superiorzulu ey we have no one but ourselves as citizens of this country these criminals are protec <br> ting each other if it were zuma who is exposedthere would be a number of statements circulating righ <br> t now we are watching them\"],[\"agent_ntsekisang\",\" <br> @niehaus_carl but you were rallying behind zuma \\ud83d\\udc81\\u200d\\u2642\\ufe0f <br>  <br>  <br> @niehaus_carl but you were rallying behind zuma \\ud83d\\udc81\\u200d\\u2642\\ufe0f <br>  <br> \"],[\"agent_ntsimbi17\",\" <br> @nontolotyi no propaganda zuma is charged for allegedly receiving a bribe and not for soliciting it  <br> even that is a mystery <br>  <br> @sodlabehlezi2 @mmusimaimane shabir shaik is at home he says he is not going to waste his time and t <br> estify he knows that zuma is facing trumped up charges <br>  <br> @nontolotyi no propaganda zuma is charged for allegedly receiving a bribe and not for soliciting it  <br> even that is a mystery <br>  <br> @sodlabehlezi2 @mmusimaimane shabir shaik is at home he says he is not going to waste his time and t <br> estify he knows that zuma is facing trumped up charges <br> \"],[\"agent_numamobu\",\" <br> @k_zuma_p \\u6bce\\u56de\\u30cf\\u30e9\\u30cf\\u30e9\\u3057\\u3066\\u8aad\\u3093\\u3067\\u307e\\u3059\\uff01\\u6587\\u5b57\\u3082\\u66f8\\u3051\\u308b\\u306e\\u3059\\u3054\\u3059\\u304e\\u307e\\u3059\\u3042\\u308a\\u304c\\u3068\\u3046\\u3054\\u3056\\u3044\\u307e\\u3059\\uff01\\u7d9a\\u304d\\u3001\\u697d\\u3057\\u307f\\u306b\\u3057\\u3066\\u3044\\u307e\\u3059\\ud83d\\ude2d\\ud83d\\ude4f\\u2728 <br>  <br>  <br> @k_zuma_p \\u6bce\\u56de\\u30cf\\u30e9\\u30cf\\u30e9\\u3057\\u3066\\u8aad\\u3093\\u3067\\u307e\\u3059\\uff01\\u6587\\u5b57\\u3082\\u66f8\\u3051\\u308b\\u306e\\u3059\\u3054\\u3059\\u304e\\u307e\\u3059\\u3042\\u308a\\u304c\\u3068\\u3046\\u3054\\u3056\\u3044\\u307e\\u3059\\uff01\\u7d9a\\u304d\\u3001\\u697d\\u3057\\u307f\\u306b\\u3057\\u3066\\u3044\\u307e\\u3059\\ud83d\\ude2d\\ud83d\\ude4f\\u2728 <br>  <br> \"],[\"agent_numbaonehustla\",\" <br> @montshoo @samkelemaseko @thuthu_zuma @majavuthabiso he wants a spokesperson job like his friend the <br> re at eskom <br>  <br> @montshoo @samkelemaseko @thuthu_zuma @majavuthabiso he wants a spokesperson job like his friend the <br> re at eskom <br> \"],[\"agent_nyashacollin\",\" <br> @bully_zw zuma\\ud83d\\ude02\\ud83d\\ude02\\ud83d\\ude02 <br>  <br>  <br> @bully_zw zuma\\ud83d\\ude02\\ud83d\\ude02\\ud83d\\ude02 <br>  <br> \"],[\"agent_o_haruuu33\",\" <br> @zuma_owo \\u305d\\u308c\\u306f\\u3064\\u3089\\u307f\\u3061\\u3083\\u3093 <br>  <br>  <br> @zuma_owo \\u305d\\u308c\\u306f\\u3064\\u3089\\u307f\\u3061\\u3083\\u3093 <br>  <br> \"],[\"agent_opportunity_tws\",\" <br> @sangelodonga @kellzmtshumeni mkhonto is not as strong as you think zuma will be arrested by the sta <br> te not the anc <br>  <br> @sangelodonga @kellzmtshumeni mkhonto is not as strong as you think zuma will be arrested by the sta <br> te not the anc <br> \"],[\"agent_outkassst\",\" <br> @sandileskhosi downer was feeding media information about case so they can create a particular narra <br> tive the possibility however remote that he is conflicted and will be impartial exists zuma withdrew <br>  initial angle that he merely felt downer hates him didnt push this one he will now <br> @sandileskhosi downer was feeding media information about case so they can create a particular narra <br> tive the possibility however remote that he is conflicted and will be impartial exists zuma withdrew <br>  initial angle that he merely felt downer hates him didnt push this one he will now\"],[\"agent_peeeeeehai\",\" <br> @zuma_game_ooo \\u4e8c\\u90ce <br>  <br>  <br> @zuma_game_ooo \\u4e8c\\u90ce <br>  <br> \"],[\"agent_peekaybear\",\" <br> im almost certain zuma is living his best life enkandla with the rain in kzn while he hardly hears i <br> t because he took it upon himself to make his home as comfortable as it can be away from the chaos # <br> istan <br> im almost certain zuma is living his best life enkandla with the rain in kzn while he hardly hears i <br> t because he took it upon himself to make his home as comfortable as it can be away from the chaos # <br> istan\"],[\"agent_peetc42\",\" <br> @bita33088889 arrest dlaminizuma for contempt of court httpstcolufwhaxftn <br>  <br>  <br> @bita33088889 arrest dlaminizuma for contempt of court httpstcolufwhaxftn <br>  <br> \"],[\"agent_pelemurulane\",\" <br> @lavitosoul so we can hear zumas side of the story if they arrest him we will never hear his side th <br> e aim here is to get to the truth the omotoso trial was restarted because the judges wife owned the  <br> guesthouse witnesses stayed at now a former friend of zuma must preside here <br> @lavitosoul so we can hear zumas side of the story if they arrest him we will never hear his side th <br> e aim here is to get to the truth the omotoso trial was restarted because the judges wife owned the  <br> guesthouse witnesses stayed at now a former friend of zuma must preside here\"],[\"agent_petlwanentabs\",\" <br> @lesibadj @maxpolmof @_africansoil tell me ive i dont understand english well because the person who <br>  is behind the establishment of the commission is saying zuma is the reason commission is establishe <br> d httpstcozhmalkib5d <br> @lesibadj @maxpolmof @_africansoil tell me ive i dont understand english well because the person who <br>  is behind the establishment of the commission is saying zuma is the reason commission is establishe <br> d httpstcozhmalkib5d\"],[\"agent_phalane67253308\",\" <br> @alokkodoke @daddyhope it does not matter if u r in a hurry next 10 years mnangagwa is president cyr <br> il is left with 6 years after mnangagwa there is another mampara coming in chamisa will never b pres <br> ident anytime soon unless u kill mnangagwa after cyril we r having another zuma <br> @alokkodoke @daddyhope it does not matter if u r in a hurry next 10 years mnangagwa is president cyr <br> il is left with 6 years after mnangagwa there is another mampara coming in chamisa will never b pres <br> ident anytime soon unless u kill mnangagwa after cyril we r having another zuma\"],[\"agent_phokamasaka\",\" <br> @superiorzulu you are better than zuma the looter president cyril <br>  <br>  <br> @superiorzulu you are better than zuma the looter president cyril <br>  <br> \"],[\"agent_phumeeh_p\",\" <br> baba credo mutwa warned us he said zuma will fall malema will rise and lastly the country will be le <br> d by whites did we listen no namadlozi akhathele we never learn we never listen atleast i tried and  <br> voted for blf <br> baba credo mutwa warned us he said zuma will fall malema will rise and lastly the country will be le <br> d by whites did we listen no namadlozi akhathele we never learn we never listen atleast i tried and  <br> voted for blf\"],[\"agent_pnmaster_\",\" <br> zuma dumped us on this day 3 years ago #happyvalentinesday2021 <br>  <br>  <br> zuma dumped us on this day 3 years ago #happyvalentinesday2021 <br>  <br> \"],[\"agent_pora_manoto\",\" <br> @andilemlondo @ramalokot no free education from zuma just political grandstanding even the timing wa <br> s just meant to influence the outcome of the nasrec and we saw that it was a crisis <br>  <br> @andilemlondo @ramalokot no free education from zuma just political grandstanding even the timing wa <br> s just meant to influence the outcome of the nasrec and we saw that it was a crisis <br> \"],[\"agent_potassiumedge\",\" <br> @wesleyf17134866 @samkelemaseko @ferialhaffajee @julius_s_malema he did say he would kill for zuma m <br> aybe hes going to fulfill his promise <br>  <br> @wesleyf17134866 @samkelemaseko @ferialhaffajee @julius_s_malema he did say he would kill for zuma m <br> aybe hes going to fulfill his promise <br> \"],[\"agent_powerfm987\",\" <br> zuma refuses to provide affidavit to suggest his punishment if found guilty httpstcoqfarncw7ab https <br> tcoccc1vxbjb1 <br>  <br> zuma refuses to provide affidavit to suggest his punishment if found guilty httpstcoqfarncw7ab https <br> tcoccc1vxbjb1 <br> \"],[\"agent_profmahlangu\",\" <br> well received president jacob zuma has no time for rubbish httpstcoaneqdp3tfb httpstcodcxvvkcznf <br>  <br>  <br> well received president jacob zuma has no time for rubbish httpstcoaneqdp3tfb httpstcodcxvvkcznf <br>  <br> \"],[\"agent_pulane_nakedi\",\" <br> @zuma_42500 @artii_m httpstcotopfren7yc <br>  <br>  <br> @zuma_42500 @artii_m httpstcotopfren7yc <br>  <br> \"],[\"agent_putsansfirst\",\" <br> @qwekiewiet @newhorizanman @duduzane__zuma why should i ask about a white myth httpstcoy9ymbkaynt <br>  <br>  <br> @qwekiewiet @newhorizanman @duduzane__zuma why should i ask about a white myth httpstcoy9ymbkaynt <br>  <br> \"],[\"agent_qina37994244\",\" <br> what is this now first you hate president zuma with passion bt you still want exclusive tv right of  <br> the #zumatrial hai i think zuma is being hated by bunch of dangerous retards httpstcoox8wcrpfxp <br>  <br> what is this now first you hate president zuma with passion bt you still want exclusive tv right of  <br> the #zumatrial hai i think zuma is being hated by bunch of dangerous retards httpstcoox8wcrpfxp <br> \"],[\"agent_r_k_ee_r\",\" <br> @zuma_hero \\u305d\\u308c\\u3044\\u3044\\u306d <br>  <br>  <br> @zuma_hero \\u305d\\u308c\\u3044\\u3044\\u306d <br>  <br> \"],[\"agent_rabza8488\",\" <br> @irvinjimsa same mistake u did going to polokwane u dont admit reality and workers get compromised b <br> ecause u are looking at popularity going to polokwane u were singing zuma is hero after workers get  <br> into a mess u cant admit u put them under the bus <br> @irvinjimsa same mistake u did going to polokwane u dont admit reality and workers get compromised b <br> ecause u are looking at popularity going to polokwane u were singing zuma is hero after workers get  <br> into a mess u cant admit u put them under the bus\"],[\"agent_ramthando\",\" <br> @khwezi_shange @trevoz @mmodiba10 they are the ones who said they are targeted because of articulati <br> ng ret policies they termed themselves and the media labelled them as such in the anc we know they a <br> re a faction that is a beneficiary of the zuma era and most dont want to relinquish their deployed posts <br> @khwezi_shange @trevoz @mmodiba10 they are the ones who said they are targeted because of articulati <br> ng ret policies they termed themselves and the media labelled them as such in the anc we know they a <br> re a faction that is a beneficiary of the zuma era and most dont want to relinquish their deployed posts\"],[\"agent_ravenmind\",\" <br> river tapes zuma dionys remix httpstcouinoa7rlsq <br>  <br>  <br> river tapes zuma dionys remix httpstcouinoa7rlsq <br>  <br> \"],[\"agent_realcomfy2\",\" <br> httpstcogmrqchl2cp <br>  <br>  <br> httpstcogmrqchl2cp <br>  <br> \"],[\"agent_realitystriker\",\" <br> @mithisa_motho @dumi18247646 @ramthando @kgomo389 yet its zuma funding de kock hmmm <br>  <br>  <br> @goolammv @errolbsk @kgomo389 like when she said zuma is going to russia \\ud83d\\ude00\\ud83d\\ude02\\ud83d\\ude02\\ud83d\\ude02 <br>  <br>  <br> @mithisa_motho @dumi18247646 @ramthando @kgomo389 yet its zuma funding de kock hmmm <br>  <br>  <br> @goolammv @errolbsk @kgomo389 like when she said zuma is going to russia \\ud83d\\ude00\\ud83d\\ude02\\ud83d\\ude02\\ud83d\\ude02 <br>  <br> \"],[\"agent_rgrsa\",\" <br> the moment he said zuma also knew about it i knew who took it \\ud83d\\ude02 httpstcomxi0m0sd4c <br>  <br>  <br> the moment he said zuma also knew about it i knew who took it \\ud83d\\ude02 httpstcomxi0m0sd4c <br>  <br> \"],[\"agent_riseupafrica101\",\" <br> @mithisa_motho @enockay come here you idiot and bring zumas charge sheet with httpstcom7q7kxhrfu <br>  <br>  <br> @mithisa_motho @enockay come here you idiot and bring zumas charge sheet with httpstcom7q7kxhrfu <br>  <br> \"],[\"agent_rodovirtual\",\" <br> @ayomiepat_ this thing be like slab oo\\ud83e\\udd15wtf zuma rock <br>  <br>  <br> @ayomiepat_ this thing be like slab oo\\ud83e\\udd15wtf zuma rock <br>  <br> \"],[\"agent_romancabanac\",\" <br> at 30 julius bowed to zuma at 35 he was swearing at zuma at 40 he is having tea with zuma my present <br>  to juju on his birthday httpstco3zfemitw6k <br>  <br> at 30 julius bowed to zuma at 35 he was swearing at zuma at 40 he is having tea with zuma my present <br>  to juju on his birthday httpstco3zfemitw6k <br> \"],[\"agent_roseisland0919\",\" <br> @zuma_koze6 \\u50d5\\u3082\\u52dd\\u3066\\u307e\\u3057\\u305f\\uff01\\u3055\\u3059\\u304c\\u4e3b\\u4efb\\u3067\\u3059\\u306d <br>  <br>  <br> @zuma_koze6 \\u50d5\\u3082\\u52dd\\u3066\\u307e\\u3057\\u305f\\uff01\\u3055\\u3059\\u304c\\u4e3b\\u4efb\\u3067\\u3059\\u306d <br>  <br> \"],[\"agent_rycekum\",\" <br> @otis_jenkins1 facts jacob zuma tried to be racist by hiring black ceos in soes he understood that i <br> n order to take over the economy youve got to be racist hell forever be my goat <br>  <br> @otis_jenkins1 facts jacob zuma tried to be racist by hiring black ceos in soes he understood that i <br> n order to take over the economy youve got to be racist hell forever be my goat <br> \"],[\"agent_safmradio\",\" <br> now the constitutional court will tomorrow hear an application for former president jacob zuma to be <br>  jailed for two years if he is found guilty of contempt of court professor pierre de vos speaks to @ <br> aldrinsampear on #safmbth <br> podcast the radical economic transformation champions believe that former president zuma is being tr <br> eated unfairly by the state capture commission earlier on #safmsunrise with @stephengrootes spoke to <br>  nkosentsha shezi listen here httpstcozjprtfe0ft <br> now the constitutional court will tomorrow hear an application for former president jacob zuma to be <br>  jailed for two years if he is found guilty of contempt of court professor pierre de vos speaks to @ <br> aldrinsampear on #safmbth <br> podcast the radical economic transformation champions believe that former president zuma is being tr <br> eated unfairly by the state capture commission earlier on #safmsunrise with @stephengrootes spoke to <br>  nkosentsha shezi listen here httpstcozjprtfe0ft\"],[\"agent_sakurex_midzy\",\" <br> @itzy_zuma \\u76f2\\u70b9\\uff01\\u305d\\u306e\\u624b\\u304c\\u3042\\u3063\\u305f\\u301c\\uff01 <br>  <br>  <br> @itzy_zuma \\u76f2\\u70b9\\uff01\\u305d\\u306e\\u624b\\u304c\\u3042\\u3063\\u305f\\u301c\\uff01 <br>  <br> \"],[\"agent_samukele_\",\" <br> @ta_fitty nonpirates players that i really enjoyed feared watching jabu pule yerrr that boy was gold <br>  siyabonga nomvethe at chiefs sibusiso zuma at african wanderers phumlani mkhize at african wanderer <br> s itumeleng khune christopher nedzidzevhe ntokozo sikhakhane sandile ndlovu <br> @ta_fitty nonpirates players that i really enjoyed feared watching jabu pule yerrr that boy was gold <br>  siyabonga nomvethe at chiefs sibusiso zuma at african wanderers phumlani mkhize at african wanderer <br> s itumeleng khune christopher nedzidzevhe ntokozo sikhakhane sandile ndlovu\"],[\"agent_sangxa\",\" <br> during the 9 wasted years zuma was propped up by @myanc now during a pandemic an @myanc government i <br> s nkazathing for a vaccine <br>  <br> during the 9 wasted years zuma was propped up by @myanc now during a pandemic an @myanc government i <br> s nkazathing for a vaccine <br> \"],[\"agent_sarcasticjohn3\",\" <br> @rasematse2 @vhasetha_mrt @samkelemaseko the strategy is called technical reverse mental psychology  <br> not many knows how to implement it zuma does <br>  <br> @rasematse2 @vhasetha_mrt @samkelemaseko the strategy is called technical reverse mental psychology  <br> not many knows how to implement it zuma does <br> \"],[\"agent_sarepublican\",\" <br> @jvanlogg @sundayworldza you post this drivel with enthusiasm the real estate or communal land does  <br> not belong to zuma and he has not title deed over it pure rubbish <br>  <br> @jvanlogg @sundayworldza you post this drivel with enthusiasm the real estate or communal land does  <br> not belong to zuma and he has not title deed over it pure rubbish <br> \"],[\"agent_saviour30541083\",\" <br> @xngubo @bantuholomisa they will never say anything about cyril or pravin but powerless old man pres <br> ident zuma <br>  <br> @xngubo @bantuholomisa they will never say anything about cyril or pravin but powerless old man pres <br> ident zuma <br> \"],[\"agent_sbonelo10211776\",\" <br> @paulivw you people are not getting it eff praised mbeki and supported everyone in his coner when th <br> ey were fighting zuma same trick is being applied here against ramaphosa all they want is to divide  <br> the anc and they are winning somehow <br> @paulivw you people are not getting it eff praised mbeki and supported everyone in his coner when th <br> ey were fighting zuma same trick is being applied here against ramaphosa all they want is to divide  <br> the anc and they are winning somehow\"],[\"agent_sbootelazy\",\" <br> @mrhandsome_za @duduzane__zuma yoooooooooo\\ud83d\\ude0d <br>  <br>  <br> @mrhandsome_za @duduzane__zuma yoooooooooo\\ud83d\\ude0d <br>  <br> \"],[\"agent_sbutiko\",\" <br> @mark_boikanyo @thuso1africa @duduzane__zuma we all know what is anc doing you keep on dodging my qu <br> estion whos is better than anc be specific so that we can vote for that party stop beating around th <br> e bush <br> @mark_boikanyo @thuso1africa @duduzane__zuma we all know what is anc doing you keep on dodging my qu <br> estion whos is better than anc be specific so that we can vote for that party stop beating around th <br> e bush\"],[\"agent_scarybeautylove\",\" <br> actually we must thank zuma umsholozi for exposing this fake so called democracythe more they attack <br>  zuma the more they reveal themselveswe now know where to direct our fights to thanks to ubabawe now <br>  know who are the real enemies of the people who hide under democracy <br> actually we must thank zuma umsholozi for exposing this fake so called democracythe more they attack <br>  zuma the more they reveal themselveswe now know where to direct our fights to thanks to ubabawe now <br>  know who are the real enemies of the people who hide under democracy\"],[\"agent_scoopy_music\",\" <br> @leemelza @iamayo_zuma yaz nizo shona nina <br>  <br>  <br> @leemelza @iamayo_zuma yaz nizo shona nina <br>  <br> \"],[\"agent_sdu_mpembe\",\" <br> @duduzane__zuma ufunani ezindabeni ezingakufuni duduzane httpstcojqpq7sf7en <br>  <br>  <br> @duduzane__zuma ufunani ezindabeni ezingakufuni duduzane httpstcojqpq7sf7en <br>  <br> \"],[\"agent_sechaba47018802\",\" <br> @unclegeepee1 @dzumasambudla @presjgzuma he thrives on ignorance of the people by the way those peop <br> le are bussed in the anc support was diminishing during election times under zuma go see the history <br>  on iec <br> @unclegeepee1 @dzumasambudla @presjgzuma he thrives on ignorance of the people by the way those peop <br> le are bussed in the anc support was diminishing during election times under zuma go see the history <br>  on iec\"],[\"agent_secretmessagefs\",\" <br> to @gdbtjh_ from mermet \\ud83d\\udc97 be happy kodok zuma <br>  <br>  <br> to @gdbtjh_ from mermet \\ud83d\\udc97 be happy kodok zuma <br>  <br> \"],[\"agent_selected_images\",\" <br> march 8 2021 beirut beirut lebanon credit image \\u00a9 haitham moussawiapa images via zuma wire image ava <br> ilable at httpstcoawkfzqbh7r for rm license #selectedimagescom #bestpicoftheday #pictureoftheday #da <br> ilynews #news #beirut #lebanon #economy #protests #poverty httpstcohjkat6u4ra <br> march 8 2021 beirut beirut lebanon credit image \\u00a9 haitham moussawiapa images via zuma wire image ava <br> ilable at httpstcoawkfzqbh7r for rm license #selectedimagescom #bestpicoftheday #pictureoftheday #da <br> ilynews #news #beirut #lebanon #economy #protests #poverty httpstcohjkat6u4ra\"],[\"agent_senwamadi_kg\",\" <br> @lethofb @mbokazi_sipho @patbafo 1st term none they left and formed cope an attempt by montlante did <br> nt have enough numbers malemas explusion to neutralise any strong holds the ancyl had 2nd term enter <br>  cyril then the rightwing had a face and numbers we all know that cr was part of zuma presidency <br> @lethofb @mbokazi_sipho @patbafo 1st term none they left and formed cope an attempt by montlante did <br> nt have enough numbers malemas explusion to neutralise any strong holds the ancyl had 2nd term enter <br>  cyril then the rightwing had a face and numbers we all know that cr was part of zuma presidency\"],[\"agent_sgoloza85194900\",\" <br> @siphiwe17511230 @iamnjabfelxu @dailymaverick @duduzane__zuma this is why africa will always be poor <br>  while the rest of the world moves forward the way that you praise people who steal from you and sti <br> fle your own development is mindboggling \\ud83d\\ude04 <br> @siphiwe17511230 @iamnjabfelxu @dailymaverick @duduzane__zuma this is why africa will always be poor <br>  while the rest of the world moves forward the way that you praise people who steal from you and sti <br> fle your own development is mindboggling \\ud83d\\ude04\"],[\"agent_sibongile_sq\",\" <br> @outasa a sound analysis as we wait for zuma to respond <br>  <br>  <br> @outasa a sound analysis as we wait for zuma to respond <br>  <br> \"],[\"agent_sifiso____\",\" <br> how did it come that malusi gigaba and president zuma clash or why did gigaba betrayed president zum <br> a thats kind of questions i was waiting for not this boring love story eyy norma <br>  <br> how did it come that malusi gigaba and president zuma clash or why did gigaba betrayed president zum <br> a thats kind of questions i was waiting for not this boring love story eyy norma <br> \"],[\"agent_sinaibernard\",\" <br> @thisismduh @advobarryroux i dont see zuma in the video <br>  <br>  <br> @thisismduh @advobarryroux i dont see zuma in the video <br>  <br> \"],[\"agent_siphiwe11530440\",\" <br> @sithalekgaogelo nelson was 18 years older than winnie robert mugabe was 40 years older than grace j <br> g zuma impregnated a 26 year old theres nothing wrong if a 30 year old man dates a 20 year old woman <br>  to you its wrong but its been happening for centuries and its nature <br> @sithalekgaogelo nelson was 18 years older than winnie robert mugabe was 40 years older than grace j <br> g zuma impregnated a 26 year old theres nothing wrong if a 30 year old man dates a 20 year old woman <br>  to you its wrong but its been happening for centuries and its nature\"],[\"agent_sirgrenn\",\" <br> @sabcnews you are listening to brian molefe one off the kingpins of state capture a zuma boy but if  <br> there us eveidencd that our honourable president is involved he must face the music but mabuza is ta <br> inted as well omg <br> @sabcnews you are listening to brian molefe one off the kingpins of state capture a zuma boy but if  <br> there us eveidencd that our honourable president is involved he must face the music but mabuza is ta <br> inted as well omg\"],[\"agent_sithembiso17\",\" <br> mr bheki cele will be visiting nkandla today he also wants to drink tea with former president jacob  <br> zuma #beinformed httpstcosrrwg1gyy9 <br>  <br> mr bheki cele will be visiting nkandla today he also wants to drink tea with former president jacob  <br> zuma #beinformed httpstcosrrwg1gyy9 <br> \"],[\"agent_siyamfundisi\",\" <br> @siphombanjwa5 zuma family has made many people to be relevant most special to zuma family haters an <br> y person who make statements about zuma family always get many likes like this guy just made a stupi <br> d comment ended up getting many likes <br> @siphombanjwa5 zuma family has made many people to be relevant most special to zuma family haters an <br> y person who make statements about zuma family always get many likes like this guy just made a stupi <br> d comment ended up getting many likes\"],[\"agent_siyangaphis\",\" <br> #sigiyangengoma @zimiphib1 inkos yamagcokama lungisani ntenjena zuma edundee mcilo guitar mkhize @uk <br> hozi_fm <br>  <br> #sigiyangengoma @zimiphib1 inkos yamagcokama lungisani ntenjena zuma edundee mcilo guitar mkhize @uk <br> hozi_fm <br> \"],[\"agent_sizwe81798035\",\" <br> @_africansoil karima brown hated zuma with passion she constantly made up stories about zuma she wou <br> ld add zumas name in everything and its good shes dead <br>  <br> @_africansoil karima brown hated zuma with passion she constantly made up stories about zuma she wou <br> ld add zumas name in everything and its good shes dead <br> \"],[\"agent_sizwe98698991\",\" <br> @_africansoil i just wonder what was carl niehaus misconductmbalula insulted president zuma and said <br>  i am not afraid of zuma i am not afraid of adv mkhwebana nothing happenedderrick hanekom conspired  <br> with eff till today nothinglast week nje carl suspendedwosh bo ukuthi ama branch <br> @_africansoil i just wonder what was carl niehaus misconductmbalula insulted president zuma and said <br>  i am not afraid of zuma i am not afraid of adv mkhwebana nothing happenedderrick hanekom conspired  <br> with eff till today nothinglast week nje carl suspendedwosh bo ukuthi ama branch\"],[\"agent_skopas7\",\" <br> @eusebius zuma knows very well where he stands with this commission paragraph 16 clearly shows that  <br> with this commission he is doomed if he does participate he is doomed again if he doesnt participate <br>  <br> @eusebius zuma knows very well where he stands with this commission paragraph 16 clearly shows that  <br> with this commission he is doomed if he does participate he is doomed again if he doesnt participate <br> \"],[\"agent_soyneonormal\",\" <br> @el_zuma_ @yatedigoyoque a ver que yo ya negaba los buenos d\\u00edas antes de venirme aqu\\u00ed un poquito de  <br> por favor <br>  <br> @el_zuma_ @yatedigoyoque a ver que yo ya negaba los buenos d\\u00edas antes de venirme aqu\\u00ed un poquito de  <br> por favor <br> \"],[\"agent_stalinspears\",\" <br> meu deus o final de thriller bark com esse tal de cors\\u00e1rio zuma t\\u00e1 muito fodaaaa aaaaaaa <br>  <br>  <br> meu deus o final de thriller bark com esse tal de cors\\u00e1rio zuma t\\u00e1 muito fodaaaa aaaaaaa <br>  <br> \"],[\"agent_stats4mylife\",\" <br> prayer for today father thank you for the good plan you have for me thank you for your word which tr <br> ansforms me into your image i choose to trust i choose to believe and i choose to follow your word w <br> hich is life to my soul in jesus name #urbancruiser jacob zuma #witsasinamali <br> prayer for today father thank you for the good plan you have for me thank you for your word which tr <br> ansforms me into your image i choose to trust i choose to believe and i choose to follow your word w <br> hich is life to my soul in jesus name #urbancruiser jacob zuma #witsasinamali\"],[\"agent_sthembiso_rsa\",\" <br> @wothijiba this whole zuma saga is politics dressed as lawany honest person can see that <br>  <br>  <br> @wothijiba this whole zuma saga is politics dressed as lawany honest person can see that <br>  <br> \"],[\"agent_stimela_mgazi\",\" <br> @ramalokot @niehaus_carl i guess due to how things were happening pees zuma did not notice the hand  <br> from cde niehaus because there is not way he would not have shake it <br>  <br> @ramalokot @niehaus_carl i guess due to how things were happening pees zuma did not notice the hand  <br> from cde niehaus because there is not way he would not have shake it <br> \"],[\"agent_stuartlowman\",\" <br> flash briefing ace suspended zuma could be next anc sars vows to nail anc for paye tax dodge new cov <br> id strains sweep africa httpstcouj6gmtypr5 <br>  <br> flash briefing ace suspended zuma could be next anc sars vows to nail anc for paye tax dodge new cov <br> id strains sweep africa httpstcouj6gmtypr5 <br> \"],[\"agent_stueymax\",\" <br> @afp meanwhile in south africa \\ud83c\\uddff\\ud83c\\udde6 jacob zuma is having tea with anc leadership httpstcofbcnrpsumg <br>  <br>  <br> @afp meanwhile in south africa \\ud83c\\uddff\\ud83c\\udde6 jacob zuma is having tea with anc leadership httpstcofbcnrpsumg <br>  <br> \"],[\"agent_stumbue\",\" <br> @vincent_kolobe no matter how much argument #zondocommission advances the constitution nist must be  <br> respected in its totality thats why #zuma defied an unconstitutional order by justices who abuse the <br> ir positions to draft their own laws with impunity <br> @vincent_kolobe no matter how much argument #zondocommission advances the constitution nist must be  <br> respected in its totality thats why #zuma defied an unconstitutional order by justices who abuse the <br> ir positions to draft their own laws with impunity\"],[\"agent_sundaytimesza\",\" <br> i hope those who are coming understand that they are not coming to tell him what to do but to hear h <br> im out jacob zumas brother warns anc top six ahead of meeting details in the #sundaytimesza tomorrow <br>  <br> i hope those who are coming understand that they are not coming to tell him what to do but to hear h <br> im out jacob zumas brother warns anc top six ahead of meeting details in the #sundaytimesza tomorrow <br> \"],[\"agent_sutaonce\",\" <br> @crazynellz sigh what a time the zuma giggles do you remember the drinking game every time baleka tr <br> ying to not recognise any honourable members httpstcomsudj3lnhl <br>  <br> @crazynellz sigh what a time the zuma giggles do you remember the drinking game every time baleka tr <br> ying to not recognise any honourable members httpstcomsudj3lnhl <br> \"],[\"agent_syd82185224\",\" <br> @news24 that does not put jacob zuma above the law <br>  <br>  <br> @news24 that does not put jacob zuma above the law <br>  <br> \"],[\"agent_sydwell_rsa\",\" <br> were no longer in 2005 where conspirancy theories were the order of the day gone are the days when o <br> ne would just wake up and claim that the scorpions and the judiciary are targeting zuma were now sma <br> rter and older take notes gents @tyengeni1954 @niehaus_carl httpstcofakpxoh98g <br> were no longer in 2005 where conspirancy theories were the order of the day gone are the days when o <br> ne would just wake up and claim that the scorpions and the judiciary are targeting zuma were now sma <br> rter and older take notes gents @tyengeni1954 @niehaus_carl httpstcofakpxoh98g\"],[\"agent_taata2taataroo\",\" <br> @less_zuma \\u3046\\u3093\\ud83d\\ude0a \\u3053\\u306e\\u30b5\\u30a4\\u30ba\\u304c\\u7f6e\\u3051\\u308b\\u58c1\\u9762\\u304c\\u3042\\u308b \\u90e8\\u5c4b\\u3092\\u63a2\\u3057\\u3066\\u5f15\\u3063\\u8d8a\\u3057\\u305f\\u3093\\u3060\\u3088\\uff5e\\ud83d\\ude0a <br>  <br>  <br> @less_zuma \\u3046\\u3093\\ud83d\\ude0a \\u3053\\u306e\\u30b5\\u30a4\\u30ba\\u304c\\u7f6e\\u3051\\u308b\\u58c1\\u9762\\u304c\\u3042\\u308b \\u90e8\\u5c4b\\u3092\\u63a2\\u3057\\u3066\\u5f15\\u3063\\u8d8a\\u3057\\u305f\\u3093\\u3060\\u3088\\uff5e\\ud83d\\ude0a <br>  <br> \"],[\"agent_takalanimasiya\",\" <br> @advobarryroux heres a list of the people president @cyrilramaphosa should expel from anc jacob zuma <br>  ace magashule @niehaus_carl @tyengeni1954 @mzwandilemasina @mzwanelemanyi supra mahomapelo @koko_ma <br> tshela <br> @advobarryroux heres a list of the people president @cyrilramaphosa should expel from anc jacob zuma <br>  ace magashule @niehaus_carl @tyengeni1954 @mzwandilemasina @mzwanelemanyi supra mahomapelo @koko_ma <br> tshela\"],[\"agent_talu_lesley8\",\" <br> @im_pacho @locate_the your deflecting eff offered zuma and anc 6 and what did zuma do <br>  <br>  <br> @im_pacho @locate_the your deflecting eff offered zuma and anc 6 and what did zuma do <br>  <br> \"],[\"agent_tanianjd\",\" <br> @tito_mboweni n meanwhile sacans still await @cyrilramaphosa to address zumas middle finger shown at <br>  the constitution of the country amp her laws o wait we still awaitin @david_makhura to address y #l <br> esufimustfall has still not been removed @presidencyza whats ur excuse in delay <br> @tito_mboweni n meanwhile sacans still await @cyrilramaphosa to address zumas middle finger shown at <br>  the constitution of the country amp her laws o wait we still awaitin @david_makhura to address y #l <br> esufimustfall has still not been removed @presidencyza whats ur excuse in delay\"],[\"agent_tatsubo4_\",\" <br> @zuma_okemaru \\u3044\\u3084\\u30b5\\u30a6\\u30ca\\u306f\\u5225\\u306b\\u967d\\u30ad\\u30e3\\u8981\\u7d20\\u306a\\u3044\\u3067\\u3057\\u3087\\u7b11 <br>  <br>  <br> @zuma_okemaru \\u3044\\u3084\\u30b5\\u30a6\\u30ca\\u306f\\u5225\\u306b\\u967d\\u30ad\\u30e3\\u8981\\u7d20\\u306a\\u3044\\u3067\\u3057\\u3087\\u7b11 <br>  <br> \"],[\"agent_tdikhaile\",\" <br> le ofeng reece ke ofeng zuma <br>  <br>  <br> le ofeng reece ke ofeng zuma <br>  <br> \"],[\"agent_tebogomaluleke_\",\" <br> i know people are chasing coins and i respect that but damn influencers have ruined our user experie <br> nce you open a hashtag on zuma kuvela i penis enlargement pills promo \\ud83e\\udd26\\ud83c\\udfff\\u200d\\u2642\\ufe0f <br>  <br> i know people are chasing coins and i respect that but damn influencers have ruined our user experie <br> nce you open a hashtag on zuma kuvela i penis enlargement pills promo \\ud83e\\udd26\\ud83c\\udfff\\u200d\\u2642\\ufe0f <br> \"],[\"agent_tembinkosi17\",\" <br> @dibetlolo @mphahlelemm those satan will just see the convoy going out by the time they wake up zuma <br>  will be in jail\\ud83d\\ude02\\ud83d\\ude02\\ud83d\\ude02 <br>  <br> @dibetlolo @mphahlelemm those satan will just see the convoy going out by the time they wake up zuma <br>  will be in jail\\ud83d\\ude02\\ud83d\\ude02\\ud83d\\ude02 <br> \"],[\"agent_tendani1yahooc1\",\" <br> @ndonga20452863 @dvdmabuza @goolammv now you are very desperate by calling cr a thief please reserve <br>  that honour for zuma and what gains of democracy are you talking about having our country colonised <br>  by the gupta family mxmyou think we are brainless idiots like you <br> @ndonga20452863 @dvdmabuza @goolammv now you are very desperate by calling cr a thief please reserve <br>  that honour for zuma and what gains of democracy are you talking about having our country colonised <br>  by the gupta family mxmyou think we are brainless idiots like you\"],[\"agent_terrancedjacob1\",\" <br> @our_da cr ramaphosa is accused no 1 for the anc j zuma is accused no 1 for corruption ace is accuse <br> d no 13 for corruption wannabee opposition political parties is accused of getting fat salaries and  <br> huge perks from the taxpayers for absolutely doing nothing for our citizens hotair <br> @zuma_khulubuse @effsouthafrica the eff idiotic leadership wants judges to accept their buased line  <br> of socialists politicking garbage and if they dont then they are racists <br>  <br> @our_da cr ramaphosa is accused no 1 for the anc j zuma is accused no 1 for corruption ace is accuse <br> d no 13 for corruption wannabee opposition political parties is accused of getting fat salaries and  <br> huge perks from the taxpayers for absolutely doing nothing for our citizens hotair <br> @zuma_khulubuse @effsouthafrica the eff idiotic leadership wants judges to accept their buased line  <br> of socialists politicking garbage and if they dont then they are racists <br> \"],[\"agent_teruya_rampage\",\" <br> @choko_zuma \\u7b4b\\u8089\\uff1f <br>  <br>  <br> @choko_zuma \\u7b4b\\u8089\\uff1f <br>  <br> \"],[\"agent_tetipen14\",\" <br> @zuma_oripa \\u3069\\u306e\\u304a\\u9152\\u3082\\u304a\\u597d\\u304d\\u306a\\u3093\\u3067\\u3059\\u306d\\ud83c\\udf7e \\u50d5\\u306f\\u4e0b\\u6238\\u306a\\u306e\\u3067\\u304a\\u9152\\u98f2\\u3081\\u306a\\u3044\\u3093\\u3067\\u3059\\u3051\\u3069\\u5f7c\\u5973\\u304c\\u5e74\\u59cb\\u306b\\u9152\\u5c4b\\u3055\\u3093\\u304b\\u3089\\u521d\\u643e\\u308a\\u3092\\u6bce\\u5ea6\\u8cb7\\u3046\\u304f\\u3089\\u3044\\u304a\\u9152\\u304c\\u597d\\u304d\\u306a\\u306e\\u3067\\u5f7c\\u5973\\u3068\\u4e00\\u7dd2\\u306b\\u30ba\\u30de\\u3055\\u3093\\u306b\\u5408\\u3044\\u305d\\u3046\\u306a\\u304a\\u9152\\u9078\\u3093\\u3067\\u307e\\u305f\\u9001 <br> \\u3089\\u305b\\u3066\\u3082\\u3089\\u3044\\u307e\\u3059\\u306d\\ud83d\\ude0f\\ud83c\\udf76 <br>  <br> @zuma_oripa \\u3069\\u306e\\u304a\\u9152\\u3082\\u304a\\u597d\\u304d\\u306a\\u3093\\u3067\\u3059\\u306d\\ud83c\\udf7e \\u50d5\\u306f\\u4e0b\\u6238\\u306a\\u306e\\u3067\\u304a\\u9152\\u98f2\\u3081\\u306a\\u3044\\u3093\\u3067\\u3059\\u3051\\u3069\\u5f7c\\u5973\\u304c\\u5e74\\u59cb\\u306b\\u9152\\u5c4b\\u3055\\u3093\\u304b\\u3089\\u521d\\u643e\\u308a\\u3092\\u6bce\\u5ea6\\u8cb7\\u3046\\u304f\\u3089\\u3044\\u304a\\u9152\\u304c\\u597d\\u304d\\u306a\\u306e\\u3067\\u5f7c\\u5973\\u3068\\u4e00\\u7dd2\\u306b\\u30ba\\u30de\\u3055\\u3093\\u306b\\u5408\\u3044\\u305d\\u3046\\u306a\\u304a\\u9152\\u9078\\u3093\\u3067\\u307e\\u305f\\u9001 <br> \\u3089\\u305b\\u3066\\u3082\\u3089\\u3044\\u307e\\u3059\\u306d\\ud83d\\ude0f\\ud83c\\udf76 <br> \"],[\"agent_thabang_pk_\",\" <br> what about the state of the eff in this day qualifies you to downgrade effs purpose and existence to <br>  zumas removal <br>  <br> what about the state of the eff in this day qualifies you to downgrade effs purpose and existence to <br>  zumas removal <br> \"],[\"agent_thabo2017\",\" <br> @gianicos1 northern cape politician jailed under zuma remember you wont mention him we pushing narra <br> tive <br>  <br> @gianicos1 northern cape politician jailed under zuma remember you wont mention him we pushing narra <br> tive <br> \"],[\"agent_thabosya\",\" <br> president jg zuma calling the state capture enquiry\\ud83e\\udd27\\ud83d\\ude24 httpstcocof8qw182c <br>  <br>  <br> president jg zuma calling the state capture enquiry\\ud83e\\udd27\\ud83d\\ude24 httpstcocof8qw182c <br>  <br> \"],[\"agent_the_commentor1\",\" <br> @maepa_ntladi the eff never forget to mention the zuma name in all their letter s <br>  <br>  <br> @maepa_ntladi the eff never forget to mention the zuma name in all their letter s <br>  <br> \"],[\"agent_the_njoko\",\" <br> @s_sthuli @fxvorster @simonpgrindrod except for hiv treatment rollout and increasing the number of p <br> eople receiving social grants there isnt much that can be attributed to zuma directly lets resolve t <br> his first and i will take you on on these two issues <br> @s_sthuli @fxvorster @simonpgrindrod except for hiv treatment rollout and increasing the number of p <br> eople receiving social grants there isnt much that can be attributed to zuma directly lets resolve t <br> his first and i will take you on on these two issues\"],[\"agent_the_reality_1\",\" <br> @dgezijacky @amika94855371 under zuma they did not get r350 they got r0 <br>  <br>  <br> @dgezijacky @amika94855371 under zuma they did not get r350 they got r0 <br>  <br> \"],[\"agent_theblackspice\",\" <br> when people say they are sick we must believe them even if its people we hate we track down the myst <br> erious doctor who issued jacob zumas unclear sick note news24 httpstcovjenlsv1tb <br>  <br> when people say they are sick we must believe them even if its people we hate we track down the myst <br> erious doctor who issued jacob zumas unclear sick note news24 httpstcovjenlsv1tb <br> \"],[\"agent_theblogger_in\",\" <br> south african commission seeks 2yr jail term for exprez jacob zuma httpstco3nl18wjl5k <br>  <br>  <br> south african commission seeks 2yr jail term for exprez jacob zuma httpstco3nl18wjl5k <br>  <br> \"],[\"agent_theboffin6\",\" <br> @mbohgcwabe @johnbis75624915 @kush41335117 @duduzane__zuma we are afraid of you you are right <br>  <br>  <br> @mbohgcwabe @johnbis75624915 @kush41335117 @duduzane__zuma we are afraid of you you are right <br>  <br> \"],[\"agent_themba_le\",\" <br> @sifiso_gumede thats exactly my point khosi zuma always delivers <br>  <br>  <br> @sifiso_gumede thats exactly my point khosi zuma always delivers <br>  <br> \"],[\"agent_thembeni_mabuza\",\" <br> i stand with sab \\u270a\\ud83c\\udfff their employees and everyone in the value chain deserve to earn salaries too #al <br> coholban #trevornoah gavin hunt hillbrow khune zuma sassa <br>  <br> i stand with sab \\u270a\\ud83c\\udfff their employees and everyone in the value chain deserve to earn salaries too #al <br> coholban #trevornoah gavin hunt hillbrow khune zuma sassa <br> \"],[\"agent_therealesso_m\",\" <br> @khayadlanga @attalliancesa this reminds me of zumas apology to derek hanekom \\ud83d\\ude02\\ud83d\\ude02\\ud83d\\ude02 <br>  <br>  <br> @khayadlanga @attalliancesa this reminds me of zumas apology to derek hanekom \\ud83d\\ude02\\ud83d\\ude02\\ud83d\\ude02 <br>  <br> \"],[\"agent_therealpro7\",\" <br> butmr zumain my life as a judge no one has ever dared me like this sobs httpstco2vk5i61fhu <br>  <br>  <br> butmr zumain my life as a judge no one has ever dared me like this sobs httpstco2vk5i61fhu <br>  <br> \"],[\"agent_thipe_t\",\" <br> @chillo80989888 @advobarryroux zuma has right to turn it off but if agreed then he saw it coming if  <br> zuma turned off will we say malema is flop so we are waiting it to happen to call it a day in names <br>  <br> @chillo80989888 @advobarryroux zuma has right to turn it off but if agreed then he saw it coming if  <br> zuma turned off will we say malema is flop so we are waiting it to happen to call it a day in names <br> \"],[\"agent_thulagunuza\",\" <br> @_officialmoss @ydb_zn @edgarlegoale if all those murderers during the apatheid regime managed to ge <br> t away with what they did why cant this zondo commission leave zuma alone why now is it a big deal t <br> o defy the constitution hayi sherm these white people know how to play with black people minds <br> @_officialmoss @ydb_zn @edgarlegoale if all those murderers during the apatheid regime managed to ge <br> t away with what they did why cant this zondo commission leave zuma alone why now is it a big deal t <br> o defy the constitution hayi sherm these white people know how to play with black people minds\"],[\"agent_thulane71285383\",\" <br> @mzwanelemanyi @presjgzuma that will set a bad precedentand it means the commission must have more j <br> udges to satisfy those who feel the dcj must step aside at the end there will be no commission zuma  <br> must respect what he startedhe should have done that before he resigned as a president <br> @mzwanelemanyi @presjgzuma that will set a bad precedentand it means the commission must have more j <br> udges to satisfy those who feel the dcj must step aside at the end there will be no commission zuma  <br> must respect what he startedhe should have done that before he resigned as a president\"],[\"agent_thuli_mashaba\",\" <br> so #brianmolefe almost became the minister of finance according to #normamngoma #normagigaba #statec <br> aptureinquiry #zondocommission #malusigigaba wasnt zumas preferred candidate \\ud83d\\ude4a\\ud83e\\udd14\\ud83e\\udd14\\ud83e\\udd14 httpstcoocqb6zqqba <br>  <br> so #brianmolefe almost became the minister of finance according to #normamngoma #normagigaba #statec <br> aptureinquiry #zondocommission #malusigigaba wasnt zumas preferred candidate \\ud83d\\ude4a\\ud83e\\udd14\\ud83e\\udd14\\ud83e\\udd14 httpstcoocqb6zqqba <br> \"],[\"agent_thulzkhumz\",\" <br> @powerfm987 @faithmangope #powerlunch honestly speaking zuma betrayed many of us who believed in him <br>  we didnt care about his educational background but his humble respectful nature and charisma appeal <br> ed to usafter the rapegupta saga i washed my hands off politicians totally <br> @powerfm987 @faithmangope #powerlunch honestly speaking zuma betrayed many of us who believed in him <br>  we didnt care about his educational background but his humble respectful nature and charisma appeal <br> ed to usafter the rapegupta saga i washed my hands off politicians totally\"],[\"agent_thunk_da\",\" <br> @nkinga_ @_africansoil @statecapturecom we are being set up for a military style state this lockdown <br>  is the practice and preparation all gains from zumas years will be reversed <br>  <br> @nkinga_ @_africansoil @statecapturecom we are being set up for a military style state this lockdown <br>  is the practice and preparation all gains from zumas years will be reversed <br> \"],[\"agent_timaledi\",\" <br> @cyrilzuma @tumisole is cyril zuma your real name <br>  <br>  <br> @cyrilzuma @tumisole is cyril zuma your real name <br>  <br> \"],[\"agent_tkhuzes\",\" <br> @kleinhansmk @carlohd8 @mbuyisenindlozi @concourtsa is there a law that says zuma doesnt have basic  <br> rights <br>  <br> @kleinhansmk @carlohd8 @mbuyisenindlozi @concourtsa is there a law that says zuma doesnt have basic  <br> rights <br> \"],[\"agent_tman71898137\",\" <br> @newzroom405 zuma must respect the highest court on land but at same time if he changes his mind and <br>  go to zondo commission he will b commuting suicide evtualy he is in too deep if he does not present <br>  him self jail will b where he will b drinkn tea <br> @newzroom405 zuma must respect the highest court on land but at same time if he changes his mind and <br>  go to zondo commission he will b commuting suicide evtualy he is in too deep if he does not present <br>  him self jail will b where he will b drinkn tea\"],[\"agent_tokyoparts\",\" <br> jms automotive\\u69d8\\u3078\\u304a\\u6253\\u5408\\u305b\\u517c\\u306d\\u3066zuma\\u4e00\\u6642\\u7d0d\\u8eca\\uff01 \\u66f4\\u306b\\u7d30\\u90e8\\u3092\\u8a70\\u3081\\u3066\\u884c\\u304d\\u307e\\u3059\\u301c \\u6bce\\u56de\\u62d8\\u308a\\u304c\\u534a\\u7aef\\u7121\\u3044jms\\u69d8\\u306a\\u306e\\u3067\\u30ab\\u30c3\\u30b3\\u826f\\u304f\\u306a\\u308b\\u4e8b\\u9593\\u9055\\u3044\\u7121\\u3057\\u3067\\u3059\\u306d #yamaha #zuma #zuma1 <br> 25 #bws125 \\u5834\\u6240 jms automotive httpstcoqmefsjmho6 <br>  <br> jms automotive\\u69d8\\u3078\\u304a\\u6253\\u5408\\u305b\\u517c\\u306d\\u3066zuma\\u4e00\\u6642\\u7d0d\\u8eca\\uff01 \\u66f4\\u306b\\u7d30\\u90e8\\u3092\\u8a70\\u3081\\u3066\\u884c\\u304d\\u307e\\u3059\\u301c \\u6bce\\u56de\\u62d8\\u308a\\u304c\\u534a\\u7aef\\u7121\\u3044jms\\u69d8\\u306a\\u306e\\u3067\\u30ab\\u30c3\\u30b3\\u826f\\u304f\\u306a\\u308b\\u4e8b\\u9593\\u9055\\u3044\\u7121\\u3057\\u3067\\u3059\\u306d #yamaha #zuma #zuma1 <br> 25 #bws125 \\u5834\\u6240 jms automotive httpstcoqmefsjmho6 <br> \"],[\"agent_tonysto74753556\",\" <br> if lawbreaking warlord jacob zuma is allowed to have a private army then who else is going to have a <br>  private army this is getting out of hand unless decisive steps are taken we are heading towards tot <br> al anarchy httpstcodwdhlc7cvn <br> if lawbreaking warlord jacob zuma is allowed to have a private army then who else is going to have a <br>  private army this is getting out of hand unless decisive steps are taken we are heading towards tot <br> al anarchy httpstcodwdhlc7cvn\"],[\"agent_tracy_keyser\",\" <br> swiminista launches spring clean zuma beach cleanup come to zuma beach tomorrow tower 7 noon httpstc <br> ok8oc3evwh9 via @apparelnews <br>  <br> swiminista launches spring clean zuma beach cleanup come to zuma beach tomorrow tower 7 noon httpstc <br> ok8oc3evwh9 via @apparelnews <br> \"],[\"agent_tracy_mudau\",\" <br> @cyza @peterswonderboy @mosurplets we all follow all the happenings of state capture can he tell you <br>  where the law is being applied unfairly the guptas took advantage of ur demigod praying of zuma to  <br> capture the state through him as you find him unquestionable its a level i wont stoop low to but go dance see <br> @cyza @peterswonderboy @mosurplets we all follow all the happenings of state capture can he tell you <br>  where the law is being applied unfairly the guptas took advantage of ur demigod praying of zuma to  <br> capture the state through him as you find him unquestionable its a level i wont stoop low to but go dance see\"],[\"agent_tradeco7\",\" <br> @vsonqishe @koko_matshela @mafiwa2 zuma n mbeki were bffs back then why are you leaving him out <br>  <br>  <br> @vsonqishe @koko_matshela @mafiwa2 zuma n mbeki were bffs back then why are you leaving him out <br>  <br> \"],[\"agent_trev16404675\",\" <br> @skysportspl we need a clear out as well as new players rudiger zuma kovacic alonso werner giroud ou <br> t gravenberch lassina traore in <br>  <br> @skysportspl we need a clear out as well as new players rudiger zuma kovacic alonso werner giroud ou <br> t gravenberch lassina traore in <br> \"],[\"agent_truthto46774607\",\" <br> @goolammv all those anc members who protected zuma have a lot to answer for they are accessories to  <br> his alleged crimes <br>  <br> @goolammv all those anc members who protected zuma have a lot to answer for they are accessories to  <br> his alleged crimes <br> \"],[\"agent_tshepo94177124\",\" <br> @murielnaidu @khandanim like for fw who stole land amp resources from black people and masterminded  <br> the massacre of blacks retweet for jacob zuma who built univerties and introduced free education <br>  <br> @murielnaidu @khandanim like for fw who stole land amp resources from black people and masterminded  <br> the massacre of blacks retweet for jacob zuma who built univerties and introduced free education <br> \"],[\"agent_tshepoketsamail\",\" <br> @keads_07 @gazzyriodg @mzwanelemanyi @chatlas wena you must follow the commission of enquiry if you  <br> didnt know that zuma wanted ndz to win <br>  <br> @keads_07 @gazzyriodg @mzwanelemanyi @chatlas wena you must follow the commission of enquiry if you  <br> didnt know that zuma wanted ndz to win <br> \"],[\"agent_tshishongetd\",\" <br> @nmudoliwa @jiyane_koos @brasam87842952 @godwinratikwane @floydshivambu @bonnyskosana @mariebooysens <br>  @pearcesvoice @tshimbilani1 @ramaanor @mbulane @mmphele @aba2m @ndieni1 @effsouthafrica #pravingord <br> hanisathug they didnt run to their masters willingly they were forced because of european sabotage that is why african unity is important you will remember that @fikilembalula4 was used as a rupert messenger to carry the sabotage message to zuma <br> @nmudoliwa @jiyane_koos @brasam87842952 @godwinratikwane @floydshivambu @bonnyskosana @mariebooysens <br>  @pearcesvoice @tshimbilani1 @ramaanor @mbulane @mmphele @aba2m @ndieni1 @effsouthafrica #pravingord <br> hanisathug they didnt run to their masters willingly they were forced because of european sabotage that is why african unity is important you will remember that @fikilembalula4 was used as a rupert messenger to carry the sabotage message to zuma\"],[\"agent_tuli_not_thuli\",\" <br> zuma apparently slaughtered a cow for his supporters and veterans \\ud83d\\ude02 hamba nxamalala \\ud83d\\ude02 <br>  <br>  <br> zuma apparently slaughtered a cow for his supporters and veterans \\ud83d\\ude02 hamba nxamalala \\ud83d\\ude02 <br>  <br> \"],[\"agent_tydapeduli\",\" <br> @subtanyarl feeding frenzy zuma platypus <br>  <br>  <br> @subtanyarl feeding frenzy zuma platypus <br>  <br> \"],[\"agent_ublackmadikane\",\" <br> @newzroom405 @julius_s_malema @presjgzuma tea for two why are you disturbing zuma and malema #mxm ht <br> tpstcowfgqu6ylsn <br>  <br> @newzroom405 @julius_s_malema @presjgzuma tea for two why are you disturbing zuma and malema #mxm ht <br> tpstcowfgqu6ylsn <br> \"],[\"agent_ufeely__\",\" <br> @ndu_zuma gets me everytime \\ud83e\\udd7a\\ud83d\\ude2d <br>  <br>  <br> @ndu_zuma gets me everytime \\ud83e\\udd7a\\ud83d\\ude2d <br>  <br> \"],[\"agent_umgavava\",\" <br> @artii_m dr nkosazana dlamini zuma <br>  <br>  <br> @artii_m dr nkosazana dlamini zuma <br>  <br> \"],[\"agent_uniquesaproblem\",\" <br> @alfredenewmanoo given that people are unable to get zuma intona courtroom id hazard a guess that yo <br> ur chances of getting the anc found guilty of anything range from remote to absolutely none <br>  <br> @alfredenewmanoo given that people are unable to get zuma intona courtroom id hazard a guess that yo <br> ur chances of getting the anc found guilty of anything range from remote to absolutely none <br> \"],[\"agent_unmovedlee\",\" <br> @kr_mosikili you are too dumb to understand basic things when did eff declare solidarity with zuma d <br> id you even read the eff statement on zumas defiance le rata go advertiser bo tlaela on social netwo <br> rks read and stop writing street gossip <br> @kr_mosikili you are too dumb to understand basic things when did eff declare solidarity with zuma d <br> id you even read the eff statement on zumas defiance le rata go advertiser bo tlaela on social netwo <br> rks read and stop writing street gossip\"],[\"agent_unrweal\",\" <br> @fvruity hy nealy aph km tidak mau kenalan sama jodohnya jeno rl yang udh jadi penyihir kalo egk mw  <br> ak sihir km jadi kodok zuma \\ud83d\\ude0f\\ud83e\\udd1a jangan lupa jb punya ak yeahh\\ud83d\\ude35 httpstcoktqaurd6xj <br>  <br> @fvruity hy nealy aph km tidak mau kenalan sama jodohnya jeno rl yang udh jadi penyihir kalo egk mw  <br> ak sihir km jadi kodok zuma \\ud83d\\ude0f\\ud83e\\udd1a jangan lupa jb punya ak yeahh\\ud83d\\ude35 httpstcoktqaurd6xj <br> \"],[\"agent_unzieelalbino\",\" <br> @el_zuma_ @ninya_repolio @leroymerlin_es yo tambi\\u00e9n lo comprar\\u00eda total ya tengo un sem\\u00e1foro en el co <br> medor puedo tener una polla en la escalera \\ud83d\\ude02\\ud83d\\ude02\\ud83d\\ude02 <br>  <br> @el_zuma_ @ninya_repolio @leroymerlin_es yo tambi\\u00e9n lo comprar\\u00eda total ya tengo un sem\\u00e1foro en el co <br> medor puedo tener una polla en la escalera \\ud83d\\ude02\\ud83d\\ude02\\ud83d\\ude02 <br> \"],[\"agent_usokhetye\",\" <br> @antoonyekungwu2 @itsyourgirlcax zuma did what when how do you even remember ifp senselessly killing <br>  anc supporters in the 90s or were you not born then tolerate one another the whole peace in our lan <br> d campaign even though the intolerance is still there it is far better than other african countries <br> @antoonyekungwu2 @itsyourgirlcax zuma did what when how do you even remember ifp senselessly killing <br>  anc supporters in the 90s or were you not born then tolerate one another the whole peace in our lan <br> d campaign even though the intolerance is still there it is far better than other african countries\"],[\"agent_vacancymailsa\",\" <br> internet sales advisor visit httpstcopzupwgpjxt everyday for more jobs httpstcomdt7zjn7jr #jobseeker <br> ssa the fix #bushiri elaine doctor khumalo president zuma <br>  <br> internet sales advisor visit httpstcopzupwgpjxt everyday for more jobs httpstcomdt7zjn7jr #jobseeker <br> ssa the fix #bushiri elaine doctor khumalo president zuma <br> \"],[\"agent_vefnti\",\" <br> terakhir lu sikat gigit tahun 21 alias 2000 tahun lalu dan beraniberaninya ngeluarin nafas bau azab  <br> lo kaya gitu gausah sok ganteng azhdaha lo lomba sama kodok zuma pun masih ganteng kodok zuma <br>  <br> terakhir lu sikat gigit tahun 21 alias 2000 tahun lalu dan beraniberaninya ngeluarin nafas bau azab  <br> lo kaya gitu gausah sok ganteng azhdaha lo lomba sama kodok zuma pun masih ganteng kodok zuma <br> \"],[\"agent_veron13918628\",\" <br> every body on president zuma way will fall an never rise <br>  <br>  <br> every body on president zuma way will fall an never rise <br>  <br> \"],[\"agent_vikingjourno\",\" <br> @geordinhl @lungelon_zulu does derek not read for comprehension his tweets before he sends them out  <br> surely he knows he comes across as totally false pretending like he never met zuma and looking for s <br> ome kind of redemption <br> @geordinhl @lungelon_zulu does derek not read for comprehension his tweets before he sends them out  <br> surely he knows he comes across as totally false pretending like he never met zuma and looking for s <br> ome kind of redemption\"],[\"agent_vumza_\",\" <br> zuma is no mandela #zumatrail <br>  <br>  <br> zuma is no mandela #zumatrail <br>  <br> \"],[\"agent_vuyos17\",\" <br> @makhanip @news24 @karynmaughan the law was changed just to deal with zuma by taking the powers away <br>  from him and given to madonsela today mkhwebane is punished for using the same powers that were giv <br> en to madonsela claiming the law doest give her the same powers madonsela had justice system failed zuma httpstcoefkwiisz8r <br> @makhanip @news24 @karynmaughan the law was changed just to deal with zuma by taking the powers away <br>  from him and given to madonsela today mkhwebane is punished for using the same powers that were giv <br> en to madonsela claiming the law doest give her the same powers madonsela had justice system failed zuma httpstcoefkwiisz8r\"],[\"agent_wanda88072372\",\" <br> httpstcozzsthqosgh #voetsekanc #zuma #votethemout #voteforchange #registerandvote @action4sa <br>  <br>  <br> httpstcozzsthqosgh #voetsekanc #zuma #votethemout #voteforchange #registerandvote @action4sa <br>  <br> \"],[\"agent_wani5103\",\" <br> @zmobilefashion zuma words i want my day in court now doing everything to avoid just that \\ud83d\\ude06 \\ud83e\\udd23 \\ud83d\\ude02 <br>  <br>  <br> @zmobilefashion zuma words i want my day in court now doing everything to avoid just that \\ud83d\\ude06 \\ud83e\\udd23 \\ud83d\\ude02 <br>  <br> \"],[\"agent_wayfarertwo\",\" <br> @sabcnews thought zuma is in prison <br>  <br>  <br> @sabcnews thought zuma is in prison <br>  <br> \"],[\"agent_wenzilems\",\" <br> @mmusimaimane ask zuma for a tea too he might agree <br>  <br>  <br> @mmusimaimane ask zuma for a tea too he might agree <br>  <br> \"],[\"agent_wetsim1\",\" <br> #nowthatalcoholisback #zuma #ramaphosa tops small steps make a big difference we have awesome combos <br>  t amp cap r80 t amp spotty r110 t only r60 cap r30 spotty r60 4 orders pls contact gugu nkosi 07260 <br> 79977 or gugu@morakegroupholdingscoza quality and integrity httpstcodamlgf3nny <br> #nowthatalcoholisback #zuma #ramaphosa tops small steps make a big difference we have awesome combos <br>  t amp cap r80 t amp spotty r110 t only r60 cap r30 spotty r60 4 orders pls contact gugu nkosi 07260 <br> 79977 or gugu@morakegroupholdingscoza quality and integrity httpstcodamlgf3nny\"],[\"agent_willy09953162\",\" <br> @duduzane__zuma how many pay slip u hv do u kn something abt gudmorning we need ur money u kept in d <br> ubai remember ur days r numbered we stil need to deel wth ur illiterate dad 1st <br>  <br> @duduzane__zuma how many pay slip u hv do u kn something abt gudmorning we need ur money u kept in d <br> ubai remember ur days r numbered we stil need to deel wth ur illiterate dad 1st <br> \"],[\"agent_wirsinddergraf\",\" <br> @zuma_monty yep genau so und was soll ich dazu sagen au\\u00dfer hass\\ud83d\\ude24 <br>  <br>  <br> @zuma_monty yep genau so und was soll ich dazu sagen au\\u00dfer hass\\ud83d\\ude24 <br>  <br> \"],[\"agent_wnmt_kf1n\",\" <br> @zuma_rabbit_13 \\u3056\\u3057\\u305f\\uff01 <br>  <br>  <br> @zuma_rabbit_13 \\u3056\\u3057\\u305f\\uff01 <br>  <br> \"],[\"agent_xolani49467218\",\" <br> @pierredevos you are happy with that even though you know zuma is treated unfairly <br>  <br>  <br> @pierredevos you are happy with that even though you know zuma is treated unfairly <br>  <br> \"],[\"agent_xsweetari\",\" <br> @gio_zuma ahahah si sei minimini io ne ho fatti 22 due mesi fa \\ud83d\\udc41\\ud83d\\udc44\\ud83d\\udc41 saremo brother and sister <br>  <br>  <br> @gio_zuma ahahah si sei minimini io ne ho fatti 22 due mesi fa \\ud83d\\udc41\\ud83d\\udc44\\ud83d\\udc41 saremo brother and sister <br>  <br> \"],[\"agent_yawboc\",\" <br> @phuxim @thulanisibeko8 @mzondi51977089 @dzumasambudla open any newspaper and it reads president bus <br> h the fact remains he is president zuma <br>  <br> @phuxim @thulanisibeko8 @mzondi51977089 @dzumasambudla open any newspaper and it reads president bus <br> h the fact remains he is president zuma <br> \"],[\"agent_yotam85169852\",\" <br> @abelmafhoho @mfazania @mikzozo2 they should have been expelled @ this violation citizen ship revoke <br> d zuma stripped as head of state south africa could have been saved <br>  <br> @abelmafhoho @mfazania @mikzozo2 they should have been expelled @ this violation citizen ship revoke <br> d zuma stripped as head of state south africa could have been saved <br> \"],[\"agent_zenande_monegi\",\" <br> @mugabebobby @flawmade @100kmokone @mightijamie @jjtabane no you got it wrong he is bias against zum <br> a bye <br>  <br> @mugabebobby @flawmade @100kmokone @mightijamie @jjtabane no you got it wrong he is bias against zum <br> a bye <br> \"],[\"agent_zukile_lize\",\" <br> @advobarryroux zuma is the worst to tell us that he declared free education 3 hours before his resig <br> nation <br>  <br> @advobarryroux zuma is the worst to tell us that he declared free education 3 hours before his resig <br> nation <br> \"],[\"agent_zuma0240\",\" <br> \\u53c2\\u52a0\\u578b\\u7b2c5\\u4eba\\u683c\\uff01\\uff01\\u30b5\\u30d0\\u30a4\\u30d0\\u30fc\\u9054\\u6211\\u304c\\u52dd\\u5229\\u3078\\u306e\\u7ce7\\u3068\\u306a\\u308c\\uff01\\u30e9\\u30f3\\u30af\\u6226\\u307e\\u3067\\uff01 #identityv #\\u7b2c\\u4e94\\u4eba\\u683c #\\u30df\\u30e9\\u30c6\\u30a3\\u30d6 \\u3067 #\\u914d\\u4fe1 \\u4e2d\\uff01 httpstcozbecufpwyl <br>  <br>  <br> \\u53c2\\u52a0\\u578b\\u7b2c5\\u4eba\\u683c\\uff01\\uff01\\u30b5\\u30d0\\u30a4\\u30d0\\u30fc\\u9054\\u6211\\u304c\\u52dd\\u5229\\u3078\\u306e\\u7ce7\\u3068\\u306a\\u308c\\uff01\\u30e9\\u30f3\\u30af\\u6226\\u307e\\u3067\\uff01 #identityv #\\u7b2c\\u4e94\\u4eba\\u683c #\\u30df\\u30e9\\u30c6\\u30a3\\u30d6 \\u3067 #\\u914d\\u4fe1 \\u4e2d\\uff01 httpstcozbecufpwyl <br>  <br> \"],[\"agent_zuma_0807\",\" <br> 2021\\u5e742\\u670827\\u65e5 zuma_0807\\u3055\\u3093\\u304cnew\\u7720\\u3057\\u307e\\u3057\\u305f\\u3002 \\u6642\\u523b 615 \\u5165\\u7720\\u6f5c\\u6642 0\\u6642\\u959305\\u520648\\u79d2 #sleepmeister httpstcoe2yfru1xnv <br>  <br>  <br> 2021\\u5e742\\u670827\\u65e5 zuma_0807\\u3055\\u3093\\u304cnew\\u7720\\u3057\\u307e\\u3057\\u305f\\u3002 \\u6642\\u523b 615 \\u5165\\u7720\\u6f5c\\u6642 0\\u6642\\u959305\\u520648\\u79d2 #sleepmeister httpstcoe2yfru1xnv <br>  <br> \"],[\"agent_zuma_okemaru\",\" <br> @pyon09290929 \\u8352\\u91ce\\u540d\\uffe4carrierzzma \\u4ee3\\u8868\\u8005id\\uffe4@zuma_okemaru zuma_okemaru <br>  <br>  <br> @pyon09290929 \\u8352\\u91ce\\u540d\\uffe4carrierzzma \\u4ee3\\u8868\\u8005id\\uffe4@zuma_okemaru zuma_okemaru <br>  <br> \"]],\"hovertemplate\":\"x=%{x}<br>y=%{y}<br>author=%{customdata[0]}<br>tweets=%{customdata[1]}<extra></extra>\",\"legendgroup\":\"\",\"marker\":{\"color\":\"#636efa\",\"symbol\":\"circle\"},\"mode\":\"markers\",\"name\":\"\",\"orientation\":\"v\",\"showlegend\":false,\"x\":[9.962139129638672,10.167287826538086,3.380584955215454,9.91504192352295,5.191036224365234,9.589957237243652,2.767284870147705,7.59199857711792,4.313282012939453,3.5309200286865234,9.003198623657227,3.8675427436828613,2.8882198333740234,9.542407035827637,3.8853919506073,10.044047355651855,2.609968423843384,9.892631530761719,3.613187074661255,7.748597145080566,2.739727258682251,9.367804527282715,3.2198545932769775,10.126799583435059,9.749180793762207,3.8488214015960693,3.1671712398529053,10.32105541229248,2.999386787414551,6.102571964263916,4.420763969421387,8.882887840270996,4.1556267738342285,10.392027854919434,9.622314453125,3.122878074645996,4.845981121063232,4.007678031921387,9.772209167480469,5.759465217590332,4.462943077087402,3.6917226314544678,4.78577184677124,7.574865341186523,5.65675687789917,3.7851369380950928,2.805850028991699,3.5473270416259766,4.952706336975098,3.9128589630126953,5.606232643127441,4.294004440307617,9.01276683807373,3.7287216186523438,10.323409080505371,5.611356258392334,2.8248369693756104,3.3308827877044678,9.501296043395996,7.819515228271484,6.275163650512695,6.729763984680176,3.874403715133667,5.758571624755859,5.098351955413818,3.964639186859131,4.777902603149414,6.336187362670898,8.144875526428223,9.247367858886719,6.619498252868652,9.76654052734375,3.6311147212982178,8.90875244140625,3.045549154281616,4.711553573608398,3.8262200355529785,4.027463436126709,10.022107124328613,4.292466163635254,2.3801262378692627,4.506296157836914,3.0306193828582764,9.383918762207031,6.480066299438477,6.187786102294922,9.619669914245605,10.371892929077148,4.2283782958984375,3.2329342365264893,5.539041042327881,9.326665878295898,10.417290687561035,3.1049396991729736,9.890682220458984,3.745234489440918,3.451035976409912,8.443559646606445,10.007974624633789,9.530542373657227,3.5795037746429443,9.835716247558594,9.590670585632324,3.6767873764038086,3.806450605392456,2.6064369678497314,8.916316986083984,5.9692158699035645,9.444377899169922,4.247437953948975,9.808672904968262,3.47884202003479,3.040759801864624,3.443357229232788,9.287071228027344,9.251834869384766,2.645033121109009,10.240148544311523,10.412881851196289,3.9227230548858643,5.367595672607422,3.2332499027252197,9.880342483520508,3.0083513259887695,9.858973503112793,7.4424214363098145,6.2425055503845215,3.5639138221740723,10.102792739868164,3.974632501602173,4.286765098571777,3.3685061931610107,7.254467487335205,6.132195472717285,9.653986930847168,8.033282279968262,10.297750473022461,5.357692241668701,9.947127342224121,3.427133321762085,4.196317672729492,5.507891654968262,7.351755619049072,4.014319896697998,10.133452415466309,3.6244843006134033,3.989304304122925,3.0380215644836426,3.769981861114502,4.776334762573242,4.138317108154297,9.624104499816895,4.052353858947754,4.246416091918945,7.83951997756958,3.0033481121063232,7.553737640380859,6.676864147186279,9.925163269042969,10.357539176940918,9.119497299194336,4.560726165771484,5.69850492477417,4.183062553405762,7.449321746826172,5.811390399932861,4.357964992523193,9.44439697265625,6.048855304718018,3.4747564792633057,3.2074127197265625,6.167527675628662,2.755197048187256,5.283512115478516,3.3999111652374268,5.320455551147461,3.7197978496551514,4.580068588256836,9.228171348571777,4.615684986114502,3.124476671218872,8.940950393676758,9.801756858825684,3.4983482360839844,4.620819091796875,4.167047023773193,3.8932440280914307,5.622952938079834,10.446873664855957,4.390283107757568,4.267665863037109,5.282690525054932,4.491906642913818,2.937469005584717,3.1982510089874268,4.322693347930908,3.242919445037842,4.092491626739502,9.857800483703613,4.154500484466553,6.685762882232666,5.3631134033203125,5.626999855041504,5.738784313201904,2.766195297241211,4.3246588706970215,4.546542167663574,3.690293550491333,4.326503753662109,3.0952210426330566,3.111557960510254,3.943284511566162,4.175024509429932,3.974961757659912,6.373754501342773,5.077444553375244,3.587571144104004,8.882418632507324,3.390909194946289,2.9282355308532715,4.59007453918457,3.845675230026245,5.370532989501953,5.090746879577637,8.770021438598633,5.432164192199707,4.150367259979248,4.345404624938965,3.5822813510894775,5.825542449951172,4.316928863525391,3.6880295276641846,9.277718544006348,5.36644983291626,2.7953715324401855,4.1698455810546875,5.120981216430664,5.28102445602417,9.694068908691406,10.103384971618652,9.640229225158691,3.1733336448669434,5.626890182495117,4.335141658782959,6.877638816833496,3.0607807636260986,4.571479797363281,4.679187297821045,3.7636446952819824,5.869083404541016,4.234703063964844,6.568280220031738,4.922947406768799,2.8072359561920166,8.70688247680664,4.5726704597473145,3.081104278564453,2.287520170211792,4.154099464416504,4.195410251617432,3.4495043754577637,3.8415768146514893,9.124917030334473,3.6078970432281494,10.44941520690918,5.632246971130371,3.471721649169922,9.870203018188477,9.563698768615723,5.241426944732666,3.991701126098633,10.415699005126953,2.709909677505493,4.349369049072266,9.377809524536133,3.789306163787842,8.557748794555664,9.83633804321289,3.9964346885681152,4.0258073806762695,4.216157913208008,2.9373960494995117,4.103450298309326,6.203017711639404,10.257083892822266,5.633486747741699,2.407165050506592,4.148841857910156,3.6519434452056885,3.605931520462036,9.865094184875488,3.3339598178863525,8.989165306091309,9.186095237731934,2.7957639694213867,4.686702728271484,9.865093231201172,4.068543434143066,5.776342868804932,4.273111820220947,2.687673330307007,3.1668009757995605,4.088871002197266,2.8212473392486572,4.21176290512085,4.320736885070801,3.0008530616760254,3.6508870124816895,5.222009181976318,8.154078483581543,2.7296531200408936,4.313519477844238,9.16544246673584,4.191558361053467,4.4972662925720215,9.436261177062988,8.741475105285645,3.541724920272827,3.2903807163238525,3.7542057037353516,3.27020001411438,3.7176408767700195,9.111471176147461,5.0429368019104,5.39093017578125,9.391633033752441,2.634317636489868,5.472998142242432,3.799082040786743,3.6296253204345703,4.4468183517456055,3.8014135360717773,3.0338191986083984,4.174154758453369,4.289419174194336,10.306437492370605,3.061530113220215,4.5300469398498535,4.756772041320801,9.711922645568848,7.821804523468018,3.4682390689849854,2.32257080078125,3.7633302211761475,2.7318642139434814,5.693469524383545,3.854963779449463,4.198180198669434,3.96049165725708,9.658541679382324,3.968313455581665,3.034921646118164,2.9746177196502686,9.285147666931152,9.358123779296875,4.993084907531738,3.4489970207214355,3.2020134925842285,4.717097282409668,5.570316791534424,3.8053650856018066,3.8644745349884033,4.344760417938232,4.110627174377441,3.7712137699127197,10.284896850585938,5.67106294631958,5.1075758934021,8.874926567077637,10.172392845153809,9.442084312438965,3.753203868865967,4.54998779296875,4.148465156555176,5.100587844848633,9.211309432983398,10.195472717285156,4.610826015472412,4.414595603942871,5.3913421630859375,5.1077165603637695,7.346811771392822,4.3707756996154785,4.200019836425781,5.473272323608398,4.005390167236328,2.6959164142608643,2.805363178253174,3.4460623264312744,2.53108811378479,3.3231186866760254,4.593477725982666,2.874635696411133,5.460911750793457,8.58929443359375,4.235869884490967,4.236299514770508,4.06122350692749,4.6661272048950195,8.235334396362305,3.562673330307007,9.462340354919434,4.212159633636475,7.973581314086914,2.375309944152832,4.638855457305908,6.909912109375,3.535064697265625,10.046984672546387,6.758586406707764,9.262476921081543,3.217197895050049,2.6029458045959473,7.8642802238464355,4.120733261108398,3.80357027053833,9.733148574829102,9.510568618774414,4.034851551055908,8.0134916305542,9.893104553222656,4.906430244445801,3.1957695484161377,4.34531307220459,4.401132106781006,8.138526916503906,2.684826612472534,4.188870906829834,3.1636672019958496,8.145389556884766,3.2295141220092773,9.129552841186523,8.789687156677246,3.9294991493225098,9.92419719696045,7.183080196380615,2.719003915786743,3.082886219024658,3.6614577770233154,10.337762832641602,10.30388069152832,10.274162292480469],\"xaxis\":\"x\",\"y\":[6.621423721313477,7.139132976531982,7.387287139892578,6.95078182220459,6.1598100662231445,7.513928413391113,6.6730637550354,6.494764804840088,7.252415180206299,6.7399420738220215,7.405027389526367,5.314971446990967,6.327966213226318,5.8896803855896,6.6343207359313965,7.061400413513184,6.989324569702148,7.261919975280762,6.8385233879089355,6.2490668296813965,7.421217918395996,7.425871849060059,8.135385513305664,7.431046485900879,7.698391437530518,5.1591033935546875,6.106215953826904,7.1354217529296875,7.4170966148376465,5.336598873138428,7.0918989181518555,6.9942450523376465,4.90678071975708,7.483522415161133,6.005120754241943,7.002086162567139,6.246495723724365,5.900224685668945,6.383863925933838,4.805638313293457,4.957106590270996,5.113717555999756,7.761164665222168,6.839784145355225,5.95712423324585,8.03744888305664,5.703793048858643,8.676107406616211,6.665962219238281,7.504305839538574,5.589035511016846,6.928801536560059,5.990994453430176,7.769872188568115,7.392828941345215,5.338656902313232,6.664342880249023,5.471199035644531,5.810092449188232,6.328539848327637,5.369678497314453,6.407776355743408,7.935528755187988,5.8444037437438965,6.670770645141602,5.109261989593506,6.167346477508545,6.486058235168457,7.06397819519043,6.461536884307861,6.463198661804199,6.619362831115723,5.769588947296143,6.981406211853027,5.297505855560303,4.9946675300598145,7.685917377471924,6.864101409912109,6.98621940612793,8.373605728149414,6.431485176086426,5.709433555603027,8.350461959838867,5.7888336181640625,5.699150562286377,5.4571309089660645,5.914912223815918,6.918020725250244,6.410796165466309,5.6574273109436035,4.684789180755615,7.513747692108154,7.3887481689453125,7.859147548675537,6.953253269195557,8.419766426086426,7.345826148986816,7.193704128265381,6.648123264312744,7.5106353759765625,7.963967800140381,6.326508522033691,5.9873199462890625,5.390662670135498,8.491290092468262,7.497689247131348,6.825963497161865,5.499941349029541,7.00636100769043,8.247566223144531,7.238541603088379,5.382942199707031,6.163124084472656,4.959425449371338,6.024176120758057,6.893373012542725,7.466501235961914,7.290004253387451,7.25717306137085,6.949365139007568,5.065213680267334,7.237075328826904,7.356462478637695,8.273694038391113,7.246789932250977,6.396426200866699,5.948413372039795,7.59519624710083,6.6073832511901855,4.58630895614624,5.425673484802246,5.663907051086426,6.361978054046631,5.3720245361328125,7.667932033538818,7.052694797515869,7.01416015625,5.32047700881958,6.793221473693848,7.0260820388793945,7.825841903686523,5.133140563964844,6.31838321685791,7.098146915435791,6.665818214416504,8.345731735229492,7.011984825134277,6.20858097076416,4.576748371124268,7.588865280151367,5.577592372894287,7.596624851226807,5.503809928894043,6.769664764404297,6.8682074546813965,7.89944314956665,6.63447380065918,5.323829650878906,6.858997344970703,7.364755153656006,6.843036651611328,6.695048809051514,5.036921501159668,7.31484842300415,6.386207580566406,5.339323043823242,6.832611560821533,5.7824201583862305,5.489468574523926,4.682218074798584,5.047861099243164,5.763707637786865,7.020740032196045,4.897422790527344,4.907171249389648,4.923022747039795,6.385667324066162,6.030818462371826,7.272486209869385,4.661047458648682,7.699003219604492,6.612785816192627,7.096192359924316,4.640537738800049,4.578115463256836,5.820512294769287,5.659182071685791,5.12360143661499,7.3886308670043945,7.464506149291992,5.01121711730957,5.749449253082275,6.321370601654053,7.664929389953613,5.923155307769775,6.198154449462891,7.793933391571045,5.551177024841309,6.533094882965088,6.648442268371582,5.318603038787842,5.724360466003418,4.977677822113037,5.1589674949646,6.325437545776367,7.118299961090088,7.59102201461792,7.240701198577881,4.766512393951416,5.1137166023254395,5.347658157348633,8.524580955505371,8.526288032531738,5.236982345581055,5.169312477111816,4.747929096221924,8.227348327636719,6.551262855529785,7.631008148193359,8.003056526184082,7.479567050933838,8.312814712524414,4.894103527069092,5.627414226531982,7.235477447509766,5.204026222229004,4.95339822769165,7.083004951477051,6.3360209465026855,5.9104695320129395,7.136938095092773,4.92555570602417,7.225366592407227,5.43171501159668,5.6695556640625,7.94435453414917,4.723153591156006,6.238113880157471,7.63685941696167,7.0808258056640625,6.134777545928955,7.045058250427246,5.998645782470703,8.53299331665039,6.778040885925293,7.5269012451171875,5.499953746795654,6.033049583435059,7.503335952758789,4.588466644287109,4.885778903961182,5.186625003814697,7.44704008102417,7.546665668487549,6.43907356262207,4.626416206359863,7.440444469451904,6.463409423828125,4.885562896728516,7.953705310821533,8.44986343383789,6.143167495727539,6.773776054382324,8.386266708374023,7.167819023132324,4.605168342590332,6.224555015563965,7.2661967277526855,6.345865249633789,5.303093433380127,4.725523471832275,7.415668964385986,6.681641101837158,5.743465423583984,6.325896739959717,7.427109718322754,6.784058094024658,7.219997406005859,6.315920829772949,8.627421379089355,6.517011642456055,6.336958408355713,7.989224910736084,5.521106243133545,6.9767985343933105,4.6555094718933105,6.36371374130249,8.435225486755371,7.81761360168457,5.127625942230225,7.318110466003418,5.015823841094971,7.15161657333374,6.913348197937012,6.126886367797852,8.297597885131836,6.916009902954102,5.269783973693848,5.277400016784668,8.478741645812988,7.410495281219482,5.394909381866455,7.767059326171875,5.694382667541504,6.49625301361084,5.682778358459473,5.5103759765625,4.886258125305176,4.82408332824707,6.47808837890625,7.109590530395508,7.139633655548096,6.926631927490234,6.399998664855957,8.01342487335205,5.802732944488525,6.8727545738220215,5.6790056228637695,5.055832862854004,7.6060872077941895,5.911289691925049,4.730650901794434,6.875476360321045,5.135282039642334,5.118491172790527,6.806828498840332,7.202071189880371,5.071028232574463,5.102080345153809,7.663388252258301,7.862680435180664,8.03055477142334,8.340600967407227,8.177284240722656,8.169268608093262,7.225670337677002,8.36648178100586,5.056657314300537,5.381119728088379,6.868291854858398,6.852893829345703,6.423713207244873,6.480213642120361,6.660831451416016,7.000509738922119,4.615259170532227,7.856379508972168,4.814269542694092,5.711182594299316,6.032512664794922,6.082965850830078,7.567667484283447,5.634047508239746,7.470444202423096,7.387941360473633,6.94035005569458,6.213802814483643,7.644588947296143,5.667425155639648,4.733242034912109,5.778458118438721,8.146547317504883,7.133399963378906,4.75465726852417,5.7398247718811035,6.993846893310547,5.269286632537842,6.745558261871338,7.196136474609375,6.971733570098877,6.340422630310059,8.208782196044922,7.969323635101318,7.9118571281433105,6.055694580078125,6.830992698669434,7.346607208251953,6.736701011657715,7.168282985687256,5.144630432128906,5.94313383102417,6.455088138580322,7.75863790512085,8.139138221740723,4.750603675842285,8.515037536621094,6.924131870269775,7.610111713409424,8.490962982177734,6.42699670791626,5.460450649261475,8.118301391601562,6.40175199508667,5.893510341644287,6.463713645935059,8.480216979980469,6.088738918304443,5.3062262535095215,5.120366096496582,7.118851184844971,5.254322528839111,5.798340320587158,8.5404052734375,6.31687593460083,6.45427942276001,7.752409934997559,6.583052635192871,7.250518798828125,7.481241226196289,6.402476787567139,5.836302280426025,6.556614398956299,7.397143840789795,6.334757328033447,7.985185623168945,7.867888927459717,6.902735233306885,7.5063581466674805,7.226407051086426,6.6776275634765625,7.363462924957275,5.332547664642334,5.215123176574707,5.626070499420166,4.64648962020874,7.064493656158447,7.085052490234375,5.767063140869141,5.397083282470703,7.064257621765137,8.303790092468262,6.16306734085083,6.907419681549072,7.663989067077637,7.387189865112305,6.367162704467773,5.745541572570801,5.940734386444092,5.3304338455200195,7.356606960296631,7.258627414703369,7.267231464385986],\"yaxis\":\"y\",\"type\":\"scatter\"}],                        {\"template\":{\"data\":{\"histogram2dcontour\":[{\"type\":\"histogram2dcontour\",\"colorbar\":{\"outlinewidth\":0,\"ticks\":\"\"},\"colorscale\":[[0.0,\"#0d0887\"],[0.1111111111111111,\"#46039f\"],[0.2222222222222222,\"#7201a8\"],[0.3333333333333333,\"#9c179e\"],[0.4444444444444444,\"#bd3786\"],[0.5555555555555556,\"#d8576b\"],[0.6666666666666666,\"#ed7953\"],[0.7777777777777778,\"#fb9f3a\"],[0.8888888888888888,\"#fdca26\"],[1.0,\"#f0f921\"]]}],\"choropleth\":[{\"type\":\"choropleth\",\"colorbar\":{\"outlinewidth\":0,\"ticks\":\"\"}}],\"histogram2d\":[{\"type\":\"histogram2d\",\"colorbar\":{\"outlinewidth\":0,\"ticks\":\"\"},\"colorscale\":[[0.0,\"#0d0887\"],[0.1111111111111111,\"#46039f\"],[0.2222222222222222,\"#7201a8\"],[0.3333333333333333,\"#9c179e\"],[0.4444444444444444,\"#bd3786\"],[0.5555555555555556,\"#d8576b\"],[0.6666666666666666,\"#ed7953\"],[0.7777777777777778,\"#fb9f3a\"],[0.8888888888888888,\"#fdca26\"],[1.0,\"#f0f921\"]]}],\"heatmap\":[{\"type\":\"heatmap\",\"colorbar\":{\"outlinewidth\":0,\"ticks\":\"\"},\"colorscale\":[[0.0,\"#0d0887\"],[0.1111111111111111,\"#46039f\"],[0.2222222222222222,\"#7201a8\"],[0.3333333333333333,\"#9c179e\"],[0.4444444444444444,\"#bd3786\"],[0.5555555555555556,\"#d8576b\"],[0.6666666666666666,\"#ed7953\"],[0.7777777777777778,\"#fb9f3a\"],[0.8888888888888888,\"#fdca26\"],[1.0,\"#f0f921\"]]}],\"heatmapgl\":[{\"type\":\"heatmapgl\",\"colorbar\":{\"outlinewidth\":0,\"ticks\":\"\"},\"colorscale\":[[0.0,\"#0d0887\"],[0.1111111111111111,\"#46039f\"],[0.2222222222222222,\"#7201a8\"],[0.3333333333333333,\"#9c179e\"],[0.4444444444444444,\"#bd3786\"],[0.5555555555555556,\"#d8576b\"],[0.6666666666666666,\"#ed7953\"],[0.7777777777777778,\"#fb9f3a\"],[0.8888888888888888,\"#fdca26\"],[1.0,\"#f0f921\"]]}],\"contourcarpet\":[{\"type\":\"contourcarpet\",\"colorbar\":{\"outlinewidth\":0,\"ticks\":\"\"}}],\"contour\":[{\"type\":\"contour\",\"colorbar\":{\"outlinewidth\":0,\"ticks\":\"\"},\"colorscale\":[[0.0,\"#0d0887\"],[0.1111111111111111,\"#46039f\"],[0.2222222222222222,\"#7201a8\"],[0.3333333333333333,\"#9c179e\"],[0.4444444444444444,\"#bd3786\"],[0.5555555555555556,\"#d8576b\"],[0.6666666666666666,\"#ed7953\"],[0.7777777777777778,\"#fb9f3a\"],[0.8888888888888888,\"#fdca26\"],[1.0,\"#f0f921\"]]}],\"surface\":[{\"type\":\"surface\",\"colorbar\":{\"outlinewidth\":0,\"ticks\":\"\"},\"colorscale\":[[0.0,\"#0d0887\"],[0.1111111111111111,\"#46039f\"],[0.2222222222222222,\"#7201a8\"],[0.3333333333333333,\"#9c179e\"],[0.4444444444444444,\"#bd3786\"],[0.5555555555555556,\"#d8576b\"],[0.6666666666666666,\"#ed7953\"],[0.7777777777777778,\"#fb9f3a\"],[0.8888888888888888,\"#fdca26\"],[1.0,\"#f0f921\"]]}],\"mesh3d\":[{\"type\":\"mesh3d\",\"colorbar\":{\"outlinewidth\":0,\"ticks\":\"\"}}],\"scatter\":[{\"fillpattern\":{\"fillmode\":\"overlay\",\"size\":10,\"solidity\":0.2},\"type\":\"scatter\"}],\"parcoords\":[{\"type\":\"parcoords\",\"line\":{\"colorbar\":{\"outlinewidth\":0,\"ticks\":\"\"}}}],\"scatterpolargl\":[{\"type\":\"scatterpolargl\",\"marker\":{\"colorbar\":{\"outlinewidth\":0,\"ticks\":\"\"}}}],\"bar\":[{\"error_x\":{\"color\":\"#2a3f5f\"},\"error_y\":{\"color\":\"#2a3f5f\"},\"marker\":{\"line\":{\"color\":\"#E5ECF6\",\"width\":0.5},\"pattern\":{\"fillmode\":\"overlay\",\"size\":10,\"solidity\":0.2}},\"type\":\"bar\"}],\"scattergeo\":[{\"type\":\"scattergeo\",\"marker\":{\"colorbar\":{\"outlinewidth\":0,\"ticks\":\"\"}}}],\"scatterpolar\":[{\"type\":\"scatterpolar\",\"marker\":{\"colorbar\":{\"outlinewidth\":0,\"ticks\":\"\"}}}],\"histogram\":[{\"marker\":{\"pattern\":{\"fillmode\":\"overlay\",\"size\":10,\"solidity\":0.2}},\"type\":\"histogram\"}],\"scattergl\":[{\"type\":\"scattergl\",\"marker\":{\"colorbar\":{\"outlinewidth\":0,\"ticks\":\"\"}}}],\"scatter3d\":[{\"type\":\"scatter3d\",\"line\":{\"colorbar\":{\"outlinewidth\":0,\"ticks\":\"\"}},\"marker\":{\"colorbar\":{\"outlinewidth\":0,\"ticks\":\"\"}}}],\"scattermapbox\":[{\"type\":\"scattermapbox\",\"marker\":{\"colorbar\":{\"outlinewidth\":0,\"ticks\":\"\"}}}],\"scatterternary\":[{\"type\":\"scatterternary\",\"marker\":{\"colorbar\":{\"outlinewidth\":0,\"ticks\":\"\"}}}],\"scattercarpet\":[{\"type\":\"scattercarpet\",\"marker\":{\"colorbar\":{\"outlinewidth\":0,\"ticks\":\"\"}}}],\"carpet\":[{\"aaxis\":{\"endlinecolor\":\"#2a3f5f\",\"gridcolor\":\"white\",\"linecolor\":\"white\",\"minorgridcolor\":\"white\",\"startlinecolor\":\"#2a3f5f\"},\"baxis\":{\"endlinecolor\":\"#2a3f5f\",\"gridcolor\":\"white\",\"linecolor\":\"white\",\"minorgridcolor\":\"white\",\"startlinecolor\":\"#2a3f5f\"},\"type\":\"carpet\"}],\"table\":[{\"cells\":{\"fill\":{\"color\":\"#EBF0F8\"},\"line\":{\"color\":\"white\"}},\"header\":{\"fill\":{\"color\":\"#C8D4E3\"},\"line\":{\"color\":\"white\"}},\"type\":\"table\"}],\"barpolar\":[{\"marker\":{\"line\":{\"color\":\"#E5ECF6\",\"width\":0.5},\"pattern\":{\"fillmode\":\"overlay\",\"size\":10,\"solidity\":0.2}},\"type\":\"barpolar\"}],\"pie\":[{\"automargin\":true,\"type\":\"pie\"}]},\"layout\":{\"autotypenumbers\":\"strict\",\"colorway\":[\"#636efa\",\"#EF553B\",\"#00cc96\",\"#ab63fa\",\"#FFA15A\",\"#19d3f3\",\"#FF6692\",\"#B6E880\",\"#FF97FF\",\"#FECB52\"],\"font\":{\"color\":\"#2a3f5f\"},\"hovermode\":\"closest\",\"hoverlabel\":{\"align\":\"left\"},\"paper_bgcolor\":\"white\",\"plot_bgcolor\":\"#E5ECF6\",\"polar\":{\"bgcolor\":\"#E5ECF6\",\"angularaxis\":{\"gridcolor\":\"white\",\"linecolor\":\"white\",\"ticks\":\"\"},\"radialaxis\":{\"gridcolor\":\"white\",\"linecolor\":\"white\",\"ticks\":\"\"}},\"ternary\":{\"bgcolor\":\"#E5ECF6\",\"aaxis\":{\"gridcolor\":\"white\",\"linecolor\":\"white\",\"ticks\":\"\"},\"baxis\":{\"gridcolor\":\"white\",\"linecolor\":\"white\",\"ticks\":\"\"},\"caxis\":{\"gridcolor\":\"white\",\"linecolor\":\"white\",\"ticks\":\"\"}},\"coloraxis\":{\"colorbar\":{\"outlinewidth\":0,\"ticks\":\"\"}},\"colorscale\":{\"sequential\":[[0.0,\"#0d0887\"],[0.1111111111111111,\"#46039f\"],[0.2222222222222222,\"#7201a8\"],[0.3333333333333333,\"#9c179e\"],[0.4444444444444444,\"#bd3786\"],[0.5555555555555556,\"#d8576b\"],[0.6666666666666666,\"#ed7953\"],[0.7777777777777778,\"#fb9f3a\"],[0.8888888888888888,\"#fdca26\"],[1.0,\"#f0f921\"]],\"sequentialminus\":[[0.0,\"#0d0887\"],[0.1111111111111111,\"#46039f\"],[0.2222222222222222,\"#7201a8\"],[0.3333333333333333,\"#9c179e\"],[0.4444444444444444,\"#bd3786\"],[0.5555555555555556,\"#d8576b\"],[0.6666666666666666,\"#ed7953\"],[0.7777777777777778,\"#fb9f3a\"],[0.8888888888888888,\"#fdca26\"],[1.0,\"#f0f921\"]],\"diverging\":[[0,\"#8e0152\"],[0.1,\"#c51b7d\"],[0.2,\"#de77ae\"],[0.3,\"#f1b6da\"],[0.4,\"#fde0ef\"],[0.5,\"#f7f7f7\"],[0.6,\"#e6f5d0\"],[0.7,\"#b8e186\"],[0.8,\"#7fbc41\"],[0.9,\"#4d9221\"],[1,\"#276419\"]]},\"xaxis\":{\"gridcolor\":\"white\",\"linecolor\":\"white\",\"ticks\":\"\",\"title\":{\"standoff\":15},\"zerolinecolor\":\"white\",\"automargin\":true,\"zerolinewidth\":2},\"yaxis\":{\"gridcolor\":\"white\",\"linecolor\":\"white\",\"ticks\":\"\",\"title\":{\"standoff\":15},\"zerolinecolor\":\"white\",\"automargin\":true,\"zerolinewidth\":2},\"scene\":{\"xaxis\":{\"backgroundcolor\":\"#E5ECF6\",\"gridcolor\":\"white\",\"linecolor\":\"white\",\"showbackground\":true,\"ticks\":\"\",\"zerolinecolor\":\"white\",\"gridwidth\":2},\"yaxis\":{\"backgroundcolor\":\"#E5ECF6\",\"gridcolor\":\"white\",\"linecolor\":\"white\",\"showbackground\":true,\"ticks\":\"\",\"zerolinecolor\":\"white\",\"gridwidth\":2},\"zaxis\":{\"backgroundcolor\":\"#E5ECF6\",\"gridcolor\":\"white\",\"linecolor\":\"white\",\"showbackground\":true,\"ticks\":\"\",\"zerolinecolor\":\"white\",\"gridwidth\":2}},\"shapedefaults\":{\"line\":{\"color\":\"#2a3f5f\"}},\"annotationdefaults\":{\"arrowcolor\":\"#2a3f5f\",\"arrowhead\":0,\"arrowwidth\":1},\"geo\":{\"bgcolor\":\"white\",\"landcolor\":\"#E5ECF6\",\"subunitcolor\":\"white\",\"showland\":true,\"showlakes\":true,\"lakecolor\":\"white\"},\"title\":{\"x\":0.05},\"mapbox\":{\"style\":\"light\"}}},\"xaxis\":{\"anchor\":\"y\",\"domain\":[0.0,1.0],\"title\":{\"text\":\"x\"}},\"yaxis\":{\"anchor\":\"x\",\"domain\":[0.0,1.0],\"title\":{\"text\":\"y\"}},\"legend\":{\"tracegroupgap\":0},\"margin\":{\"t\":60}},                        {\"responsive\": true}                    ).then(function(){\n",
       "                            \n",
       "var gd = document.getElementById('8ab991fa-9478-4b15-88cd-904450952512');\n",
       "var x = new MutationObserver(function (mutations, observer) {{\n",
       "        var display = window.getComputedStyle(gd).display;\n",
       "        if (!display || display === 'none') {{\n",
       "            console.log([gd, 'removed!']);\n",
       "            Plotly.purge(gd);\n",
       "            observer.disconnect();\n",
       "        }}\n",
       "}});\n",
       "\n",
       "// Listen for the removal of the full notebook cells\n",
       "var notebookContainer = gd.closest('#notebook-container');\n",
       "if (notebookContainer) {{\n",
       "    x.observe(notebookContainer, {childList: true});\n",
       "}}\n",
       "\n",
       "// Listen for the clearing of the current output cell\n",
       "var outputEl = gd.closest('.output');\n",
       "if (outputEl) {{\n",
       "    x.observe(outputEl, {childList: true});\n",
       "}}\n",
       "\n",
       "                        })                };                });            </script>        </div>"
      ]
     },
     "metadata": {},
     "output_type": "display_data"
    }
   ],
   "source": [
    "# for this we make the plot interactive using plotly\n",
    "\n",
    "fig = px.scatter(df, x=\"x\", y=\"y\", hover_data=['author','tweets'])\n",
    "\n",
    "fig.show()"
   ]
  },
  {
   "cell_type": "markdown",
   "metadata": {},
   "source": [
    "## 4. Projection to anger"
   ]
  },
  {
   "cell_type": "code",
   "execution_count": null,
   "metadata": {},
   "outputs": [],
   "source": [
    "anger_words = [\"fuck\", \"shit\", \"fucking\", \"damn\", \"asshole\", \"assholes\" \"fucker\", \"bloody\", \"stupid\", \n",
    "               \"gun\", \"will\", \"murder\", \"kill\", \"violence\", \"wrong\",\n",
    "               \"shoot\", \"bad\", \"death\", \"attack\", \"feel\", \"shot\", \"action\",\n",
    "               \"arm\", \"idiot\", \"crazy\", \"criminal\", \"terrorist\", \"mad\", \"hell\",\n",
    "               \"crime\", \"blame\", \"fight\", \"ridicule\", \"insane\", \"die\",\n",
    "               \"threat\", \"terror\", \"hate\"] \n",
    "\n",
    "embedding = KeyedVectors.load(\"word_embedding.emb\")\n",
    "vocab = embedding.index_to_key\n",
    "\n",
    "# remove anger words that are not in the embedding's vocab (since they were not in the text corpus)\n",
    "not_in_vocab = [word for word in anger_words if word not in vocab]\n",
    "anger_words = [word for word in anger_words if word not in not_in_vocab]\n",
    "anger_words"
   ]
  },
  {
   "cell_type": "code",
   "execution_count": null,
   "metadata": {},
   "outputs": [],
   "source": [
    "projections_anger = []\n",
    "\n",
    "for speaker in speakers:\n",
    "    distances = []\n",
    "    for anger_word in anger_words:\n",
    "        distances.append(np.dot(embedding[speaker], embedding[anger_word]))\n",
    "    projections_anger.append(np.mean(distances))\n",
    "    \n",
    "# we standarise the values...\n",
    "mean = np.mean(projections_anger)\n",
    "projections_anger = [x-mean for x in projections_anger]\n",
    "# and overemphasise extremes with a nonlinear function\n",
    "projections_anger = [np.tanh(7*x) for x in projections_anger]"
   ]
  },
  {
   "cell_type": "code",
   "execution_count": null,
   "metadata": {},
   "outputs": [],
   "source": [
    "fig, ax1 = plt.subplots(1, 1)\n",
    "plot = ax1.scatter([s[0] for s in speakers_positions], [s[1] for s in speakers_positions], s=10, \n",
    "                   cmap=\"coolwarm\", c=projections_anger, vmin=min(projections_anger), vmax=max(projections_anger))\n",
    "ax1.axis(\"off\")\n",
    "fig.colorbar(plot)"
   ]
  },
  {
   "cell_type": "markdown",
   "metadata": {},
   "source": [
    "## 5. Tweet length"
   ]
  },
  {
   "cell_type": "code",
   "execution_count": null,
   "metadata": {},
   "outputs": [],
   "source": [
    "speaker_tweets = df.quotes.to_list()\n",
    "lengths = [np.mean([len(t) for t in tweets]) for tweets in speaker_tweets]"
   ]
  },
  {
   "cell_type": "code",
   "execution_count": null,
   "metadata": {},
   "outputs": [],
   "source": [
    "fig, ax1 = plt.subplots(1, 1)\n",
    "plot = ax1.scatter([s[0] for s in speakers_positions], [s[1] for s in speakers_positions], s=10, \n",
    "                   cmap=\"plasma\", c=lengths, vmin=1, vmax=240)\n",
    "ax1.axis(\"off\")\n",
    "fig.colorbar(plot)"
   ]
  },
  {
   "cell_type": "markdown",
   "metadata": {},
   "source": [
    "## 6. Emoji count"
   ]
  },
  {
   "cell_type": "code",
   "execution_count": null,
   "metadata": {},
   "outputs": [],
   "source": [
    "from emoji import UNICODE_EMOJI\n",
    "import emoji\n",
    "import re"
   ]
  },
  {
   "cell_type": "code",
   "execution_count": null,
   "metadata": {},
   "outputs": [],
   "source": [
    "speaker_tweets = df.quotes.to_list()\n",
    "average_num_emojis = [np.mean([len(re.findall(u'[\\U0001f600-\\U0001f999]', t)) for t in tweets]) for tweets in speaker_tweets]"
   ]
  },
  {
   "cell_type": "code",
   "execution_count": null,
   "metadata": {},
   "outputs": [],
   "source": [
    "fig, ax1 = plt.subplots(1, 1)\n",
    "plot = ax1.scatter([s[0] for s in speakers_positions], [s[1] for s in speakers_positions], s=10, \n",
    "                   cmap=\"viridis_r\", c=average_num_emojis, vmin=0, vmax=0.5)\n",
    "ax1.axis(\"off\")\n",
    "fig.colorbar(plot)"
   ]
  },
  {
   "cell_type": "code",
   "execution_count": null,
   "metadata": {},
   "outputs": [],
   "source": []
  }
 ],
 "metadata": {
  "kernelspec": {
   "display_name": "env_nlp",
   "language": "python",
   "name": "env_nlp"
  },
  "language_info": {
   "codemirror_mode": {
    "name": "ipython",
    "version": 3
   },
   "file_extension": ".py",
   "mimetype": "text/x-python",
   "name": "python",
   "nbconvert_exporter": "python",
   "pygments_lexer": "ipython3",
   "version": "3.10.6"
  }
 },
 "nbformat": 4,
 "nbformat_minor": 4
}
